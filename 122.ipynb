{
 "cells": [
  {
   "cell_type": "markdown",
   "metadata": {},
   "source": [
    "# Regression and correlation\n",
    "Credits: http://www.cookbook-r.com/ (Creative Commons Attribution-Share Alike 3.0 Unported License)"
   ]
  },
  {
   "cell_type": "markdown",
   "metadata": {},
   "source": [
    "## Problem\n",
    "You want to perform linear regressions and/or correlations.\n",
    "\n",
    "## Solution\n",
    "Some sample data to work with:"
   ]
  },
  {
   "cell_type": "code",
   "execution_count": 1,
   "metadata": {
    "collapsed": false
   },
   "outputs": [
    {
     "data": {
      "text/html": [
       "<table>\n",
       "<thead><tr><th></th><th scope=col>x</th><th scope=col>y</th><th scope=col>z</th></tr></thead>\n",
       "<tbody>\n",
       "\t<tr><th scope=row>1</th><td>-4.252354</td><td>4.585769</td><td>1.898772</td></tr>\n",
       "\t<tr><th scope=row>2</th><td>1.702318</td><td>-4.902782</td><td>-0.8293736</td></tr>\n",
       "\t<tr><th scope=row>3</th><td>4.323054</td><td>-4.307643</td><td>-1.312835</td></tr>\n",
       "\t<tr><th scope=row>4</th><td>1.780628</td><td>0.2050367</td><td>-0.2847945</td></tr>\n",
       "\t<tr><th scope=row>5</th><td>11.53735</td><td>-29.76705</td><td>-1.27304</td></tr>\n",
       "\t<tr><th scope=row>6</th><td>6.67213</td><td>-10.14582</td><td>-0.09459239</td></tr>\n",
       "</tbody>\n",
       "</table>\n"
      ],
      "text/latex": [
       "\\begin{tabular}{r|lll}\n",
       "  & x & y & z\\\\\n",
       "\\hline\n",
       "\t1 & -4.252354 & 4.585769 & 1.898772\\\\\n",
       "\t2 & 1.702318 & -4.902782 & -0.8293736\\\\\n",
       "\t3 & 4.323054 & -4.307643 & -1.312835\\\\\n",
       "\t4 & 1.780628 & 0.2050367 & -0.2847945\\\\\n",
       "\t5 & 11.53735 & -29.76705 & -1.27304\\\\\n",
       "\t6 & 6.67213 & -10.14582 & -0.09459239\\\\\n",
       "\\end{tabular}\n"
      ],
      "text/plain": [
       "          x           y           z\n",
       "1 -4.252354   4.5857688  1.89877152\n",
       "2  1.702318  -4.9027824 -0.82937359\n",
       "3  4.323054  -4.3076433 -1.31283495\n",
       "4  1.780628   0.2050367 -0.28479448\n",
       "5 11.537348 -29.7670502 -1.27303976\n",
       "6  6.672130 -10.1458220 -0.09459239"
      ]
     },
     "execution_count": 1,
     "metadata": {},
     "output_type": "execute_result"
    }
   ],
   "source": [
    "# Make some data\n",
    "# X increases (noisily)\n",
    "# Z increases slowly\n",
    "# Y is constructed so it is inversely related to xvar and positively related to xvar*zvar\n",
    "set.seed(955)\n",
    "xvar <- 1:20 + rnorm(20,sd=3)\n",
    "zvar <- 1:20/4 + rnorm(20,sd=2)\n",
    "yvar <- -2*xvar + xvar*zvar/5 + 3 + rnorm(20,sd=4)\n",
    "\n",
    "# Make a data frame with the variables\n",
    "dat <- data.frame(x=xvar, y=yvar, z=zvar)\n",
    "# Show first few rows\n",
    "head(dat)"
   ]
  },
  {
   "cell_type": "markdown",
   "metadata": {},
   "source": [
    "### Correlation"
   ]
  },
  {
   "cell_type": "code",
   "execution_count": 2,
   "metadata": {
    "collapsed": false
   },
   "outputs": [
    {
     "data": {
      "text/html": [
       "-0.769537849115668"
      ],
      "text/latex": [
       "-0.769537849115668"
      ],
      "text/markdown": [
       "-0.769537849115668"
      ],
      "text/plain": [
       "[1] -0.7695378"
      ]
     },
     "execution_count": 2,
     "metadata": {},
     "output_type": "execute_result"
    }
   ],
   "source": [
    "# Correlation coefficient\n",
    "cor(dat$x, dat$y)"
   ]
  },
  {
   "cell_type": "markdown",
   "metadata": {},
   "source": [
    "### Correlation matrices (for multiple variables)\n",
    "\n",
    "It is also possible to run correlations between many pairs of variables, using a matrix or data frame."
   ]
  },
  {
   "cell_type": "code",
   "execution_count": 3,
   "metadata": {
    "collapsed": false
   },
   "outputs": [
    {
     "data": {
      "text/html": [
       "<table>\n",
       "<thead><tr><th></th><th scope=col>x</th><th scope=col>y</th><th scope=col>z</th></tr></thead>\n",
       "<tbody>\n",
       "\t<tr><th scope=row>x</th><td> 1.0000000</td><td>-0.7695378</td><td> 0.4916989</td></tr>\n",
       "\t<tr><th scope=row>y</th><td>-0.769537849</td><td> 1.000000000</td><td> 0.004172295</td></tr>\n",
       "\t<tr><th scope=row>z</th><td>0.491698938</td><td>0.004172295</td><td>1.000000000</td></tr>\n",
       "</tbody>\n",
       "</table>\n"
      ],
      "text/latex": [
       "\\begin{tabular}{r|lll}\n",
       "  & x & y & z\\\\\n",
       "\\hline\n",
       "\tx &  1.0000000 & -0.7695378 &  0.4916989\\\\\n",
       "\ty & -0.769537849 &  1.000000000 &  0.004172295\\\\\n",
       "\tz & 0.491698938 & 0.004172295 & 1.000000000\\\\\n",
       "\\end{tabular}\n"
      ],
      "text/markdown": [
       "1. 1\n",
       "2. -0.769537849115668\n",
       "3. 0.491698938216724\n",
       "4. -0.769537849115668\n",
       "5. 1\n",
       "6. 0.004172295412311\n",
       "7. 0.491698938216724\n",
       "8. 0.004172295412311\n",
       "9. 1\n",
       "\n",
       "\n"
      ],
      "text/plain": [
       "           x            y           z\n",
       "x  1.0000000 -0.769537849 0.491698938\n",
       "y -0.7695378  1.000000000 0.004172295\n",
       "z  0.4916989  0.004172295 1.000000000"
      ]
     },
     "execution_count": 3,
     "metadata": {},
     "output_type": "execute_result"
    }
   ],
   "source": [
    "# A correlation matrix of the variables\n",
    "cor(dat)"
   ]
  },
  {
   "cell_type": "code",
   "execution_count": 4,
   "metadata": {
    "collapsed": false
   },
   "outputs": [
    {
     "data": {
      "text/html": [
       "<table>\n",
       "<thead><tr><th></th><th scope=col>x</th><th scope=col>y</th><th scope=col>z</th></tr></thead>\n",
       "<tbody>\n",
       "\t<tr><th scope=row>x</th><td> 1.00</td><td>-0.77</td><td> 0.49</td></tr>\n",
       "\t<tr><th scope=row>y</th><td>-0.77</td><td> 1.00</td><td> 0.00</td></tr>\n",
       "\t<tr><th scope=row>z</th><td>0.49</td><td>0.00</td><td>1.00</td></tr>\n",
       "</tbody>\n",
       "</table>\n"
      ],
      "text/latex": [
       "\\begin{tabular}{r|lll}\n",
       "  & x & y & z\\\\\n",
       "\\hline\n",
       "\tx &  1.00 & -0.77 &  0.49\\\\\n",
       "\ty & -0.77 &  1.00 &  0.00\\\\\n",
       "\tz & 0.49 & 0.00 & 1.00\\\\\n",
       "\\end{tabular}\n"
      ],
      "text/markdown": [
       "1. 1\n",
       "2. -0.77\n",
       "3. 0.49\n",
       "4. -0.77\n",
       "5. 1\n",
       "6. 0\n",
       "7. 0.49\n",
       "8. 0\n",
       "9. 1\n",
       "\n",
       "\n"
      ],
      "text/plain": [
       "      x     y    z\n",
       "x  1.00 -0.77 0.49\n",
       "y -0.77  1.00 0.00\n",
       "z  0.49  0.00 1.00"
      ]
     },
     "execution_count": 4,
     "metadata": {},
     "output_type": "execute_result"
    }
   ],
   "source": [
    "# Print with only two decimal places\n",
    "round(cor(dat), 2)"
   ]
  },
  {
   "cell_type": "markdown",
   "metadata": {},
   "source": [
    "To visualize a correlation matrix, search for \"Graphs\" or \"Correlation matrix\".\n",
    "\n",
    "### Linear regression\n",
    "\n",
    "Linear regressions, where `dat$x` is the predictor, and `dat$y` is the outcome. This can be done using two columns from a data frame, or with numeric vectors directly."
   ]
  },
  {
   "cell_type": "code",
   "execution_count": 5,
   "metadata": {
    "collapsed": false
   },
   "outputs": [
    {
     "data": {
      "text/plain": [
       "\n",
       "Call:\n",
       "lm(formula = dat$y ~ dat$x)\n",
       "\n",
       "Coefficients:\n",
       "(Intercept)        dat$x  \n",
       "    -0.2278      -1.1829  \n"
      ]
     },
     "execution_count": 5,
     "metadata": {},
     "output_type": "execute_result"
    }
   ],
   "source": [
    "# These two commands will have the same outcome:\n",
    "fit <- lm(y ~ x, data=dat)  # Using the columns x and y from the data frame\n",
    "fit <- lm(dat$y ~ dat$x)     # Using the vectors dat$x and dat$y\n",
    "fit"
   ]
  },
  {
   "cell_type": "code",
   "execution_count": 6,
   "metadata": {
    "collapsed": false
   },
   "outputs": [
    {
     "data": {
      "text/plain": [
       "\n",
       "Call:\n",
       "lm(formula = dat$y ~ dat$x)\n",
       "\n",
       "Residuals:\n",
       "     Min       1Q   Median       3Q      Max \n",
       "-15.8922  -2.5114   0.2866   4.4646   9.3285 \n",
       "\n",
       "Coefficients:\n",
       "            Estimate Std. Error t value Pr(>|t|)    \n",
       "(Intercept)  -0.2278     2.6323  -0.087    0.932    \n",
       "dat$x        -1.1829     0.2314  -5.113 7.28e-05 ***\n",
       "---\n",
       "Signif. codes:  0 ‘***’ 0.001 ‘**’ 0.01 ‘*’ 0.05 ‘.’ 0.1 ‘ ’ 1\n",
       "\n",
       "Residual standard error: 6.506 on 18 degrees of freedom\n",
       "Multiple R-squared:  0.5922,\tAdjusted R-squared:  0.5695 \n",
       "F-statistic: 26.14 on 1 and 18 DF,  p-value: 7.282e-05\n"
      ]
     },
     "execution_count": 6,
     "metadata": {},
     "output_type": "execute_result"
    }
   ],
   "source": [
    "# Get more detailed information:\n",
    "summary(fit)"
   ]
  },
  {
   "cell_type": "markdown",
   "metadata": {},
   "source": [
    "To visualize the data with regression lines, search for \"Graphs Scatterplots\".\n",
    "\n",
    "### Linear regression with multiple predictors\n",
    "\n",
    "Linear regression with `y` as the outcome, and `x` and `z` as predictors.\n",
    "\n",
    "Note that the formula specified below does **not** test for interactions between `x` and `z`."
   ]
  },
  {
   "cell_type": "code",
   "execution_count": 7,
   "metadata": {
    "collapsed": false
   },
   "outputs": [
    {
     "data": {
      "text/plain": [
       "\n",
       "Call:\n",
       "lm(formula = dat$y ~ dat$x + dat$z)\n",
       "\n",
       "Coefficients:\n",
       "(Intercept)        dat$x        dat$z  \n",
       "     -1.382       -1.564        1.858  \n"
      ]
     },
     "execution_count": 7,
     "metadata": {},
     "output_type": "execute_result"
    }
   ],
   "source": [
    "# These have the same result\n",
    "fit2 <- lm(y ~ x + z, data=dat)    # Using the columns x, y, and z from the data frame\n",
    "fit2 <- lm(dat$y ~ dat$x + dat$z)  # Using the vectors x, y, z\n",
    "fit2"
   ]
  },
  {
   "cell_type": "code",
   "execution_count": 8,
   "metadata": {
    "collapsed": false
   },
   "outputs": [
    {
     "data": {
      "text/plain": [
       "\n",
       "Call:\n",
       "lm(formula = dat$y ~ dat$x + dat$z)\n",
       "\n",
       "Residuals:\n",
       "   Min     1Q Median     3Q    Max \n",
       "-7.974 -3.187 -1.205  3.847  7.524 \n",
       "\n",
       "Coefficients:\n",
       "            Estimate Std. Error t value Pr(>|t|)    \n",
       "(Intercept)  -1.3816     1.9878  -0.695  0.49644    \n",
       "dat$x        -1.5642     0.1984  -7.883 4.46e-07 ***\n",
       "dat$z         1.8578     0.4753   3.908  0.00113 ** \n",
       "---\n",
       "Signif. codes:  0 ‘***’ 0.001 ‘**’ 0.01 ‘*’ 0.05 ‘.’ 0.1 ‘ ’ 1\n",
       "\n",
       "Residual standard error: 4.859 on 17 degrees of freedom\n",
       "Multiple R-squared:  0.7852,\tAdjusted R-squared:  0.7599 \n",
       "F-statistic: 31.07 on 2 and 17 DF,  p-value: 2.1e-06\n"
      ]
     },
     "execution_count": 8,
     "metadata": {},
     "output_type": "execute_result"
    }
   ],
   "source": [
    "summary(fit2)"
   ]
  },
  {
   "cell_type": "markdown",
   "metadata": {},
   "source": [
    "### Interactions\n",
    "\n",
    "The topic of how to properly do multiple regression and test for interactions can be quite complex and is not covered here. Here we just fit a model with x, z, and the interaction between the two.\n",
    "\n",
    "To model interactions between `x` and `z`, a `x:z` term must be added. Alternatively, the formula `x*z` expands to `x+z+x:z`."
   ]
  },
  {
   "cell_type": "code",
   "execution_count": 9,
   "metadata": {
    "collapsed": false
   },
   "outputs": [
    {
     "data": {
      "text/plain": [
       "\n",
       "Call:\n",
       "lm(formula = y ~ x + z + x:z, data = dat)\n",
       "\n",
       "Coefficients:\n",
       "(Intercept)            x            z          x:z  \n",
       "     2.2820      -2.1311      -0.1068       0.2081  \n"
      ]
     },
     "execution_count": 9,
     "metadata": {},
     "output_type": "execute_result"
    }
   ],
   "source": [
    "# These are equivalent; the x*z expands to x + z + x:z\n",
    "fit3 <- lm(y ~ x * z, data=dat) \n",
    "fit3 <- lm(y ~ x + z + x:z, data=dat) \n",
    "fit3"
   ]
  },
  {
   "cell_type": "code",
   "execution_count": 10,
   "metadata": {
    "collapsed": false
   },
   "outputs": [
    {
     "data": {
      "text/plain": [
       "\n",
       "Call:\n",
       "lm(formula = y ~ x + z + x:z, data = dat)\n",
       "\n",
       "Residuals:\n",
       "    Min      1Q  Median      3Q     Max \n",
       "-5.3045 -3.5998  0.3926  2.1376  8.3957 \n",
       "\n",
       "Coefficients:\n",
       "            Estimate Std. Error t value Pr(>|t|)    \n",
       "(Intercept)  2.28204    2.20064   1.037   0.3152    \n",
       "x           -2.13110    0.27406  -7.776    8e-07 ***\n",
       "z           -0.10682    0.84820  -0.126   0.9013    \n",
       "x:z          0.20814    0.07874   2.643   0.0177 *  \n",
       "---\n",
       "Signif. codes:  0 ‘***’ 0.001 ‘**’ 0.01 ‘*’ 0.05 ‘.’ 0.1 ‘ ’ 1\n",
       "\n",
       "Residual standard error: 4.178 on 16 degrees of freedom\n",
       "Multiple R-squared:  0.8505,\tAdjusted R-squared:  0.8225 \n",
       "F-statistic: 30.34 on 3 and 16 DF,  p-value: 7.759e-07\n"
      ]
     },
     "execution_count": 10,
     "metadata": {},
     "output_type": "execute_result"
    }
   ],
   "source": [
    "summary(fit3)"
   ]
  }
 ],
 "metadata": {
  "kernelspec": {
   "display_name": "R",
   "language": "R",
   "name": "ir"
  },
  "language_info": {
   "codemirror_mode": "r",
   "file_extension": ".r",
   "mimetype": "text/x-r-source",
   "name": "R",
   "pygments_lexer": "r",
   "version": "3.2.2"
  }
 },
 "nbformat": 4,
 "nbformat_minor": 0
}
