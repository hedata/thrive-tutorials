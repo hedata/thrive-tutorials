{
 "cells": [
  {
   "cell_type": "markdown",
   "metadata": {},
   "source": [
    "# Reordering the columns in a data frame\n",
    "Credits: http://www.cookbook-r.com/ (Creative Commons Attribution-Share Alike 3.0 Unported License)"
   ]
  },
  {
   "cell_type": "markdown",
   "metadata": {},
   "source": [
    "## Problem\n",
    "You want to do reorder the columns in a data frame.\n",
    "\n",
    "## Solution"
   ]
  },
  {
   "cell_type": "code",
   "execution_count": 1,
   "metadata": {
    "collapsed": true
   },
   "outputs": [],
   "source": [
    "# A sample data frame\n",
    "data <- read.table(header=TRUE, text='\n",
    "    id weight   size\n",
    "     1     20  small\n",
    "     2     27  large\n",
    "     3     24 medium\n",
    "')"
   ]
  },
  {
   "cell_type": "code",
   "execution_count": 3,
   "metadata": {
    "collapsed": false
   },
   "outputs": [
    {
     "data": {
      "text/html": [
       "<table>\n",
       "<thead><tr><th></th><th scope=col>id</th><th scope=col>size</th><th scope=col>weight</th></tr></thead>\n",
       "<tbody>\n",
       "\t<tr><th scope=row>1</th><td>1</td><td>small</td><td>20</td></tr>\n",
       "\t<tr><th scope=row>2</th><td>2</td><td>large</td><td>27</td></tr>\n",
       "\t<tr><th scope=row>3</th><td>3</td><td>medium</td><td>24</td></tr>\n",
       "</tbody>\n",
       "</table>\n"
      ],
      "text/latex": [
       "\\begin{tabular}{r|lll}\n",
       "  & id & size & weight\\\\\n",
       "\\hline\n",
       "\t1 & 1 & small & 20\\\\\n",
       "\t2 & 2 & large & 27\\\\\n",
       "\t3 & 3 & medium & 24\\\\\n",
       "\\end{tabular}\n"
      ],
      "text/plain": [
       "  id   size weight\n",
       "1  1  small     20\n",
       "2  2  large     27\n",
       "3  3 medium     24"
      ]
     },
     "execution_count": 3,
     "metadata": {},
     "output_type": "execute_result"
    }
   ],
   "source": [
    "# Reorder by column number\n",
    "data[c(1,3,2)]\n",
    "\n",
    "# To actually change `data`, you need to save it back into `data`:\n",
    "# data <- data[c(1,3,2)]"
   ]
  },
  {
   "cell_type": "code",
   "execution_count": 4,
   "metadata": {
    "collapsed": false
   },
   "outputs": [
    {
     "data": {
      "text/html": [
       "<table>\n",
       "<thead><tr><th></th><th scope=col>size</th><th scope=col>id</th><th scope=col>weight</th></tr></thead>\n",
       "<tbody>\n",
       "\t<tr><th scope=row>1</th><td>small</td><td>1</td><td>20</td></tr>\n",
       "\t<tr><th scope=row>2</th><td>large</td><td>2</td><td>27</td></tr>\n",
       "\t<tr><th scope=row>3</th><td>medium</td><td>3</td><td>24</td></tr>\n",
       "</tbody>\n",
       "</table>\n"
      ],
      "text/latex": [
       "\\begin{tabular}{r|lll}\n",
       "  & size & id & weight\\\\\n",
       "\\hline\n",
       "\t1 & small & 1 & 20\\\\\n",
       "\t2 & large & 2 & 27\\\\\n",
       "\t3 & medium & 3 & 24\\\\\n",
       "\\end{tabular}\n"
      ],
      "text/plain": [
       "    size id weight\n",
       "1  small  1     20\n",
       "2  large  2     27\n",
       "3 medium  3     24"
      ]
     },
     "execution_count": 4,
     "metadata": {},
     "output_type": "execute_result"
    }
   ],
   "source": [
    "# Reorder by column name\n",
    "data[c(\"size\", \"id\", \"weight\")]"
   ]
  },
  {
   "cell_type": "markdown",
   "metadata": {},
   "source": [
    "The above examples index into the data frame by treating it as a list (a data frame is essentially a list of vectors). You can also use matrix-style indexing, as in `data[row, col]`, where `row` is left blank."
   ]
  },
  {
   "cell_type": "code",
   "execution_count": 5,
   "metadata": {
    "collapsed": false
   },
   "outputs": [
    {
     "data": {
      "text/html": [
       "<table>\n",
       "<thead><tr><th></th><th scope=col>id</th><th scope=col>size</th><th scope=col>weight</th></tr></thead>\n",
       "<tbody>\n",
       "\t<tr><th scope=row>1</th><td>1</td><td>small</td><td>20</td></tr>\n",
       "\t<tr><th scope=row>2</th><td>2</td><td>large</td><td>27</td></tr>\n",
       "\t<tr><th scope=row>3</th><td>3</td><td>medium</td><td>24</td></tr>\n",
       "</tbody>\n",
       "</table>\n"
      ],
      "text/latex": [
       "\\begin{tabular}{r|lll}\n",
       "  & id & size & weight\\\\\n",
       "\\hline\n",
       "\t1 & 1 & small & 20\\\\\n",
       "\t2 & 2 & large & 27\\\\\n",
       "\t3 & 3 & medium & 24\\\\\n",
       "\\end{tabular}\n"
      ],
      "text/plain": [
       "  id   size weight\n",
       "1  1  small     20\n",
       "2  2  large     27\n",
       "3  3 medium     24"
      ]
     },
     "execution_count": 5,
     "metadata": {},
     "output_type": "execute_result"
    }
   ],
   "source": [
    "data[, c(1,3,2)]"
   ]
  },
  {
   "cell_type": "markdown",
   "metadata": {},
   "source": [
    "The drawback to matrix indexing is that it gives different results when you specify just one column. In these cases, the returned object is a *vector*, not a data frame. Because the returned data type isn’t always consistent with matrix indexing, it’s generally safer to use list-style indexing, or the `drop=FALSE` option:"
   ]
  },
  {
   "cell_type": "code",
   "execution_count": 6,
   "metadata": {
    "collapsed": false
   },
   "outputs": [
    {
     "data": {
      "text/html": [
       "<table>\n",
       "<thead><tr><th></th><th scope=col>weight</th></tr></thead>\n",
       "<tbody>\n",
       "\t<tr><th scope=row>1</th><td>20</td></tr>\n",
       "\t<tr><th scope=row>2</th><td>27</td></tr>\n",
       "\t<tr><th scope=row>3</th><td>24</td></tr>\n",
       "</tbody>\n",
       "</table>\n"
      ],
      "text/latex": [
       "\\begin{tabular}{r|l}\n",
       "  & weight\\\\\n",
       "\\hline\n",
       "\t1 & 20\\\\\n",
       "\t2 & 27\\\\\n",
       "\t3 & 24\\\\\n",
       "\\end{tabular}\n"
      ],
      "text/plain": [
       "  weight\n",
       "1     20\n",
       "2     27\n",
       "3     24"
      ]
     },
     "execution_count": 6,
     "metadata": {},
     "output_type": "execute_result"
    }
   ],
   "source": [
    "# List-style indexing of one column\n",
    "data[2]"
   ]
  },
  {
   "cell_type": "code",
   "execution_count": 7,
   "metadata": {
    "collapsed": false
   },
   "outputs": [
    {
     "data": {
      "text/html": [
       "<ol class=list-inline>\n",
       "\t<li>20</li>\n",
       "\t<li>27</li>\n",
       "\t<li>24</li>\n",
       "</ol>\n"
      ],
      "text/latex": [
       "\\begin{enumerate*}\n",
       "\\item 20\n",
       "\\item 27\n",
       "\\item 24\n",
       "\\end{enumerate*}\n"
      ],
      "text/markdown": [
       "1. 20\n",
       "2. 27\n",
       "3. 24\n",
       "\n",
       "\n"
      ],
      "text/plain": [
       "[1] 20 27 24"
      ]
     },
     "execution_count": 7,
     "metadata": {},
     "output_type": "execute_result"
    }
   ],
   "source": [
    "# Matrix-style indexing of one column - drops dimension to become a vector\n",
    "data[,2]"
   ]
  },
  {
   "cell_type": "code",
   "execution_count": 8,
   "metadata": {
    "collapsed": false
   },
   "outputs": [
    {
     "data": {
      "text/html": [
       "<table>\n",
       "<thead><tr><th></th><th scope=col>weight</th></tr></thead>\n",
       "<tbody>\n",
       "\t<tr><th scope=row>1</th><td>20</td></tr>\n",
       "\t<tr><th scope=row>2</th><td>27</td></tr>\n",
       "\t<tr><th scope=row>3</th><td>24</td></tr>\n",
       "</tbody>\n",
       "</table>\n"
      ],
      "text/latex": [
       "\\begin{tabular}{r|l}\n",
       "  & weight\\\\\n",
       "\\hline\n",
       "\t1 & 20\\\\\n",
       "\t2 & 27\\\\\n",
       "\t3 & 24\\\\\n",
       "\\end{tabular}\n"
      ],
      "text/plain": [
       "  weight\n",
       "1     20\n",
       "2     27\n",
       "3     24"
      ]
     },
     "execution_count": 8,
     "metadata": {},
     "output_type": "execute_result"
    }
   ],
   "source": [
    "# Matrix-style indexing with drop=FALSE - preserves dimension to remain data frame\n",
    "data[, 2, drop=FALSE]"
   ]
  }
 ],
 "metadata": {
  "kernelspec": {
   "display_name": "R",
   "language": "R",
   "name": "ir"
  },
  "language_info": {
   "codemirror_mode": "r",
   "file_extension": ".r",
   "mimetype": "text/x-r-source",
   "name": "R",
   "pygments_lexer": "r",
   "version": "3.2.0"
  }
 },
 "nbformat": 4,
 "nbformat_minor": 0
}
