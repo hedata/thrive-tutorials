{
 "cells": [
  {
   "cell_type": "markdown",
   "metadata": {},
   "source": [
    "# Comparing vectors or factors with NA\n",
    "Credits: http://www.cookbook-r.com/ (Creative Commons Attribution-Share Alike 3.0 Unported License)"
   ]
  },
  {
   "cell_type": "markdown",
   "metadata": {},
   "source": [
    "## Problem\n",
    "You want to compare two vectors or factors but want comparisons with NA’s to be reported as TRUE or FALSE (instead of NA).\n",
    "\n",
    "## Solution\n",
    "Suppose you have this data frame with two columns which consist of boolean vectors:"
   ]
  },
  {
   "cell_type": "code",
   "execution_count": 1,
   "metadata": {
    "collapsed": false
   },
   "outputs": [
    {
     "data": {
      "text/html": [
       "<table>\n",
       "<thead><tr><th></th><th scope=col>a</th><th scope=col>b</th></tr></thead>\n",
       "<tbody>\n",
       "\t<tr><th scope=row>1</th><td>TRUE</td><td>TRUE</td></tr>\n",
       "\t<tr><th scope=row>2</th><td>TRUE</td><td>FALSE</td></tr>\n",
       "\t<tr><th scope=row>3</th><td>TRUE</td><td>NA</td></tr>\n",
       "\t<tr><th scope=row>4</th><td>FALSE</td><td>TRUE</td></tr>\n",
       "\t<tr><th scope=row>5</th><td>FALSE</td><td>FALSE</td></tr>\n",
       "\t<tr><th scope=row>6</th><td>FALSE</td><td>NA</td></tr>\n",
       "\t<tr><th scope=row>7</th><td>NA</td><td>TRUE</td></tr>\n",
       "\t<tr><th scope=row>8</th><td>NA</td><td>FALSE</td></tr>\n",
       "\t<tr><th scope=row>9</th><td>NA</td><td>NA</td></tr>\n",
       "</tbody>\n",
       "</table>\n"
      ],
      "text/latex": [
       "\\begin{tabular}{r|ll}\n",
       "  & a & b\\\\\n",
       "\\hline\n",
       "\t1 & TRUE & TRUE\\\\\n",
       "\t2 & TRUE & FALSE\\\\\n",
       "\t3 & TRUE & NA\\\\\n",
       "\t4 & FALSE & TRUE\\\\\n",
       "\t5 & FALSE & FALSE\\\\\n",
       "\t6 & FALSE & NA\\\\\n",
       "\t7 & NA & TRUE\\\\\n",
       "\t8 & NA & FALSE\\\\\n",
       "\t9 & NA & NA\\\\\n",
       "\\end{tabular}\n"
      ],
      "text/plain": [
       "      a     b\n",
       "1  TRUE  TRUE\n",
       "2  TRUE FALSE\n",
       "3  TRUE    NA\n",
       "4 FALSE  TRUE\n",
       "5 FALSE FALSE\n",
       "6 FALSE    NA\n",
       "7    NA  TRUE\n",
       "8    NA FALSE\n",
       "9    NA    NA"
      ]
     },
     "execution_count": 1,
     "metadata": {},
     "output_type": "execute_result"
    }
   ],
   "source": [
    "df <- data.frame( a=c(TRUE,TRUE,TRUE,FALSE,FALSE,FALSE,NA,NA,NA),\n",
    "                  b=c(TRUE,FALSE,NA,TRUE,FALSE,NA,TRUE,FALSE,NA))\n",
    "df"
   ]
  },
  {
   "cell_type": "markdown",
   "metadata": {},
   "source": [
    "Normally, when you compare two vectors or factors containing NA values, the vector of results will have NAs where either of the original items was NA. Depending on your purposes, this may or not be desirable."
   ]
  },
  {
   "cell_type": "code",
   "execution_count": 3,
   "metadata": {
    "collapsed": false
   },
   "outputs": [
    {
     "data": {
      "text/html": [
       "<ol class=list-inline>\n",
       "\t<li>TRUE</li>\n",
       "\t<li>FALSE</li>\n",
       "\t<li>NA</li>\n",
       "\t<li>FALSE</li>\n",
       "\t<li>TRUE</li>\n",
       "\t<li>NA</li>\n",
       "\t<li>NA</li>\n",
       "\t<li>NA</li>\n",
       "\t<li>NA</li>\n",
       "</ol>\n"
      ],
      "text/latex": [
       "\\begin{enumerate*}\n",
       "\\item TRUE\n",
       "\\item FALSE\n",
       "\\item NA\n",
       "\\item FALSE\n",
       "\\item TRUE\n",
       "\\item NA\n",
       "\\item NA\n",
       "\\item NA\n",
       "\\item NA\n",
       "\\end{enumerate*}\n"
      ],
      "text/markdown": [
       "1. TRUE\n",
       "2. FALSE\n",
       "3. NA\n",
       "4. FALSE\n",
       "5. TRUE\n",
       "6. NA\n",
       "7. NA\n",
       "8. NA\n",
       "9. NA\n",
       "\n",
       "\n"
      ],
      "text/plain": [
       "[1]  TRUE FALSE    NA FALSE  TRUE    NA    NA    NA    NA"
      ]
     },
     "execution_count": 3,
     "metadata": {},
     "output_type": "execute_result"
    }
   ],
   "source": [
    "df$a == df$b"
   ]
  },
  {
   "cell_type": "code",
   "execution_count": 4,
   "metadata": {
    "collapsed": false
   },
   "outputs": [
    {
     "data": {
      "text/html": [
       "<table>\n",
       "<thead><tr><th></th><th scope=col>a</th><th scope=col>b</th><th scope=col>isSame</th></tr></thead>\n",
       "<tbody>\n",
       "\t<tr><th scope=row>1</th><td>TRUE</td><td>TRUE</td><td>TRUE</td></tr>\n",
       "\t<tr><th scope=row>2</th><td>TRUE</td><td>FALSE</td><td>FALSE</td></tr>\n",
       "\t<tr><th scope=row>3</th><td>TRUE</td><td>NA</td><td>NA</td></tr>\n",
       "\t<tr><th scope=row>4</th><td>FALSE</td><td>TRUE</td><td>FALSE</td></tr>\n",
       "\t<tr><th scope=row>5</th><td>FALSE</td><td>FALSE</td><td>TRUE</td></tr>\n",
       "\t<tr><th scope=row>6</th><td>FALSE</td><td>NA</td><td>NA</td></tr>\n",
       "\t<tr><th scope=row>7</th><td>NA</td><td>TRUE</td><td>NA</td></tr>\n",
       "\t<tr><th scope=row>8</th><td>NA</td><td>FALSE</td><td>NA</td></tr>\n",
       "\t<tr><th scope=row>9</th><td>NA</td><td>NA</td><td>NA</td></tr>\n",
       "</tbody>\n",
       "</table>\n"
      ],
      "text/latex": [
       "\\begin{tabular}{r|lll}\n",
       "  & a & b & isSame\\\\\n",
       "\\hline\n",
       "\t1 & TRUE & TRUE & TRUE\\\\\n",
       "\t2 & TRUE & FALSE & FALSE\\\\\n",
       "\t3 & TRUE & NA & NA\\\\\n",
       "\t4 & FALSE & TRUE & FALSE\\\\\n",
       "\t5 & FALSE & FALSE & TRUE\\\\\n",
       "\t6 & FALSE & NA & NA\\\\\n",
       "\t7 & NA & TRUE & NA\\\\\n",
       "\t8 & NA & FALSE & NA\\\\\n",
       "\t9 & NA & NA & NA\\\\\n",
       "\\end{tabular}\n"
      ],
      "text/plain": [
       "      a     b isSame\n",
       "1  TRUE  TRUE   TRUE\n",
       "2  TRUE FALSE  FALSE\n",
       "3  TRUE    NA     NA\n",
       "4 FALSE  TRUE  FALSE\n",
       "5 FALSE FALSE   TRUE\n",
       "6 FALSE    NA     NA\n",
       "7    NA  TRUE     NA\n",
       "8    NA FALSE     NA\n",
       "9    NA    NA     NA"
      ]
     },
     "execution_count": 4,
     "metadata": {},
     "output_type": "execute_result"
    }
   ],
   "source": [
    "# The same comparison, but presented as another column in the data frame:\n",
    "data.frame(df, isSame = (df$a==df$b))"
   ]
  },
  {
   "cell_type": "markdown",
   "metadata": {},
   "source": [
    "### A function for comparing with NA’s\n",
    "This comparison function will essentially treat NA’s as just another value. If an item in both vectors is NA, then it reports TRUE for that item; if the item is NA in just one vector, it reports FALSE; all other comparisons (between non-NA items) behaves the same."
   ]
  },
  {
   "cell_type": "code",
   "execution_count": 5,
   "metadata": {
    "collapsed": true
   },
   "outputs": [],
   "source": [
    "# This function returns TRUE wherever elements are the same, including NA's,\n",
    "# and FALSE everywhere else.\n",
    "compareNA <- function(v1,v2) {\n",
    "    same <- (v1 == v2) | (is.na(v1) & is.na(v2))\n",
    "    same[is.na(same)] <- FALSE\n",
    "    return(same)\n",
    "}"
   ]
  },
  {
   "cell_type": "markdown",
   "metadata": {},
   "source": [
    "### Examples of the function in use\n",
    "Comparing boolean vectors:"
   ]
  },
  {
   "cell_type": "code",
   "execution_count": 6,
   "metadata": {
    "collapsed": false
   },
   "outputs": [
    {
     "data": {
      "text/html": [
       "<ol class=list-inline>\n",
       "\t<li>TRUE</li>\n",
       "\t<li>FALSE</li>\n",
       "\t<li>FALSE</li>\n",
       "\t<li>FALSE</li>\n",
       "\t<li>TRUE</li>\n",
       "\t<li>FALSE</li>\n",
       "\t<li>FALSE</li>\n",
       "\t<li>FALSE</li>\n",
       "\t<li>TRUE</li>\n",
       "</ol>\n"
      ],
      "text/latex": [
       "\\begin{enumerate*}\n",
       "\\item TRUE\n",
       "\\item FALSE\n",
       "\\item FALSE\n",
       "\\item FALSE\n",
       "\\item TRUE\n",
       "\\item FALSE\n",
       "\\item FALSE\n",
       "\\item FALSE\n",
       "\\item TRUE\n",
       "\\end{enumerate*}\n"
      ],
      "text/markdown": [
       "1. TRUE\n",
       "2. FALSE\n",
       "3. FALSE\n",
       "4. FALSE\n",
       "5. TRUE\n",
       "6. FALSE\n",
       "7. FALSE\n",
       "8. FALSE\n",
       "9. TRUE\n",
       "\n",
       "\n"
      ],
      "text/plain": [
       "[1]  TRUE FALSE FALSE FALSE  TRUE FALSE FALSE FALSE  TRUE"
      ]
     },
     "execution_count": 6,
     "metadata": {},
     "output_type": "execute_result"
    }
   ],
   "source": [
    "compareNA(df$a, df$b)"
   ]
  },
  {
   "cell_type": "code",
   "execution_count": 7,
   "metadata": {
    "collapsed": false
   },
   "outputs": [
    {
     "data": {
      "text/html": [
       "<table>\n",
       "<thead><tr><th></th><th scope=col>a</th><th scope=col>b</th><th scope=col>isSame</th></tr></thead>\n",
       "<tbody>\n",
       "\t<tr><th scope=row>1</th><td>TRUE</td><td>TRUE</td><td>TRUE</td></tr>\n",
       "\t<tr><th scope=row>2</th><td>TRUE</td><td>FALSE</td><td>FALSE</td></tr>\n",
       "\t<tr><th scope=row>3</th><td>TRUE</td><td>NA</td><td>FALSE</td></tr>\n",
       "\t<tr><th scope=row>4</th><td>FALSE</td><td>TRUE</td><td>FALSE</td></tr>\n",
       "\t<tr><th scope=row>5</th><td>FALSE</td><td>FALSE</td><td>TRUE</td></tr>\n",
       "\t<tr><th scope=row>6</th><td>FALSE</td><td>NA</td><td>FALSE</td></tr>\n",
       "\t<tr><th scope=row>7</th><td>NA</td><td>TRUE</td><td>FALSE</td></tr>\n",
       "\t<tr><th scope=row>8</th><td>NA</td><td>FALSE</td><td>FALSE</td></tr>\n",
       "\t<tr><th scope=row>9</th><td>NA</td><td>NA</td><td>TRUE</td></tr>\n",
       "</tbody>\n",
       "</table>\n"
      ],
      "text/latex": [
       "\\begin{tabular}{r|lll}\n",
       "  & a & b & isSame\\\\\n",
       "\\hline\n",
       "\t1 & TRUE & TRUE & TRUE\\\\\n",
       "\t2 & TRUE & FALSE & FALSE\\\\\n",
       "\t3 & TRUE & NA & FALSE\\\\\n",
       "\t4 & FALSE & TRUE & FALSE\\\\\n",
       "\t5 & FALSE & FALSE & TRUE\\\\\n",
       "\t6 & FALSE & NA & FALSE\\\\\n",
       "\t7 & NA & TRUE & FALSE\\\\\n",
       "\t8 & NA & FALSE & FALSE\\\\\n",
       "\t9 & NA & NA & TRUE\\\\\n",
       "\\end{tabular}\n"
      ],
      "text/plain": [
       "      a     b isSame\n",
       "1  TRUE  TRUE   TRUE\n",
       "2  TRUE FALSE  FALSE\n",
       "3  TRUE    NA  FALSE\n",
       "4 FALSE  TRUE  FALSE\n",
       "5 FALSE FALSE   TRUE\n",
       "6 FALSE    NA  FALSE\n",
       "7    NA  TRUE  FALSE\n",
       "8    NA FALSE  FALSE\n",
       "9    NA    NA   TRUE"
      ]
     },
     "execution_count": 7,
     "metadata": {},
     "output_type": "execute_result"
    }
   ],
   "source": [
    "# Same comparison, presented as another column\n",
    "data.frame(df, isSame = compareNA(df$a,df$b))"
   ]
  },
  {
   "cell_type": "markdown",
   "metadata": {},
   "source": [
    "It also works with factors, even if the levels of the factors are in different orders:"
   ]
  },
  {
   "cell_type": "code",
   "execution_count": 8,
   "metadata": {
    "collapsed": true
   },
   "outputs": [],
   "source": [
    "# Create sample data frame with factors.\n",
    "df1 <- data.frame(a = factor(c('x','x','x','y','y','y', NA, NA, NA)),\n",
    "                  b = factor(c('x','y', NA,'x','y', NA,'x','y', NA)))\n"
   ]
  },
  {
   "cell_type": "code",
   "execution_count": 9,
   "metadata": {
    "collapsed": false
   },
   "outputs": [
    {
     "data": {
      "text/html": [
       "<table>\n",
       "<thead><tr><th></th><th scope=col>a</th><th scope=col>b</th><th scope=col>isSame</th></tr></thead>\n",
       "<tbody>\n",
       "\t<tr><th scope=row>1</th><td>x</td><td>x</td><td>TRUE</td></tr>\n",
       "\t<tr><th scope=row>2</th><td>x</td><td>y</td><td>FALSE</td></tr>\n",
       "\t<tr><th scope=row>3</th><td>x</td><td>NA</td><td>FALSE</td></tr>\n",
       "\t<tr><th scope=row>4</th><td>y</td><td>x</td><td>FALSE</td></tr>\n",
       "\t<tr><th scope=row>5</th><td>y</td><td>y</td><td>TRUE</td></tr>\n",
       "\t<tr><th scope=row>6</th><td>y</td><td>NA</td><td>FALSE</td></tr>\n",
       "\t<tr><th scope=row>7</th><td>NA</td><td>x</td><td>FALSE</td></tr>\n",
       "\t<tr><th scope=row>8</th><td>NA</td><td>y</td><td>FALSE</td></tr>\n",
       "\t<tr><th scope=row>9</th><td>NA</td><td>NA</td><td>TRUE</td></tr>\n",
       "</tbody>\n",
       "</table>\n"
      ],
      "text/latex": [
       "\\begin{tabular}{r|lll}\n",
       "  & a & b & isSame\\\\\n",
       "\\hline\n",
       "\t1 & x & x & TRUE\\\\\n",
       "\t2 & x & y & FALSE\\\\\n",
       "\t3 & x & NA & FALSE\\\\\n",
       "\t4 & y & x & FALSE\\\\\n",
       "\t5 & y & y & TRUE\\\\\n",
       "\t6 & y & NA & FALSE\\\\\n",
       "\t7 & NA & x & FALSE\\\\\n",
       "\t8 & NA & y & FALSE\\\\\n",
       "\t9 & NA & NA & TRUE\\\\\n",
       "\\end{tabular}\n"
      ],
      "text/plain": [
       "     a    b isSame\n",
       "1    x    x   TRUE\n",
       "2    x    y  FALSE\n",
       "3    x <NA>  FALSE\n",
       "4    y    x  FALSE\n",
       "5    y    y   TRUE\n",
       "6    y <NA>  FALSE\n",
       "7 <NA>    x  FALSE\n",
       "8 <NA>    y  FALSE\n",
       "9 <NA> <NA>   TRUE"
      ]
     },
     "execution_count": 9,
     "metadata": {},
     "output_type": "execute_result"
    }
   ],
   "source": [
    "# Do the comparison\n",
    "data.frame(df1, isSame = compareNA(df1$a, df1$b))"
   ]
  },
  {
   "cell_type": "code",
   "execution_count": 10,
   "metadata": {
    "collapsed": false
   },
   "outputs": [
    {
     "data": {
      "text/html": [
       "<table>\n",
       "<thead><tr><th></th><th scope=col>a</th><th scope=col>b</th><th scope=col>isSame</th></tr></thead>\n",
       "<tbody>\n",
       "\t<tr><th scope=row>1</th><td>x</td><td>x</td><td>TRUE</td></tr>\n",
       "\t<tr><th scope=row>2</th><td>x</td><td>y</td><td>FALSE</td></tr>\n",
       "\t<tr><th scope=row>3</th><td>x</td><td>NA</td><td>FALSE</td></tr>\n",
       "\t<tr><th scope=row>4</th><td>y</td><td>x</td><td>FALSE</td></tr>\n",
       "\t<tr><th scope=row>5</th><td>y</td><td>y</td><td>TRUE</td></tr>\n",
       "\t<tr><th scope=row>6</th><td>y</td><td>NA</td><td>FALSE</td></tr>\n",
       "\t<tr><th scope=row>7</th><td>NA</td><td>x</td><td>FALSE</td></tr>\n",
       "\t<tr><th scope=row>8</th><td>NA</td><td>y</td><td>FALSE</td></tr>\n",
       "\t<tr><th scope=row>9</th><td>NA</td><td>NA</td><td>TRUE</td></tr>\n",
       "</tbody>\n",
       "</table>\n"
      ],
      "text/latex": [
       "\\begin{tabular}{r|lll}\n",
       "  & a & b & isSame\\\\\n",
       "\\hline\n",
       "\t1 & x & x & TRUE\\\\\n",
       "\t2 & x & y & FALSE\\\\\n",
       "\t3 & x & NA & FALSE\\\\\n",
       "\t4 & y & x & FALSE\\\\\n",
       "\t5 & y & y & TRUE\\\\\n",
       "\t6 & y & NA & FALSE\\\\\n",
       "\t7 & NA & x & FALSE\\\\\n",
       "\t8 & NA & y & FALSE\\\\\n",
       "\t9 & NA & NA & TRUE\\\\\n",
       "\\end{tabular}\n"
      ],
      "text/plain": [
       "     a    b isSame\n",
       "1    x    x   TRUE\n",
       "2    x    y  FALSE\n",
       "3    x <NA>  FALSE\n",
       "4    y    x  FALSE\n",
       "5    y    y   TRUE\n",
       "6    y <NA>  FALSE\n",
       "7 <NA>    x  FALSE\n",
       "8 <NA>    y  FALSE\n",
       "9 <NA> <NA>   TRUE"
      ]
     },
     "execution_count": 10,
     "metadata": {},
     "output_type": "execute_result"
    }
   ],
   "source": [
    "# It still works if the factor levels are arranged in a different order\n",
    "df1$b <- factor(df1$b, levels=c('y','x'))\n",
    "data.frame(df1, isSame = compareNA(df1$a, df1$b))"
   ]
  },
  {
   "cell_type": "code",
   "execution_count": null,
   "metadata": {
    "collapsed": true
   },
   "outputs": [],
   "source": []
  }
 ],
 "metadata": {
  "kernelspec": {
   "display_name": "R",
   "language": "R",
   "name": "ir"
  },
  "language_info": {
   "codemirror_mode": "r",
   "file_extension": ".r",
   "mimetype": "text/x-r-source",
   "name": "R",
   "pygments_lexer": "r",
   "version": "3.2.0"
  }
 },
 "nbformat": 4,
 "nbformat_minor": 0
}
