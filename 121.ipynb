{
 "cells": [
  {
   "cell_type": "markdown",
   "metadata": {},
   "source": [
    "# Filling in NAs with last non-NA value\n",
    "Credits: http://www.cookbook-r.com/ (Creative Commons Attribution-Share Alike 3.0 Unported License)"
   ]
  },
  {
   "cell_type": "markdown",
   "metadata": {},
   "source": [
    "## Problem\n",
    "You want to replace NA’s in a vector or factor with the last non-NA value.\n",
    "\n",
    "## Solution\n",
    "This code shows how to fill gaps in a vector. If you need to do this repeatedly, see the function below. The function also can fill in leading NA’s with the first good value and handle factors properly."
   ]
  },
  {
   "cell_type": "code",
   "execution_count": 1,
   "metadata": {
    "collapsed": false
   },
   "outputs": [
    {
     "data": {
      "text/html": [
       "<ol class=list-inline>\n",
       "\t<li>FALSE</li>\n",
       "\t<li>FALSE</li>\n",
       "\t<li>TRUE</li>\n",
       "\t<li>TRUE</li>\n",
       "\t<li>TRUE</li>\n",
       "\t<li>TRUE</li>\n",
       "\t<li>TRUE</li>\n",
       "\t<li>FALSE</li>\n",
       "\t<li>FALSE</li>\n",
       "\t<li>TRUE</li>\n",
       "\t<li>FALSE</li>\n",
       "\t<li>FALSE</li>\n",
       "\t<li>FALSE</li>\n",
       "\t<li>TRUE</li>\n",
       "\t<li>TRUE</li>\n",
       "\t<li>TRUE</li>\n",
       "\t<li>FALSE</li>\n",
       "\t<li>FALSE</li>\n",
       "</ol>\n"
      ],
      "text/latex": [
       "\\begin{enumerate*}\n",
       "\\item FALSE\n",
       "\\item FALSE\n",
       "\\item TRUE\n",
       "\\item TRUE\n",
       "\\item TRUE\n",
       "\\item TRUE\n",
       "\\item TRUE\n",
       "\\item FALSE\n",
       "\\item FALSE\n",
       "\\item TRUE\n",
       "\\item FALSE\n",
       "\\item FALSE\n",
       "\\item FALSE\n",
       "\\item TRUE\n",
       "\\item TRUE\n",
       "\\item TRUE\n",
       "\\item FALSE\n",
       "\\item FALSE\n",
       "\\end{enumerate*}\n"
      ],
      "text/markdown": [
       "1. FALSE\n",
       "2. FALSE\n",
       "3. TRUE\n",
       "4. TRUE\n",
       "5. TRUE\n",
       "6. TRUE\n",
       "7. TRUE\n",
       "8. FALSE\n",
       "9. FALSE\n",
       "10. TRUE\n",
       "11. FALSE\n",
       "12. FALSE\n",
       "13. FALSE\n",
       "14. TRUE\n",
       "15. TRUE\n",
       "16. TRUE\n",
       "17. FALSE\n",
       "18. FALSE\n",
       "\n",
       "\n"
      ],
      "text/plain": [
       " [1] FALSE FALSE  TRUE  TRUE  TRUE  TRUE  TRUE FALSE FALSE  TRUE FALSE FALSE\n",
       "[13] FALSE  TRUE  TRUE  TRUE FALSE FALSE"
      ]
     },
     "execution_count": 1,
     "metadata": {},
     "output_type": "execute_result"
    }
   ],
   "source": [
    "# Sample data\n",
    "x <- c(NA,NA, \"A\",\"A\", \"B\",\"B\",\"B\", NA,NA, \"C\", NA,NA,NA, \"A\",\"A\",\"B\", NA,NA)\n",
    "\n",
    "goodIdx <- !is.na(x)\n",
    "goodIdx"
   ]
  },
  {
   "cell_type": "code",
   "execution_count": 2,
   "metadata": {
    "collapsed": false
   },
   "outputs": [
    {
     "data": {
      "text/html": [
       "<ol class=list-inline>\n",
       "\t<li>'NA'</li>\n",
       "\t<li>'A'</li>\n",
       "\t<li>'A'</li>\n",
       "\t<li>'B'</li>\n",
       "\t<li>'B'</li>\n",
       "\t<li>'B'</li>\n",
       "\t<li>'C'</li>\n",
       "\t<li>'A'</li>\n",
       "\t<li>'A'</li>\n",
       "\t<li>'B'</li>\n",
       "</ol>\n"
      ],
      "text/latex": [
       "\\begin{enumerate*}\n",
       "\\item 'NA'\n",
       "\\item 'A'\n",
       "\\item 'A'\n",
       "\\item 'B'\n",
       "\\item 'B'\n",
       "\\item 'B'\n",
       "\\item 'C'\n",
       "\\item 'A'\n",
       "\\item 'A'\n",
       "\\item 'B'\n",
       "\\end{enumerate*}\n"
      ],
      "text/markdown": [
       "1. 'NA'\n",
       "2. 'A'\n",
       "3. 'A'\n",
       "4. 'B'\n",
       "5. 'B'\n",
       "6. 'B'\n",
       "7. 'C'\n",
       "8. 'A'\n",
       "9. 'A'\n",
       "10. 'B'\n",
       "\n",
       "\n"
      ],
      "text/plain": [
       " [1] NA  \"A\" \"A\" \"B\" \"B\" \"B\" \"C\" \"A\" \"A\" \"B\""
      ]
     },
     "execution_count": 2,
     "metadata": {},
     "output_type": "execute_result"
    }
   ],
   "source": [
    "# These are the non-NA values from x only\n",
    "# Add a leading NA for later use when we index into this vector\n",
    "goodVals <- c(NA, x[goodIdx])\n",
    "goodVals"
   ]
  },
  {
   "cell_type": "code",
   "execution_count": 3,
   "metadata": {
    "collapsed": false
   },
   "outputs": [
    {
     "data": {
      "text/html": [
       "<ol class=list-inline>\n",
       "\t<li>1</li>\n",
       "\t<li>1</li>\n",
       "\t<li>2</li>\n",
       "\t<li>3</li>\n",
       "\t<li>4</li>\n",
       "\t<li>5</li>\n",
       "\t<li>6</li>\n",
       "\t<li>6</li>\n",
       "\t<li>6</li>\n",
       "\t<li>7</li>\n",
       "\t<li>7</li>\n",
       "\t<li>7</li>\n",
       "\t<li>7</li>\n",
       "\t<li>8</li>\n",
       "\t<li>9</li>\n",
       "\t<li>10</li>\n",
       "\t<li>10</li>\n",
       "\t<li>10</li>\n",
       "</ol>\n"
      ],
      "text/latex": [
       "\\begin{enumerate*}\n",
       "\\item 1\n",
       "\\item 1\n",
       "\\item 2\n",
       "\\item 3\n",
       "\\item 4\n",
       "\\item 5\n",
       "\\item 6\n",
       "\\item 6\n",
       "\\item 6\n",
       "\\item 7\n",
       "\\item 7\n",
       "\\item 7\n",
       "\\item 7\n",
       "\\item 8\n",
       "\\item 9\n",
       "\\item 10\n",
       "\\item 10\n",
       "\\item 10\n",
       "\\end{enumerate*}\n"
      ],
      "text/markdown": [
       "1. 1\n",
       "2. 1\n",
       "3. 2\n",
       "4. 3\n",
       "5. 4\n",
       "6. 5\n",
       "7. 6\n",
       "8. 6\n",
       "9. 6\n",
       "10. 7\n",
       "11. 7\n",
       "12. 7\n",
       "13. 7\n",
       "14. 8\n",
       "15. 9\n",
       "16. 10\n",
       "17. 10\n",
       "18. 10\n",
       "\n",
       "\n"
      ],
      "text/plain": [
       " [1]  1  1  2  3  4  5  6  6  6  7  7  7  7  8  9 10 10 10"
      ]
     },
     "execution_count": 3,
     "metadata": {},
     "output_type": "execute_result"
    }
   ],
   "source": [
    "# Fill the indices of the output vector with the indices pulled from\n",
    "# these offsets of goodVals. Add 1 to avoid indexing to zero.\n",
    "fillIdx <- cumsum(goodIdx)+1\n",
    "fillIdx"
   ]
  },
  {
   "cell_type": "code",
   "execution_count": 4,
   "metadata": {
    "collapsed": false
   },
   "outputs": [
    {
     "data": {
      "text/html": [
       "<ol class=list-inline>\n",
       "\t<li>'NA'</li>\n",
       "\t<li>'NA'</li>\n",
       "\t<li>'A'</li>\n",
       "\t<li>'A'</li>\n",
       "\t<li>'B'</li>\n",
       "\t<li>'B'</li>\n",
       "\t<li>'B'</li>\n",
       "\t<li>'B'</li>\n",
       "\t<li>'B'</li>\n",
       "\t<li>'C'</li>\n",
       "\t<li>'C'</li>\n",
       "\t<li>'C'</li>\n",
       "\t<li>'C'</li>\n",
       "\t<li>'A'</li>\n",
       "\t<li>'A'</li>\n",
       "\t<li>'B'</li>\n",
       "\t<li>'B'</li>\n",
       "\t<li>'B'</li>\n",
       "</ol>\n"
      ],
      "text/latex": [
       "\\begin{enumerate*}\n",
       "\\item 'NA'\n",
       "\\item 'NA'\n",
       "\\item 'A'\n",
       "\\item 'A'\n",
       "\\item 'B'\n",
       "\\item 'B'\n",
       "\\item 'B'\n",
       "\\item 'B'\n",
       "\\item 'B'\n",
       "\\item 'C'\n",
       "\\item 'C'\n",
       "\\item 'C'\n",
       "\\item 'C'\n",
       "\\item 'A'\n",
       "\\item 'A'\n",
       "\\item 'B'\n",
       "\\item 'B'\n",
       "\\item 'B'\n",
       "\\end{enumerate*}\n"
      ],
      "text/markdown": [
       "1. 'NA'\n",
       "2. 'NA'\n",
       "3. 'A'\n",
       "4. 'A'\n",
       "5. 'B'\n",
       "6. 'B'\n",
       "7. 'B'\n",
       "8. 'B'\n",
       "9. 'B'\n",
       "10. 'C'\n",
       "11. 'C'\n",
       "12. 'C'\n",
       "13. 'C'\n",
       "14. 'A'\n",
       "15. 'A'\n",
       "16. 'B'\n",
       "17. 'B'\n",
       "18. 'B'\n",
       "\n",
       "\n"
      ],
      "text/plain": [
       " [1] NA  NA  \"A\" \"A\" \"B\" \"B\" \"B\" \"B\" \"B\" \"C\" \"C\" \"C\" \"C\" \"A\" \"A\" \"B\" \"B\" \"B\""
      ]
     },
     "execution_count": 4,
     "metadata": {},
     "output_type": "execute_result"
    }
   ],
   "source": [
    "# The original vector with gaps filled\n",
    "goodVals[fillIdx]"
   ]
  },
  {
   "cell_type": "markdown",
   "metadata": {},
   "source": [
    "### A function for filling gaps\n",
    "\n",
    "This function does the same as the code above. It can also fill leading `NA`’s with the first good value, and handle factors properly."
   ]
  },
  {
   "cell_type": "code",
   "execution_count": 5,
   "metadata": {
    "collapsed": false
   },
   "outputs": [],
   "source": [
    "fillNAgaps <- function(x, firstBack=FALSE) {\n",
    "    ## NA's in a vector or factor are replaced with last non-NA values\n",
    "    ## If firstBack is TRUE, it will fill in leading NA's with the first\n",
    "    ## non-NA value. If FALSE, it will not change leading NA's.\n",
    "    \n",
    "    # If it's a factor, store the level labels and convert to integer\n",
    "    lvls <- NULL\n",
    "    if (is.factor(x)) {\n",
    "        lvls <- levels(x)\n",
    "        x    <- as.integer(x)\n",
    "    }\n",
    " \n",
    "    goodIdx <- !is.na(x)\n",
    " \n",
    "    # These are the non-NA values from x only\n",
    "    # Add a leading NA or take the first good value, depending on firstBack   \n",
    "    if (firstBack)   goodVals <- c(x[goodIdx][1], x[goodIdx])\n",
    "    else             goodVals <- c(NA,            x[goodIdx])\n",
    "\n",
    "    # Fill the indices of the output vector with the indices pulled from\n",
    "    # these offsets of goodVals. Add 1 to avoid indexing to zero.\n",
    "    fillIdx <- cumsum(goodIdx)+1\n",
    "    \n",
    "    x <- goodVals[fillIdx]\n",
    "\n",
    "    # If it was originally a factor, convert it back\n",
    "    if (!is.null(lvls)) {\n",
    "        x <- factor(x, levels=seq_along(lvls), labels=lvls)\n",
    "    }\n",
    "\n",
    "    x\n",
    "}"
   ]
  },
  {
   "cell_type": "code",
   "execution_count": 6,
   "metadata": {
    "collapsed": false
   },
   "outputs": [
    {
     "data": {
      "text/html": [
       "<ol class=list-inline>\n",
       "\t<li>'NA'</li>\n",
       "\t<li>'NA'</li>\n",
       "\t<li>'A'</li>\n",
       "\t<li>'A'</li>\n",
       "\t<li>'B'</li>\n",
       "\t<li>'B'</li>\n",
       "\t<li>'B'</li>\n",
       "\t<li>'NA'</li>\n",
       "\t<li>'NA'</li>\n",
       "\t<li>'C'</li>\n",
       "\t<li>'NA'</li>\n",
       "\t<li>'NA'</li>\n",
       "\t<li>'NA'</li>\n",
       "\t<li>'A'</li>\n",
       "\t<li>'A'</li>\n",
       "\t<li>'B'</li>\n",
       "\t<li>'NA'</li>\n",
       "\t<li>'NA'</li>\n",
       "</ol>\n"
      ],
      "text/latex": [
       "\\begin{enumerate*}\n",
       "\\item 'NA'\n",
       "\\item 'NA'\n",
       "\\item 'A'\n",
       "\\item 'A'\n",
       "\\item 'B'\n",
       "\\item 'B'\n",
       "\\item 'B'\n",
       "\\item 'NA'\n",
       "\\item 'NA'\n",
       "\\item 'C'\n",
       "\\item 'NA'\n",
       "\\item 'NA'\n",
       "\\item 'NA'\n",
       "\\item 'A'\n",
       "\\item 'A'\n",
       "\\item 'B'\n",
       "\\item 'NA'\n",
       "\\item 'NA'\n",
       "\\end{enumerate*}\n"
      ],
      "text/markdown": [
       "1. 'NA'\n",
       "2. 'NA'\n",
       "3. 'A'\n",
       "4. 'A'\n",
       "5. 'B'\n",
       "6. 'B'\n",
       "7. 'B'\n",
       "8. 'NA'\n",
       "9. 'NA'\n",
       "10. 'C'\n",
       "11. 'NA'\n",
       "12. 'NA'\n",
       "13. 'NA'\n",
       "14. 'A'\n",
       "15. 'A'\n",
       "16. 'B'\n",
       "17. 'NA'\n",
       "18. 'NA'\n",
       "\n",
       "\n"
      ],
      "text/plain": [
       " [1] NA  NA  \"A\" \"A\" \"B\" \"B\" \"B\" NA  NA  \"C\" NA  NA  NA  \"A\" \"A\" \"B\" NA  NA "
      ]
     },
     "execution_count": 6,
     "metadata": {},
     "output_type": "execute_result"
    }
   ],
   "source": [
    "# Sample data\n",
    "x <- c(NA,NA, \"A\",\"A\", \"B\",\"B\",\"B\", NA,NA, \"C\", NA,NA,NA, \"A\",\"A\",\"B\", NA,NA)\n",
    "x"
   ]
  },
  {
   "cell_type": "code",
   "execution_count": 7,
   "metadata": {
    "collapsed": false
   },
   "outputs": [
    {
     "data": {
      "text/html": [
       "<ol class=list-inline>\n",
       "\t<li>'NA'</li>\n",
       "\t<li>'NA'</li>\n",
       "\t<li>'A'</li>\n",
       "\t<li>'A'</li>\n",
       "\t<li>'B'</li>\n",
       "\t<li>'B'</li>\n",
       "\t<li>'B'</li>\n",
       "\t<li>'B'</li>\n",
       "\t<li>'B'</li>\n",
       "\t<li>'C'</li>\n",
       "\t<li>'C'</li>\n",
       "\t<li>'C'</li>\n",
       "\t<li>'C'</li>\n",
       "\t<li>'A'</li>\n",
       "\t<li>'A'</li>\n",
       "\t<li>'B'</li>\n",
       "\t<li>'B'</li>\n",
       "\t<li>'B'</li>\n",
       "</ol>\n"
      ],
      "text/latex": [
       "\\begin{enumerate*}\n",
       "\\item 'NA'\n",
       "\\item 'NA'\n",
       "\\item 'A'\n",
       "\\item 'A'\n",
       "\\item 'B'\n",
       "\\item 'B'\n",
       "\\item 'B'\n",
       "\\item 'B'\n",
       "\\item 'B'\n",
       "\\item 'C'\n",
       "\\item 'C'\n",
       "\\item 'C'\n",
       "\\item 'C'\n",
       "\\item 'A'\n",
       "\\item 'A'\n",
       "\\item 'B'\n",
       "\\item 'B'\n",
       "\\item 'B'\n",
       "\\end{enumerate*}\n"
      ],
      "text/markdown": [
       "1. 'NA'\n",
       "2. 'NA'\n",
       "3. 'A'\n",
       "4. 'A'\n",
       "5. 'B'\n",
       "6. 'B'\n",
       "7. 'B'\n",
       "8. 'B'\n",
       "9. 'B'\n",
       "10. 'C'\n",
       "11. 'C'\n",
       "12. 'C'\n",
       "13. 'C'\n",
       "14. 'A'\n",
       "15. 'A'\n",
       "16. 'B'\n",
       "17. 'B'\n",
       "18. 'B'\n",
       "\n",
       "\n"
      ],
      "text/plain": [
       " [1] NA  NA  \"A\" \"A\" \"B\" \"B\" \"B\" \"B\" \"B\" \"C\" \"C\" \"C\" \"C\" \"A\" \"A\" \"B\" \"B\" \"B\""
      ]
     },
     "execution_count": 7,
     "metadata": {},
     "output_type": "execute_result"
    }
   ],
   "source": [
    "fillNAgaps(x)"
   ]
  },
  {
   "cell_type": "code",
   "execution_count": 8,
   "metadata": {
    "collapsed": false
   },
   "outputs": [
    {
     "data": {
      "text/html": [
       "<ol class=list-inline>\n",
       "\t<li>'A'</li>\n",
       "\t<li>'A'</li>\n",
       "\t<li>'A'</li>\n",
       "\t<li>'A'</li>\n",
       "\t<li>'B'</li>\n",
       "\t<li>'B'</li>\n",
       "\t<li>'B'</li>\n",
       "\t<li>'B'</li>\n",
       "\t<li>'B'</li>\n",
       "\t<li>'C'</li>\n",
       "\t<li>'C'</li>\n",
       "\t<li>'C'</li>\n",
       "\t<li>'C'</li>\n",
       "\t<li>'A'</li>\n",
       "\t<li>'A'</li>\n",
       "\t<li>'B'</li>\n",
       "\t<li>'B'</li>\n",
       "\t<li>'B'</li>\n",
       "</ol>\n"
      ],
      "text/latex": [
       "\\begin{enumerate*}\n",
       "\\item 'A'\n",
       "\\item 'A'\n",
       "\\item 'A'\n",
       "\\item 'A'\n",
       "\\item 'B'\n",
       "\\item 'B'\n",
       "\\item 'B'\n",
       "\\item 'B'\n",
       "\\item 'B'\n",
       "\\item 'C'\n",
       "\\item 'C'\n",
       "\\item 'C'\n",
       "\\item 'C'\n",
       "\\item 'A'\n",
       "\\item 'A'\n",
       "\\item 'B'\n",
       "\\item 'B'\n",
       "\\item 'B'\n",
       "\\end{enumerate*}\n"
      ],
      "text/markdown": [
       "1. 'A'\n",
       "2. 'A'\n",
       "3. 'A'\n",
       "4. 'A'\n",
       "5. 'B'\n",
       "6. 'B'\n",
       "7. 'B'\n",
       "8. 'B'\n",
       "9. 'B'\n",
       "10. 'C'\n",
       "11. 'C'\n",
       "12. 'C'\n",
       "13. 'C'\n",
       "14. 'A'\n",
       "15. 'A'\n",
       "16. 'B'\n",
       "17. 'B'\n",
       "18. 'B'\n",
       "\n",
       "\n"
      ],
      "text/plain": [
       " [1] \"A\" \"A\" \"A\" \"A\" \"B\" \"B\" \"B\" \"B\" \"B\" \"C\" \"C\" \"C\" \"C\" \"A\" \"A\" \"B\" \"B\" \"B\""
      ]
     },
     "execution_count": 8,
     "metadata": {},
     "output_type": "execute_result"
    }
   ],
   "source": [
    "# Fill the leading NA's with the first good value\n",
    "fillNAgaps(x, firstBack=TRUE)"
   ]
  },
  {
   "cell_type": "code",
   "execution_count": 9,
   "metadata": {
    "collapsed": false
   },
   "outputs": [
    {
     "data": {
      "text/html": [
       "<ol class=list-inline>\n",
       "\t<li>NA</li>\n",
       "\t<li>NA</li>\n",
       "\t<li>A</li>\n",
       "\t<li>A</li>\n",
       "\t<li>B</li>\n",
       "\t<li>B</li>\n",
       "\t<li>B</li>\n",
       "\t<li>NA</li>\n",
       "\t<li>NA</li>\n",
       "\t<li>C</li>\n",
       "\t<li>NA</li>\n",
       "\t<li>NA</li>\n",
       "\t<li>NA</li>\n",
       "\t<li>A</li>\n",
       "\t<li>A</li>\n",
       "\t<li>B</li>\n",
       "\t<li>NA</li>\n",
       "\t<li>NA</li>\n",
       "</ol>\n"
      ],
      "text/latex": [
       "\\begin{enumerate*}\n",
       "\\item NA\n",
       "\\item NA\n",
       "\\item A\n",
       "\\item A\n",
       "\\item B\n",
       "\\item B\n",
       "\\item B\n",
       "\\item NA\n",
       "\\item NA\n",
       "\\item C\n",
       "\\item NA\n",
       "\\item NA\n",
       "\\item NA\n",
       "\\item A\n",
       "\\item A\n",
       "\\item B\n",
       "\\item NA\n",
       "\\item NA\n",
       "\\end{enumerate*}\n"
      ],
      "text/markdown": [
       "1. NA\n",
       "2. NA\n",
       "3. A\n",
       "4. A\n",
       "5. B\n",
       "6. B\n",
       "7. B\n",
       "8. NA\n",
       "9. NA\n",
       "10. C\n",
       "11. NA\n",
       "12. NA\n",
       "13. NA\n",
       "14. A\n",
       "15. A\n",
       "16. B\n",
       "17. NA\n",
       "18. NA\n",
       "\n",
       "\n"
      ],
      "text/plain": [
       " [1] <NA> <NA> A    A    B    B    B    <NA> <NA> C    <NA> <NA> <NA> A    A   \n",
       "[16] B    <NA> <NA>\n",
       "Levels: A B C"
      ]
     },
     "execution_count": 9,
     "metadata": {},
     "output_type": "execute_result"
    }
   ],
   "source": [
    "# It also works on factors\n",
    "y <- factor(x)\n",
    "y"
   ]
  },
  {
   "cell_type": "code",
   "execution_count": 10,
   "metadata": {
    "collapsed": false
   },
   "outputs": [
    {
     "data": {
      "text/html": [
       "<ol class=list-inline>\n",
       "\t<li>NA</li>\n",
       "\t<li>NA</li>\n",
       "\t<li>A</li>\n",
       "\t<li>A</li>\n",
       "\t<li>B</li>\n",
       "\t<li>B</li>\n",
       "\t<li>B</li>\n",
       "\t<li>B</li>\n",
       "\t<li>B</li>\n",
       "\t<li>C</li>\n",
       "\t<li>C</li>\n",
       "\t<li>C</li>\n",
       "\t<li>C</li>\n",
       "\t<li>A</li>\n",
       "\t<li>A</li>\n",
       "\t<li>B</li>\n",
       "\t<li>B</li>\n",
       "\t<li>B</li>\n",
       "</ol>\n"
      ],
      "text/latex": [
       "\\begin{enumerate*}\n",
       "\\item NA\n",
       "\\item NA\n",
       "\\item A\n",
       "\\item A\n",
       "\\item B\n",
       "\\item B\n",
       "\\item B\n",
       "\\item B\n",
       "\\item B\n",
       "\\item C\n",
       "\\item C\n",
       "\\item C\n",
       "\\item C\n",
       "\\item A\n",
       "\\item A\n",
       "\\item B\n",
       "\\item B\n",
       "\\item B\n",
       "\\end{enumerate*}\n"
      ],
      "text/markdown": [
       "1. NA\n",
       "2. NA\n",
       "3. A\n",
       "4. A\n",
       "5. B\n",
       "6. B\n",
       "7. B\n",
       "8. B\n",
       "9. B\n",
       "10. C\n",
       "11. C\n",
       "12. C\n",
       "13. C\n",
       "14. A\n",
       "15. A\n",
       "16. B\n",
       "17. B\n",
       "18. B\n",
       "\n",
       "\n"
      ],
      "text/plain": [
       " [1] <NA> <NA> A    A    B    B    B    B    B    C    C    C    C    A    A   \n",
       "[16] B    B    B   \n",
       "Levels: A B C"
      ]
     },
     "execution_count": 10,
     "metadata": {},
     "output_type": "execute_result"
    }
   ],
   "source": [
    "fillNAgaps(y)"
   ]
  },
  {
   "cell_type": "markdown",
   "metadata": {},
   "source": [
    "### Notes\n",
    "\n",
    "This is adapted from `na.locf()` in the **zoo** library."
   ]
  }
 ],
 "metadata": {
  "kernelspec": {
   "display_name": "R",
   "language": "R",
   "name": "ir"
  },
  "language_info": {
   "codemirror_mode": "r",
   "file_extension": ".r",
   "mimetype": "text/x-r-source",
   "name": "R",
   "pygments_lexer": "r",
   "version": "3.2.2"
  }
 },
 "nbformat": 4,
 "nbformat_minor": 0
}
