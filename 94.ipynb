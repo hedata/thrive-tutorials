{
 "cells": [
  {
   "cell_type": "markdown",
   "metadata": {},
   "source": [
    "# Loading data from a file\n",
    "Credits: http://www.cookbook-r.com/ (Creative Commons Attribution-Share Alike 3.0 Unported License)"
   ]
  },
  {
   "cell_type": "markdown",
   "metadata": {},
   "source": [
    "## Problem\n",
    "You want to load data from a file.\n",
    "\n",
    "## Solution\n",
    "### Delimited text files"
   ]
  },
  {
   "cell_type": "markdown",
   "metadata": {
    "collapsed": true
   },
   "source": [
    "The simplest way to import data is to save it as a text file with delimiters such as tabs or commas (CSV).\n",
    "\n",
    "The data files used in this example are:\n",
    "\n",
    "<a href=\"http://www.cookbook-r.com/Data_input_and_output/Loading_data_from_a_file/datafile.csv\">datafile.csv</a>\n",
    "with the content:\n",
    "\n",
    "\"First\",\"Last\",\"Sex\",\"Number\"<br/>\n",
    "\"Currer\",\"Bell\",\"F\",2<br/>\n",
    "\"Dr.\",\"Seuss\",\"M\",49<br/>\n",
    "\"\",\"Student\",NA,21<br/>\n",
    "\n",
    "<a href=\"http://www.cookbook-r.com/Data_input_and_output/Loading_data_from_a_file/datafile-noheader.csv\">datafile-noheader.csv</a>\n",
    "with the content:\n",
    "\n",
    "\"Currer\",\"Bell\",\"F\",2<br/>\n",
    "\"Dr.\",\"Seuss\",\"M\",49<br/>\n",
    "\"\",\"Student\",NA,21<br/>\n",
    "\n",
    "\n",
    "### Loading a file from the Internet\n",
    "Data can be loaded from a URL. These (very long) URLs will load the files linked to below."
   ]
  },
  {
   "cell_type": "code",
   "execution_count": 1,
   "metadata": {
    "collapsed": false
   },
   "outputs": [
    {
     "data": {
      "text/html": [
       "<table>\n",
       "<thead><tr><th></th><th scope=col>First</th><th scope=col>Last</th><th scope=col>Sex</th><th scope=col>Number</th></tr></thead>\n",
       "<tbody>\n",
       "\t<tr><th scope=row>1</th><td>Currer</td><td>Bell</td><td>F</td><td>2</td></tr>\n",
       "\t<tr><th scope=row>2</th><td>Dr.</td><td>Seuss</td><td>M</td><td>49</td></tr>\n",
       "\t<tr><th scope=row>3</th><td></td><td>Student</td><td>NA</td><td>21</td></tr>\n",
       "</tbody>\n",
       "</table>\n"
      ],
      "text/latex": [
       "\\begin{tabular}{r|llll}\n",
       "  & First & Last & Sex & Number\\\\\n",
       "\\hline\n",
       "\t1 & Currer & Bell & F & 2\\\\\n",
       "\t2 & Dr. & Seuss & M & 49\\\\\n",
       "\t3 &  & Student & NA & 21\\\\\n",
       "\\end{tabular}\n"
      ],
      "text/plain": [
       "   First    Last  Sex Number\n",
       "1 Currer    Bell    F      2\n",
       "2    Dr.   Seuss    M     49\n",
       "3        Student <NA>     21"
      ]
     },
     "execution_count": 1,
     "metadata": {},
     "output_type": "execute_result"
    }
   ],
   "source": [
    "data <- read.csv(\"http://www.cookbook-r.com/Data_input_and_output/Loading_data_from_a_file/datafile.csv\")\n",
    "\n",
    "#show the data\n",
    "data"
   ]
  },
  {
   "cell_type": "code",
   "execution_count": 2,
   "metadata": {
    "collapsed": false
   },
   "outputs": [
    {
     "data": {
      "text/html": [
       "<table>\n",
       "<thead><tr><th></th><th scope=col>V1</th><th scope=col>V2</th><th scope=col>V3</th><th scope=col>V4</th></tr></thead>\n",
       "<tbody>\n",
       "\t<tr><th scope=row>1</th><td>Currer</td><td>Bell</td><td>F</td><td>2</td></tr>\n",
       "\t<tr><th scope=row>2</th><td>Dr.</td><td>Seuss</td><td>M</td><td>49</td></tr>\n",
       "\t<tr><th scope=row>3</th><td></td><td>Student</td><td>NA</td><td>21</td></tr>\n",
       "</tbody>\n",
       "</table>\n"
      ],
      "text/latex": [
       "\\begin{tabular}{r|llll}\n",
       "  & V1 & V2 & V3 & V4\\\\\n",
       "\\hline\n",
       "\t1 & Currer & Bell & F & 2\\\\\n",
       "\t2 & Dr. & Seuss & M & 49\\\\\n",
       "\t3 &  & Student & NA & 21\\\\\n",
       "\\end{tabular}\n"
      ],
      "text/plain": [
       "      V1      V2   V3 V4\n",
       "1 Currer    Bell    F  2\n",
       "2    Dr.   Seuss    M 49\n",
       "3        Student <NA> 21"
      ]
     },
     "execution_count": 2,
     "metadata": {},
     "output_type": "execute_result"
    }
   ],
   "source": [
    "# Read in a CSV file without headers\n",
    "data <- read.csv(\"http://www.cookbook-r.com/Data_input_and_output/Loading_data_from_a_file/datafile-noheader.csv\", header=FALSE)\n",
    "\n",
    "#show the data\n",
    "data"
   ]
  },
  {
   "cell_type": "code",
   "execution_count": 3,
   "metadata": {
    "collapsed": false
   },
   "outputs": [
    {
     "data": {
      "text/html": [
       "<table>\n",
       "<thead><tr><th></th><th scope=col>First</th><th scope=col>Last</th><th scope=col>Sex</th><th scope=col>Number</th></tr></thead>\n",
       "<tbody>\n",
       "\t<tr><th scope=row>1</th><td>Currer</td><td>Bell</td><td>F</td><td>2</td></tr>\n",
       "\t<tr><th scope=row>2</th><td>Dr.</td><td>Seuss</td><td>M</td><td>49</td></tr>\n",
       "\t<tr><th scope=row>3</th><td></td><td>Student</td><td>NA</td><td>21</td></tr>\n",
       "</tbody>\n",
       "</table>\n"
      ],
      "text/latex": [
       "\\begin{tabular}{r|llll}\n",
       "  & First & Last & Sex & Number\\\\\n",
       "\\hline\n",
       "\t1 & Currer & Bell & F & 2\\\\\n",
       "\t2 & Dr. & Seuss & M & 49\\\\\n",
       "\t3 &  & Student & NA & 21\\\\\n",
       "\\end{tabular}\n"
      ],
      "text/plain": [
       "   First    Last  Sex Number\n",
       "1 Currer    Bell    F      2\n",
       "2    Dr.   Seuss    M     49\n",
       "3        Student <NA>     21"
      ]
     },
     "execution_count": 3,
     "metadata": {},
     "output_type": "execute_result"
    }
   ],
   "source": [
    "# Manually assign the header names\n",
    "names(data) <- c(\"First\",\"Last\",\"Sex\",\"Number\")\n",
    "\n",
    "#show the data\n",
    "data"
   ]
  },
  {
   "cell_type": "markdown",
   "metadata": {},
   "source": [
    "### Treating strings as factors or characters\n",
    "By default, strings in the data are converted to factors. If you load the data below with read.csv, then all the text columns will be treated as factors, even though it might make more sense to treat some of them as strings. To do\n",
    "this, use stringsAsFactors=FALSE:"
   ]
  },
  {
   "cell_type": "code",
   "execution_count": 4,
   "metadata": {
    "collapsed": false
   },
   "outputs": [],
   "source": [
    "data <- read.csv(\"http://www.cookbook-r.com/Data_input_and_output/Loading_data_from_a_file/datafile.csv\")\n",
    "\n",
    "# You might have to convert some columns to factors\n",
    "data$Sex <- factor(data$Sex)"
   ]
  },
  {
   "cell_type": "markdown",
   "metadata": {},
   "source": [
    "Another alternative is to load them as factors and convert some columns to \n",
    "characters:"
   ]
  },
  {
   "cell_type": "code",
   "execution_count": 5,
   "metadata": {
    "collapsed": true
   },
   "outputs": [],
   "source": [
    "data <- read.csv(\"http://www.cookbook-r.com/Data_input_and_output/Loading_data_from_a_file/datafile.csv\")\n",
    "\n",
    "data$First <- as.character(data$First)\n",
    "data$Last  <- as.character(data$Last)\n",
    "\n",
    "# Another method: convert columns named \"First\" and \"Last\"\n",
    "stringcols <- c(\"First\",\"Last\")\n",
    "data[stringcols] <- lapply(data[stringcols], as.character)"
   ]
  }
 ],
 "metadata": {
  "kernelspec": {
   "display_name": "R",
   "language": "R",
   "name": "ir"
  },
  "language_info": {
   "codemirror_mode": "r",
   "file_extension": ".r",
   "mimetype": "text/x-r-source",
   "name": "R",
   "pygments_lexer": "r",
   "version": "3.2.2"
  }
 },
 "nbformat": 4,
 "nbformat_minor": 0
}
