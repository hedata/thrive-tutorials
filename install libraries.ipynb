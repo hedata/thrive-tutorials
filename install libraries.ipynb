{
 "cells": [
  {
   "cell_type": "markdown",
   "metadata": {},
   "source": [
    "on the system some libraries should be installed (sudo rights)"
   ]
  },
  {
   "cell_type": "markdown",
   "metadata": {},
   "source": [
    "also jupyters and so his main kernel are running inside a virtualenv so we can directly install stuff on user level security rights\n",
    "\n",
    "and furthermore we have all necessary stuff for jupyter already running (zmq, python devel stuff)"
   ]
  },
  {
   "cell_type": "code",
   "execution_count": 1,
   "metadata": {
    "collapsed": false
   },
   "outputs": [
    {
     "name": "stdout",
     "output_type": "stream",
     "text": [
      " current user: hedata\n"
     ]
    }
   ],
   "source": [
    "user=!whoami\n",
    "user=user[0]\n",
    "print(\" current user: \"+user)"
   ]
  },
  {
   "cell_type": "markdown",
   "metadata": {},
   "source": [
    "# install fancy data science packages"
   ]
  },
  {
   "cell_type": "code",
   "execution_count": 2,
   "metadata": {
    "collapsed": false,
    "scrolled": true
   },
   "outputs": [],
   "source": [
    "!pip3 install pandas > out.txt 2>&1"
   ]
  },
  {
   "cell_type": "code",
   "execution_count": 3,
   "metadata": {
    "collapsed": false
   },
   "outputs": [
    {
     "name": "stdout",
     "output_type": "stream",
     "text": [
      "    /tmp/pip-build-ylinwgxv/numpy/numpy/distutils/system_info.py:1566: UserWarning:\r\n",
      "        Lapack (http://www.netlib.org/lapack/) sources not found.\r\n",
      "        Directories to search for the sources can be specified in the\r\n",
      "        numpy/distutils/site.cfg file (section [lapack_src]) or by setting\r\n",
      "        the LAPACK_SRC environment variable.\r\n",
      "      warnings.warn(LapackSrcNotFoundError.__doc__)\r\n",
      "    /usr/lib/python3.4/distutils/dist.py:260: UserWarning: Unknown distribution option: 'define_macros'\r\n",
      "      warnings.warn(msg)\r\n",
      "Successfully installed pandas python-dateutil pytz numpy six\r\n",
      "Cleaning up...\r\n"
     ]
    }
   ],
   "source": [
    "! tail out.txt"
   ]
  },
  {
   "cell_type": "code",
   "execution_count": 7,
   "metadata": {
    "collapsed": true
   },
   "outputs": [],
   "source": [
    "!pip3 install scipy > out.txt 2>&1"
   ]
  },
  {
   "cell_type": "code",
   "execution_count": 8,
   "metadata": {
    "collapsed": false
   },
   "outputs": [
    {
     "name": "stdout",
     "output_type": "stream",
     "text": [
      "        the ATLAS environment variable.\r\n",
      "      warnings.warn(AtlasNotFoundError.__doc__)\r\n",
      "    \"object of type 'type' has no len()\" in evaluating 'len(list)' (available names: [])\r\n",
      "    \"object of type 'type' has no len()\" in evaluating 'len(list)' (available names: [])\r\n",
      "    \"object of type 'type' has no len()\" in evaluating 'len(list)' (available names: [])\r\n",
      "    \"object of type 'type' has no len()\" in evaluating 'len(list)' (available names: [])\r\n",
      "    \"object of type 'type' has no len()\" in evaluating 'len(list)' (available names: [])\r\n",
      "    \"object of type 'type' has no len()\" in evaluating 'len(list)' (available names: [])\r\n",
      "Successfully installed scipy\r\n",
      "Cleaning up...\r\n"
     ]
    }
   ],
   "source": [
    "!tail out.txt"
   ]
  },
  {
   "cell_type": "code",
   "execution_count": 15,
   "metadata": {
    "collapsed": true
   },
   "outputs": [],
   "source": [
    "!pip3 install matplotlib > out.txt 2>&1"
   ]
  },
  {
   "cell_type": "code",
   "execution_count": 16,
   "metadata": {
    "collapsed": false
   },
   "outputs": [
    {
     "name": "stdout",
     "output_type": "stream",
     "text": [
      "    x86_64-linux-gnu-gcc -pthread -DNDEBUG -g -fwrapv -O2 -Wall -g -fstack-protector-strong -Wformat -Werror=format-security -D_FORTIFY_SOURCE=2 -fPIC -DPY_ARRAY_UNIQUE_SYMBOL=MPL_matplotlib_backends__backend_agg_ARRAY_API -DNPY_NO_DEPRECATED_API=NPY_1_7_API_VERSION -I/home/hedata/dev/t_venv/lib/python3.4/site-packages/numpy/core/include -I/usr/include/freetype2 -I/usr/local/include -I/usr/include -I. -Iextern/agg24-svn/include -I/usr/include/python3.4m -I/home/hedata/dev/t_venv/include/python3.4m -c extern/agg24-svn/src/agg_vcgen_contour.cpp -o build/temp.linux-x86_64-3.4/extern/agg24-svn/src/agg_vcgen_contour.o\r\n",
      "    x86_64-linux-gnu-gcc -pthread -DNDEBUG -g -fwrapv -O2 -Wall -g -fstack-protector-strong -Wformat -Werror=format-security -D_FORTIFY_SOURCE=2 -fPIC -DPY_ARRAY_UNIQUE_SYMBOL=MPL_matplotlib_backends__backend_agg_ARRAY_API -DNPY_NO_DEPRECATED_API=NPY_1_7_API_VERSION -I/home/hedata/dev/t_venv/lib/python3.4/site-packages/numpy/core/include -I/usr/include/freetype2 -I/usr/local/include -I/usr/include -I. -Iextern/agg24-svn/include -I/usr/include/python3.4m -I/home/hedata/dev/t_venv/include/python3.4m -c extern/agg24-svn/src/agg_vcgen_dash.cpp -o build/temp.linux-x86_64-3.4/extern/agg24-svn/src/agg_vcgen_dash.o\r\n",
      "    x86_64-linux-gnu-gcc -pthread -DNDEBUG -g -fwrapv -O2 -Wall -g -fstack-protector-strong -Wformat -Werror=format-security -D_FORTIFY_SOURCE=2 -fPIC -DPY_ARRAY_UNIQUE_SYMBOL=MPL_matplotlib_backends__backend_agg_ARRAY_API -DNPY_NO_DEPRECATED_API=NPY_1_7_API_VERSION -I/home/hedata/dev/t_venv/lib/python3.4/site-packages/numpy/core/include -I/usr/include/freetype2 -I/usr/local/include -I/usr/include -I. -Iextern/agg24-svn/include -I/usr/include/python3.4m -I/home/hedata/dev/t_venv/include/python3.4m -c extern/agg24-svn/src/agg_vcgen_stroke.cpp -o build/temp.linux-x86_64-3.4/extern/agg24-svn/src/agg_vcgen_stroke.o\r\n",
      "    x86_64-linux-gnu-gcc -pthread -DNDEBUG -g -fwrapv -O2 -Wall -g -fstack-protector-strong -Wformat -Werror=format-security -D_FORTIFY_SOURCE=2 -fPIC -DPY_ARRAY_UNIQUE_SYMBOL=MPL_matplotlib_backends__backend_agg_ARRAY_API -DNPY_NO_DEPRECATED_API=NPY_1_7_API_VERSION -I/home/hedata/dev/t_venv/lib/python3.4/site-packages/numpy/core/include -I/usr/include/freetype2 -I/usr/local/include -I/usr/include -I. -Iextern/agg24-svn/include -I/usr/include/python3.4m -I/home/hedata/dev/t_venv/include/python3.4m -c extern/agg24-svn/src/agg_vpgen_segmentator.cpp -o build/temp.linux-x86_64-3.4/extern/agg24-svn/src/agg_vpgen_segmentator.o\r\n",
      "    x86_64-linux-gnu-g++ -pthread -shared -Wl,-O1 -Wl,-Bsymbolic-functions -Wl,-Bsymbolic-functions -Wl,-z,relro -Wl,-Bsymbolic-functions -Wl,-z,relro -g -fstack-protector-strong -Wformat -Werror=format-security -D_FORTIFY_SOURCE=2 build/temp.linux-x86_64-3.4/src/mplutils.o build/temp.linux-x86_64-3.4/src/py_converters.o build/temp.linux-x86_64-3.4/src/_backend_agg.o build/temp.linux-x86_64-3.4/src/_backend_agg_wrapper.o build/temp.linux-x86_64-3.4/extern/agg24-svn/src/agg_bezier_arc.o build/temp.linux-x86_64-3.4/extern/agg24-svn/src/agg_curves.o build/temp.linux-x86_64-3.4/extern/agg24-svn/src/agg_image_filters.o build/temp.linux-x86_64-3.4/extern/agg24-svn/src/agg_trans_affine.o build/temp.linux-x86_64-3.4/extern/agg24-svn/src/agg_vcgen_contour.o build/temp.linux-x86_64-3.4/extern/agg24-svn/src/agg_vcgen_dash.o build/temp.linux-x86_64-3.4/extern/agg24-svn/src/agg_vcgen_stroke.o build/temp.linux-x86_64-3.4/extern/agg24-svn/src/agg_vpgen_segmentator.o -L/usr/local/lib -lfreetype -o build/lib.linux-x86_64-3.4/matplotlib/backends/_backend_agg.cpython-34m.so\r\n",
      "    Skipping installation of /home/hedata/dev/t_venv/lib/python3.4/site-packages/mpl_toolkits/__init__.py (namespace package)\r\n",
      "    \r\n",
      "    Installing /home/hedata/dev/t_venv/lib/python3.4/site-packages/matplotlib-1.5.0-py3.4-nspkg.pth\r\n",
      "Successfully installed matplotlib cycler pyparsing\r\n",
      "Cleaning up...\r\n"
     ]
    }
   ],
   "source": [
    "!tail out.txt"
   ]
  },
  {
   "cell_type": "code",
   "execution_count": 11,
   "metadata": {
    "collapsed": true
   },
   "outputs": [],
   "source": [
    "!pip3 install scikit-learn > out.txt 2>&1"
   ]
  },
  {
   "cell_type": "code",
   "execution_count": 12,
   "metadata": {
    "collapsed": false
   },
   "outputs": [
    {
     "name": "stdout",
     "output_type": "stream",
     "text": [
      "    /home/hedata/dev/t_venv/lib/python3.4/site-packages/numpy/distutils/system_info.py:635: UserWarning: Specified path  is invalid.\r\n",
      "      warnings.warn('Specified path %s is invalid.' % d)\r\n",
      "    sklearn/setup.py:67: UserWarning:\r\n",
      "        Blas (http://www.netlib.org/blas/) libraries not found.\r\n",
      "        Directories to search for the libraries can be specified in the\r\n",
      "        numpy/distutils/site.cfg file (section [blas]) or by setting\r\n",
      "        the BLAS environment variable.\r\n",
      "      warnings.warn(BlasNotFoundError.__doc__)\r\n",
      "Successfully installed scikit-learn\r\n",
      "Cleaning up...\r\n"
     ]
    }
   ],
   "source": [
    "! tail out.txt"
   ]
  },
  {
   "cell_type": "markdown",
   "metadata": {},
   "source": [
    "bokeh fancy plotting"
   ]
  },
  {
   "cell_type": "code",
   "execution_count": 17,
   "metadata": {
    "collapsed": true
   },
   "outputs": [],
   "source": [
    "!pip3 install bokeh > out.txt 2>&1"
   ]
  },
  {
   "cell_type": "code",
   "execution_count": 18,
   "metadata": {
    "collapsed": false
   },
   "outputs": [
    {
     "name": "stdout",
     "output_type": "stream",
     "text": [
      "    warning: no previously-included files matching '*.pyo' found under directory 'tests'\r\n",
      "    warning: no previously-included files matching '*.pyc' found under directory 'examples'\r\n",
      "    warning: no previously-included files matching '*.pyo' found under directory 'examples'\r\n",
      "    no previously-included directories found matching 'docs/_build'\r\n",
      "    no previously-included directories found matching 'docs/_themes/.git'\r\n",
      "  Running setup.py install for itsdangerous\r\n",
      "    \r\n",
      "    warning: no previously-included files matching '*' found under directory 'docs/_build'\r\n",
      "Successfully installed bokeh requests PyYAML Flask Werkzeug itsdangerous\r\n",
      "Cleaning up...\r\n"
     ]
    }
   ],
   "source": [
    "!tail out.txt"
   ]
  },
  {
   "cell_type": "markdown",
   "metadata": {},
   "source": [
    "statsmodels for statistics fun"
   ]
  },
  {
   "cell_type": "code",
   "execution_count": 19,
   "metadata": {
    "collapsed": true
   },
   "outputs": [],
   "source": [
    "#statsmodels\n",
    "!pip3 install statsmodels > out.txt 2>&1 "
   ]
  },
  {
   "cell_type": "code",
   "execution_count": 20,
   "metadata": {
    "collapsed": false
   },
   "outputs": [
    {
     "name": "stdout",
     "output_type": "stream",
     "text": [
      "    warning: no previously-included files matching '*' found under directory 'docs/build'\r\n",
      "    warning: no previously-included files matching '*' found under directory 'docs/build/htmlhelp'\r\n",
      "    warning: no files found matching 'statsmodels/statsmodelsdoc.chm'\r\n",
      "    no previously-included directories found matching '*/__pycache__'\r\n",
      "    warning: no previously-included files matching '*~' found anywhere in distribution\r\n",
      "    warning: no previously-included files matching '*.swp' found anywhere in distribution\r\n",
      "    warning: no previously-included files matching '*.pyo' found anywhere in distribution\r\n",
      "    warning: no previously-included files matching '*.bak' found anywhere in distribution\r\n",
      "Successfully installed statsmodels patsy\r\n",
      "Cleaning up...\r\n"
     ]
    }
   ],
   "source": [
    "!tail out.txt"
   ]
  },
  {
   "cell_type": "code",
   "execution_count": 21,
   "metadata": {
    "collapsed": true
   },
   "outputs": [],
   "source": [
    "#seaborn for nicer plotting\n",
    "!pip3 install seaborn > out.txt 2>&1 "
   ]
  },
  {
   "cell_type": "code",
   "execution_count": 22,
   "metadata": {
    "collapsed": false
   },
   "outputs": [
    {
     "name": "stdout",
     "output_type": "stream",
     "text": [
      "Downloading/unpacking seaborn\r\n",
      "  Running setup.py (path:/tmp/pip-build-4ayyhepd/seaborn/setup.py) egg_info for package seaborn\r\n",
      "    \r\n",
      "Installing collected packages: seaborn\r\n",
      "  Running setup.py install for seaborn\r\n",
      "    \r\n",
      "Successfully installed seaborn\r\n",
      "Cleaning up...\r\n"
     ]
    }
   ],
   "source": [
    "!tail out.txt"
   ]
  },
  {
   "cell_type": "code",
   "execution_count": 25,
   "metadata": {
    "collapsed": true
   },
   "outputs": [],
   "source": [
    "#http://toyplot.readthedocs.org/en/latest/installation.html\n",
    "!pip3 install toyplot > out.txt 2>&1"
   ]
  },
  {
   "cell_type": "code",
   "execution_count": 26,
   "metadata": {
    "collapsed": false
   },
   "outputs": [
    {
     "name": "stdout",
     "output_type": "stream",
     "text": [
      "    changing mode of /home/hedata/dev/t_venv/bin/player.py to 775\r\n",
      "    changing mode of /home/hedata/dev/t_venv/bin/explode.py to 775\r\n",
      "    changing mode of /home/hedata/dev/t_venv/bin/pilfile.py to 775\r\n",
      "    changing mode of /home/hedata/dev/t_venv/bin/pilprint.py to 775\r\n",
      "    changing mode of /home/hedata/dev/t_venv/bin/pilfont.py to 775\r\n",
      "    changing mode of /home/hedata/dev/t_venv/bin/pilconvert.py to 775\r\n",
      "    changing mode of /home/hedata/dev/t_venv/bin/viewer.py to 775\r\n",
      "    changing mode of /home/hedata/dev/t_venv/bin/pildriver.py to 775\r\n",
      "Successfully installed pillow\r\n",
      "Cleaning up...\r\n"
     ]
    }
   ],
   "source": [
    "!tail out.txt"
   ]
  },
  {
   "cell_type": "code",
   "execution_count": 27,
   "metadata": {
    "collapsed": true
   },
   "outputs": [],
   "source": [
    "!pip3 install plotly > out.txt 2>&1"
   ]
  },
  {
   "cell_type": "code",
   "execution_count": 28,
   "metadata": {
    "collapsed": false
   },
   "outputs": [
    {
     "name": "stdout",
     "output_type": "stream",
     "text": [
      "  Running setup.py (path:/tmp/pip-build-z0xf3oy9/plotly/setup.py) egg_info for package plotly\r\n",
      "    \r\n",
      "Requirement already satisfied (use --upgrade to upgrade): requests in /home/hedata/dev/t_venv/lib/python3.4/site-packages (from plotly)\r\n",
      "Requirement already satisfied (use --upgrade to upgrade): six in /home/hedata/dev/t_venv/lib/python3.4/site-packages (from plotly)\r\n",
      "Requirement already satisfied (use --upgrade to upgrade): pytz in /home/hedata/dev/t_venv/lib/python3.4/site-packages (from plotly)\r\n",
      "Installing collected packages: plotly\r\n",
      "  Running setup.py install for plotly\r\n",
      "    \r\n",
      "Successfully installed plotly\r\n",
      "Cleaning up...\r\n"
     ]
    }
   ],
   "source": [
    "!tail out.txt"
   ]
  },
  {
   "cell_type": "code",
   "execution_count": 1,
   "metadata": {
    "collapsed": true
   },
   "outputs": [],
   "source": [
    "!pip3 install gspread > out.txt 2>&1"
   ]
  },
  {
   "cell_type": "code",
   "execution_count": 3,
   "metadata": {
    "collapsed": false
   },
   "outputs": [
    {
     "name": "stdout",
     "output_type": "stream",
     "text": [
      "Downloading/unpacking gspread\r\n",
      "  Downloading gspread-0.2.5.tar.gz\r\n",
      "  Running setup.py (path:/tmp/pip-build-fogk53md/gspread/setup.py) egg_info for package gspread\r\n",
      "    \r\n",
      "Installing collected packages: gspread\r\n",
      "  Running setup.py install for gspread\r\n",
      "    \r\n",
      "Successfully installed gspread\r\n",
      "Cleaning up...\r\n"
     ]
    }
   ],
   "source": [
    "!tail out.txt"
   ]
  },
  {
   "cell_type": "code",
   "execution_count": 4,
   "metadata": {
    "collapsed": true
   },
   "outputs": [],
   "source": [
    "!pip3 install oauth2client > out.txt 2>&1"
   ]
  },
  {
   "cell_type": "code",
   "execution_count": 5,
   "metadata": {
    "collapsed": false
   },
   "outputs": [
    {
     "name": "stdout",
     "output_type": "stream",
     "text": [
      "  Downloading pyasn1_modules-0.0.8-py2.py3-none-any.whl\r\n",
      "Downloading/unpacking rsa>=3.1.4 (from oauth2client)\r\n",
      "Requirement already satisfied (use --upgrade to upgrade): six>=1.6.1 in /home/hedata/dev/t_venv/lib/python3.4/site-packages (from oauth2client)\r\n",
      "Installing collected packages: oauth2client, httplib2, pyasn1, pyasn1-modules, rsa\r\n",
      "  Running setup.py install for oauth2client\r\n",
      "    \r\n",
      "  Running setup.py install for httplib2\r\n",
      "    \r\n",
      "Successfully installed oauth2client httplib2 pyasn1 pyasn1-modules rsa\r\n",
      "Cleaning up...\r\n"
     ]
    }
   ],
   "source": [
    "!tail out.txt"
   ]
  },
  {
   "cell_type": "code",
   "execution_count": 2,
   "metadata": {
    "collapsed": false
   },
   "outputs": [],
   "source": [
    "!pip3 install scikits.bootstrap > out.txt 2>&1"
   ]
  },
  {
   "cell_type": "code",
   "execution_count": 1,
   "metadata": {
    "collapsed": false
   },
   "outputs": [
    {
     "name": "stdout",
     "output_type": "stream",
     "text": [
      "Requirement already satisfied (use --upgrade to upgrade): scikits.bootstrap in /home/hedata/dev/t_venv/lib/python3.4/site-packages\r\n",
      "Requirement already satisfied (use --upgrade to upgrade): numpy in /home/hedata/dev/t_venv/lib/python3.4/site-packages (from scikits.bootstrap)\r\n",
      "Requirement already satisfied (use --upgrade to upgrade): scipy in /home/hedata/dev/t_venv/lib/python3.4/site-packages (from scikits.bootstrap)\r\n",
      "Cleaning up...\r\n"
     ]
    }
   ],
   "source": [
    "!tail out.txt"
   ]
  },
  {
   "cell_type": "code",
   "execution_count": 2,
   "metadata": {
    "collapsed": true
   },
   "outputs": [],
   "source": [
    "!pip3 install pymc > out.txt 2>&1"
   ]
  },
  {
   "cell_type": "code",
   "execution_count": 3,
   "metadata": {
    "collapsed": false
   },
   "outputs": [
    {
     "name": "stdout",
     "output_type": "stream",
     "text": [
      "    /home/hedata/dev/t_venv/lib/python3.4/site-packages/numpy/distutils/system_info.py:1552: UserWarning:\r\n",
      "        Atlas (http://math-atlas.sourceforge.net/) libraries not found.\r\n",
      "        Directories to search for the libraries can be specified in the\r\n",
      "        numpy/distutils/site.cfg file (section [atlas]) or by setting\r\n",
      "        the ATLAS environment variable.\r\n",
      "      warnings.warn(AtlasNotFoundError.__doc__)\r\n",
      "    /home/hedata/dev/t_venv/lib/python3.4/site-packages/numpy/distutils/system_info.py:635: UserWarning: Specified path  is invalid.\r\n",
      "      warnings.warn('Specified path %s is invalid.' % d)\r\n",
      "Successfully installed pymc\r\n",
      "Cleaning up...\r\n"
     ]
    }
   ],
   "source": [
    "!tail out.txt"
   ]
  },
  {
   "cell_type": "markdown",
   "metadata": {},
   "source": [
    "r-base for fun has to be installed systemwide"
   ]
  },
  {
   "cell_type": "code",
   "execution_count": 4,
   "metadata": {
    "collapsed": true
   },
   "outputs": [],
   "source": [
    "!pip3 install rpy2 > out.txt 2>&1"
   ]
  },
  {
   "cell_type": "code",
   "execution_count": 5,
   "metadata": {
    "collapsed": false
   },
   "outputs": [
    {
     "name": "stdout",
     "output_type": "stream",
     "text": [
      "    warning: no previously-included files matching '.hg' found anywhere in distribution\r\n",
      "    warning: no files found matching 'MANIFEST'\r\n",
      "    warning: no files found matching 'README'\r\n",
      "    warning: no files found matching 'MPL_LICENSE'\r\n",
      "    warning: no files found matching 'GPL_LICENSE'\r\n",
      "    warning: no files found matching 'LGPL_LICENSE'\r\n",
      "    no previously-included directories found matching 'dist'\r\n",
      "    warning: no files found matching 'doc/source/rpy2_logo.png'\r\n",
      "Successfully installed rpy2\r\n",
      "Cleaning up...\r\n"
     ]
    }
   ],
   "source": [
    "!tail out.txt"
   ]
  }
 ],
 "metadata": {
  "kernelspec": {
   "display_name": "Python 3",
   "language": "python",
   "name": "python3"
  },
  "language_info": {
   "codemirror_mode": {
    "name": "ipython",
    "version": 3
   },
   "file_extension": ".py",
   "mimetype": "text/x-python",
   "name": "python",
   "nbconvert_exporter": "python",
   "pygments_lexer": "ipython3",
   "version": "3.4.3+"
  }
 },
 "nbformat": 4,
 "nbformat_minor": 0
}
