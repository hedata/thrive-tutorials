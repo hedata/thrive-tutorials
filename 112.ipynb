{
 "cells": [
  {
   "cell_type": "markdown",
   "metadata": {},
   "source": [
    "# Merging data frames\n",
    "Credits: http://www.cookbook-r.com/ (Creative Commons Attribution-Share Alike 3.0 Unported License)"
   ]
  },
  {
   "cell_type": "markdown",
   "metadata": {},
   "source": [
    "## Problem\n",
    "You want to merge two data frames on a given column from each (like a **join** in SQL).\n",
    "\n",
    "## Solution"
   ]
  },
  {
   "cell_type": "code",
   "execution_count": 1,
   "metadata": {
    "collapsed": true
   },
   "outputs": [],
   "source": [
    "# Make a data frame mapping story numbers to titles\n",
    "stories <- read.table(header=TRUE, text='\n",
    "   storyid  title\n",
    "    1       lions\n",
    "    2      tigers\n",
    "    3       bears\n",
    "')"
   ]
  },
  {
   "cell_type": "code",
   "execution_count": 2,
   "metadata": {
    "collapsed": true
   },
   "outputs": [],
   "source": [
    "# Make another data frame with the data and story numbers (no titles)\n",
    "data <- read.table(header=TRUE, text='\n",
    "    subject storyid rating\n",
    "          1       1    6.7\n",
    "          1       2    4.5\n",
    "          1       3    3.7\n",
    "          2       2    3.3\n",
    "          2       3    4.1\n",
    "          2       1    5.2\n",
    "')"
   ]
  },
  {
   "cell_type": "code",
   "execution_count": 3,
   "metadata": {
    "collapsed": false
   },
   "outputs": [
    {
     "data": {
      "text/html": [
       "<table>\n",
       "<thead><tr><th></th><th scope=col>storyid</th><th scope=col>title</th><th scope=col>subject</th><th scope=col>rating</th></tr></thead>\n",
       "<tbody>\n",
       "\t<tr><th scope=row>1</th><td>1</td><td>lions</td><td>1</td><td>6.7</td></tr>\n",
       "\t<tr><th scope=row>2</th><td>1</td><td>lions</td><td>2</td><td>5.2</td></tr>\n",
       "\t<tr><th scope=row>3</th><td>2</td><td>tigers</td><td>1</td><td>4.5</td></tr>\n",
       "\t<tr><th scope=row>4</th><td>2</td><td>tigers</td><td>2</td><td>3.3</td></tr>\n",
       "\t<tr><th scope=row>5</th><td>3</td><td>bears</td><td>1</td><td>3.7</td></tr>\n",
       "\t<tr><th scope=row>6</th><td>3</td><td>bears</td><td>2</td><td>4.1</td></tr>\n",
       "</tbody>\n",
       "</table>\n"
      ],
      "text/latex": [
       "\\begin{tabular}{r|llll}\n",
       "  & storyid & title & subject & rating\\\\\n",
       "\\hline\n",
       "\t1 & 1 & lions & 1 & 6.7\\\\\n",
       "\t2 & 1 & lions & 2 & 5.2\\\\\n",
       "\t3 & 2 & tigers & 1 & 4.5\\\\\n",
       "\t4 & 2 & tigers & 2 & 3.3\\\\\n",
       "\t5 & 3 & bears & 1 & 3.7\\\\\n",
       "\t6 & 3 & bears & 2 & 4.1\\\\\n",
       "\\end{tabular}\n"
      ],
      "text/plain": [
       "  storyid  title subject rating\n",
       "1       1  lions       1    6.7\n",
       "2       1  lions       2    5.2\n",
       "3       2 tigers       1    4.5\n",
       "4       2 tigers       2    3.3\n",
       "5       3  bears       1    3.7\n",
       "6       3  bears       2    4.1"
      ]
     },
     "execution_count": 3,
     "metadata": {},
     "output_type": "execute_result"
    }
   ],
   "source": [
    "# Merge the two data frames\n",
    "merge(stories, data, \"storyid\")"
   ]
  },
  {
   "cell_type": "markdown",
   "metadata": {},
   "source": [
    "If the two data frames have different names for the columns you want to match on, the names can be specified:"
   ]
  },
  {
   "cell_type": "code",
   "execution_count": 4,
   "metadata": {
    "collapsed": true
   },
   "outputs": [],
   "source": [
    "# In this case, the column is named 'id' instead of storyid\n",
    "stories2 <- read.table(header=TRUE, text='\n",
    "   id       title\n",
    "    1       lions\n",
    "    2      tigers\n",
    "    3       bears\n",
    "')"
   ]
  },
  {
   "cell_type": "code",
   "execution_count": 5,
   "metadata": {
    "collapsed": false
   },
   "outputs": [
    {
     "data": {
      "text/html": [
       "<table>\n",
       "<thead><tr><th></th><th scope=col>id</th><th scope=col>title</th><th scope=col>subject</th><th scope=col>rating</th></tr></thead>\n",
       "<tbody>\n",
       "\t<tr><th scope=row>1</th><td>1</td><td>lions</td><td>1</td><td>6.7</td></tr>\n",
       "\t<tr><th scope=row>2</th><td>1</td><td>lions</td><td>2</td><td>5.2</td></tr>\n",
       "\t<tr><th scope=row>3</th><td>2</td><td>tigers</td><td>1</td><td>4.5</td></tr>\n",
       "\t<tr><th scope=row>4</th><td>2</td><td>tigers</td><td>2</td><td>3.3</td></tr>\n",
       "\t<tr><th scope=row>5</th><td>3</td><td>bears</td><td>1</td><td>3.7</td></tr>\n",
       "\t<tr><th scope=row>6</th><td>3</td><td>bears</td><td>2</td><td>4.1</td></tr>\n",
       "</tbody>\n",
       "</table>\n"
      ],
      "text/latex": [
       "\\begin{tabular}{r|llll}\n",
       "  & id & title & subject & rating\\\\\n",
       "\\hline\n",
       "\t1 & 1 & lions & 1 & 6.7\\\\\n",
       "\t2 & 1 & lions & 2 & 5.2\\\\\n",
       "\t3 & 2 & tigers & 1 & 4.5\\\\\n",
       "\t4 & 2 & tigers & 2 & 3.3\\\\\n",
       "\t5 & 3 & bears & 1 & 3.7\\\\\n",
       "\t6 & 3 & bears & 2 & 4.1\\\\\n",
       "\\end{tabular}\n"
      ],
      "text/plain": [
       "  id  title subject rating\n",
       "1  1  lions       1    6.7\n",
       "2  1  lions       2    5.2\n",
       "3  2 tigers       1    4.5\n",
       "4  2 tigers       2    3.3\n",
       "5  3  bears       1    3.7\n",
       "6  3  bears       2    4.1"
      ]
     },
     "execution_count": 5,
     "metadata": {},
     "output_type": "execute_result"
    }
   ],
   "source": [
    "# Merge on stories2$id and data$storyid.\n",
    "merge(x=stories2, y=data, by.x=\"id\", by.y=\"storyid\")"
   ]
  },
  {
   "cell_type": "markdown",
   "metadata": {},
   "source": [
    "It is possible to merge on multiple columns:"
   ]
  },
  {
   "cell_type": "code",
   "execution_count": 6,
   "metadata": {
    "collapsed": true
   },
   "outputs": [],
   "source": [
    "# Make up more data\n",
    "animals <- read.table(header=T, text='\n",
    "   size type         name\n",
    "  small  cat         lynx\n",
    "    big  cat        tiger\n",
    "  small  dog    chihuahua\n",
    "    big  dog \"great dane\"\n",
    "')\n",
    "\n",
    "observations <- read.table(header=T, text='\n",
    "   number  size type\n",
    "        1   big  cat\n",
    "        2 small  dog\n",
    "        3 small  dog\n",
    "        4   big  dog\n",
    "')"
   ]
  },
  {
   "cell_type": "code",
   "execution_count": 7,
   "metadata": {
    "collapsed": false
   },
   "outputs": [
    {
     "data": {
      "text/html": [
       "<table>\n",
       "<thead><tr><th></th><th scope=col>size</th><th scope=col>type</th><th scope=col>number</th><th scope=col>name</th></tr></thead>\n",
       "<tbody>\n",
       "\t<tr><th scope=row>1</th><td>big</td><td>cat</td><td>1</td><td>tiger</td></tr>\n",
       "\t<tr><th scope=row>2</th><td>big</td><td>dog</td><td>4</td><td>great dane</td></tr>\n",
       "\t<tr><th scope=row>3</th><td>small</td><td>dog</td><td>2</td><td>chihuahua</td></tr>\n",
       "\t<tr><th scope=row>4</th><td>small</td><td>dog</td><td>3</td><td>chihuahua</td></tr>\n",
       "</tbody>\n",
       "</table>\n"
      ],
      "text/latex": [
       "\\begin{tabular}{r|llll}\n",
       "  & size & type & number & name\\\\\n",
       "\\hline\n",
       "\t1 & big & cat & 1 & tiger\\\\\n",
       "\t2 & big & dog & 4 & great dane\\\\\n",
       "\t3 & small & dog & 2 & chihuahua\\\\\n",
       "\t4 & small & dog & 3 & chihuahua\\\\\n",
       "\\end{tabular}\n"
      ],
      "text/plain": [
       "   size type number       name\n",
       "1   big  cat      1      tiger\n",
       "2   big  dog      4 great dane\n",
       "3 small  dog      2  chihuahua\n",
       "4 small  dog      3  chihuahua"
      ]
     },
     "execution_count": 7,
     "metadata": {},
     "output_type": "execute_result"
    }
   ],
   "source": [
    "merge(observations, animals, c(\"size\",\"type\"))"
   ]
  },
  {
   "cell_type": "markdown",
   "metadata": {},
   "source": [
    "### Notes\n",
    "After merging, it may be useful to change the order of the columns. Search for \"Reordering the columns in a data frame\"."
   ]
  }
 ],
 "metadata": {
  "kernelspec": {
   "display_name": "R",
   "language": "R",
   "name": "ir"
  },
  "language_info": {
   "codemirror_mode": "r",
   "file_extension": ".r",
   "mimetype": "text/x-r-source",
   "name": "R",
   "pygments_lexer": "r",
   "version": "3.2.0"
  }
 },
 "nbformat": 4,
 "nbformat_minor": 0
}
