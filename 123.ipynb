{
 "cells": [
  {
   "cell_type": "markdown",
   "metadata": {},
   "source": [
    "# t-test\n",
    "Credits: http://www.cookbook-r.com/ (Creative Commons Attribution-Share Alike 3.0 Unported License)"
   ]
  },
  {
   "cell_type": "markdown",
   "metadata": {},
   "source": [
    "## Problem\n",
    "You want to test whether two samples are drawn from populations with different means, or test whether one sample is drawn from a population with a mean different from some theoretical mean.\n",
    "\n",
    "## Solution\n",
    "### Sample data\n",
    "\n",
    "We will use the built-in sleep data set."
   ]
  },
  {
   "cell_type": "code",
   "execution_count": 1,
   "metadata": {
    "collapsed": false
   },
   "outputs": [
    {
     "data": {
      "text/html": [
       "<table>\n",
       "<thead><tr><th></th><th scope=col>extra</th><th scope=col>group</th><th scope=col>ID</th></tr></thead>\n",
       "<tbody>\n",
       "\t<tr><th scope=row>1</th><td>0.7</td><td>1</td><td>1</td></tr>\n",
       "\t<tr><th scope=row>2</th><td>-1.6</td><td>1</td><td>2</td></tr>\n",
       "\t<tr><th scope=row>3</th><td>-0.2</td><td>1</td><td>3</td></tr>\n",
       "\t<tr><th scope=row>4</th><td>-1.2</td><td>1</td><td>4</td></tr>\n",
       "\t<tr><th scope=row>5</th><td>-0.1</td><td>1</td><td>5</td></tr>\n",
       "\t<tr><th scope=row>6</th><td>3.4</td><td>1</td><td>6</td></tr>\n",
       "\t<tr><th scope=row>7</th><td>3.7</td><td>1</td><td>7</td></tr>\n",
       "\t<tr><th scope=row>8</th><td>0.8</td><td>1</td><td>8</td></tr>\n",
       "\t<tr><th scope=row>9</th><td>0</td><td>1</td><td>9</td></tr>\n",
       "\t<tr><th scope=row>10</th><td>2</td><td>1</td><td>10</td></tr>\n",
       "\t<tr><th scope=row>11</th><td>1.9</td><td>2</td><td>1</td></tr>\n",
       "\t<tr><th scope=row>12</th><td>0.8</td><td>2</td><td>2</td></tr>\n",
       "\t<tr><th scope=row>13</th><td>1.1</td><td>2</td><td>3</td></tr>\n",
       "\t<tr><th scope=row>14</th><td>0.1</td><td>2</td><td>4</td></tr>\n",
       "\t<tr><th scope=row>15</th><td>-0.1</td><td>2</td><td>5</td></tr>\n",
       "\t<tr><th scope=row>16</th><td>4.4</td><td>2</td><td>6</td></tr>\n",
       "\t<tr><th scope=row>17</th><td>5.5</td><td>2</td><td>7</td></tr>\n",
       "\t<tr><th scope=row>18</th><td>1.6</td><td>2</td><td>8</td></tr>\n",
       "\t<tr><th scope=row>19</th><td>4.6</td><td>2</td><td>9</td></tr>\n",
       "\t<tr><th scope=row>20</th><td>3.4</td><td>2</td><td>10</td></tr>\n",
       "</tbody>\n",
       "</table>\n"
      ],
      "text/latex": [
       "\\begin{tabular}{r|lll}\n",
       "  & extra & group & ID\\\\\n",
       "\\hline\n",
       "\t1 & 0.7 & 1 & 1\\\\\n",
       "\t2 & -1.6 & 1 & 2\\\\\n",
       "\t3 & -0.2 & 1 & 3\\\\\n",
       "\t4 & -1.2 & 1 & 4\\\\\n",
       "\t5 & -0.1 & 1 & 5\\\\\n",
       "\t6 & 3.4 & 1 & 6\\\\\n",
       "\t7 & 3.7 & 1 & 7\\\\\n",
       "\t8 & 0.8 & 1 & 8\\\\\n",
       "\t9 & 0 & 1 & 9\\\\\n",
       "\t10 & 2 & 1 & 10\\\\\n",
       "\t11 & 1.9 & 2 & 1\\\\\n",
       "\t12 & 0.8 & 2 & 2\\\\\n",
       "\t13 & 1.1 & 2 & 3\\\\\n",
       "\t14 & 0.1 & 2 & 4\\\\\n",
       "\t15 & -0.1 & 2 & 5\\\\\n",
       "\t16 & 4.4 & 2 & 6\\\\\n",
       "\t17 & 5.5 & 2 & 7\\\\\n",
       "\t18 & 1.6 & 2 & 8\\\\\n",
       "\t19 & 4.6 & 2 & 9\\\\\n",
       "\t20 & 3.4 & 2 & 10\\\\\n",
       "\\end{tabular}\n"
      ],
      "text/plain": [
       "   extra group ID\n",
       "1    0.7     1  1\n",
       "2   -1.6     1  2\n",
       "3   -0.2     1  3\n",
       "4   -1.2     1  4\n",
       "5   -0.1     1  5\n",
       "6    3.4     1  6\n",
       "7    3.7     1  7\n",
       "8    0.8     1  8\n",
       "9    0.0     1  9\n",
       "10   2.0     1 10\n",
       "11   1.9     2  1\n",
       "12   0.8     2  2\n",
       "13   1.1     2  3\n",
       "14   0.1     2  4\n",
       "15  -0.1     2  5\n",
       "16   4.4     2  6\n",
       "17   5.5     2  7\n",
       "18   1.6     2  8\n",
       "19   4.6     2  9\n",
       "20   3.4     2 10"
      ]
     },
     "execution_count": 1,
     "metadata": {},
     "output_type": "execute_result"
    }
   ],
   "source": [
    "sleep"
   ]
  },
  {
   "cell_type": "markdown",
   "metadata": {},
   "source": [
    "We’ll also make a wide version of the `sleep` data; below we’ll see how to work with data in both long and wide formats."
   ]
  },
  {
   "cell_type": "code",
   "execution_count": 2,
   "metadata": {
    "collapsed": false
   },
   "outputs": [
    {
     "data": {
      "text/html": [
       "<table>\n",
       "<thead><tr><th></th><th scope=col>ID</th><th scope=col>group1</th><th scope=col>group2</th></tr></thead>\n",
       "<tbody>\n",
       "\t<tr><th scope=row>1</th><td>1</td><td>0.7</td><td>1.9</td></tr>\n",
       "\t<tr><th scope=row>2</th><td>2</td><td>-1.6</td><td>0.8</td></tr>\n",
       "\t<tr><th scope=row>3</th><td>3</td><td>-0.2</td><td>1.1</td></tr>\n",
       "\t<tr><th scope=row>4</th><td>4</td><td>-1.2</td><td>0.1</td></tr>\n",
       "\t<tr><th scope=row>5</th><td>5</td><td>-0.1</td><td>-0.1</td></tr>\n",
       "\t<tr><th scope=row>6</th><td>6</td><td>3.4</td><td>4.4</td></tr>\n",
       "\t<tr><th scope=row>7</th><td>7</td><td>3.7</td><td>5.5</td></tr>\n",
       "\t<tr><th scope=row>8</th><td>8</td><td>0.8</td><td>1.6</td></tr>\n",
       "\t<tr><th scope=row>9</th><td>9</td><td>0</td><td>4.6</td></tr>\n",
       "\t<tr><th scope=row>10</th><td>10</td><td>2</td><td>3.4</td></tr>\n",
       "</tbody>\n",
       "</table>\n"
      ],
      "text/latex": [
       "\\begin{tabular}{r|lll}\n",
       "  & ID & group1 & group2\\\\\n",
       "\\hline\n",
       "\t1 & 1 & 0.7 & 1.9\\\\\n",
       "\t2 & 2 & -1.6 & 0.8\\\\\n",
       "\t3 & 3 & -0.2 & 1.1\\\\\n",
       "\t4 & 4 & -1.2 & 0.1\\\\\n",
       "\t5 & 5 & -0.1 & -0.1\\\\\n",
       "\t6 & 6 & 3.4 & 4.4\\\\\n",
       "\t7 & 7 & 3.7 & 5.5\\\\\n",
       "\t8 & 8 & 0.8 & 1.6\\\\\n",
       "\t9 & 9 & 0 & 4.6\\\\\n",
       "\t10 & 10 & 2 & 3.4\\\\\n",
       "\\end{tabular}\n"
      ],
      "text/plain": [
       "   ID group1 group2\n",
       "1   1    0.7    1.9\n",
       "2   2   -1.6    0.8\n",
       "3   3   -0.2    1.1\n",
       "4   4   -1.2    0.1\n",
       "5   5   -0.1   -0.1\n",
       "6   6    3.4    4.4\n",
       "7   7    3.7    5.5\n",
       "8   8    0.8    1.6\n",
       "9   9    0.0    4.6\n",
       "10 10    2.0    3.4"
      ]
     },
     "execution_count": 2,
     "metadata": {},
     "output_type": "execute_result"
    }
   ],
   "source": [
    "sleep_wide <- data.frame(\n",
    "    ID=1:10,\n",
    "    group1=sleep$extra[1:10],\n",
    "    group2=sleep$extra[11:20]\n",
    ")\n",
    "sleep_wide"
   ]
  },
  {
   "cell_type": "markdown",
   "metadata": {},
   "source": [
    "### Comparing two groups: independent two-sample t-test\n",
    "\n",
    "Suppose the two groups are independently sampled; we’ll ignore the ID variable for the purposes here.\n",
    "\n",
    "The `t.test` function can operate on long-format data like `sleep`, where one column (extra) records the measurement, and the other column (group) specifies the grouping; or it can operate on two separate vectors."
   ]
  },
  {
   "cell_type": "code",
   "execution_count": 3,
   "metadata": {
    "collapsed": false
   },
   "outputs": [
    {
     "data": {
      "text/plain": [
       "\n",
       "\tWelch Two Sample t-test\n",
       "\n",
       "data:  extra by group\n",
       "t = -1.8608, df = 17.776, p-value = 0.07939\n",
       "alternative hypothesis: true difference in means is not equal to 0\n",
       "95 percent confidence interval:\n",
       " -3.3654832  0.2054832\n",
       "sample estimates:\n",
       "mean in group 1 mean in group 2 \n",
       "           0.75            2.33 \n"
      ]
     },
     "execution_count": 3,
     "metadata": {},
     "output_type": "execute_result"
    }
   ],
   "source": [
    "# Welch t-test\n",
    "t.test(extra ~ group, sleep)"
   ]
  },
  {
   "cell_type": "markdown",
   "metadata": {},
   "source": [
    "By default, `t.test` does **not** assume equal variances; instead of Student’s t-test, it uses the Welch t-test by default. Note that in the Welch t-test, df=17.776, because of the adjustment for unequal variances. To use Student’s t-test, set `var.equal=TRUE`."
   ]
  },
  {
   "cell_type": "code",
   "execution_count": 4,
   "metadata": {
    "collapsed": false
   },
   "outputs": [
    {
     "data": {
      "text/plain": [
       "\n",
       "\tTwo Sample t-test\n",
       "\n",
       "data:  extra by group\n",
       "t = -1.8608, df = 18, p-value = 0.07919\n",
       "alternative hypothesis: true difference in means is not equal to 0\n",
       "95 percent confidence interval:\n",
       " -3.363874  0.203874\n",
       "sample estimates:\n",
       "mean in group 1 mean in group 2 \n",
       "           0.75            2.33 \n"
      ]
     },
     "execution_count": 4,
     "metadata": {},
     "output_type": "execute_result"
    }
   ],
   "source": [
    "# Student t-test\n",
    "t.test(extra ~ group, sleep, var.equal=TRUE)"
   ]
  },
  {
   "cell_type": "markdown",
   "metadata": {},
   "source": [
    "### Paired-sample t-test\n",
    "\n",
    "You can also compare paired data, using a paired-sample t-test. You might have observations before and after a treatment, or of two matched subjects with different treatments.\n",
    "\n",
    "Again, the `t-test` function can be used on a data frame with a grouping variable, or on two vectors. It relies the relative position to determine the pairing. If you are using long-format data with a grouping variable, the first row with group=1 is paired with the first row with group=2. It is important to make sure that the data is sorted and there are not missing observations; otherwise the pairing can be thrown off. In this case, we can sort by the `group` and `ID` variables to ensure that the order is the same. For more on sorting see Sorting."
   ]
  },
  {
   "cell_type": "code",
   "execution_count": 5,
   "metadata": {
    "collapsed": false
   },
   "outputs": [
    {
     "data": {
      "text/plain": [
       "\n",
       "\tPaired t-test\n",
       "\n",
       "data:  extra by group\n",
       "t = -4.0621, df = 9, p-value = 0.002833\n",
       "alternative hypothesis: true difference in means is not equal to 0\n",
       "95 percent confidence interval:\n",
       " -2.4598858 -0.7001142\n",
       "sample estimates:\n",
       "mean of the differences \n",
       "                  -1.58 \n"
      ]
     },
     "execution_count": 5,
     "metadata": {},
     "output_type": "execute_result"
    }
   ],
   "source": [
    "# Sort by group then ID\n",
    "sleep <- sleep[order(sleep$group, sleep$ID), ]\n",
    "\n",
    "# Paired t-test\n",
    "t.test(extra ~ group, sleep, paired=TRUE)"
   ]
  },
  {
   "cell_type": "markdown",
   "metadata": {},
   "source": [
    "The paired t-test is equivalent to testing whether **difference** between each pair of observations has a population mean of 0. (See below for comparing a single group to a population mean.)"
   ]
  },
  {
   "cell_type": "code",
   "execution_count": 6,
   "metadata": {
    "collapsed": false
   },
   "outputs": [
    {
     "ename": "ERROR",
     "evalue": "Error in t.test(sleep.wide$group1 - sleep.wide$group2, mu = 0, var.equal = TRUE): object 'sleep.wide' not found\n",
     "output_type": "error",
     "traceback": [
      "Error in t.test(sleep.wide$group1 - sleep.wide$group2, mu = 0, var.equal = TRUE): object 'sleep.wide' not found\n"
     ]
    }
   ],
   "source": [
    "t.test(sleep.wide$group1 - sleep.wide$group2, mu=0, var.equal=TRUE)"
   ]
  },
  {
   "cell_type": "markdown",
   "metadata": {},
   "source": [
    "### Comparing a group against an expected population mean: one-sample t-test\n",
    "\n",
    "Suppose that you want to test whether the data in column `extra` is drawn from a population whose true mean is 0. In this case, the `group` and `ID` columns are ignored."
   ]
  },
  {
   "cell_type": "code",
   "execution_count": 7,
   "metadata": {
    "collapsed": false
   },
   "outputs": [
    {
     "data": {
      "text/plain": [
       "\n",
       "\tOne Sample t-test\n",
       "\n",
       "data:  sleep$extra\n",
       "t = 3.413, df = 19, p-value = 0.002918\n",
       "alternative hypothesis: true mean is not equal to 0\n",
       "95 percent confidence interval:\n",
       " 0.5955845 2.4844155\n",
       "sample estimates:\n",
       "mean of x \n",
       "     1.54 \n"
      ]
     },
     "execution_count": 7,
     "metadata": {},
     "output_type": "execute_result"
    }
   ],
   "source": [
    "t.test(sleep$extra, mu=0)"
   ]
  },
  {
   "cell_type": "markdown",
   "metadata": {},
   "source": [
    "To visualize the groups, serach for \"Graphs Plotting distributions (ggplot2)\", \"Graphs Histogram and density plot\", and \"Graphs Box plot\"."
   ]
  }
 ],
 "metadata": {
  "kernelspec": {
   "display_name": "R",
   "language": "R",
   "name": "ir"
  },
  "language_info": {
   "codemirror_mode": "r",
   "file_extension": ".r",
   "mimetype": "text/x-r-source",
   "name": "R",
   "pygments_lexer": "r",
   "version": "3.2.2"
  }
 },
 "nbformat": 4,
 "nbformat_minor": 0
}
