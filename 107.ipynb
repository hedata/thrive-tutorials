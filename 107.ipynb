{
 "cells": [
  {
   "cell_type": "markdown",
   "metadata": {},
   "source": [
    "# Re-computing the levels of factor\n",
    "Credits: http://www.cookbook-r.com/ (Creative Commons Attribution-Share Alike 3.0 Unported License)"
   ]
  },
  {
   "cell_type": "markdown",
   "metadata": {},
   "source": [
    "## Problem\n",
    "You want to do re-compute the levels of a factor. This is useful when a factor contains levels that aren’t actually present in the data. This can happen during data import, or when you remove some rows.\n",
    "\n",
    "## Solution\n",
    "For a single factor object:"
   ]
  },
  {
   "cell_type": "code",
   "execution_count": 18,
   "metadata": {
    "collapsed": false
   },
   "outputs": [
    {
     "data": {
      "text/html": [
       "<ol class=list-inline>\n",
       "\t<li>alpha</li>\n",
       "\t<li>beta</li>\n",
       "\t<li>alpha</li>\n",
       "</ol>\n"
      ],
      "text/latex": [
       "\\begin{enumerate*}\n",
       "\\item alpha\n",
       "\\item beta\n",
       "\\item alpha\n",
       "\\end{enumerate*}\n"
      ],
      "text/markdown": [
       "1. alpha\n",
       "2. beta\n",
       "3. alpha\n",
       "\n",
       "\n"
      ],
      "text/plain": [
       "[1] alpha beta  alpha\n",
       "Levels: alpha beta gamma"
      ]
     },
     "execution_count": 18,
     "metadata": {},
     "output_type": "execute_result"
    },
    {
     "data": {
      "text/html": [
       "<ol class=list-inline>\n",
       "\t<li>'alpha'</li>\n",
       "\t<li>'beta'</li>\n",
       "\t<li>'gamma'</li>\n",
       "</ol>\n"
      ],
      "text/latex": [
       "\\begin{enumerate*}\n",
       "\\item 'alpha'\n",
       "\\item 'beta'\n",
       "\\item 'gamma'\n",
       "\\end{enumerate*}\n"
      ],
      "text/markdown": [
       "1. 'alpha'\n",
       "2. 'beta'\n",
       "3. 'gamma'\n",
       "\n",
       "\n"
      ],
      "text/plain": [
       "[1] \"alpha\" \"beta\"  \"gamma\""
      ]
     },
     "execution_count": 18,
     "metadata": {},
     "output_type": "execute_result"
    }
   ],
   "source": [
    "# Create a factor with an extra level (gamma)\n",
    "x <- factor(c(\"alpha\",\"beta\",\"alpha\"), levels=c(\"alpha\",\"beta\",\"gamma\"))\n",
    "x\n",
    "levels(x)"
   ]
  },
  {
   "cell_type": "code",
   "execution_count": 19,
   "metadata": {
    "collapsed": false
   },
   "outputs": [
    {
     "data": {
      "text/html": [
       "<ol class=list-inline>\n",
       "\t<li>alpha</li>\n",
       "\t<li>beta</li>\n",
       "\t<li>alpha</li>\n",
       "</ol>\n"
      ],
      "text/latex": [
       "\\begin{enumerate*}\n",
       "\\item alpha\n",
       "\\item beta\n",
       "\\item alpha\n",
       "\\end{enumerate*}\n"
      ],
      "text/markdown": [
       "1. alpha\n",
       "2. beta\n",
       "3. alpha\n",
       "\n",
       "\n"
      ],
      "text/plain": [
       "[1] alpha beta  alpha\n",
       "Levels: alpha beta"
      ]
     },
     "execution_count": 19,
     "metadata": {},
     "output_type": "execute_result"
    },
    {
     "data": {
      "text/html": [
       "<ol class=list-inline>\n",
       "\t<li>'alpha'</li>\n",
       "\t<li>'beta'</li>\n",
       "</ol>\n"
      ],
      "text/latex": [
       "\\begin{enumerate*}\n",
       "\\item 'alpha'\n",
       "\\item 'beta'\n",
       "\\end{enumerate*}\n"
      ],
      "text/markdown": [
       "1. 'alpha'\n",
       "2. 'beta'\n",
       "\n",
       "\n"
      ],
      "text/plain": [
       "[1] \"alpha\" \"beta\" "
      ]
     },
     "execution_count": 19,
     "metadata": {},
     "output_type": "execute_result"
    }
   ],
   "source": [
    "# Remove the extra level\n",
    "x <- factor(x)\n",
    "x\n",
    "levels(x)"
   ]
  },
  {
   "cell_type": "markdown",
   "metadata": {},
   "source": [
    "After importing data, you may have a data frame with a mix of factors and other kinds vectors, and want to re-compute the levels of all the factors. You can use the droplevels() function to do this."
   ]
  },
  {
   "cell_type": "code",
   "execution_count": 20,
   "metadata": {
    "collapsed": false
   },
   "outputs": [
    {
     "data": {
      "text/html": [
       "<ol class=list-inline>\n",
       "\t<li>alpha</li>\n",
       "\t<li>beta</li>\n",
       "\t<li>alpha</li>\n",
       "</ol>\n"
      ],
      "text/latex": [
       "\\begin{enumerate*}\n",
       "\\item alpha\n",
       "\\item beta\n",
       "\\item alpha\n",
       "\\end{enumerate*}\n"
      ],
      "text/markdown": [
       "1. alpha\n",
       "2. beta\n",
       "3. alpha\n",
       "\n",
       "\n"
      ],
      "text/plain": [
       "[1] alpha beta  alpha\n",
       "Levels: alpha beta gamma"
      ]
     },
     "execution_count": 20,
     "metadata": {},
     "output_type": "execute_result"
    },
    {
     "data": {
      "text/html": [
       "<ol class=list-inline>\n",
       "\t<li>'alpha'</li>\n",
       "\t<li>'beta'</li>\n",
       "\t<li>'gamma'</li>\n",
       "</ol>\n"
      ],
      "text/latex": [
       "\\begin{enumerate*}\n",
       "\\item 'alpha'\n",
       "\\item 'beta'\n",
       "\\item 'gamma'\n",
       "\\end{enumerate*}\n"
      ],
      "text/markdown": [
       "1. 'alpha'\n",
       "2. 'beta'\n",
       "3. 'gamma'\n",
       "\n",
       "\n"
      ],
      "text/plain": [
       "[1] \"alpha\" \"beta\"  \"gamma\""
      ]
     },
     "execution_count": 20,
     "metadata": {},
     "output_type": "execute_result"
    }
   ],
   "source": [
    "df <- data.frame(\n",
    "    x = factor(c(\"alpha\",\"beta\",\"alpha\"), levels=c(\"alpha\",\"beta\",\"gamma\")),\n",
    "    y = c(5,8,2),\n",
    "    z = factor(c(\"red\",\"green\",\"green\"), levels=c(\"red\",\"green\",\"blue\"))\n",
    ")\n",
    "\n",
    "# Display the factors (with extra levels)\n",
    "df$x\n",
    "levels(df$x)"
   ]
  },
  {
   "cell_type": "code",
   "execution_count": 21,
   "metadata": {
    "collapsed": false
   },
   "outputs": [
    {
     "data": {
      "text/html": [
       "<ol class=list-inline>\n",
       "\t<li>red</li>\n",
       "\t<li>green</li>\n",
       "\t<li>green</li>\n",
       "</ol>\n"
      ],
      "text/latex": [
       "\\begin{enumerate*}\n",
       "\\item red\n",
       "\\item green\n",
       "\\item green\n",
       "\\end{enumerate*}\n"
      ],
      "text/markdown": [
       "1. red\n",
       "2. green\n",
       "3. green\n",
       "\n",
       "\n"
      ],
      "text/plain": [
       "[1] red   green green\n",
       "Levels: red green blue"
      ]
     },
     "execution_count": 21,
     "metadata": {},
     "output_type": "execute_result"
    },
    {
     "data": {
      "text/html": [
       "<ol class=list-inline>\n",
       "\t<li>'red'</li>\n",
       "\t<li>'green'</li>\n",
       "\t<li>'blue'</li>\n",
       "</ol>\n"
      ],
      "text/latex": [
       "\\begin{enumerate*}\n",
       "\\item 'red'\n",
       "\\item 'green'\n",
       "\\item 'blue'\n",
       "\\end{enumerate*}\n"
      ],
      "text/markdown": [
       "1. 'red'\n",
       "2. 'green'\n",
       "3. 'blue'\n",
       "\n",
       "\n"
      ],
      "text/plain": [
       "[1] \"red\"   \"green\" \"blue\" "
      ]
     },
     "execution_count": 21,
     "metadata": {},
     "output_type": "execute_result"
    }
   ],
   "source": [
    "df$z\n",
    "levels(df$z)"
   ]
  },
  {
   "cell_type": "code",
   "execution_count": 5,
   "metadata": {
    "collapsed": true
   },
   "outputs": [],
   "source": [
    "# Drop the extra levels\n",
    "df <- droplevels(df)"
   ]
  },
  {
   "cell_type": "code",
   "execution_count": 23,
   "metadata": {
    "collapsed": false
   },
   "outputs": [
    {
     "data": {
      "text/html": [
       "<ol class=list-inline>\n",
       "\t<li>alpha</li>\n",
       "\t<li>beta</li>\n",
       "\t<li>alpha</li>\n",
       "</ol>\n"
      ],
      "text/latex": [
       "\\begin{enumerate*}\n",
       "\\item alpha\n",
       "\\item beta\n",
       "\\item alpha\n",
       "\\end{enumerate*}\n"
      ],
      "text/markdown": [
       "1. alpha\n",
       "2. beta\n",
       "3. alpha\n",
       "\n",
       "\n"
      ],
      "text/plain": [
       "[1] alpha beta  alpha\n",
       "Levels: alpha beta gamma"
      ]
     },
     "execution_count": 23,
     "metadata": {},
     "output_type": "execute_result"
    },
    {
     "data": {
      "text/html": [
       "<ol class=list-inline>\n",
       "\t<li>'alpha'</li>\n",
       "\t<li>'beta'</li>\n",
       "\t<li>'gamma'</li>\n",
       "</ol>\n"
      ],
      "text/latex": [
       "\\begin{enumerate*}\n",
       "\\item 'alpha'\n",
       "\\item 'beta'\n",
       "\\item 'gamma'\n",
       "\\end{enumerate*}\n"
      ],
      "text/markdown": [
       "1. 'alpha'\n",
       "2. 'beta'\n",
       "3. 'gamma'\n",
       "\n",
       "\n"
      ],
      "text/plain": [
       "[1] \"alpha\" \"beta\"  \"gamma\""
      ]
     },
     "execution_count": 23,
     "metadata": {},
     "output_type": "execute_result"
    }
   ],
   "source": [
    "# Show the factors again, now without extra levels\n",
    "df$x\n",
    "levels(df$x)"
   ]
  },
  {
   "cell_type": "code",
   "execution_count": 24,
   "metadata": {
    "collapsed": false
   },
   "outputs": [
    {
     "data": {
      "text/html": [
       "<ol class=list-inline>\n",
       "\t<li>red</li>\n",
       "\t<li>green</li>\n",
       "\t<li>green</li>\n",
       "</ol>\n"
      ],
      "text/latex": [
       "\\begin{enumerate*}\n",
       "\\item red\n",
       "\\item green\n",
       "\\item green\n",
       "\\end{enumerate*}\n"
      ],
      "text/markdown": [
       "1. red\n",
       "2. green\n",
       "3. green\n",
       "\n",
       "\n"
      ],
      "text/plain": [
       "[1] red   green green\n",
       "Levels: red green blue"
      ]
     },
     "execution_count": 24,
     "metadata": {},
     "output_type": "execute_result"
    },
    {
     "data": {
      "text/html": [
       "<ol class=list-inline>\n",
       "\t<li>'red'</li>\n",
       "\t<li>'green'</li>\n",
       "\t<li>'blue'</li>\n",
       "</ol>\n"
      ],
      "text/latex": [
       "\\begin{enumerate*}\n",
       "\\item 'red'\n",
       "\\item 'green'\n",
       "\\item 'blue'\n",
       "\\end{enumerate*}\n"
      ],
      "text/markdown": [
       "1. 'red'\n",
       "2. 'green'\n",
       "3. 'blue'\n",
       "\n",
       "\n"
      ],
      "text/plain": [
       "[1] \"red\"   \"green\" \"blue\" "
      ]
     },
     "execution_count": 24,
     "metadata": {},
     "output_type": "execute_result"
    }
   ],
   "source": [
    "df$z\n",
    "levels(df$z)"
   ]
  },
  {
   "cell_type": "markdown",
   "metadata": {},
   "source": [
    "### See also\n",
    "To re-compute the levels of all the factor columns in a data frame, search for \"Re-computing the levels of all factor columns in a data frame\"."
   ]
  }
 ],
 "metadata": {
  "kernelspec": {
   "display_name": "R",
   "language": "R",
   "name": "ir"
  },
  "language_info": {
   "codemirror_mode": "r",
   "file_extension": ".r",
   "mimetype": "text/x-r-source",
   "name": "R",
   "pygments_lexer": "r",
   "version": "3.2.0"
  }
 },
 "nbformat": 4,
 "nbformat_minor": 0
}
