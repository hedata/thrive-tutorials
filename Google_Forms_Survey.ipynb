{
 "cells": [
  {
   "cell_type": "code",
   "execution_count": 1,
   "metadata": {
    "collapsed": false
   },
   "outputs": [],
   "source": [
    "import warnings\n",
    "warnings.filterwarnings('ignore')\n",
    "import pandas as pd\n",
    "%matplotlib inline\n",
    "import seaborn as sns"
   ]
  },
  {
   "cell_type": "markdown",
   "metadata": {},
   "source": [
    "### Introduction\n",
    "<a href='https://docs.google.com/forms'>Google Forms</a> is a service that allows you to collect information via simple web forms. One of the useful features is that the forms will automatically save your data to a Google Sheet. This tutorial will walk through how to create a form and read all the responses into your notebook.\n",
    "\n",
    "Before going too far, if you would like to take the short survey, here is the <a href='https://docs.google.com/a/thrive.to/forms/d/1cN978B7AYyS4lHSrLwaeAvyDRYkeZu48fGFt7EVvW7w/viewform?c=0&w=1'>link</a> to the survey we will discuss.\n",
    "\n",
    "Why would someone want to use pandas to read a Google Sheet? The key functionality this setup provides is a simple way to allow a large number of people to provide you information (don’t just think of a standard survey) and collect it all in a single place. You can then analyze the data with the full power of python and pandas. Google takes care of making sure that all the data gets consistently entered into one clean format - no matter how many people access the form.\n",
    "\n",
    "### Form Creation\n",
    "The first part of the process is creating the Form. If you haven’t used Forms before, go to <a href='https://www.google.com/forms/about/'>Google Forms</a> to learn more about the service and what it can be used for.\n",
    "\n",
    "Once you decide to create your form, you’ll be shown a screen similar to this:\n",
    "\n",
    "<img src=\"http://pbpython.com/images/empty-form.png\"/>\n",
    "\n",
    "Go ahead and create a Form. It is all fairly intuitive.\n",
    "\n",
    "The main thing you need to pay attention to is the name of the form. In this case - Thrive Google Forms Example.\n",
    "\n",
    "When you are ready, you can publish the survey by clicking on the Send form button. Here is the <a href='https://docs.google.com/a/thrive.to/forms/d/1cN978B7AYyS4lHSrLwaeAvyDRYkeZu48fGFt7EVvW7w/viewform?c=0&w=1'>link</a> to the survey for this site.\n",
    "\n",
    "Now that you have the basic form set up, it is ready to store your data in a Google Sheet. The next step is setting up access so that your python script can connect to Google and download the data.\n",
    "\n",
    "### Sharing the Google Sheet\n",
    "Go into your drive and enable sharing of that response sheet to the email you have listed.\n",
    "\n",
    "From your <a href='https://drive.google.com/'>Google Drive</a>, find the response spreadsheet. In this case, \"Thrive Google Forms Example\" and copy the Share-Link:\n",
    "\n",
    "<img src=\"https://dl.dropboxusercontent.com/u/7127592/Thrive_GDrive_Share_SSheet.png\"/>\n",
    "\n",
    "\n",
    "### Import the data into Thrive\n",
    "Now replace the link with the one used here (googlelink = [insert link]) - it has to be enclosed by an apostrophe.\n",
    "After you run the cell the command ```df.head()``` will give print you the column headers and the first five rows."
   ]
  },
  {
   "cell_type": "code",
   "execution_count": 2,
   "metadata": {
    "collapsed": false
   },
   "outputs": [
    {
     "data": {
      "text/html": [
       "<div>\n",
       "<table border=\"1\" class=\"dataframe\">\n",
       "  <thead>\n",
       "    <tr style=\"text-align: right;\">\n",
       "      <th></th>\n",
       "      <th>Timestamp</th>\n",
       "      <th>Are you male or female</th>\n",
       "      <th>How often do you use Thrive per week?</th>\n",
       "      <th>How frequently do you use the following tools? [Python]</th>\n",
       "      <th>How frequently do you use the following tools? [R]</th>\n",
       "      <th>How frequently do you use the following tools? [Stata]</th>\n",
       "      <th>How frequently do you use the following tools? [SPSS]</th>\n",
       "      <th>How frequently do you use the following tools? [Mathlab]</th>\n",
       "      <th>How frequently do you use the following tools? [Excel]</th>\n",
       "      <th>Which python distribution do you primarily use?</th>\n",
       "      <th>How would you like to be notified about new content on Thrive?</th>\n",
       "      <th>What suggestions do you have for future content?</th>\n",
       "      <th>What is your yearly income?</th>\n",
       "    </tr>\n",
       "  </thead>\n",
       "  <tbody>\n",
       "    <tr>\n",
       "      <th>0</th>\n",
       "      <td>11/29/2015 19:41:26</td>\n",
       "      <td>male</td>\n",
       "      <td>12</td>\n",
       "      <td>A couple times a week</td>\n",
       "      <td>Once a month</td>\n",
       "      <td>Never</td>\n",
       "      <td>Never</td>\n",
       "      <td>Never</td>\n",
       "      <td>Never</td>\n",
       "      <td>Thrive</td>\n",
       "      <td>Facebook</td>\n",
       "      <td>more content!</td>\n",
       "      <td>130478</td>\n",
       "    </tr>\n",
       "    <tr>\n",
       "      <th>1</th>\n",
       "      <td>11/29/2015 20:07:12</td>\n",
       "      <td>male</td>\n",
       "      <td>9</td>\n",
       "      <td>Daily</td>\n",
       "      <td>Daily</td>\n",
       "      <td>Once a month</td>\n",
       "      <td>A couple times a week</td>\n",
       "      <td>Never</td>\n",
       "      <td>Never</td>\n",
       "      <td>Thrive</td>\n",
       "      <td>Notification in Thrive</td>\n",
       "      <td>none</td>\n",
       "      <td>131959</td>\n",
       "    </tr>\n",
       "    <tr>\n",
       "      <th>2</th>\n",
       "      <td>11/28/2015 19:41:26</td>\n",
       "      <td>male</td>\n",
       "      <td>12</td>\n",
       "      <td>A couple times a week</td>\n",
       "      <td>Once a month</td>\n",
       "      <td>Never</td>\n",
       "      <td>Never</td>\n",
       "      <td>Never</td>\n",
       "      <td>Never</td>\n",
       "      <td>Thrive</td>\n",
       "      <td>Facebook</td>\n",
       "      <td>more content!</td>\n",
       "      <td>113744</td>\n",
       "    </tr>\n",
       "    <tr>\n",
       "      <th>3</th>\n",
       "      <td>11/27/2015 19:41:26</td>\n",
       "      <td>female</td>\n",
       "      <td>2</td>\n",
       "      <td>A couple times a week</td>\n",
       "      <td>Once a month</td>\n",
       "      <td>Never</td>\n",
       "      <td>Never</td>\n",
       "      <td>Never</td>\n",
       "      <td>Never</td>\n",
       "      <td>Thrive</td>\n",
       "      <td>Facebook</td>\n",
       "      <td>more content!</td>\n",
       "      <td>136543</td>\n",
       "    </tr>\n",
       "    <tr>\n",
       "      <th>4</th>\n",
       "      <td>11/26/2015 19:41:26</td>\n",
       "      <td>male</td>\n",
       "      <td>2</td>\n",
       "      <td>A couple times a week</td>\n",
       "      <td>Once a month</td>\n",
       "      <td>Never</td>\n",
       "      <td>Never</td>\n",
       "      <td>Never</td>\n",
       "      <td>Never</td>\n",
       "      <td>Thrive</td>\n",
       "      <td>Facebook</td>\n",
       "      <td>more content!</td>\n",
       "      <td>46220</td>\n",
       "    </tr>\n",
       "  </tbody>\n",
       "</table>\n",
       "</div>"
      ],
      "text/plain": [
       "             Timestamp Are you male or female  \\\n",
       "0  11/29/2015 19:41:26                   male   \n",
       "1  11/29/2015 20:07:12                   male   \n",
       "2  11/28/2015 19:41:26                   male   \n",
       "3  11/27/2015 19:41:26                 female   \n",
       "4  11/26/2015 19:41:26                   male   \n",
       "\n",
       "   How often do you use Thrive per week?  \\\n",
       "0                                     12   \n",
       "1                                      9   \n",
       "2                                     12   \n",
       "3                                      2   \n",
       "4                                      2   \n",
       "\n",
       "  How frequently do you use the following tools? [Python]  \\\n",
       "0                              A couple times a week        \n",
       "1                                              Daily        \n",
       "2                              A couple times a week        \n",
       "3                              A couple times a week        \n",
       "4                              A couple times a week        \n",
       "\n",
       "  How frequently do you use the following tools? [R]  \\\n",
       "0                                       Once a month   \n",
       "1                                              Daily   \n",
       "2                                       Once a month   \n",
       "3                                       Once a month   \n",
       "4                                       Once a month   \n",
       "\n",
       "  How frequently do you use the following tools? [Stata]  \\\n",
       "0                                              Never       \n",
       "1                                       Once a month       \n",
       "2                                              Never       \n",
       "3                                              Never       \n",
       "4                                              Never       \n",
       "\n",
       "  How frequently do you use the following tools? [SPSS]  \\\n",
       "0                                              Never      \n",
       "1                              A couple times a week      \n",
       "2                                              Never      \n",
       "3                                              Never      \n",
       "4                                              Never      \n",
       "\n",
       "  How frequently do you use the following tools? [Mathlab]  \\\n",
       "0                                              Never         \n",
       "1                                              Never         \n",
       "2                                              Never         \n",
       "3                                              Never         \n",
       "4                                              Never         \n",
       "\n",
       "  How frequently do you use the following tools? [Excel]  \\\n",
       "0                                              Never       \n",
       "1                                              Never       \n",
       "2                                              Never       \n",
       "3                                              Never       \n",
       "4                                              Never       \n",
       "\n",
       "  Which python distribution do you primarily use?  \\\n",
       "0                                          Thrive   \n",
       "1                                          Thrive   \n",
       "2                                          Thrive   \n",
       "3                                          Thrive   \n",
       "4                                          Thrive   \n",
       "\n",
       "  How would you like to be notified about new content on Thrive?   \\\n",
       "0                                           Facebook                \n",
       "1                             Notification in Thrive                \n",
       "2                                           Facebook                \n",
       "3                                           Facebook                \n",
       "4                                           Facebook                \n",
       "\n",
       "  What suggestions do you have for future content?  \\\n",
       "0                                    more content!   \n",
       "1                                             none   \n",
       "2                                    more content!   \n",
       "3                                    more content!   \n",
       "4                                    more content!   \n",
       "\n",
       "   What is your yearly income?  \n",
       "0                       130478  \n",
       "1                       131959  \n",
       "2                       113744  \n",
       "3                       136543  \n",
       "4                        46220  "
      ]
     },
     "execution_count": 2,
     "metadata": {},
     "output_type": "execute_result"
    }
   ],
   "source": [
    "googlelink = 'https://docs.google.com/spreadsheets/d/1HGcp52rc4ZpwO1VjM1X2Ec1xvRz8pYd9yhYfFofmfz0/edit?usp=sharing'\n",
    "df = pd.read_csv(googlelink[:-16]+'export?format=csv')\n",
    "df.head()"
   ]
  },
  {
   "cell_type": "markdown",
   "metadata": {},
   "source": [
    "## Visualize you data\n",
    "\n",
    "### Barplot\n",
    "Lets say you want to display a barplot which shows you how many males and females did participate in the survey. First you have to group the specific column and count their answers. Then you can plot your bars with the function ```sns.barplot()```"
   ]
  },
  {
   "cell_type": "code",
   "execution_count": 3,
   "metadata": {
    "collapsed": false
   },
   "outputs": [
    {
     "data": {
      "text/plain": [
       "<matplotlib.axes._subplots.AxesSubplot at 0x7f700b637e80>"
      ]
     },
     "execution_count": 3,
     "metadata": {},
     "output_type": "execute_result"
    },
    {
     "data": {
      "image/png": "[encoded data removed]",
      "text/plain": [
       "<matplotlib.figure.Figure at 0x7f700b62af98>"
      ]
     },
     "metadata": {},
     "output_type": "display_data"
    }
   ],
   "source": [
    "sex=df.groupby(['Are you male or female'])['Are you male or female'].count()\n",
    "sns.barplot(sex.index, sex.values, ci=None, palette=\"Paired\", hline=.1,)"
   ]
  },
  {
   "cell_type": "markdown",
   "metadata": {},
   "source": [
    "### Scatterplot\n",
    "Now we want to find a correlation between the frequency you use Thrive per week and your yearly income. We use the function ```df.plot()``` with three parameters:\n",
    "1. Which kind of plot it should be, in this case a scatter plot\n",
    "2. The first attribute which we want to plotted on the x-axis\n",
    "3. The 2nd attribte which we want to be plotted on the y-axis"
   ]
  },
  {
   "cell_type": "code",
   "execution_count": 4,
   "metadata": {
    "collapsed": false
   },
   "outputs": [
    {
     "data": {
      "text/plain": [
       "<matplotlib.axes._subplots.AxesSubplot at 0x7f700ab2c780>"
      ]
     },
     "execution_count": 4,
     "metadata": {},
     "output_type": "execute_result"
    },
    {
     "data": {
      "image/png": "[encoded data removed]",
      "text/plain": [
       "<matplotlib.figure.Figure at 0x7f7030136ac8>"
      ]
     },
     "metadata": {},
     "output_type": "display_data"
    }
   ],
   "source": [
    "df.plot(kind='scatter', x='How often do you use Thrive per week?', y='What is your yearly income?')"
   ]
  },
  {
   "cell_type": "markdown",
   "metadata": {},
   "source": [
    "As we can see in the scatterplot, there should be no clear correlation between those attributes. To get the correlation between those two attributes we can use the function ```df.corr()``` function. Before that we have to define the attributes in the squared brackets:"
   ]
  },
  {
   "cell_type": "code",
   "execution_count": 5,
   "metadata": {
    "collapsed": false
   },
   "outputs": [
    {
     "data": {
      "text/html": [
       "<div>\n",
       "<table border=\"1\" class=\"dataframe\">\n",
       "  <thead>\n",
       "    <tr style=\"text-align: right;\">\n",
       "      <th></th>\n",
       "      <th>How often do you use Thrive per week?</th>\n",
       "      <th>What is your yearly income?</th>\n",
       "    </tr>\n",
       "  </thead>\n",
       "  <tbody>\n",
       "    <tr>\n",
       "      <th>How often do you use Thrive per week?</th>\n",
       "      <td>1.000000</td>\n",
       "      <td>0.045468</td>\n",
       "    </tr>\n",
       "    <tr>\n",
       "      <th>What is your yearly income?</th>\n",
       "      <td>0.045468</td>\n",
       "      <td>1.000000</td>\n",
       "    </tr>\n",
       "  </tbody>\n",
       "</table>\n",
       "</div>"
      ],
      "text/plain": [
       "                                       How often do you use Thrive per week?  \\\n",
       "How often do you use Thrive per week?                               1.000000   \n",
       "What is your yearly income?                                         0.045468   \n",
       "\n",
       "                                       What is your yearly income?  \n",
       "How often do you use Thrive per week?                     0.045468  \n",
       "What is your yearly income?                               1.000000  "
      ]
     },
     "execution_count": 5,
     "metadata": {},
     "output_type": "execute_result"
    }
   ],
   "source": [
    "df[['How often do you use Thrive per week?','What is your yearly income?']].corr()"
   ]
  }
 ],
 "metadata": {
  "kernelspec": {
   "display_name": "Python 3",
   "language": "python",
   "name": "python3"
  },
  "language_info": {
   "codemirror_mode": {
    "name": "ipython",
    "version": 3
   },
   "file_extension": ".py",
   "mimetype": "text/x-python",
   "name": "python",
   "nbconvert_exporter": "python",
   "pygments_lexer": "ipython3",
   "version": "3.4.3+"
  }
 },
 "nbformat": 4,
 "nbformat_minor": 0
}
