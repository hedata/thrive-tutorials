{
 "cells": [
  {
   "cell_type": "markdown",
   "metadata": {},
   "source": [
    "# ANOVA\n",
    "Credits: http://www.cookbook-r.com/ (Creative Commons Attribution-Share Alike 3.0 Unported License)"
   ]
  },
  {
   "cell_type": "markdown",
   "metadata": {},
   "source": [
    "## Problem\n",
    "You want to compare multiple groups using an ANOVA.\n",
    "\n",
    "## Solution\n",
    "Suppose this is your data:"
   ]
  },
  {
   "cell_type": "code",
   "execution_count": 1,
   "metadata": {
    "collapsed": true
   },
   "outputs": [],
   "source": [
    "data <- read.table(header=TRUE, text='\n",
    " subject sex   age before after\n",
    "       1   F   old    9.5   7.1\n",
    "       2   M   old   10.3  11.0\n",
    "       3   M   old    7.5   5.8\n",
    "       4   F   old   12.4   8.8\n",
    "       5   M   old   10.2   8.6\n",
    "       6   M   old   11.0   8.0\n",
    "       7   M young    9.1   3.0\n",
    "       8   F young    7.9   5.2\n",
    "       9   F   old    6.6   3.4\n",
    "      10   M young    7.7   4.0\n",
    "      11   M young    9.4   5.3\n",
    "      12   M   old   11.6  11.3\n",
    "      13   M young    9.9   4.6\n",
    "      14   F young    8.6   6.4\n",
    "      15   F young   14.3  13.5\n",
    "      16   F   old    9.2   4.7\n",
    "      17   M young    9.8   5.1\n",
    "      18   F   old    9.9   7.3\n",
    "      19   F young   13.0   9.5\n",
    "      20   M young   10.2   5.4\n",
    "      21   M young    9.0   3.7\n",
    "      22   F young    7.9   6.2\n",
    "      23   M   old   10.1  10.0\n",
    "      24   M young    9.0   1.7\n",
    "      25   M young    8.6   2.9\n",
    "      26   M young    9.4   3.2\n",
    "      27   M young    9.7   4.7\n",
    "      28   M young    9.3   4.9\n",
    "      29   F young   10.7   9.8\n",
    "      30   M   old    9.3   9.4\n",
    "')\n",
    "\n",
    "# Make sure subject column is a factor, so that it's not treated as a continuous\n",
    "# variable.\n",
    "data$subject <- factor(data$subject)"
   ]
  },
  {
   "cell_type": "markdown",
   "metadata": {},
   "source": [
    "### One way between ANOVA"
   ]
  },
  {
   "cell_type": "code",
   "execution_count": 2,
   "metadata": {
    "collapsed": false
   },
   "outputs": [
    {
     "data": {
      "text/plain": [
       "            Df Sum Sq Mean Sq F value Pr(>F)\n",
       "sex          1   1.53   1.529   0.573  0.455\n",
       "Residuals   28  74.70   2.668               "
      ]
     },
     "execution_count": 2,
     "metadata": {},
     "output_type": "execute_result"
    }
   ],
   "source": [
    "# One way between:\n",
    "# IV: sex\n",
    "# DV: before\n",
    "aov1 <- aov(before ~ sex, data=data)\n",
    "summary(aov1)"
   ]
  },
  {
   "cell_type": "code",
   "execution_count": 3,
   "metadata": {
    "collapsed": false
   },
   "outputs": [
    {
     "data": {
      "text/plain": [
       "Tables of means\n",
       "Grand mean\n",
       "         \n",
       "9.703333 \n",
       "\n",
       " sex \n",
       "     F      M\n",
       "    10  9.532\n",
       "rep 11 19.000"
      ]
     },
     "execution_count": 3,
     "metadata": {},
     "output_type": "execute_result"
    }
   ],
   "source": [
    "# Show the means\n",
    "model.tables(aov1, \"means\")"
   ]
  },
  {
   "cell_type": "markdown",
   "metadata": {},
   "source": [
    "### Two way between ANOVA"
   ]
  },
  {
   "cell_type": "code",
   "execution_count": 4,
   "metadata": {
    "collapsed": false
   },
   "outputs": [
    {
     "data": {
      "text/plain": [
       "            Df Sum Sq Mean Sq F value  Pr(>F)    \n",
       "sex          1  16.08   16.08   4.038  0.0550 .  \n",
       "age          1  38.96   38.96   9.786  0.0043 ** \n",
       "sex:age      1  89.61   89.61  22.509 6.6e-05 ***\n",
       "Residuals   26 103.51    3.98                    \n",
       "---\n",
       "Signif. codes:  0 ‘***’ 0.001 ‘**’ 0.01 ‘*’ 0.05 ‘.’ 0.1 ‘ ’ 1"
      ]
     },
     "execution_count": 4,
     "metadata": {},
     "output_type": "execute_result"
    }
   ],
   "source": [
    "# 2x2 between:\n",
    "# IV: sex\n",
    "# IV: age\n",
    "# DV: after\n",
    "# These two calls are equivalent\n",
    "aov2 <- aov(after ~ sex*age, data=data)\n",
    "aov2 <- aov(after ~ sex + age + sex:age, data=data)\n",
    "summary(aov2)"
   ]
  },
  {
   "cell_type": "code",
   "execution_count": 5,
   "metadata": {
    "collapsed": false
   },
   "outputs": [
    {
     "data": {
      "text/plain": [
       "Tables of means\n",
       "Grand mean\n",
       "         \n",
       "6.483333 \n",
       "\n",
       " sex \n",
       "         F      M\n",
       "     7.445  5.926\n",
       "rep 11.000 19.000\n",
       "\n",
       " age \n",
       "       old  young\n",
       "     7.874  5.556\n",
       "rep 12.000 18.000\n",
       "\n",
       " sex:age \n",
       "     age\n",
       "sex   old    young \n",
       "  F    6.260  8.433\n",
       "  rep  5.000  6.000\n",
       "  M    9.157  4.042\n",
       "  rep  7.000 12.000"
      ]
     },
     "execution_count": 5,
     "metadata": {},
     "output_type": "execute_result"
    }
   ],
   "source": [
    "# Show the means\n",
    "model.tables(aov2, \"means\")"
   ]
  },
  {
   "cell_type": "markdown",
   "metadata": {},
   "source": [
    "### Tukey HSD post-hoc test"
   ]
  },
  {
   "cell_type": "code",
   "execution_count": 6,
   "metadata": {
    "collapsed": false
   },
   "outputs": [
    {
     "data": {
      "text/plain": [
       "  Tukey multiple comparisons of means\n",
       "    95% family-wise confidence level\n",
       "\n",
       "Fit: aov(formula = after ~ sex + age + sex:age, data = data)\n",
       "\n",
       "$sex\n",
       "         diff       lwr        upr     p adj\n",
       "M-F -1.519139 -3.073025 0.03474709 0.0549625\n",
       "\n",
       "$age\n",
       "              diff       lwr        upr     p adj\n",
       "young-old -2.31785 -3.846349 -0.7893498 0.0044215\n",
       "\n",
       "$`sex:age`\n",
       "                      diff        lwr        upr     p adj\n",
       "M:old-F:old      2.8971429 -0.3079526  6.1022384 0.0869856\n",
       "F:young-F:old    2.1733333 -1.1411824  5.4878491 0.2966111\n",
       "M:young-F:old   -2.2183333 -5.1319553  0.6952887 0.1832890\n",
       "F:young-M:old   -0.7238095 -3.7691188  2.3214997 0.9138789\n",
       "M:young-M:old   -5.1154762 -7.7187601 -2.5121923 0.0000676\n",
       "M:young-F:young -4.3916667 -7.1285380 -1.6547953 0.0008841\n"
      ]
     },
     "execution_count": 6,
     "metadata": {},
     "output_type": "execute_result"
    }
   ],
   "source": [
    "TukeyHSD(aov2)"
   ]
  },
  {
   "cell_type": "markdown",
   "metadata": {},
   "source": [
    "### ANOVAs with within-subjects variables\n",
    "\n",
    "For ANOVAs with within-subjects variables, the data must be in long format. The data supplied above is in wide format, so we have to convert it first. (Search \"Converting data between wide and long format\" for more information.)\n",
    "\n",
    "Also, for ANOVAs with a within-subjects variable, there must be an identifier column. In this case, it is subject. **This identifier variable must be a factor**. If it is a numeric type, the function will interpret it incorrectly and it won’t work properly."
   ]
  },
  {
   "cell_type": "code",
   "execution_count": 7,
   "metadata": {
    "collapsed": false
   },
   "outputs": [
    {
     "data": {
      "text/html": [
       "<table>\n",
       "<thead><tr><th></th><th scope=col>subject</th><th scope=col>sex</th><th scope=col>age</th><th scope=col>time</th><th scope=col>value</th></tr></thead>\n",
       "<tbody>\n",
       "\t<tr><th scope=row>1</th><td>1</td><td>F</td><td>old</td><td>before</td><td>9.5</td></tr>\n",
       "\t<tr><th scope=row>2</th><td>2</td><td>M</td><td>old</td><td>before</td><td>10.3</td></tr>\n",
       "\t<tr><th scope=row>3</th><td>3</td><td>M</td><td>old</td><td>before</td><td>7.5</td></tr>\n",
       "\t<tr><th scope=row>4</th><td>4</td><td>F</td><td>old</td><td>before</td><td>12.4</td></tr>\n",
       "\t<tr><th scope=row>5</th><td>5</td><td>M</td><td>old</td><td>before</td><td>10.2</td></tr>\n",
       "\t<tr><th scope=row>6</th><td>6</td><td>M</td><td>old</td><td>before</td><td>11</td></tr>\n",
       "</tbody>\n",
       "</table>\n"
      ],
      "text/latex": [
       "\\begin{tabular}{r|lllll}\n",
       "  & subject & sex & age & time & value\\\\\n",
       "\\hline\n",
       "\t1 & 1 & F & old & before & 9.5\\\\\n",
       "\t2 & 2 & M & old & before & 10.3\\\\\n",
       "\t3 & 3 & M & old & before & 7.5\\\\\n",
       "\t4 & 4 & F & old & before & 12.4\\\\\n",
       "\t5 & 5 & M & old & before & 10.2\\\\\n",
       "\t6 & 6 & M & old & before & 11\\\\\n",
       "\\end{tabular}\n"
      ],
      "text/plain": [
       "  subject sex age   time value\n",
       "1       1   F old before   9.5\n",
       "2       2   M old before  10.3\n",
       "3       3   M old before   7.5\n",
       "4       4   F old before  12.4\n",
       "5       5   M old before  10.2\n",
       "6       6   M old before  11.0"
      ]
     },
     "execution_count": 7,
     "metadata": {},
     "output_type": "execute_result"
    }
   ],
   "source": [
    "library(tidyr)\n",
    "\n",
    "# This is what the original (wide) data looks like\n",
    "# subject sex   age before after\n",
    "#       1   F   old    9.5   7.1\n",
    "#       2   M   old   10.3  11.0\n",
    "#       3   M   old    7.5   5.8\n",
    "\n",
    "# Convert it to long format\n",
    "data_long <- gather(data, time, value, before:after)\n",
    "# Look at first few rows\n",
    "head(data_long)"
   ]
  },
  {
   "cell_type": "markdown",
   "metadata": {},
   "source": [
    "### One-way within ANOVA\n",
    "\n",
    "First, convert the data to long format and make sure `subject` is a factor, as shown above. If subject is a numeric column, and not a factor, your results will be wrong!"
   ]
  },
  {
   "cell_type": "code",
   "execution_count": 8,
   "metadata": {
    "collapsed": false
   },
   "outputs": [
    {
     "data": {
      "text/plain": [
       "\n",
       "Error: subject\n",
       "          Df Sum Sq Mean Sq F value Pr(>F)\n",
       "Residuals 29  261.2   9.009               \n",
       "\n",
       "Error: subject:time\n",
       "          Df Sum Sq Mean Sq F value   Pr(>F)    \n",
       "time       1 155.53  155.53   71.43 2.59e-09 ***\n",
       "Residuals 29  63.14    2.18                     \n",
       "---\n",
       "Signif. codes:  0 ‘***’ 0.001 ‘**’ 0.01 ‘*’ 0.05 ‘.’ 0.1 ‘ ’ 1"
      ]
     },
     "execution_count": 8,
     "metadata": {},
     "output_type": "execute_result"
    }
   ],
   "source": [
    "# IV (within): time\n",
    "# DV:          value\n",
    "aov_time <- aov(value ~ time + Error(subject/time), data=data_long)\n",
    "summary(aov_time)"
   ]
  },
  {
   "cell_type": "code",
   "execution_count": 9,
   "metadata": {
    "collapsed": false
   },
   "outputs": [
    {
     "data": {
      "text/plain": [
       "Tables of means\n",
       "Grand mean\n",
       "         \n",
       "8.093333 \n",
       "\n",
       " time \n",
       "time\n",
       "before  after \n",
       " 9.703  6.483 "
      ]
     },
     "execution_count": 9,
     "metadata": {},
     "output_type": "execute_result"
    }
   ],
   "source": [
    "# This won't work here for some reason (?)\n",
    "model.tables(aov_time, \"means\")"
   ]
  },
  {
   "cell_type": "markdown",
   "metadata": {},
   "source": [
    "### Mixed design ANOVA\n",
    "\n",
    "First, convert the data to long format and make sure subject is a factor, as shown above."
   ]
  },
  {
   "cell_type": "code",
   "execution_count": 10,
   "metadata": {
    "collapsed": false
   },
   "outputs": [
    {
     "data": {
      "text/plain": [
       "\n",
       "Error: subject\n",
       "          Df Sum Sq Mean Sq F value Pr(>F)\n",
       "age        1  24.44  24.440    2.89    0.1\n",
       "Residuals 28 236.81   8.457               \n",
       "\n",
       "Error: subject:time\n",
       "          Df Sum Sq Mean Sq F value   Pr(>F)    \n",
       "time       1 155.53  155.53   98.14 1.18e-10 ***\n",
       "age:time   1  18.77   18.77   11.84  0.00184 ** \n",
       "Residuals 28  44.37    1.58                     \n",
       "---\n",
       "Signif. codes:  0 ‘***’ 0.001 ‘**’ 0.01 ‘*’ 0.05 ‘.’ 0.1 ‘ ’ 1"
      ]
     },
     "execution_count": 10,
     "metadata": {},
     "output_type": "execute_result"
    }
   ],
   "source": [
    "# 2x2 mixed:\n",
    "# IV between: age\n",
    "# IV within:  time\n",
    "# DV:         value\n",
    "aov_age_time <- aov(value ~ age*time + Error(subject/time), data=data_long)\n",
    "summary(aov_age_time)"
   ]
  },
  {
   "cell_type": "code",
   "execution_count": 11,
   "metadata": {
    "collapsed": false
   },
   "outputs": [
    {
     "data": {
      "text/plain": [
       "Tables of means\n",
       "Grand mean\n",
       "         \n",
       "8.093333 \n",
       "\n",
       " age \n",
       "       old  young\n",
       "     8.875  7.572\n",
       "rep 24.000 36.000\n",
       "\n",
       " time \n",
       "    before  after\n",
       "     9.703  6.483\n",
       "rep 30.000 30.000\n",
       "\n",
       " age:time \n",
       "       time\n",
       "age     before after \n",
       "  old    9.800  7.950\n",
       "  rep   12.000 12.000\n",
       "  young  9.639  5.506\n",
       "  rep   18.000 18.000"
      ]
     },
     "execution_count": 11,
     "metadata": {},
     "output_type": "execute_result"
    }
   ],
   "source": [
    "# This won't work here because the data is unbalanced\n",
    "model.tables(aov_age_time, \"means\")"
   ]
  },
  {
   "cell_type": "markdown",
   "metadata": {},
   "source": [
    "### More ANOVAs with within-subjects variables\n",
    "\n",
    "These examples don’t operate on the data above, but they should illustrate how to do things.\n",
    "First, convert the data to long format and make sure subject is a factor, as shown above.\n",
    "\n",
    "Two within variables\n",
    "```\n",
    "aov.ww <- aov(y ~ w1*w2 + Error(subject/(w1*w2)), data=data_long)\n",
    "```\n",
    "\n",
    "One between variable and two within variables\n",
    "```\n",
    "aov.bww <- aov(y ~ b1*w1*w2 + Error(subject/(w1*w2)) + b1, data=data_long)\n",
    "```\n",
    "\n",
    "Two between variables and one within variables\n",
    "```\n",
    "aov.bww <- aov(y ~ b1*b2*w1 + Error(subject/(w1)) + b1*b2, data=data_long)\n",
    "```\n",
    "\n",
    "For more information on ANOVA in R, see:\n",
    "\n",
    "* <a href=\"http://www.personality-project.org/r/r.anova.html\">http://www.personality-project.org/r/r.anova.html</a>\n",
    "* <a href=\"http://www.agr.kuleuven.ac.be/vakken/statisticsbyR/ANOVAbyRr/indexANOVA.htm\">http://www.agr.kuleuven.ac.be/vakken/statisticsbyR/ANOVAbyRr/indexANOVA.htm</a>\n",
    "* <a href=\"http://www.statmethods.net/stats/anova.html\">http://www.statmethods.net/stats/anova.html</a>"
   ]
  }
 ],
 "metadata": {
  "kernelspec": {
   "display_name": "R",
   "language": "R",
   "name": "ir"
  },
  "language_info": {
   "codemirror_mode": "r",
   "file_extension": ".r",
   "mimetype": "text/x-r-source",
   "name": "R",
   "pygments_lexer": "r",
   "version": "3.2.2"
  }
 },
 "nbformat": 4,
 "nbformat_minor": 0
}
