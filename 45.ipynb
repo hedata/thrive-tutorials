{
 "cells": [
  {
   "cell_type": "markdown",
   "metadata": {},
   "source": [
    "# Indexing into a data structure\n",
    "Credits: http://www.cookbook-r.com/ (Creative Commons Attribution-Share Alike 3.0 Unported License)"
   ]
  },
  {
   "cell_type": "markdown",
   "metadata": {},
   "source": [
    "## Problem\n",
    "You want to get part of a data structure.\n",
    "\n",
    "## Solution\n",
    "Elements from a vector, matrix, or data frame can be extracted using numeric indexing, or by using a boolean vector of the appropriate length.\n",
    "\n",
    "In many of the examples, below, there are multiple ways of doing the same thing."
   ]
  },
  {
   "cell_type": "markdown",
   "metadata": {},
   "source": [
    "### Indexing with numbers and names\n",
    "\n",
    "#### With a vector:"
   ]
  },
  {
   "cell_type": "code",
   "execution_count": 2,
   "metadata": {
    "collapsed": false
   },
   "outputs": [],
   "source": [
    "# A sample vector\n",
    "v <- c(1,4,4,3,2,2,3)"
   ]
  },
  {
   "cell_type": "code",
   "execution_count": 3,
   "metadata": {
    "collapsed": false
   },
   "outputs": [
    {
     "data": {
      "text/html": [
       "<ol class=list-inline>\n",
       "\t<li>4</li>\n",
       "\t<li>4</li>\n",
       "\t<li>3</li>\n",
       "</ol>\n"
      ],
      "text/latex": [
       "\\begin{enumerate*}\n",
       "\\item 4\n",
       "\\item 4\n",
       "\\item 3\n",
       "\\end{enumerate*}\n"
      ],
      "text/markdown": [
       "1. 4\n",
       "2. 4\n",
       "3. 3\n",
       "\n",
       "\n"
      ],
      "text/plain": [
       "[1] 4 4 3"
      ]
     },
     "execution_count": 3,
     "metadata": {},
     "output_type": "execute_result"
    },
    {
     "data": {
      "text/html": [
       "<ol class=list-inline>\n",
       "\t<li>4</li>\n",
       "\t<li>4</li>\n",
       "\t<li>3</li>\n",
       "</ol>\n"
      ],
      "text/latex": [
       "\\begin{enumerate*}\n",
       "\\item 4\n",
       "\\item 4\n",
       "\\item 3\n",
       "\\end{enumerate*}\n"
      ],
      "text/markdown": [
       "1. 4\n",
       "2. 4\n",
       "3. 3\n",
       "\n",
       "\n"
      ],
      "text/plain": [
       "[1] 4 4 3"
      ]
     },
     "execution_count": 3,
     "metadata": {},
     "output_type": "execute_result"
    },
    {
     "data": {
      "text/html": [
       "<ol class=list-inline>\n",
       "\t<li>4</li>\n",
       "\t<li>3</li>\n",
       "\t<li>4</li>\n",
       "</ol>\n"
      ],
      "text/latex": [
       "\\begin{enumerate*}\n",
       "\\item 4\n",
       "\\item 3\n",
       "\\item 4\n",
       "\\end{enumerate*}\n"
      ],
      "text/markdown": [
       "1. 4\n",
       "2. 3\n",
       "3. 4\n",
       "\n",
       "\n"
      ],
      "text/plain": [
       "[1] 4 3 4"
      ]
     },
     "execution_count": 3,
     "metadata": {},
     "output_type": "execute_result"
    }
   ],
   "source": [
    "v[c(2,3,4)]\n",
    "v[2:4]\n",
    "v[c(2,4,3)]"
   ]
  },
  {
   "cell_type": "markdown",
   "metadata": {},
   "source": [
    "#### With a data frame:"
   ]
  },
  {
   "cell_type": "code",
   "execution_count": 4,
   "metadata": {
    "collapsed": false
   },
   "outputs": [],
   "source": [
    "# Create a sample data frame\n",
    "data <- read.table(header=T, text='\n",
    " subject sex size\n",
    "       1   M    7\n",
    "       2   F    6\n",
    "       3   F    9\n",
    "       4   M   11\n",
    " ')"
   ]
  },
  {
   "cell_type": "code",
   "execution_count": 5,
   "metadata": {
    "collapsed": false
   },
   "outputs": [
    {
     "data": {
      "text/html": [
       "7"
      ],
      "text/latex": [
       "7"
      ],
      "text/markdown": [
       "7"
      ],
      "text/plain": [
       "[1] 7"
      ]
     },
     "execution_count": 5,
     "metadata": {},
     "output_type": "execute_result"
    },
    {
     "data": {
      "text/html": [
       "7"
      ],
      "text/latex": [
       "7"
      ],
      "text/markdown": [
       "7"
      ],
      "text/plain": [
       "[1] 7"
      ]
     },
     "execution_count": 5,
     "metadata": {},
     "output_type": "execute_result"
    }
   ],
   "source": [
    "# Get the element at row 1, column 3\n",
    "data[1,3]\n",
    "data[1,\"size\"]"
   ]
  },
  {
   "cell_type": "code",
   "execution_count": 6,
   "metadata": {
    "collapsed": false
   },
   "outputs": [
    {
     "data": {
      "text/html": [
       "<table>\n",
       "<thead><tr><th></th><th scope=col>subject</th><th scope=col>sex</th><th scope=col>size</th></tr></thead>\n",
       "<tbody>\n",
       "\t<tr><th scope=row>1</th><td>1</td><td>M</td><td>7</td></tr>\n",
       "\t<tr><th scope=row>2</th><td>2</td><td>F</td><td>6</td></tr>\n",
       "</tbody>\n",
       "</table>\n"
      ],
      "text/latex": [
       "\\begin{tabular}{r|lll}\n",
       "  & subject & sex & size\\\\\n",
       "\\hline\n",
       "\t1 & 1 & M & 7\\\\\n",
       "\t2 & 2 & F & 6\\\\\n",
       "\\end{tabular}\n"
      ],
      "text/plain": [
       "  subject sex size\n",
       "1       1   M    7\n",
       "2       2   F    6"
      ]
     },
     "execution_count": 6,
     "metadata": {},
     "output_type": "execute_result"
    },
    {
     "data": {
      "text/html": [
       "<table>\n",
       "<thead><tr><th></th><th scope=col>subject</th><th scope=col>sex</th><th scope=col>size</th></tr></thead>\n",
       "<tbody>\n",
       "\t<tr><th scope=row>1</th><td>1</td><td>M</td><td>7</td></tr>\n",
       "\t<tr><th scope=row>2</th><td>2</td><td>F</td><td>6</td></tr>\n",
       "</tbody>\n",
       "</table>\n"
      ],
      "text/latex": [
       "\\begin{tabular}{r|lll}\n",
       "  & subject & sex & size\\\\\n",
       "\\hline\n",
       "\t1 & 1 & M & 7\\\\\n",
       "\t2 & 2 & F & 6\\\\\n",
       "\\end{tabular}\n"
      ],
      "text/plain": [
       "  subject sex size\n",
       "1       1   M    7\n",
       "2       2   F    6"
      ]
     },
     "execution_count": 6,
     "metadata": {},
     "output_type": "execute_result"
    }
   ],
   "source": [
    "# Get rows 1 and 2, and all columns\n",
    "data[1:2, ]\n",
    "data[c(1,2), ]"
   ]
  },
  {
   "cell_type": "code",
   "execution_count": 7,
   "metadata": {
    "collapsed": false
   },
   "outputs": [
    {
     "data": {
      "text/html": [
       "<ol class=list-inline>\n",
       "\t<li>M</li>\n",
       "\t<li>F</li>\n",
       "</ol>\n"
      ],
      "text/latex": [
       "\\begin{enumerate*}\n",
       "\\item M\n",
       "\\item F\n",
       "\\end{enumerate*}\n"
      ],
      "text/markdown": [
       "1. M\n",
       "2. F\n",
       "\n",
       "\n"
      ],
      "text/plain": [
       "[1] M F\n",
       "Levels: F M"
      ]
     },
     "execution_count": 7,
     "metadata": {},
     "output_type": "execute_result"
    },
    {
     "data": {
      "text/html": [
       "<ol class=list-inline>\n",
       "\t<li>M</li>\n",
       "\t<li>F</li>\n",
       "</ol>\n"
      ],
      "text/latex": [
       "\\begin{enumerate*}\n",
       "\\item M\n",
       "\\item F\n",
       "\\end{enumerate*}\n"
      ],
      "text/markdown": [
       "1. M\n",
       "2. F\n",
       "\n",
       "\n"
      ],
      "text/plain": [
       "[1] M F\n",
       "Levels: F M"
      ]
     },
     "execution_count": 7,
     "metadata": {},
     "output_type": "execute_result"
    }
   ],
   "source": [
    "# Get rows 1 and 2, and only column 2\n",
    "data[1:2, 2]\n",
    "data[c(1,2), 2]"
   ]
  },
  {
   "cell_type": "code",
   "execution_count": 8,
   "metadata": {
    "collapsed": false
   },
   "outputs": [
    {
     "data": {
      "text/html": [
       "<table>\n",
       "<thead><tr><th></th><th scope=col>sex</th><th scope=col>size</th></tr></thead>\n",
       "<tbody>\n",
       "\t<tr><th scope=row>1</th><td>M</td><td>7</td></tr>\n",
       "\t<tr><th scope=row>2</th><td>F</td><td>6</td></tr>\n",
       "</tbody>\n",
       "</table>\n"
      ],
      "text/latex": [
       "\\begin{tabular}{r|ll}\n",
       "  & sex & size\\\\\n",
       "\\hline\n",
       "\t1 & M & 7\\\\\n",
       "\t2 & F & 6\\\\\n",
       "\\end{tabular}\n"
      ],
      "text/plain": [
       "  sex size\n",
       "1   M    7\n",
       "2   F    6"
      ]
     },
     "execution_count": 8,
     "metadata": {},
     "output_type": "execute_result"
    },
    {
     "data": {
      "text/html": [
       "<table>\n",
       "<thead><tr><th></th><th scope=col>sex</th><th scope=col>size</th></tr></thead>\n",
       "<tbody>\n",
       "\t<tr><th scope=row>1</th><td>M</td><td>7</td></tr>\n",
       "\t<tr><th scope=row>2</th><td>F</td><td>6</td></tr>\n",
       "</tbody>\n",
       "</table>\n"
      ],
      "text/latex": [
       "\\begin{tabular}{r|ll}\n",
       "  & sex & size\\\\\n",
       "\\hline\n",
       "\t1 & M & 7\\\\\n",
       "\t2 & F & 6\\\\\n",
       "\\end{tabular}\n"
      ],
      "text/plain": [
       "  sex size\n",
       "1   M    7\n",
       "2   F    6"
      ]
     },
     "execution_count": 8,
     "metadata": {},
     "output_type": "execute_result"
    }
   ],
   "source": [
    "# Get rows 1 and 2, and only the columns named \"sex\" and \"size\"\n",
    "data[1:2, c(\"sex\",\"size\")]\n",
    "data[c(1,2), c(2,3)]"
   ]
  },
  {
   "cell_type": "markdown",
   "metadata": {},
   "source": [
    "### Indexing with a boolean vector\n",
    "#### With the vector v from above:"
   ]
  },
  {
   "cell_type": "code",
   "execution_count": 9,
   "metadata": {
    "collapsed": false
   },
   "outputs": [
    {
     "data": {
      "text/html": [
       "<ol class=list-inline>\n",
       "\t<li>FALSE</li>\n",
       "\t<li>TRUE</li>\n",
       "\t<li>TRUE</li>\n",
       "\t<li>TRUE</li>\n",
       "\t<li>FALSE</li>\n",
       "\t<li>FALSE</li>\n",
       "\t<li>TRUE</li>\n",
       "</ol>\n"
      ],
      "text/latex": [
       "\\begin{enumerate*}\n",
       "\\item FALSE\n",
       "\\item TRUE\n",
       "\\item TRUE\n",
       "\\item TRUE\n",
       "\\item FALSE\n",
       "\\item FALSE\n",
       "\\item TRUE\n",
       "\\end{enumerate*}\n"
      ],
      "text/markdown": [
       "1. FALSE\n",
       "2. TRUE\n",
       "3. TRUE\n",
       "4. TRUE\n",
       "5. FALSE\n",
       "6. FALSE\n",
       "7. TRUE\n",
       "\n",
       "\n"
      ],
      "text/plain": [
       "[1] FALSE  TRUE  TRUE  TRUE FALSE FALSE  TRUE"
      ]
     },
     "execution_count": 9,
     "metadata": {},
     "output_type": "execute_result"
    }
   ],
   "source": [
    "v > 2"
   ]
  },
  {
   "cell_type": "code",
   "execution_count": 10,
   "metadata": {
    "collapsed": false
   },
   "outputs": [
    {
     "data": {
      "text/html": [
       "<ol class=list-inline>\n",
       "\t<li>4</li>\n",
       "\t<li>4</li>\n",
       "\t<li>3</li>\n",
       "\t<li>3</li>\n",
       "</ol>\n"
      ],
      "text/latex": [
       "\\begin{enumerate*}\n",
       "\\item 4\n",
       "\\item 4\n",
       "\\item 3\n",
       "\\item 3\n",
       "\\end{enumerate*}\n"
      ],
      "text/markdown": [
       "1. 4\n",
       "2. 4\n",
       "3. 3\n",
       "4. 3\n",
       "\n",
       "\n"
      ],
      "text/plain": [
       "[1] 4 4 3 3"
      ]
     },
     "execution_count": 10,
     "metadata": {},
     "output_type": "execute_result"
    }
   ],
   "source": [
    "v[v>2]"
   ]
  },
  {
   "cell_type": "code",
   "execution_count": 11,
   "metadata": {
    "collapsed": false
   },
   "outputs": [
    {
     "data": {
      "text/html": [
       "<ol class=list-inline>\n",
       "\t<li>4</li>\n",
       "\t<li>4</li>\n",
       "\t<li>3</li>\n",
       "\t<li>3</li>\n",
       "</ol>\n"
      ],
      "text/latex": [
       "\\begin{enumerate*}\n",
       "\\item 4\n",
       "\\item 4\n",
       "\\item 3\n",
       "\\item 3\n",
       "\\end{enumerate*}\n"
      ],
      "text/markdown": [
       "1. 4\n",
       "2. 4\n",
       "3. 3\n",
       "4. 3\n",
       "\n",
       "\n"
      ],
      "text/plain": [
       "[1] 4 4 3 3"
      ]
     },
     "execution_count": 11,
     "metadata": {},
     "output_type": "execute_result"
    }
   ],
   "source": [
    "v[ c(F,T,T,T,F,F,T)]"
   ]
  },
  {
   "cell_type": "markdown",
   "metadata": {},
   "source": [
    "#### With the data frame from above:"
   ]
  },
  {
   "cell_type": "code",
   "execution_count": 12,
   "metadata": {
    "collapsed": false
   },
   "outputs": [
    {
     "data": {
      "text/html": [
       "<ol class=list-inline>\n",
       "\t<li>TRUE</li>\n",
       "\t<li>TRUE</li>\n",
       "\t<li>FALSE</li>\n",
       "\t<li>FALSE</li>\n",
       "</ol>\n"
      ],
      "text/latex": [
       "\\begin{enumerate*}\n",
       "\\item TRUE\n",
       "\\item TRUE\n",
       "\\item FALSE\n",
       "\\item FALSE\n",
       "\\end{enumerate*}\n"
      ],
      "text/markdown": [
       "1. TRUE\n",
       "2. TRUE\n",
       "3. FALSE\n",
       "4. FALSE\n",
       "\n",
       "\n"
      ],
      "text/plain": [
       "[1]  TRUE  TRUE FALSE FALSE"
      ]
     },
     "execution_count": 12,
     "metadata": {},
     "output_type": "execute_result"
    },
    {
     "data": {
      "text/html": [
       "<table>\n",
       "<thead><tr><th></th><th scope=col>subject</th><th scope=col>sex</th><th scope=col>size</th></tr></thead>\n",
       "<tbody>\n",
       "\t<tr><th scope=row>1</th><td>1</td><td>M</td><td>7</td></tr>\n",
       "\t<tr><th scope=row>2</th><td>2</td><td>F</td><td>6</td></tr>\n",
       "</tbody>\n",
       "</table>\n"
      ],
      "text/latex": [
       "\\begin{tabular}{r|lll}\n",
       "  & subject & sex & size\\\\\n",
       "\\hline\n",
       "\t1 & 1 & M & 7\\\\\n",
       "\t2 & 2 & F & 6\\\\\n",
       "\\end{tabular}\n"
      ],
      "text/plain": [
       "  subject sex size\n",
       "1       1   M    7\n",
       "2       2   F    6"
      ]
     },
     "execution_count": 12,
     "metadata": {},
     "output_type": "execute_result"
    },
    {
     "data": {
      "text/html": [
       "<table>\n",
       "<thead><tr><th></th><th scope=col>subject</th><th scope=col>sex</th><th scope=col>size</th></tr></thead>\n",
       "<tbody>\n",
       "\t<tr><th scope=row>1</th><td>1</td><td>M</td><td>7</td></tr>\n",
       "\t<tr><th scope=row>2</th><td>2</td><td>F</td><td>6</td></tr>\n",
       "</tbody>\n",
       "</table>\n"
      ],
      "text/latex": [
       "\\begin{tabular}{r|lll}\n",
       "  & subject & sex & size\\\\\n",
       "\\hline\n",
       "\t1 & 1 & M & 7\\\\\n",
       "\t2 & 2 & F & 6\\\\\n",
       "\\end{tabular}\n"
      ],
      "text/plain": [
       "  subject sex size\n",
       "1       1   M    7\n",
       "2       2   F    6"
      ]
     },
     "execution_count": 12,
     "metadata": {},
     "output_type": "execute_result"
    }
   ],
   "source": [
    "# A boolean vector   \n",
    "data$subject < 3\n",
    "data[data$subject < 3, ]\n",
    "data[c(TRUE,TRUE,FALSE,FALSE), ]"
   ]
  },
  {
   "cell_type": "code",
   "execution_count": 13,
   "metadata": {
    "collapsed": false
   },
   "outputs": [
    {
     "data": {
      "text/html": [
       "<ol class=list-inline>\n",
       "\t<li>1</li>\n",
       "\t<li>2</li>\n",
       "</ol>\n"
      ],
      "text/latex": [
       "\\begin{enumerate*}\n",
       "\\item 1\n",
       "\\item 2\n",
       "\\end{enumerate*}\n"
      ],
      "text/markdown": [
       "1. 1\n",
       "2. 2\n",
       "\n",
       "\n"
      ],
      "text/plain": [
       "[1] 1 2"
      ]
     },
     "execution_count": 13,
     "metadata": {},
     "output_type": "execute_result"
    }
   ],
   "source": [
    "# It is also possible to get the numeric indices of the TRUEs\n",
    "which(data$subject < 3)"
   ]
  },
  {
   "cell_type": "markdown",
   "metadata": {},
   "source": [
    "### Negative indexing\n",
    "Unlike in some other programming languages, when you use negative numbers for indexing in R, it doesn’t mean to index backward from the end. Instead, it means to drop the element at that index, counting the usual way, from the beginning."
   ]
  },
  {
   "cell_type": "code",
   "execution_count": 14,
   "metadata": {
    "collapsed": false
   },
   "outputs": [
    {
     "data": {
      "text/html": [
       "<ol class=list-inline>\n",
       "\t<li>1</li>\n",
       "\t<li>4</li>\n",
       "\t<li>4</li>\n",
       "\t<li>3</li>\n",
       "\t<li>2</li>\n",
       "\t<li>2</li>\n",
       "\t<li>3</li>\n",
       "</ol>\n"
      ],
      "text/latex": [
       "\\begin{enumerate*}\n",
       "\\item 1\n",
       "\\item 4\n",
       "\\item 4\n",
       "\\item 3\n",
       "\\item 2\n",
       "\\item 2\n",
       "\\item 3\n",
       "\\end{enumerate*}\n"
      ],
      "text/markdown": [
       "1. 1\n",
       "2. 4\n",
       "3. 4\n",
       "4. 3\n",
       "5. 2\n",
       "6. 2\n",
       "7. 3\n",
       "\n",
       "\n"
      ],
      "text/plain": [
       "[1] 1 4 4 3 2 2 3"
      ]
     },
     "execution_count": 14,
     "metadata": {},
     "output_type": "execute_result"
    }
   ],
   "source": [
    "# Here's the vector again.\n",
    "v"
   ]
  },
  {
   "cell_type": "code",
   "execution_count": 15,
   "metadata": {
    "collapsed": false
   },
   "outputs": [
    {
     "data": {
      "text/html": [
       "<ol class=list-inline>\n",
       "\t<li>4</li>\n",
       "\t<li>4</li>\n",
       "\t<li>3</li>\n",
       "\t<li>2</li>\n",
       "\t<li>2</li>\n",
       "\t<li>3</li>\n",
       "</ol>\n"
      ],
      "text/latex": [
       "\\begin{enumerate*}\n",
       "\\item 4\n",
       "\\item 4\n",
       "\\item 3\n",
       "\\item 2\n",
       "\\item 2\n",
       "\\item 3\n",
       "\\end{enumerate*}\n"
      ],
      "text/markdown": [
       "1. 4\n",
       "2. 4\n",
       "3. 3\n",
       "4. 2\n",
       "5. 2\n",
       "6. 3\n",
       "\n",
       "\n"
      ],
      "text/plain": [
       "[1] 4 4 3 2 2 3"
      ]
     },
     "execution_count": 15,
     "metadata": {},
     "output_type": "execute_result"
    }
   ],
   "source": [
    "# Drop the first element\n",
    "v[-1]"
   ]
  },
  {
   "cell_type": "code",
   "execution_count": 16,
   "metadata": {
    "collapsed": false
   },
   "outputs": [
    {
     "data": {
      "text/html": [
       "<ol class=list-inline>\n",
       "\t<li>3</li>\n",
       "\t<li>2</li>\n",
       "\t<li>2</li>\n",
       "\t<li>3</li>\n",
       "</ol>\n"
      ],
      "text/latex": [
       "\\begin{enumerate*}\n",
       "\\item 3\n",
       "\\item 2\n",
       "\\item 2\n",
       "\\item 3\n",
       "\\end{enumerate*}\n"
      ],
      "text/markdown": [
       "1. 3\n",
       "2. 2\n",
       "3. 2\n",
       "4. 3\n",
       "\n",
       "\n"
      ],
      "text/plain": [
       "[1] 3 2 2 3"
      ]
     },
     "execution_count": 16,
     "metadata": {},
     "output_type": "execute_result"
    }
   ],
   "source": [
    "# Drop first three\n",
    "v[-1:-3]"
   ]
  },
  {
   "cell_type": "code",
   "execution_count": 17,
   "metadata": {
    "collapsed": false
   },
   "outputs": [
    {
     "data": {
      "text/html": [
       "<ol class=list-inline>\n",
       "\t<li>1</li>\n",
       "\t<li>4</li>\n",
       "\t<li>4</li>\n",
       "\t<li>3</li>\n",
       "\t<li>2</li>\n",
       "\t<li>2</li>\n",
       "</ol>\n"
      ],
      "text/latex": [
       "\\begin{enumerate*}\n",
       "\\item 1\n",
       "\\item 4\n",
       "\\item 4\n",
       "\\item 3\n",
       "\\item 2\n",
       "\\item 2\n",
       "\\end{enumerate*}\n"
      ],
      "text/markdown": [
       "1. 1\n",
       "2. 4\n",
       "3. 4\n",
       "4. 3\n",
       "5. 2\n",
       "6. 2\n",
       "\n",
       "\n"
      ],
      "text/plain": [
       "[1] 1 4 4 3 2 2"
      ]
     },
     "execution_count": 17,
     "metadata": {},
     "output_type": "execute_result"
    }
   ],
   "source": [
    "# Drop just the last element\n",
    "v[-length(v)]"
   ]
  },
  {
   "cell_type": "markdown",
   "metadata": {},
   "source": [
    "### Help doc\n",
    "get the documentation with:"
   ]
  },
  {
   "cell_type": "code",
   "execution_count": 18,
   "metadata": {
    "collapsed": false
   },
   "outputs": [
    {
     "data": {
      "text/html": [
       "\n",
       "<table width=\"100%\" summary=\"page for data {utils}\"><tr><td>data {utils}</td><td style=\"text-align: right;\">R Documentation</td></tr></table>\n",
       "\n",
       "<h2>Data Sets</h2>\n",
       "\n",
       "<h3>Description</h3>\n",
       "\n",
       "<p>Loads specified data sets, or list the available data sets.\n",
       "</p>\n",
       "\n",
       "\n",
       "<h3>Usage</h3>\n",
       "\n",
       "<pre>\n",
       "data(..., list = character(), package = NULL, lib.loc = NULL,\n",
       "     verbose = getOption(\"verbose\"), envir = .GlobalEnv)\n",
       "</pre>\n",
       "\n",
       "\n",
       "<h3>Arguments</h3>\n",
       "\n",
       "<table summary=\"R argblock\">\n",
       "<tr valign=\"top\"><td><code>...</code></td>\n",
       "<td>\n",
       "<p>literal character strings or names.</p>\n",
       "</td></tr>\n",
       "<tr valign=\"top\"><td><code>list</code></td>\n",
       "<td>\n",
       "<p>a character vector.</p>\n",
       "</td></tr>\n",
       "<tr valign=\"top\"><td><code>package</code></td>\n",
       "<td>\n",
       "\n",
       "<p>a character vector giving the package(s) to look\n",
       "in for data sets, or <code>NULL</code>.\n",
       "</p>\n",
       "<p>By default, all packages in the search path are used, then\n",
       "the &lsquo;<span class=\"file\">data</span>&rsquo; subdirectory (if present) of the current working\n",
       "directory.\n",
       "</p>\n",
       "</td></tr>\n",
       "<tr valign=\"top\"><td><code>lib.loc</code></td>\n",
       "<td>\n",
       "<p>a character vector of directory names of <span style=\"font-family: Courier New, Courier; color: #666666;\"><b>R</b></span> libraries,\n",
       "or <code>NULL</code>.  The default value of <code>NULL</code> corresponds to all\n",
       "libraries currently known.</p>\n",
       "</td></tr>\n",
       "<tr valign=\"top\"><td><code>verbose</code></td>\n",
       "<td>\n",
       "<p>a logical.  If <code>TRUE</code>, additional diagnostics are\n",
       "printed.</p>\n",
       "</td></tr>\n",
       "<tr valign=\"top\"><td><code>envir</code></td>\n",
       "<td>\n",
       "<p>the environment where the data should be loaded.</p>\n",
       "</td></tr>\n",
       "</table>\n",
       "\n",
       "\n",
       "<h3>Details</h3>\n",
       "\n",
       "<p>Currently, four formats of data files are supported:\n",
       "</p>\n",
       "\n",
       "<ol>\n",
       "<li><p> files ending &lsquo;<span class=\"file\">.R</span>&rsquo; or &lsquo;<span class=\"file\">.r</span>&rsquo; are\n",
       "<code>source()</code>d in, with the <span style=\"font-family: Courier New, Courier; color: #666666;\"><b>R</b></span> working directory changed\n",
       "temporarily to the directory containing the respective file.\n",
       "(<code>data</code> ensures that the <span class=\"pkg\">utils</span> package is attached, in\n",
       "case it had been run <em>via</em> <code>utils::data</code>.)\n",
       "</p>\n",
       "</li>\n",
       "<li><p> files ending &lsquo;<span class=\"file\">.RData</span>&rsquo; or &lsquo;<span class=\"file\">.rda</span>&rsquo; are\n",
       "<code>load()</code>ed.\n",
       "</p>\n",
       "</li>\n",
       "<li><p> files ending &lsquo;<span class=\"file\">.tab</span>&rsquo;, &lsquo;<span class=\"file\">.txt</span>&rsquo; or &lsquo;<span class=\"file\">.TXT</span>&rsquo; are read\n",
       "using <code>read.table(..., header = TRUE)</code>, and hence\n",
       "result in a data frame.\n",
       "</p>\n",
       "</li>\n",
       "<li><p> files ending &lsquo;<span class=\"file\">.csv</span>&rsquo; or &lsquo;<span class=\"file\">.CSV</span>&rsquo; are read using\n",
       "<code>read.table(..., header = TRUE, sep = \";\")</code>,\n",
       "and also result in a data frame.\n",
       "</p>\n",
       "</li></ol>\n",
       "\n",
       "<p>If more than one matching file name is found, the first on this list\n",
       "is used.  (Files with extensions &lsquo;<span class=\"file\">.txt</span>&rsquo;, &lsquo;<span class=\"file\">.tab</span>&rsquo; or\n",
       "&lsquo;<span class=\"file\">.csv</span>&rsquo; can be compressed, with or without further extension\n",
       "&lsquo;<span class=\"file\">.gz</span>&rsquo;, &lsquo;<span class=\"file\">.bz2</span>&rsquo; or &lsquo;<span class=\"file\">.xz</span>&rsquo;.)\n",
       "</p>\n",
       "<p>The data sets to be loaded can be specified as a set of character\n",
       "strings or names, or as the character vector <code>list</code>, or as both.\n",
       "</p>\n",
       "<p>For each given data set, the first two types (&lsquo;<span class=\"file\">.R</span>&rsquo; or &lsquo;<span class=\"file\">.r</span>&rsquo;,\n",
       "and &lsquo;<span class=\"file\">.RData</span>&rsquo; or &lsquo;<span class=\"file\">.rda</span>&rsquo; files) can create several variables\n",
       "in the load environment, which might all be named differently from the\n",
       "data set.  The third and fourth types will always result in the\n",
       "creation of a single variable with the same name (without extension)\n",
       "as the data set.\n",
       "</p>\n",
       "<p>If no data sets are specified, <code>data</code> lists the available data\n",
       "sets.  It looks for a new-style data index in the &lsquo;<span class=\"file\">Meta</span>&rsquo; or, if\n",
       "this is not found, an old-style &lsquo;<span class=\"file\">00Index</span>&rsquo; file in the &lsquo;<span class=\"file\">data</span>&rsquo;\n",
       "directory of each specified package, and uses these files to prepare a\n",
       "listing.  If there is a &lsquo;<span class=\"file\">data</span>&rsquo; area but no index, available data\n",
       "files for loading are computed and included in the listing, and a\n",
       "warning is given: such packages are incomplete.  The information about\n",
       "available data sets is returned in an object of class\n",
       "<code>\"packageIQR\"</code>.  The structure of this class is experimental.\n",
       "Where the datasets have a different name from the argument that should\n",
       "be used to retrieve them the index will have an entry like\n",
       "<code>beaver1 (beavers)</code> which tells us that dataset <code>beaver1</code>\n",
       "can be retrieved by the call <code>data(beaver)</code>.\n",
       "</p>\n",
       "<p>If <code>lib.loc</code> and <code>package</code> are both <code>NULL</code> (the\n",
       "default), the data sets are searched for in all the currently loaded\n",
       "packages then in the &lsquo;<span class=\"file\">data</span>&rsquo; directory (if any) of the current\n",
       "working directory.\n",
       "</p>\n",
       "<p>If <code>lib.loc = NULL</code> but <code>package</code> is specified as a\n",
       "character vector, the specified package(s) are searched for first\n",
       "amongst loaded packages and then in the default library/ies\n",
       "(see <code>.libPaths</code>).\n",
       "</p>\n",
       "<p>If <code>lib.loc</code> <em>is</em> specified (and not <code>NULL</code>), packages\n",
       "are searched for in the specified library/ies, even if they are\n",
       "already loaded from another library.\n",
       "</p>\n",
       "<p>To just look in the &lsquo;<span class=\"file\">data</span>&rsquo; directory of the current working\n",
       "directory, set <code>package = character(0)</code> (and <code>lib.loc =\n",
       "    NULL</code>, the default).\n",
       "</p>\n",
       "\n",
       "\n",
       "<h3>Value</h3>\n",
       "\n",
       "<p>A character vector of all data sets specified, or information about\n",
       "all available data sets in an object of class <code>\"packageIQR\"</code> if\n",
       "none were specified.\n",
       "</p>\n",
       "\n",
       "\n",
       "<h3>Good practice</h3>\n",
       "\n",
       "<p><code>data()</code> was originally intended to allow users to load datasets\n",
       "from packages for use in their examples, and as such it loaded the\n",
       "datasets into the workspace <code>.GlobalEnv</code>.  This avoided\n",
       "having large datasets in memory when not in use.  That need has been\n",
       "almost entirely superseded by lazy-loading of datasets.\n",
       "</p>\n",
       "<p>The ability to specify a dataset by name (without quotes) is a\n",
       "convenience: in programming the datasets should be specified by\n",
       "character strings (with quotes).\n",
       "</p>\n",
       "<p>Use of <code>data</code> within a function without an <code>envir</code> argument\n",
       "has the almost always undesirable side-effect of putting an object in\n",
       "the user's workspace (and indeed, of replacing any object of that name\n",
       "already there).  It would almost always be better to put the object in\n",
       "the current evaluation environment by <code>data(..., envir =\n",
       "  environment())</code>.  However, two alternatives are usually preferable,\n",
       "both described in the &lsquo;Writing R Extensions&rsquo; manual.\n",
       "</p>\n",
       "\n",
       "<ul>\n",
       "<li><p> For sets of data, set up a package to use lazy-loading of data.\n",
       "</p>\n",
       "</li>\n",
       "<li><p> For objects which are system data, for example lookup tables\n",
       "used in calculations within the function, use a file\n",
       "&lsquo;<span class=\"file\">R/sysdata.rda</span>&rsquo; in the package sources or create the objects by\n",
       "<span style=\"font-family: Courier New, Courier; color: #666666;\"><b>R</b></span> code at package installation time.\n",
       "</p>\n",
       "</li></ul>\n",
       "\n",
       "<p>A sometimes important distinction is that the second approach places\n",
       "objects in the namespace but the first does not.  So if it is important\n",
       "that the function sees <code>mytable</code> as an object from the package,\n",
       "it is system data and the second approach should be used.  In the\n",
       "unusual case that a package uses a lazy-loaded dataset as a default\n",
       "argument to a function, that needs to be specified by <code>::</code>,\n",
       "e.g., <code>survival::survexp.us</code>.\n",
       "</p>\n",
       "\n",
       "\n",
       "<h3>Note</h3>\n",
       "\n",
       "<p>One can take advantage of the search order and the fact that a\n",
       "&lsquo;<span class=\"file\">.R</span>&rsquo; file will change directory.  If raw data are stored in\n",
       "&lsquo;<span class=\"file\">mydata.txt</span>&rsquo; then one can set up &lsquo;<span class=\"file\">mydata.R</span>&rsquo; to read\n",
       "&lsquo;<span class=\"file\">mydata.txt</span>&rsquo; and pre-process it, e.g., using <code>transform</code>.\n",
       "For instance one can convert numeric vectors to factors with the\n",
       "appropriate labels.  Thus, the &lsquo;<span class=\"file\">.R</span>&rsquo; file can effectively contain\n",
       "a metadata specification for the plaintext formats.\n",
       "</p>\n",
       "\n",
       "\n",
       "<h3>See Also</h3>\n",
       "\n",
       "<p><code>help</code> for obtaining documentation on data sets,\n",
       "<code>save</code> for <em>creating</em> the second (&lsquo;<span class=\"file\">.rda</span>&rsquo;) kind\n",
       "of data, typically the most efficient one.\n",
       "</p>\n",
       "<p>The &lsquo;Writing R Extensions&rsquo; for considerations in preparing the\n",
       "&lsquo;<span class=\"file\">data</span>&rsquo; directory of a package.\n",
       "</p>\n",
       "\n",
       "\n",
       "<h3>Examples</h3>\n",
       "\n",
       "<pre>\n",
       "require(utils)\n",
       "data()                         # list all available data sets\n",
       "try(data(package = \"rpart\") )  # list the data sets in the rpart package\n",
       "data(USArrests, \"VADeaths\")    # load the data sets 'USArrests' and 'VADeaths'\n",
       "## Not run: ## Alternatively\n",
       "ds &lt;- c(\"USArrests\", \"VADeaths\"); data(list = ds)\n",
       "## End(Not run)\n",
       "help(USArrests)                # give information on data set 'USArrests'\n",
       "</pre>\n",
       "\n",
       "<hr /><div style=\"text-align: center;\">[Package <em>utils</em> version 3.2.2 ]</div>"
      ],
      "text/latex": [
       "\\inputencoding{utf8}\n",
       "\\HeaderA{data}{Data Sets}{data}\n",
       "\\aliasA{print.packageIQR}{data}{print.packageIQR}\n",
       "\\keyword{documentation}{data}\n",
       "\\keyword{datasets}{data}\n",
       "%\n",
       "\\begin{Description}\\relax\n",
       "Loads specified data sets, or list the available data sets.\n",
       "\\end{Description}\n",
       "%\n",
       "\\begin{Usage}\n",
       "\\begin{verbatim}\n",
       "data(..., list = character(), package = NULL, lib.loc = NULL,\n",
       "     verbose = getOption(\"verbose\"), envir = .GlobalEnv)\n",
       "\\end{verbatim}\n",
       "\\end{Usage}\n",
       "%\n",
       "\\begin{Arguments}\n",
       "\\begin{ldescription}\n",
       "\\item[\\code{...}] literal character strings or names.\n",
       "\\item[\\code{list}] a character vector.\n",
       "\\item[\\code{package}] \n",
       "a character vector giving the package(s) to look\n",
       "in for data sets, or \\code{NULL}.\n",
       "\n",
       "By default, all packages in the search path are used, then\n",
       "the \\file{data} subdirectory (if present) of the current working\n",
       "directory.\n",
       "\n",
       "\\item[\\code{lib.loc}] a character vector of directory names of \\R{} libraries,\n",
       "or \\code{NULL}.  The default value of \\code{NULL} corresponds to all\n",
       "libraries currently known.\n",
       "\\item[\\code{verbose}] a logical.  If \\code{TRUE}, additional diagnostics are\n",
       "printed.\n",
       "\\item[\\code{envir}] the \\LinkA{environment}{environment} where the data should be loaded.\n",
       "\\end{ldescription}\n",
       "\\end{Arguments}\n",
       "%\n",
       "\\begin{Details}\\relax\n",
       "Currently, four formats of data files are supported:\n",
       "\n",
       "\\begin{enumerate}\n",
       "\n",
       "\\item files ending \\file{.R} or \\file{.r} are\n",
       "\\code{\\LinkA{source}{source}()}d in, with the \\R{} working directory changed\n",
       "temporarily to the directory containing the respective file.\n",
       "(\\code{data} ensures that the \\pkg{utils} package is attached, in\n",
       "case it had been run \\emph{via} \\code{utils::data}.)\n",
       "\n",
       "\\item files ending \\file{.RData} or \\file{.rda} are\n",
       "\\code{\\LinkA{load}{load}()}ed.\n",
       "\n",
       "\\item files ending \\file{.tab}, \\file{.txt} or \\file{.TXT} are read\n",
       "using \\code{\\LinkA{read.table}{read.table}(..., header = TRUE)}, and hence\n",
       "result in a data frame.\n",
       "\n",
       "\\item files ending \\file{.csv} or \\file{.CSV} are read using\n",
       "\\code{\\LinkA{read.table}{read.table}(..., header = TRUE, sep = \";\")},\n",
       "and also result in a data frame.\n",
       "\n",
       "\\end{enumerate}\n",
       "\n",
       "If more than one matching file name is found, the first on this list\n",
       "is used.  (Files with extensions \\file{.txt}, \\file{.tab} or\n",
       "\\file{.csv} can be compressed, with or without further extension\n",
       "\\file{.gz}, \\file{.bz2} or \\file{.xz}.)\n",
       "\n",
       "The data sets to be loaded can be specified as a set of character\n",
       "strings or names, or as the character vector \\code{list}, or as both.\n",
       "\n",
       "For each given data set, the first two types (\\file{.R} or \\file{.r},\n",
       "and \\file{.RData} or \\file{.rda} files) can create several variables\n",
       "in the load environment, which might all be named differently from the\n",
       "data set.  The third and fourth types will always result in the\n",
       "creation of a single variable with the same name (without extension)\n",
       "as the data set.\n",
       "\n",
       "If no data sets are specified, \\code{data} lists the available data\n",
       "sets.  It looks for a new-style data index in the \\file{Meta} or, if\n",
       "this is not found, an old-style \\file{00Index} file in the \\file{data}\n",
       "directory of each specified package, and uses these files to prepare a\n",
       "listing.  If there is a \\file{data} area but no index, available data\n",
       "files for loading are computed and included in the listing, and a\n",
       "warning is given: such packages are incomplete.  The information about\n",
       "available data sets is returned in an object of class\n",
       "\\code{\"packageIQR\"}.  The structure of this class is experimental.\n",
       "Where the datasets have a different name from the argument that should\n",
       "be used to retrieve them the index will have an entry like\n",
       "\\code{beaver1 (beavers)} which tells us that dataset \\code{beaver1}\n",
       "can be retrieved by the call \\code{data(beaver)}.\n",
       "\n",
       "If \\code{lib.loc} and \\code{package} are both \\code{NULL} (the\n",
       "default), the data sets are searched for in all the currently loaded\n",
       "packages then in the \\file{data} directory (if any) of the current\n",
       "working directory.\n",
       "\n",
       "If \\code{lib.loc = NULL} but \\code{package} is specified as a\n",
       "character vector, the specified package(s) are searched for first\n",
       "amongst loaded packages and then in the default library/ies\n",
       "(see \\code{\\LinkA{.libPaths}{.libPaths}}).\n",
       "\n",
       "If \\code{lib.loc} \\emph{is} specified (and not \\code{NULL}), packages\n",
       "are searched for in the specified library/ies, even if they are\n",
       "already loaded from another library.\n",
       "\n",
       "To just look in the \\file{data} directory of the current working\n",
       "directory, set \\code{package = character(0)} (and \\code{lib.loc =\n",
       "    NULL}, the default).\n",
       "\\end{Details}\n",
       "%\n",
       "\\begin{Value}\n",
       "A character vector of all data sets specified, or information about\n",
       "all available data sets in an object of class \\code{\"packageIQR\"} if\n",
       "none were specified.\n",
       "\\end{Value}\n",
       "%\n",
       "\\begin{Section}{Good practice}\n",
       "\\code{data()} was originally intended to allow users to load datasets\n",
       "from packages for use in their examples, and as such it loaded the\n",
       "datasets into the workspace \\code{\\LinkA{.GlobalEnv}{.GlobalEnv}}.  This avoided\n",
       "having large datasets in memory when not in use.  That need has been\n",
       "almost entirely superseded by lazy-loading of datasets.\n",
       "\n",
       "The ability to specify a dataset by name (without quotes) is a\n",
       "convenience: in programming the datasets should be specified by\n",
       "character strings (with quotes).\n",
       "\n",
       "Use of \\code{data} within a function without an \\code{envir} argument\n",
       "has the almost always undesirable side-effect of putting an object in\n",
       "the user's workspace (and indeed, of replacing any object of that name\n",
       "already there).  It would almost always be better to put the object in\n",
       "the current evaluation environment by \\code{data(..., envir =\n",
       "  environment())}.  However, two alternatives are usually preferable,\n",
       "both described in the `Writing R Extensions' manual.\n",
       "\\begin{itemize}\n",
       "\n",
       "\\item For sets of data, set up a package to use lazy-loading of data.\n",
       "\\item For objects which are system data, for example lookup tables\n",
       "used in calculations within the function, use a file\n",
       "\\file{R/sysdata.rda} in the package sources or create the objects by\n",
       "\\R{} code at package installation time.\n",
       "\n",
       "\\end{itemize}\n",
       "\n",
       "A sometimes important distinction is that the second approach places\n",
       "objects in the namespace but the first does not.  So if it is important\n",
       "that the function sees \\code{mytable} as an object from the package,\n",
       "it is system data and the second approach should be used.  In the\n",
       "unusual case that a package uses a lazy-loaded dataset as a default\n",
       "argument to a function, that needs to be specified by \\code{\\LinkA{::}{::}},\n",
       "e.g., \\code{survival::survexp.us}.\n",
       "\\end{Section}\n",
       "%\n",
       "\\begin{Note}\\relax\n",
       "One can take advantage of the search order and the fact that a\n",
       "\\file{.R} file will change directory.  If raw data are stored in\n",
       "\\file{mydata.txt} then one can set up \\file{mydata.R} to read\n",
       "\\file{mydata.txt} and pre-process it, e.g., using \\code{transform}.\n",
       "For instance one can convert numeric vectors to factors with the\n",
       "appropriate labels.  Thus, the \\file{.R} file can effectively contain\n",
       "a metadata specification for the plaintext formats.\n",
       "\\end{Note}\n",
       "%\n",
       "\\begin{SeeAlso}\\relax\n",
       "\\code{\\LinkA{help}{help}} for obtaining documentation on data sets,\n",
       "\\code{\\LinkA{save}{save}} for \\emph{creating} the second (\\file{.rda}) kind\n",
       "of data, typically the most efficient one.\n",
       "\n",
       "The `Writing R Extensions' for considerations in preparing the\n",
       "\\file{data} directory of a package.\n",
       "\\end{SeeAlso}\n",
       "%\n",
       "\\begin{Examples}\n",
       "\\begin{ExampleCode}\n",
       "require(utils)\n",
       "data()                         # list all available data sets\n",
       "try(data(package = \"rpart\") )  # list the data sets in the rpart package\n",
       "data(USArrests, \"VADeaths\")    # load the data sets 'USArrests' and 'VADeaths'\n",
       "## Not run: ## Alternatively\n",
       "ds <- c(\"USArrests\", \"VADeaths\"); data(list = ds)\n",
       "## End(Not run)\n",
       "help(USArrests)                # give information on data set 'USArrests'\n",
       "\\end{ExampleCode}\n",
       "\\end{Examples}"
      ],
      "text/plain": [
       "data                   package:utils                   R Documentation\n",
       "\n",
       "_\bD_\ba_\bt_\ba _\bS_\be_\bt_\bs\n",
       "\n",
       "_\bD_\be_\bs_\bc_\br_\bi_\bp_\bt_\bi_\bo_\bn:\n",
       "\n",
       "     Loads specified data sets, or list the available data sets.\n",
       "\n",
       "_\bU_\bs_\ba_\bg_\be:\n",
       "\n",
       "     data(..., list = character(), package = NULL, lib.loc = NULL,\n",
       "          verbose = getOption(\"verbose\"), envir = .GlobalEnv)\n",
       "     \n",
       "_\bA_\br_\bg_\bu_\bm_\be_\bn_\bt_\bs:\n",
       "\n",
       "     ...: literal character strings or names.\n",
       "\n",
       "    list: a character vector.\n",
       "\n",
       " package: a character vector giving the package(s) to look in for data\n",
       "          sets, or ‘NULL’.\n",
       "\n",
       "          By default, all packages in the search path are used, then\n",
       "          the ‘data’ subdirectory (if present) of the current working\n",
       "          directory.\n",
       "\n",
       " lib.loc: a character vector of directory names of R libraries, or\n",
       "          ‘NULL’.  The default value of ‘NULL’ corresponds to all\n",
       "          libraries currently known.\n",
       "\n",
       " verbose: a logical.  If ‘TRUE’, additional diagnostics are printed.\n",
       "\n",
       "   envir: the environment where the data should be loaded.\n",
       "\n",
       "_\bD_\be_\bt_\ba_\bi_\bl_\bs:\n",
       "\n",
       "     Currently, four formats of data files are supported:\n",
       "\n",
       "       1. files ending ‘.R’ or ‘.r’ are ‘source()’d in, with the R\n",
       "          working directory changed temporarily to the directory\n",
       "          containing the respective file.  (‘data’ ensures that the\n",
       "          ‘utils’ package is attached, in case it had been run _via_\n",
       "          ‘utils::data’.)\n",
       "\n",
       "       2. files ending ‘.RData’ or ‘.rda’ are ‘load()’ed.\n",
       "\n",
       "       3. files ending ‘.tab’, ‘.txt’ or ‘.TXT’ are read using\n",
       "          ‘read.table(..., header = TRUE)’, and hence result in a data\n",
       "          frame.\n",
       "\n",
       "       4. files ending ‘.csv’ or ‘.CSV’ are read using ‘read.table(...,\n",
       "          header = TRUE, sep = \";\")’, and also result in a data frame.\n",
       "\n",
       "     If more than one matching file name is found, the first on this\n",
       "     list is used.  (Files with extensions ‘.txt’, ‘.tab’ or ‘.csv’ can\n",
       "     be compressed, with or without further extension ‘.gz’, ‘.bz2’ or\n",
       "     ‘.xz’.)\n",
       "\n",
       "     The data sets to be loaded can be specified as a set of character\n",
       "     strings or names, or as the character vector ‘list’, or as both.\n",
       "\n",
       "     For each given data set, the first two types (‘.R’ or ‘.r’, and\n",
       "     ‘.RData’ or ‘.rda’ files) can create several variables in the load\n",
       "     environment, which might all be named differently from the data\n",
       "     set.  The third and fourth types will always result in the\n",
       "     creation of a single variable with the same name (without\n",
       "     extension) as the data set.\n",
       "\n",
       "     If no data sets are specified, ‘data’ lists the available data\n",
       "     sets.  It looks for a new-style data index in the ‘Meta’ or, if\n",
       "     this is not found, an old-style ‘00Index’ file in the ‘data’\n",
       "     directory of each specified package, and uses these files to\n",
       "     prepare a listing.  If there is a ‘data’ area but no index,\n",
       "     available data files for loading are computed and included in the\n",
       "     listing, and a warning is given: such packages are incomplete.\n",
       "     The information about available data sets is returned in an object\n",
       "     of class ‘\"packageIQR\"’.  The structure of this class is\n",
       "     experimental.  Where the datasets have a different name from the\n",
       "     argument that should be used to retrieve them the index will have\n",
       "     an entry like ‘beaver1 (beavers)’ which tells us that dataset\n",
       "     ‘beaver1’ can be retrieved by the call ‘data(beaver)’.\n",
       "\n",
       "     If ‘lib.loc’ and ‘package’ are both ‘NULL’ (the default), the data\n",
       "     sets are searched for in all the currently loaded packages then in\n",
       "     the ‘data’ directory (if any) of the current working directory.\n",
       "\n",
       "     If ‘lib.loc = NULL’ but ‘package’ is specified as a character\n",
       "     vector, the specified package(s) are searched for first amongst\n",
       "     loaded packages and then in the default library/ies (see\n",
       "     ‘.libPaths’).\n",
       "\n",
       "     If ‘lib.loc’ _is_ specified (and not ‘NULL’), packages are\n",
       "     searched for in the specified library/ies, even if they are\n",
       "     already loaded from another library.\n",
       "\n",
       "     To just look in the ‘data’ directory of the current working\n",
       "     directory, set ‘package = character(0)’ (and ‘lib.loc = NULL’, the\n",
       "     default).\n",
       "\n",
       "_\bV_\ba_\bl_\bu_\be:\n",
       "\n",
       "     A character vector of all data sets specified, or information\n",
       "     about all available data sets in an object of class ‘\"packageIQR\"’\n",
       "     if none were specified.\n",
       "\n",
       "_\bG_\bo_\bo_\bd _\bp_\br_\ba_\bc_\bt_\bi_\bc_\be:\n",
       "\n",
       "     ‘data()’ was originally intended to allow users to load datasets\n",
       "     from packages for use in their examples, and as such it loaded the\n",
       "     datasets into the workspace ‘.GlobalEnv’.  This avoided having\n",
       "     large datasets in memory when not in use.  That need has been\n",
       "     almost entirely superseded by lazy-loading of datasets.\n",
       "\n",
       "     The ability to specify a dataset by name (without quotes) is a\n",
       "     convenience: in programming the datasets should be specified by\n",
       "     character strings (with quotes).\n",
       "\n",
       "     Use of ‘data’ within a function without an ‘envir’ argument has\n",
       "     the almost always undesirable side-effect of putting an object in\n",
       "     the user's workspace (and indeed, of replacing any object of that\n",
       "     name already there).  It would almost always be better to put the\n",
       "     object in the current evaluation environment by ‘data(..., envir =\n",
       "     environment())’.  However, two alternatives are usually\n",
       "     preferable, both described in the ‘Writing R Extensions’ manual.\n",
       "\n",
       "        • For sets of data, set up a package to use lazy-loading of\n",
       "          data.\n",
       "\n",
       "        • For objects which are system data, for example lookup tables\n",
       "          used in calculations within the function, use a file\n",
       "          ‘R/sysdata.rda’ in the package sources or create the objects\n",
       "          by R code at package installation time.\n",
       "\n",
       "     A sometimes important distinction is that the second approach\n",
       "     places objects in the namespace but the first does not.  So if it\n",
       "     is important that the function sees ‘mytable’ as an object from\n",
       "     the package, it is system data and the second approach should be\n",
       "     used.  In the unusual case that a package uses a lazy-loaded\n",
       "     dataset as a default argument to a function, that needs to be\n",
       "     specified by ‘::’, e.g., ‘survival::survexp.us’.\n",
       "\n",
       "_\bN_\bo_\bt_\be:\n",
       "\n",
       "     One can take advantage of the search order and the fact that a\n",
       "     ‘.R’ file will change directory.  If raw data are stored in\n",
       "     ‘mydata.txt’ then one can set up ‘mydata.R’ to read ‘mydata.txt’\n",
       "     and pre-process it, e.g., using ‘transform’.  For instance one can\n",
       "     convert numeric vectors to factors with the appropriate labels.\n",
       "     Thus, the ‘.R’ file can effectively contain a metadata\n",
       "     specification for the plaintext formats.\n",
       "\n",
       "_\bS_\be_\be _\bA_\bl_\bs_\bo:\n",
       "\n",
       "     ‘help’ for obtaining documentation on data sets, ‘save’ for\n",
       "     _creating_ the second (‘.rda’) kind of data, typically the most\n",
       "     efficient one.\n",
       "\n",
       "     The ‘Writing R Extensions’ for considerations in preparing the\n",
       "     ‘data’ directory of a package.\n",
       "\n",
       "_\bE_\bx_\ba_\bm_\bp_\bl_\be_\bs:\n",
       "\n",
       "     require(utils)\n",
       "     data()                         # list all available data sets\n",
       "     try(data(package = \"rpart\") )  # list the data sets in the rpart package\n",
       "     data(USArrests, \"VADeaths\")    # load the data sets 'USArrests' and 'VADeaths'\n",
       "     ## Not run:\n",
       "     ## Alternatively\n",
       "     ds <- c(\"USArrests\", \"VADeaths\"); data(list = ds)\n",
       "     ## End(Not run)\n",
       "     \n",
       "     help(USArrests)                # give information on data set 'USArrests'\n",
       "     "
      ]
     },
     "execution_count": 18,
     "metadata": {},
     "output_type": "execute_result"
    }
   ],
   "source": [
    "?data"
   ]
  }
 ],
 "metadata": {
  "kernelspec": {
   "display_name": "R",
   "language": "R",
   "name": "ir"
  },
  "language_info": {
   "codemirror_mode": "r",
   "file_extension": ".r",
   "mimetype": "text/x-r-source",
   "name": "R",
   "pygments_lexer": "r",
   "version": "3.4.1"
  }
 },
 "nbformat": 4,
 "nbformat_minor": 2
}
