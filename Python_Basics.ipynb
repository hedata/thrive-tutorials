{
 "cells": [
  {
   "cell_type": "markdown",
   "metadata": {},
   "source": [
    "# Python Basics\n",
    "\n",
    "If you are completely new to programming at all, <br/>we suggest that you visit http://www.afterhoursprogramming.com/tutorial/Python/Overview/ and get up to speed in a breeze!\n",
    "<br>\n",
    "Nevertheless, here are the basics (like, very basic basics .. ground floor of the elevator)\n",
    "\n",
    "- basic data types (numbers, text, maybe something else?)\n",
    "- variables (holds data for you)\n",
    "- conditions (if X then Y)\n",
    "- loops (repeat stuff until you've found what you are looking for, or done everything you need to do)\n",
    "- exceptions (something went wrong- how do we find out?)\n",
    "- functions (don't like repeating yourself? functions are your friend)"
   ]
  },
  {
   "cell_type": "markdown",
   "metadata": {},
   "source": [
    "## basic data types\n",
    "for now we cover the most important ones\n",
    "- Integer - natural numbers\n",
    "- Float - real numbers\n",
    "- String - for text\n",
    "\n",
    "we'll call type() to figure out the datatype behind!\n",
    "\n",
    "### Integer type\n",
    "basically means number (natural numbers without comma or trailing numbers)\n",
    "https://docs.python.org/3/library/functions.html#int"
   ]
  },
  {
   "cell_type": "code",
   "execution_count": 3,
   "metadata": {
    "collapsed": false
   },
   "outputs": [
    {
     "data": {
      "text/plain": [
       "int"
      ]
     },
     "execution_count": 3,
     "metadata": {},
     "output_type": "execute_result"
    }
   ],
   "source": [
    "type(5)"
   ]
  },
  {
   "cell_type": "markdown",
   "metadata": {},
   "source": [
    "### Float type\n",
    "for everything that goes into detail .. wan't to show Pi to the 30th point? use real variables! "
   ]
  },
  {
   "cell_type": "code",
   "execution_count": 4,
   "metadata": {
    "collapsed": false
   },
   "outputs": [
    {
     "data": {
      "text/plain": [
       "float"
      ]
     },
     "execution_count": 4,
     "metadata": {},
     "output_type": "execute_result"
    }
   ],
   "source": [
    "type(3.1415926) #pi? PIE!"
   ]
  },
  {
   "cell_type": "markdown",
   "metadata": {},
   "source": [
    "### String type\n",
    "For all texts and which is very important for input and output as Python only reads string and what you do with it is your choice)\n",
    "Strings are always written under brackets (\"\") so Python knows where the string starts and ends!"
   ]
  },
  {
   "cell_type": "code",
   "execution_count": 6,
   "metadata": {
    "collapsed": false
   },
   "outputs": [
    {
     "data": {
      "text/plain": [
       "str"
      ]
     },
     "execution_count": 6,
     "metadata": {},
     "output_type": "execute_result"
    }
   ],
   "source": [
    "type(\"I am a string\")"
   ]
  },
  {
   "cell_type": "markdown",
   "metadata": {},
   "source": [
    "There are many other types you'll come across, you can even define your own! But for now these basic types will suffice!"
   ]
  },
  {
   "cell_type": "markdown",
   "metadata": {},
   "source": [
    "## Variables"
   ]
  },
  {
   "cell_type": "markdown",
   "metadata": {},
   "source": [
    "variables are used for _everything_ in Python (or programming)\n",
    "If you want the programm to remember a name, or the number 5 - just put it in a variable. And the best part is, you can always change it (maybe that's why it is called variable?)"
   ]
  },
  {
   "cell_type": "code",
   "execution_count": null,
   "metadata": {
    "collapsed": false
   },
   "outputs": [],
   "source": [
    "# they can store text\n",
    "I_am_a_variable = \"duh\"\n",
    "print(I_am_a_variable)"
   ]
  },
  {
   "cell_type": "code",
   "execution_count": null,
   "metadata": {
    "collapsed": false
   },
   "outputs": [],
   "source": [
    "# or numbers\n",
    "number = 5\n",
    "print(number)"
   ]
  },
  {
   "cell_type": "code",
   "execution_count": null,
   "metadata": {
    "collapsed": false
   },
   "outputs": [],
   "source": [
    "# and can be changed\n",
    "number = number + 5\n",
    "# see the str() function bellow?\n",
    "# it's necessary to cast numbers to str(ing) so the print function can combine it with the other text\n",
    "print(\"Changed number: \"+str(number)) "
   ]
  },
  {
   "cell_type": "code",
   "execution_count": null,
   "metadata": {
    "collapsed": false
   },
   "outputs": [],
   "source": [
    "# or combined\n",
    "print(I_am_a_variable + \" \" + str(number)) # str() again"
   ]
  },
  {
   "cell_type": "markdown",
   "metadata": {},
   "source": [
    "## Conditions\n",
    "\n",
    "Sometimes you have to make choices, conditions help you with that!<br/>\n",
    "Wan't to know if someone is male or female? Here's how:"
   ]
  },
  {
   "cell_type": "code",
   "execution_count": 1,
   "metadata": {
    "collapsed": false
   },
   "outputs": [
    {
     "name": "stdout",
     "output_type": "stream",
     "text": [
      "Gender? male\n",
      "You are male\n"
     ]
    }
   ],
   "source": [
    "gender = input(\"Gender? \")\n",
    "if gender == \"male\":\n",
    "    print(\"You are male\")\n",
    "elif gender == \"female\":\n",
    "    print(\"You are female\")\n",
    "else:\n",
    "    print(\"Unknown gender!\")"
   ]
  },
  {
   "cell_type": "markdown",
   "metadata": {},
   "source": [
    "or want to know if your dog someone is above a certain age? <br/>\n",
    "caution with the input this time, it has to be cast to int! If you don't put in a number this program will fail. For more infos look down for \"Exceptions\""
   ]
  },
  {
   "cell_type": "code",
   "execution_count": 2,
   "metadata": {
    "collapsed": false
   },
   "outputs": [
    {
     "name": "stdout",
     "output_type": "stream",
     "text": [
      "Age of your dog? 12\n",
      "Your dog is a senior\n"
     ]
    }
   ],
   "source": [
    "age = int(input(\"Age of your dog? \"))\n",
    "if age < 6:\n",
    "    print(\"Your dog is a junior!\")\n",
    "else:\n",
    "    print(\"Your dog is a senior\")"
   ]
  },
  {
   "cell_type": "markdown",
   "metadata": {},
   "source": [
    "you can use \n",
    "- x = y  -- is it the same?\n",
    "- x < y  -- is x smaller than y (also works the other way round)\n",
    "- x != y -- is x not the same as y\n",
    "- x <= y -- is x smaller or equal to y\n",
    "\n",
    "more information about the IF statement: https://docs.python.org/3/reference/compound_stmts.html#the-if-statement"
   ]
  },
  {
   "cell_type": "markdown",
   "metadata": {},
   "source": [
    "## Loops\n",
    "We're repeating stuff, not what we've learned until now but for example, you want to count til 10. <br/>\n",
    "\n",
    "### For-loop\n",
    "In this case you should look for the FOR loop which does exactly that (and more - maybe count from 15 to 30? :O)"
   ]
  },
  {
   "cell_type": "code",
   "execution_count": 13,
   "metadata": {
    "collapsed": false
   },
   "outputs": [
    {
     "name": "stdout",
     "output_type": "stream",
     "text": [
      "Zero to 3\n",
      "0\n",
      "1\n",
      "2\n",
      "3\n",
      "15 to 20\n",
      "15\n",
      "16\n",
      "17\n",
      "18\n",
      "19\n",
      "20\n"
     ]
    }
   ],
   "source": [
    "# 1 to 5\n",
    "print(\"Zero to 3\")\n",
    "for i in range(4):\n",
    "    print(i)\n",
    "# 15 to 30\n",
    "print(\"15 to 20\")\n",
    "for i in range(6):\n",
    "    print(15+i)"
   ]
  },
  {
   "cell_type": "markdown",
   "metadata": {},
   "source": [
    "more information as usual on the python reference: https://docs.python.org/3/reference/compound_stmts.html#for"
   ]
  },
  {
   "cell_type": "markdown",
   "metadata": {},
   "source": [
    "### While-loop\n",
    "it is also possible to creat a loop that exits whenever a certain condition is met - eg. we'll ask for your Input and only quit when it's \"Awesome!\""
   ]
  },
  {
   "cell_type": "code",
   "execution_count": 10,
   "metadata": {
    "collapsed": false
   },
   "outputs": [
    {
     "name": "stdout",
     "output_type": "stream",
     "text": [
      "Please enter text asdf\n",
      "Please enter text Awesome!\n",
      "Thanks for the compliment! :-)\n"
     ]
    }
   ],
   "source": [
    "strInput = \"\" #the variable needs to be introduced before it can be compared with your input text\n",
    "while (strInput!= \"Awesome!\"):               # start the loop\n",
    "    strInput = input(\"Please enter text \")    # ask for input and put it into the variable\n",
    "print(\"Thanks for the compliment! :-)\")"
   ]
  },
  {
   "cell_type": "markdown",
   "metadata": {},
   "source": [
    "## Exceptions\n",
    "For now we've always assumed that the user does things as he should. But what if we want a number in the input and our user stupidly decides to mess with our program? Don't worry - Exceptions have your back!\n",
    "\n",
    "\n",
    "If you execute this part, you'll see once you enter a text the programm will get a bit passive aggressive!"
   ]
  },
  {
   "cell_type": "code",
   "execution_count": 8,
   "metadata": {
    "collapsed": false
   },
   "outputs": [
    {
     "name": "stdout",
     "output_type": "stream",
     "text": [
      "Please enter a number asfdasdf\n",
      "Why didn't you listen? :-(\n"
     ]
    }
   ],
   "source": [
    "try:\n",
    "    intInput = int(input(\"Please enter a number \"))     # we take the input and cast it to int()\n",
    "    print(\"Thank you very much!\")\n",
    "except:\n",
    "    print(\"Why didn't you listen? :-(\")"
   ]
  },
  {
   "cell_type": "markdown",
   "metadata": {},
   "source": [
    "## Functions\n",
    "Last but not least, in this short tutorial are functions. It is advisable, once your code grows too big, to structure it properly. Here's a short example on how to do it\n",
    "\n",
    "the keywoard here is def - give the function a name, tell it how many parameters it has to take, return a value and you're set.\n",
    "Here's an easy one:"
   ]
  },
  {
   "cell_type": "code",
   "execution_count": 11,
   "metadata": {
    "collapsed": false
   },
   "outputs": [
    {
     "name": "stdout",
     "output_type": "stream",
     "text": [
      "10\n"
     ]
    }
   ],
   "source": [
    "def addStuff(x,y):\n",
    "    value = x + y\n",
    "    return value\n",
    "\n",
    "print(addStuff(5,5))"
   ]
  },
  {
   "cell_type": "markdown",
   "metadata": {},
   "source": [
    "With these basic tools you're set to start with more advanced topics in your domain. Just use the tutorial search engine and go for it!\n",
    "Looking for more references to learn programming from the scratch - go here: \n",
    "- https://www.python.org/about/gettingstarted/\n",
    "- http://www.greenteapress.com/thinkpython/"
   ]
  },
  {
   "cell_type": "code",
   "execution_count": null,
   "metadata": {
    "collapsed": true
   },
   "outputs": [],
   "source": []
  }
 ],
 "metadata": {
  "kernelspec": {
   "display_name": "Python 3",
   "language": "python",
   "name": "python3"
  },
  "language_info": {
   "codemirror_mode": {
    "name": "ipython",
    "version": 3
   },
   "file_extension": ".py",
   "mimetype": "text/x-python",
   "name": "python",
   "nbconvert_exporter": "python",
   "pygments_lexer": "ipython3",
   "version": "3.5.0"
  }
 },
 "nbformat": 4,
 "nbformat_minor": 0
}
