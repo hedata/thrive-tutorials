{
 "cells": [
  {
   "cell_type": "markdown",
   "metadata": {},
   "source": [
    "# Analysis of one sample of data"
   ]
  },
  {
   "cell_type": "markdown",
   "metadata": {},
   "source": [
    "This script shows how to\n",
    "\n",
    "- Use a t-test for a single mean\n",
    "- Use a non-parametric test (Wilcoxon signed rank) to check a single mean \n",
    "- Compare the values from the t-distribution with those of a normal distribution\n",
    "\n",
    "Author: Thomas Haslwanter, Date:   June-2014"
   ]
  },
  {
   "cell_type": "code",
   "execution_count": 1,
   "metadata": {
    "collapsed": false
   },
   "outputs": [
    {
     "name": "stdout",
     "output_type": "stream",
     "text": [
      "Populating the interactive namespace from numpy and matplotlib\n"
     ]
    }
   ],
   "source": [
    "#filter warnings\n",
    "import warnings\n",
    "warnings.filterwarnings('ignore')\n",
    "%pylab inline\n",
    "import scipy.stats as stats\n",
    "from urllib.request import urlopen"
   ]
  },
  {
   "cell_type": "markdown",
   "metadata": {},
   "source": [
    "## Check Mean"
   ]
  },
  {
   "cell_type": "markdown",
   "metadata": {},
   "source": [
    "Data from Altman, check for significance of mean value:\n",
    "\n",
    "*Take the average daily energy intake (kJ) over 10 days of 11 healthy women, and compare it to the recommended level of 7725 kJ.*"
   ]
  },
  {
   "cell_type": "code",
   "execution_count": 5,
   "metadata": {
    "collapsed": false
   },
   "outputs": [
    {
     "name": "stdout",
     "output_type": "stream",
     "text": [
      "Mean and SD: 6753.64 and 1142.12\n",
      "The confidence intervals are 5986.35 to 7520.93.\n",
      "7725.00 is significantly different from the mean (p=0.018).\n",
      "It is unlikely that the value is 7725.\n"
     ]
    }
   ],
   "source": [
    "# Get data from Altman\n",
    "inFile = 'altman_91.txt'\n",
    "url_base = 'https://raw.githubusercontent.com/thomas-haslwanter/statsintro_python/master/ipynb/Data/data_altman/'\n",
    "url = url_base + inFile\n",
    "data = genfromtxt(urlopen(url), delimiter=',')\n",
    "\n",
    "# Watch out: by default the SD is calculated with 1/N!\n",
    "myMean = np.mean(data)\n",
    "mySD = np.std(data, ddof=1)\n",
    "print('Mean and SD: {0:4.2f} and {1:4.2f}'.format(myMean, mySD))\n",
    "\n",
    "# Confidence intervals\n",
    "tf = stats.t(len(data)-1)\n",
    "ci = np.mean(data) + stats.sem(data)*np.array([-1,1])*tf.ppf(0.975)\n",
    "print('The confidence intervals are {0:4.2f} to {1:4.2f}.'.format(ci[0], ci[1]))\n",
    "\n",
    "# Check for significance\n",
    "checkValue = 7725\n",
    "t, prob = stats.ttest_1samp(data, checkValue)\n",
    "if prob < 0.05:\n",
    "    print('{0:4.2f} is significantly different from the mean (p={1:5.3f}).'.format(checkValue, prob))\n",
    "\n",
    "# For not normally distributed data, use the Wilcoxon signed rank test\n",
    "(rank, pVal) = stats.wilcoxon(data-checkValue)\n",
    "if pVal < 0.05:\n",
    "    issignificant = 'unlikely'\n",
    "else:\n",
    "    issignificant = 'likely'\n",
    "    \n",
    "print('It is ' + issignificant + ' that the value is {0:d}.'.format(checkValue))"
   ]
  },
  {
   "cell_type": "markdown",
   "metadata": {},
   "source": [
    "## Compare with Normal Distribution"
   ]
  },
  {
   "cell_type": "code",
   "execution_count": 6,
   "metadata": {
    "collapsed": false
   },
   "outputs": [
    {
     "name": "stdout",
     "output_type": "stream",
     "text": [
      "t=1.9252254884316808, p=0.05707107880872914\n",
      "The probability from the t-test is 0.0571, and from the normal distribution 0.0542\n"
     ]
    }
   ],
   "source": [
    "# generate the data\n",
    "random.seed(12345)\n",
    "normDist = stats.norm(loc=7, scale=3)\n",
    "data = normDist.rvs(100)\n",
    "checkVal = 6.5\n",
    "\n",
    "# t-tes\n",
    "t, tProb = stats.ttest_1samp(data, checkVal)\n",
    "print('t={0}, p={1}'.format(t, tProb))\n",
    "\n",
    "# Comparison with corresponding normal distribution\n",
    "mmean = mean(data)\n",
    "mstd = std(data, ddof=1)\n",
    "normProb = stats.norm.cdf(checkVal, loc=mmean,\n",
    "        scale=mstd/np.sqrt(len(data)))*2\n",
    "\n",
    "# compare\n",
    "print('The probability from the t-test is ' + '{0:5.4f}, and from the normal distribution {1:5.4f}'.format(tProb, normProb))\n"
   ]
  }
 ],
 "metadata": {
  "kernelspec": {
   "display_name": "Python 3",
   "language": "python",
   "name": "python3"
  },
  "language_info": {
   "codemirror_mode": {
    "name": "ipython",
    "version": 3
   },
   "file_extension": ".py",
   "mimetype": "text/x-python",
   "name": "python",
   "nbconvert_exporter": "python",
   "pygments_lexer": "ipython3",
   "version": "3.4.3+"
  }
 },
 "nbformat": 4,
 "nbformat_minor": 0
}
