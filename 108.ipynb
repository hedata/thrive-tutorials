{
 "cells": [
  {
   "cell_type": "markdown",
   "metadata": {},
   "source": [
    "# Changing the order of levels of a factor\n",
    "Credits: http://www.cookbook-r.com/ (Creative Commons Attribution-Share Alike 3.0 Unported License)"
   ]
  },
  {
   "cell_type": "markdown",
   "metadata": {},
   "source": [
    "## Problem\n",
    "You want to change the order in which the levels of a factor appear.\n",
    "\n",
    "## Solution\n",
    "Factors in R come in two varieties: **ordered** and **unordered**, e.g., {small, medium, large} and {pen, brush, pencil}. For most analyses, it will not matter whether a factor is **ordered** or **unordered**. If the factor is **ordered**, then the specific order of the levels matters (small < medium < large). If the factor is **unordered**, then the levels will still appear in some order, but the specific order of the levels matters only for convenience (pen, pencil, brush) – it will determine, for example, how output will be printed, or the arrangement of items on a graph.\n",
    "\n",
    "One way to change the level order is to use `factor()` on the factor and specify the order directly. In this example, the function `ordered()` could be used instead of `factor()`.\n",
    "\n",
    "Here’s the sample data:"
   ]
  },
  {
   "cell_type": "code",
   "execution_count": 2,
   "metadata": {
    "collapsed": false
   },
   "outputs": [
    {
     "data": {
      "text/html": [
       "<ol class=list-inline>\n",
       "\t<li>small</li>\n",
       "\t<li>large</li>\n",
       "\t<li>large</li>\n",
       "\t<li>small</li>\n",
       "\t<li>medium</li>\n",
       "</ol>\n"
      ],
      "text/latex": [
       "\\begin{enumerate*}\n",
       "\\item small\n",
       "\\item large\n",
       "\\item large\n",
       "\\item small\n",
       "\\item medium\n",
       "\\end{enumerate*}\n"
      ],
      "text/markdown": [
       "1. small\n",
       "2. large\n",
       "3. large\n",
       "4. small\n",
       "5. medium\n",
       "\n",
       "\n"
      ],
      "text/plain": [
       "[1] small  large  large  small  medium\n",
       "Levels: large medium small"
      ]
     },
     "execution_count": 2,
     "metadata": {},
     "output_type": "execute_result"
    },
    {
     "data": {
      "text/html": [
       "<ol class=list-inline>\n",
       "\t<li>'large'</li>\n",
       "\t<li>'medium'</li>\n",
       "\t<li>'small'</li>\n",
       "</ol>\n"
      ],
      "text/latex": [
       "\\begin{enumerate*}\n",
       "\\item 'large'\n",
       "\\item 'medium'\n",
       "\\item 'small'\n",
       "\\end{enumerate*}\n"
      ],
      "text/markdown": [
       "1. 'large'\n",
       "2. 'medium'\n",
       "3. 'small'\n",
       "\n",
       "\n"
      ],
      "text/plain": [
       "[1] \"large\"  \"medium\" \"small\" "
      ]
     },
     "execution_count": 2,
     "metadata": {},
     "output_type": "execute_result"
    }
   ],
   "source": [
    "# Create a factor with the wrong order of levels\n",
    "sizes <- factor(c(\"small\", \"large\", \"large\", \"small\", \"medium\"))\n",
    "sizes\n",
    "levels(sizes)"
   ]
  },
  {
   "cell_type": "markdown",
   "metadata": {},
   "source": [
    "The levels can be specified explicitly:"
   ]
  },
  {
   "cell_type": "code",
   "execution_count": 3,
   "metadata": {
    "collapsed": false
   },
   "outputs": [
    {
     "data": {
      "text/html": [
       "<ol class=list-inline>\n",
       "\t<li>small</li>\n",
       "\t<li>large</li>\n",
       "\t<li>large</li>\n",
       "\t<li>small</li>\n",
       "\t<li>medium</li>\n",
       "</ol>\n"
      ],
      "text/latex": [
       "\\begin{enumerate*}\n",
       "\\item small\n",
       "\\item large\n",
       "\\item large\n",
       "\\item small\n",
       "\\item medium\n",
       "\\end{enumerate*}\n"
      ],
      "text/markdown": [
       "1. small\n",
       "2. large\n",
       "3. large\n",
       "4. small\n",
       "5. medium\n",
       "\n",
       "\n"
      ],
      "text/plain": [
       "[1] small  large  large  small  medium\n",
       "Levels: small medium large"
      ]
     },
     "execution_count": 3,
     "metadata": {},
     "output_type": "execute_result"
    },
    {
     "data": {
      "text/html": [
       "<ol class=list-inline>\n",
       "\t<li>'small'</li>\n",
       "\t<li>'medium'</li>\n",
       "\t<li>'large'</li>\n",
       "</ol>\n"
      ],
      "text/latex": [
       "\\begin{enumerate*}\n",
       "\\item 'small'\n",
       "\\item 'medium'\n",
       "\\item 'large'\n",
       "\\end{enumerate*}\n"
      ],
      "text/markdown": [
       "1. 'small'\n",
       "2. 'medium'\n",
       "3. 'large'\n",
       "\n",
       "\n"
      ],
      "text/plain": [
       "[1] \"small\"  \"medium\" \"large\" "
      ]
     },
     "execution_count": 3,
     "metadata": {},
     "output_type": "execute_result"
    }
   ],
   "source": [
    "sizes <- factor(sizes, levels = c(\"small\", \"medium\", \"large\"))\n",
    "sizes\n",
    "levels(sizes)"
   ]
  },
  {
   "cell_type": "markdown",
   "metadata": {},
   "source": [
    "We can do the same with an ordered factor:"
   ]
  },
  {
   "cell_type": "code",
   "execution_count": 4,
   "metadata": {
    "collapsed": false
   },
   "outputs": [
    {
     "data": {
      "text/html": [
       "<ol class=list-inline>\n",
       "\t<li>small</li>\n",
       "\t<li>large</li>\n",
       "\t<li>large</li>\n",
       "\t<li>small</li>\n",
       "\t<li>medium</li>\n",
       "</ol>\n"
      ],
      "text/latex": [
       "\\begin{enumerate*}\n",
       "\\item small\n",
       "\\item large\n",
       "\\item large\n",
       "\\item small\n",
       "\\item medium\n",
       "\\end{enumerate*}\n"
      ],
      "text/markdown": [
       "1. small\n",
       "2. large\n",
       "3. large\n",
       "4. small\n",
       "5. medium\n",
       "\n",
       "\n"
      ],
      "text/plain": [
       "[1] small  large  large  small  medium\n",
       "Levels: small < medium < large"
      ]
     },
     "execution_count": 4,
     "metadata": {},
     "output_type": "execute_result"
    },
    {
     "data": {
      "text/html": [
       "<ol class=list-inline>\n",
       "\t<li>'small'</li>\n",
       "\t<li>'medium'</li>\n",
       "\t<li>'large'</li>\n",
       "</ol>\n"
      ],
      "text/latex": [
       "\\begin{enumerate*}\n",
       "\\item 'small'\n",
       "\\item 'medium'\n",
       "\\item 'large'\n",
       "\\end{enumerate*}\n"
      ],
      "text/markdown": [
       "1. 'small'\n",
       "2. 'medium'\n",
       "3. 'large'\n",
       "\n",
       "\n"
      ],
      "text/plain": [
       "[1] \"small\"  \"medium\" \"large\" "
      ]
     },
     "execution_count": 4,
     "metadata": {},
     "output_type": "execute_result"
    }
   ],
   "source": [
    "sizes <- ordered(c(\"small\", \"large\", \"large\", \"small\", \"medium\"))\n",
    "sizes <- ordered(sizes, levels = c(\"small\", \"medium\", \"large\"))\n",
    "\n",
    "sizes\n",
    "levels(sizes)"
   ]
  },
  {
   "cell_type": "markdown",
   "metadata": {},
   "source": [
    "Another way to change the order is to use relevel() to make a particular level first in the list. (This will not work for ordered factors.)"
   ]
  },
  {
   "cell_type": "code",
   "execution_count": 10,
   "metadata": {
    "collapsed": false
   },
   "outputs": [
    {
     "data": {
      "text/html": [
       "<ol class=list-inline>\n",
       "\t<li>small</li>\n",
       "\t<li>large</li>\n",
       "\t<li>large</li>\n",
       "\t<li>small</li>\n",
       "\t<li>medium</li>\n",
       "</ol>\n"
      ],
      "text/latex": [
       "\\begin{enumerate*}\n",
       "\\item small\n",
       "\\item large\n",
       "\\item large\n",
       "\\item small\n",
       "\\item medium\n",
       "\\end{enumerate*}\n"
      ],
      "text/markdown": [
       "1. small\n",
       "2. large\n",
       "3. large\n",
       "4. small\n",
       "5. medium\n",
       "\n",
       "\n"
      ],
      "text/plain": [
       "[1] small  large  large  small  medium\n",
       "Levels: large medium small"
      ]
     },
     "execution_count": 10,
     "metadata": {},
     "output_type": "execute_result"
    },
    {
     "data": {
      "text/html": [
       "<ol class=list-inline>\n",
       "\t<li>'large'</li>\n",
       "\t<li>'medium'</li>\n",
       "\t<li>'small'</li>\n",
       "</ol>\n"
      ],
      "text/latex": [
       "\\begin{enumerate*}\n",
       "\\item 'large'\n",
       "\\item 'medium'\n",
       "\\item 'small'\n",
       "\\end{enumerate*}\n"
      ],
      "text/markdown": [
       "1. 'large'\n",
       "2. 'medium'\n",
       "3. 'small'\n",
       "\n",
       "\n"
      ],
      "text/plain": [
       "[1] \"large\"  \"medium\" \"small\" "
      ]
     },
     "execution_count": 10,
     "metadata": {},
     "output_type": "execute_result"
    }
   ],
   "source": [
    "# Create a factor with the wrong order of levels\n",
    "sizes <- factor(c(\"small\", \"large\", \"large\", \"small\", \"medium\"))\n",
    "\n",
    "sizes\n",
    "levels(sizes)"
   ]
  },
  {
   "cell_type": "code",
   "execution_count": 9,
   "metadata": {
    "collapsed": false
   },
   "outputs": [
    {
     "data": {
      "text/html": [
       "<ol class=list-inline>\n",
       "\t<li>small</li>\n",
       "\t<li>large</li>\n",
       "\t<li>large</li>\n",
       "\t<li>small</li>\n",
       "\t<li>medium</li>\n",
       "</ol>\n"
      ],
      "text/latex": [
       "\\begin{enumerate*}\n",
       "\\item small\n",
       "\\item large\n",
       "\\item large\n",
       "\\item small\n",
       "\\item medium\n",
       "\\end{enumerate*}\n"
      ],
      "text/markdown": [
       "1. small\n",
       "2. large\n",
       "3. large\n",
       "4. small\n",
       "5. medium\n",
       "\n",
       "\n"
      ],
      "text/plain": [
       "[1] small  large  large  small  medium\n",
       "Levels: medium small large"
      ]
     },
     "execution_count": 9,
     "metadata": {},
     "output_type": "execute_result"
    },
    {
     "data": {
      "text/html": [
       "<ol class=list-inline>\n",
       "\t<li>'medium'</li>\n",
       "\t<li>'small'</li>\n",
       "\t<li>'large'</li>\n",
       "</ol>\n"
      ],
      "text/latex": [
       "\\begin{enumerate*}\n",
       "\\item 'medium'\n",
       "\\item 'small'\n",
       "\\item 'large'\n",
       "\\end{enumerate*}\n"
      ],
      "text/markdown": [
       "1. 'medium'\n",
       "2. 'small'\n",
       "3. 'large'\n",
       "\n",
       "\n"
      ],
      "text/plain": [
       "[1] \"medium\" \"small\"  \"large\" "
      ]
     },
     "execution_count": 9,
     "metadata": {},
     "output_type": "execute_result"
    }
   ],
   "source": [
    "# Make medium first\n",
    "sizes <- relevel(sizes, \"medium\")\n",
    "\n",
    "sizes\n",
    "levels(sizes)"
   ]
  },
  {
   "cell_type": "code",
   "execution_count": 8,
   "metadata": {
    "collapsed": false
   },
   "outputs": [
    {
     "data": {
      "text/html": [
       "<ol class=list-inline>\n",
       "\t<li>small</li>\n",
       "\t<li>large</li>\n",
       "\t<li>large</li>\n",
       "\t<li>small</li>\n",
       "\t<li>medium</li>\n",
       "</ol>\n"
      ],
      "text/latex": [
       "\\begin{enumerate*}\n",
       "\\item small\n",
       "\\item large\n",
       "\\item large\n",
       "\\item small\n",
       "\\item medium\n",
       "\\end{enumerate*}\n"
      ],
      "text/markdown": [
       "1. small\n",
       "2. large\n",
       "3. large\n",
       "4. small\n",
       "5. medium\n",
       "\n",
       "\n"
      ],
      "text/plain": [
       "[1] small  large  large  small  medium\n",
       "Levels: small medium large"
      ]
     },
     "execution_count": 8,
     "metadata": {},
     "output_type": "execute_result"
    },
    {
     "data": {
      "text/html": [
       "<ol class=list-inline>\n",
       "\t<li>'small'</li>\n",
       "\t<li>'medium'</li>\n",
       "\t<li>'large'</li>\n",
       "</ol>\n"
      ],
      "text/latex": [
       "\\begin{enumerate*}\n",
       "\\item 'small'\n",
       "\\item 'medium'\n",
       "\\item 'large'\n",
       "\\end{enumerate*}\n"
      ],
      "text/markdown": [
       "1. 'small'\n",
       "2. 'medium'\n",
       "3. 'large'\n",
       "\n",
       "\n"
      ],
      "text/plain": [
       "[1] \"small\"  \"medium\" \"large\" "
      ]
     },
     "execution_count": 8,
     "metadata": {},
     "output_type": "execute_result"
    }
   ],
   "source": [
    "# Make small first\n",
    "sizes <- relevel(sizes, \"small\")\n",
    "\n",
    "sizes\n",
    "levels(sizes)"
   ]
  },
  {
   "cell_type": "markdown",
   "metadata": {},
   "source": [
    "You can also specify the proper order when the factor is created."
   ]
  },
  {
   "cell_type": "code",
   "execution_count": 11,
   "metadata": {
    "collapsed": false
   },
   "outputs": [
    {
     "data": {
      "text/html": [
       "<ol class=list-inline>\n",
       "\t<li>small</li>\n",
       "\t<li>large</li>\n",
       "\t<li>large</li>\n",
       "\t<li>small</li>\n",
       "\t<li>medium</li>\n",
       "</ol>\n"
      ],
      "text/latex": [
       "\\begin{enumerate*}\n",
       "\\item small\n",
       "\\item large\n",
       "\\item large\n",
       "\\item small\n",
       "\\item medium\n",
       "\\end{enumerate*}\n"
      ],
      "text/markdown": [
       "1. small\n",
       "2. large\n",
       "3. large\n",
       "4. small\n",
       "5. medium\n",
       "\n",
       "\n"
      ],
      "text/plain": [
       "[1] small  large  large  small  medium\n",
       "Levels: small medium large"
      ]
     },
     "execution_count": 11,
     "metadata": {},
     "output_type": "execute_result"
    },
    {
     "data": {
      "text/html": [
       "<ol class=list-inline>\n",
       "\t<li>'small'</li>\n",
       "\t<li>'medium'</li>\n",
       "\t<li>'large'</li>\n",
       "</ol>\n"
      ],
      "text/latex": [
       "\\begin{enumerate*}\n",
       "\\item 'small'\n",
       "\\item 'medium'\n",
       "\\item 'large'\n",
       "\\end{enumerate*}\n"
      ],
      "text/markdown": [
       "1. 'small'\n",
       "2. 'medium'\n",
       "3. 'large'\n",
       "\n",
       "\n"
      ],
      "text/plain": [
       "[1] \"small\"  \"medium\" \"large\" "
      ]
     },
     "execution_count": 11,
     "metadata": {},
     "output_type": "execute_result"
    }
   ],
   "source": [
    "sizes <- factor(c(\"small\", \"large\", \"large\", \"small\", \"medium\"),\n",
    "                levels = c(\"small\", \"medium\", \"large\"))\n",
    "\n",
    "sizes\n",
    "levels(sizes)"
   ]
  },
  {
   "cell_type": "markdown",
   "metadata": {},
   "source": [
    "To reverse the order of levels in a factor:"
   ]
  },
  {
   "cell_type": "code",
   "execution_count": 12,
   "metadata": {
    "collapsed": false
   },
   "outputs": [
    {
     "data": {
      "text/html": [
       "<ol class=list-inline>\n",
       "\t<li>small</li>\n",
       "\t<li>large</li>\n",
       "\t<li>large</li>\n",
       "\t<li>small</li>\n",
       "\t<li>medium</li>\n",
       "</ol>\n"
      ],
      "text/latex": [
       "\\begin{enumerate*}\n",
       "\\item small\n",
       "\\item large\n",
       "\\item large\n",
       "\\item small\n",
       "\\item medium\n",
       "\\end{enumerate*}\n"
      ],
      "text/markdown": [
       "1. small\n",
       "2. large\n",
       "3. large\n",
       "4. small\n",
       "5. medium\n",
       "\n",
       "\n"
      ],
      "text/plain": [
       "[1] small  large  large  small  medium\n",
       "Levels: large medium small"
      ]
     },
     "execution_count": 12,
     "metadata": {},
     "output_type": "execute_result"
    },
    {
     "data": {
      "text/html": [
       "<ol class=list-inline>\n",
       "\t<li>'large'</li>\n",
       "\t<li>'medium'</li>\n",
       "\t<li>'small'</li>\n",
       "</ol>\n"
      ],
      "text/latex": [
       "\\begin{enumerate*}\n",
       "\\item 'large'\n",
       "\\item 'medium'\n",
       "\\item 'small'\n",
       "\\end{enumerate*}\n"
      ],
      "text/markdown": [
       "1. 'large'\n",
       "2. 'medium'\n",
       "3. 'small'\n",
       "\n",
       "\n"
      ],
      "text/plain": [
       "[1] \"large\"  \"medium\" \"small\" "
      ]
     },
     "execution_count": 12,
     "metadata": {},
     "output_type": "execute_result"
    }
   ],
   "source": [
    "# Create a factor with the wrong order of levels\n",
    "sizes <- factor(c(\"small\", \"large\", \"large\", \"small\", \"medium\"))\n",
    "\n",
    "sizes\n",
    "levels(sizes)"
   ]
  },
  {
   "cell_type": "code",
   "execution_count": 13,
   "metadata": {
    "collapsed": false
   },
   "outputs": [
    {
     "data": {
      "text/html": [
       "<ol class=list-inline>\n",
       "\t<li>small</li>\n",
       "\t<li>large</li>\n",
       "\t<li>large</li>\n",
       "\t<li>small</li>\n",
       "\t<li>medium</li>\n",
       "</ol>\n"
      ],
      "text/latex": [
       "\\begin{enumerate*}\n",
       "\\item small\n",
       "\\item large\n",
       "\\item large\n",
       "\\item small\n",
       "\\item medium\n",
       "\\end{enumerate*}\n"
      ],
      "text/markdown": [
       "1. small\n",
       "2. large\n",
       "3. large\n",
       "4. small\n",
       "5. medium\n",
       "\n",
       "\n"
      ],
      "text/plain": [
       "[1] small  large  large  small  medium\n",
       "Levels: small medium large"
      ]
     },
     "execution_count": 13,
     "metadata": {},
     "output_type": "execute_result"
    },
    {
     "data": {
      "text/html": [
       "<ol class=list-inline>\n",
       "\t<li>'small'</li>\n",
       "\t<li>'medium'</li>\n",
       "\t<li>'large'</li>\n",
       "</ol>\n"
      ],
      "text/latex": [
       "\\begin{enumerate*}\n",
       "\\item 'small'\n",
       "\\item 'medium'\n",
       "\\item 'large'\n",
       "\\end{enumerate*}\n"
      ],
      "text/markdown": [
       "1. 'small'\n",
       "2. 'medium'\n",
       "3. 'large'\n",
       "\n",
       "\n"
      ],
      "text/plain": [
       "[1] \"small\"  \"medium\" \"large\" "
      ]
     },
     "execution_count": 13,
     "metadata": {},
     "output_type": "execute_result"
    }
   ],
   "source": [
    "sizes <- factor(sizes, levels=rev(levels(sizes)))\n",
    "\n",
    "sizes\n",
    "levels(sizes)"
   ]
  },
  {
   "cell_type": "code",
   "execution_count": null,
   "metadata": {
    "collapsed": true
   },
   "outputs": [],
   "source": []
  }
 ],
 "metadata": {
  "kernelspec": {
   "display_name": "R",
   "language": "R",
   "name": "ir"
  },
  "language_info": {
   "codemirror_mode": "r",
   "file_extension": ".r",
   "mimetype": "text/x-r-source",
   "name": "R",
   "pygments_lexer": "r",
   "version": "3.2.0"
  }
 },
 "nbformat": 4,
 "nbformat_minor": 0
}
