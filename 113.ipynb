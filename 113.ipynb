{
 "cells": [
  {
   "cell_type": "markdown",
   "metadata": {},
   "source": [
    "# Comparing data frames\n",
    "Credits: http://www.cookbook-r.com/ (Creative Commons Attribution-Share Alike 3.0 Unported License)"
   ]
  },
  {
   "cell_type": "markdown",
   "metadata": {},
   "source": [
    "## Problem\n",
    "You want to do compare two or more data frames and find rows that appear in more than one data frame, or rows that appear only in one data frame.\n",
    "\n",
    "## Solution\n",
    "### An example\n",
    "Suppose you have the following three data frames, and you want to know whether each row from each data frame appears in at least one of the other data frames."
   ]
  },
  {
   "cell_type": "code",
   "execution_count": 6,
   "metadata": {
    "collapsed": false
   },
   "outputs": [
    {
     "data": {
      "text/html": [
       "<table>\n",
       "<thead><tr><th></th><th scope=col>Subject</th><th scope=col>Response</th></tr></thead>\n",
       "<tbody>\n",
       "\t<tr><th scope=row>1</th><td>1</td><td>X</td></tr>\n",
       "\t<tr><th scope=row>2</th><td>1</td><td>X</td></tr>\n",
       "\t<tr><th scope=row>3</th><td>2</td><td>X</td></tr>\n",
       "\t<tr><th scope=row>4</th><td>2</td><td>X</td></tr>\n",
       "</tbody>\n",
       "</table>\n"
      ],
      "text/latex": [
       "\\begin{tabular}{r|ll}\n",
       "  & Subject & Response\\\\\n",
       "\\hline\n",
       "\t1 & 1 & X\\\\\n",
       "\t2 & 1 & X\\\\\n",
       "\t3 & 2 & X\\\\\n",
       "\t4 & 2 & X\\\\\n",
       "\\end{tabular}\n"
      ],
      "text/plain": [
       "  Subject Response\n",
       "1       1        X\n",
       "2       1        X\n",
       "3       2        X\n",
       "4       2        X"
      ]
     },
     "execution_count": 6,
     "metadata": {},
     "output_type": "execute_result"
    }
   ],
   "source": [
    "dfA <- data.frame(Subject=c(1,1,2,2), Response=c(\"X\",\"X\",\"X\",\"X\"))\n",
    "dfA"
   ]
  },
  {
   "cell_type": "code",
   "execution_count": 2,
   "metadata": {
    "collapsed": false
   },
   "outputs": [
    {
     "data": {
      "text/html": [
       "<table>\n",
       "<thead><tr><th></th><th scope=col>Subject</th><th scope=col>Response</th></tr></thead>\n",
       "<tbody>\n",
       "\t<tr><th scope=row>1</th><td>1</td><td>X</td></tr>\n",
       "\t<tr><th scope=row>2</th><td>2</td><td>Y</td></tr>\n",
       "\t<tr><th scope=row>3</th><td>3</td><td>X</td></tr>\n",
       "</tbody>\n",
       "</table>\n"
      ],
      "text/latex": [
       "\\begin{tabular}{r|ll}\n",
       "  & Subject & Response\\\\\n",
       "\\hline\n",
       "\t1 & 1 & X\\\\\n",
       "\t2 & 2 & Y\\\\\n",
       "\t3 & 3 & X\\\\\n",
       "\\end{tabular}\n"
      ],
      "text/plain": [
       "  Subject Response\n",
       "1       1        X\n",
       "2       2        Y\n",
       "3       3        X"
      ]
     },
     "execution_count": 2,
     "metadata": {},
     "output_type": "execute_result"
    }
   ],
   "source": [
    "dfB <- data.frame(Subject=c(1,2,3), Response=c(\"X\",\"Y\",\"X\"))\n",
    "dfB"
   ]
  },
  {
   "cell_type": "code",
   "execution_count": 3,
   "metadata": {
    "collapsed": false
   },
   "outputs": [
    {
     "data": {
      "text/html": [
       "<table>\n",
       "<thead><tr><th></th><th scope=col>Subject</th><th scope=col>Response</th></tr></thead>\n",
       "<tbody>\n",
       "\t<tr><th scope=row>1</th><td>1</td><td>Z</td></tr>\n",
       "\t<tr><th scope=row>2</th><td>2</td><td>Y</td></tr>\n",
       "\t<tr><th scope=row>3</th><td>3</td><td>Z</td></tr>\n",
       "</tbody>\n",
       "</table>\n"
      ],
      "text/latex": [
       "\\begin{tabular}{r|ll}\n",
       "  & Subject & Response\\\\\n",
       "\\hline\n",
       "\t1 & 1 & Z\\\\\n",
       "\t2 & 2 & Y\\\\\n",
       "\t3 & 3 & Z\\\\\n",
       "\\end{tabular}\n"
      ],
      "text/plain": [
       "  Subject Response\n",
       "1       1        Z\n",
       "2       2        Y\n",
       "3       3        Z"
      ]
     },
     "execution_count": 3,
     "metadata": {},
     "output_type": "execute_result"
    }
   ],
   "source": [
    "dfC <- data.frame(Subject=c(1,2,3), Response=c(\"Z\",\"Y\",\"Z\"))\n",
    "dfC"
   ]
  },
  {
   "cell_type": "markdown",
   "metadata": {},
   "source": [
    "In dfA, the rows containing (1,X) also appear in dfB, but the rows containing (2,X) do not appear in any of the other data frames. Similarly, dfB contains (1,X) which appears in dfA, and (2,Y), which appears in dfC, but (3,X) does not appear in any other data frame.\n",
    "\n",
    "You might wish to mark the rows which are duplicated in another data frame, or which are unique to each data frame.\n",
    "\n",
    "### Joining the data frames\n",
    "\n",
    "To proceed, first join the three data frames with a column identifying which source each row came from. It’s called `Coder` here because this could be data coded by three different people. In this case, you might wish to find where the coders agreed, or where they disagreed."
   ]
  },
  {
   "cell_type": "code",
   "execution_count": 4,
   "metadata": {
    "collapsed": false
   },
   "outputs": [
    {
     "data": {
      "text/html": [
       "<table>\n",
       "<thead><tr><th></th><th scope=col>Coder</th><th scope=col>Subject</th><th scope=col>Response</th></tr></thead>\n",
       "<tbody>\n",
       "\t<tr><th scope=row>1</th><td>A</td><td>1</td><td>X</td></tr>\n",
       "\t<tr><th scope=row>2</th><td>A</td><td>1</td><td>X</td></tr>\n",
       "\t<tr><th scope=row>3</th><td>A</td><td>2</td><td>X</td></tr>\n",
       "\t<tr><th scope=row>4</th><td>A</td><td>2</td><td>X</td></tr>\n",
       "\t<tr><th scope=row>5</th><td>B</td><td>1</td><td>X</td></tr>\n",
       "\t<tr><th scope=row>6</th><td>B</td><td>2</td><td>Y</td></tr>\n",
       "\t<tr><th scope=row>7</th><td>B</td><td>3</td><td>X</td></tr>\n",
       "\t<tr><th scope=row>8</th><td>C</td><td>1</td><td>Z</td></tr>\n",
       "\t<tr><th scope=row>9</th><td>C</td><td>2</td><td>Y</td></tr>\n",
       "\t<tr><th scope=row>10</th><td>C</td><td>3</td><td>Z</td></tr>\n",
       "</tbody>\n",
       "</table>\n"
      ],
      "text/latex": [
       "\\begin{tabular}{r|lll}\n",
       "  & Coder & Subject & Response\\\\\n",
       "\\hline\n",
       "\t1 & A & 1 & X\\\\\n",
       "\t2 & A & 1 & X\\\\\n",
       "\t3 & A & 2 & X\\\\\n",
       "\t4 & A & 2 & X\\\\\n",
       "\t5 & B & 1 & X\\\\\n",
       "\t6 & B & 2 & Y\\\\\n",
       "\t7 & B & 3 & X\\\\\n",
       "\t8 & C & 1 & Z\\\\\n",
       "\t9 & C & 2 & Y\\\\\n",
       "\t10 & C & 3 & Z\\\\\n",
       "\\end{tabular}\n"
      ],
      "text/plain": [
       "   Coder Subject Response\n",
       "1      A       1        X\n",
       "2      A       1        X\n",
       "3      A       2        X\n",
       "4      A       2        X\n",
       "5      B       1        X\n",
       "6      B       2        Y\n",
       "7      B       3        X\n",
       "8      C       1        Z\n",
       "9      C       2        Y\n",
       "10     C       3        Z"
      ]
     },
     "execution_count": 4,
     "metadata": {},
     "output_type": "execute_result"
    }
   ],
   "source": [
    "dfA$Coder <- \"A\"\n",
    "dfB$Coder <- \"B\"\n",
    "dfC$Coder <- \"C\"\n",
    "\n",
    "df <- rbind(dfA, dfB, dfC)                    # Stick them together\n",
    "df <- df[,c(\"Coder\", \"Subject\", \"Response\")]  # Reorder the columns to look nice\n",
    "df"
   ]
  },
  {
   "cell_type": "markdown",
   "metadata": {},
   "source": [
    "If your data starts out in this format, then there’s obviously no need to join it together.\n",
    "### Finding duplicated rows\n",
    "Using the function dupsBetweenGroups (defined below), we can find which rows are duplicated between different groups:"
   ]
  },
  {
   "cell_type": "code",
   "execution_count": 7,
   "metadata": {
    "collapsed": false
   },
   "outputs": [],
   "source": [
    "dupsBetweenGroups <- function (df, idcol) {\n",
    "    # df: the data frame\n",
    "    # idcol: the column which identifies the group each row belongs to\n",
    "\n",
    "    # Get the data columns to use for finding matches\n",
    "    datacols <- setdiff(names(df), idcol)\n",
    "\n",
    "    # Sort by idcol, then datacols. Save order so we can undo the sorting later.\n",
    "    sortorder <- do.call(order, df)\n",
    "    df <- df[sortorder,]\n",
    "\n",
    "    # Find duplicates within each id group (first copy not marked)\n",
    "    dupWithin <- duplicated(df)\n",
    "\n",
    "    # With duplicates within each group filtered out, find duplicates between groups. \n",
    "    # Need to scan up and down with duplicated() because first copy is not marked.\n",
    "    dupBetween = rep(NA, nrow(df))\n",
    "    dupBetween[!dupWithin] <- duplicated(df[!dupWithin,datacols])\n",
    "    dupBetween[!dupWithin] <- duplicated(df[!dupWithin,datacols], fromLast=TRUE) | dupBetween[!dupWithin]\n",
    "\n",
    "    # ============= Replace NA's with previous non-NA value ==============\n",
    "    # This is why we sorted earlier - it was necessary to do this part efficiently\n",
    "\n",
    "    # Get indexes of non-NA's\n",
    "    goodIdx <- !is.na(dupBetween)\n",
    "\n",
    "    # These are the non-NA values from x only\n",
    "    # Add a leading NA for later use when we index into this vector\n",
    "    goodVals <- c(NA, dupBetween[goodIdx])\n",
    "\n",
    "    # Fill the indices of the output vector with the indices pulled from\n",
    "    # these offsets of goodVals. Add 1 to avoid indexing to zero.\n",
    "    fillIdx <- cumsum(goodIdx)+1\n",
    "\n",
    "    # The original vector, now with gaps filled\n",
    "    dupBetween <- goodVals[fillIdx]\n",
    "\n",
    "    # Undo the original sort\n",
    "    dupBetween[sortorder] <- dupBetween\n",
    "\n",
    "    # Return the vector of which entries are duplicated across groups\n",
    "    return(dupBetween)\n",
    "}"
   ]
  },
  {
   "cell_type": "code",
   "execution_count": 8,
   "metadata": {
    "collapsed": false
   },
   "outputs": [
    {
     "data": {
      "text/html": [
       "<table>\n",
       "<thead><tr><th></th><th scope=col>Coder</th><th scope=col>Subject</th><th scope=col>Response</th><th scope=col>dup</th></tr></thead>\n",
       "<tbody>\n",
       "\t<tr><th scope=row>1</th><td>A</td><td>1</td><td>X</td><td>TRUE</td></tr>\n",
       "\t<tr><th scope=row>2</th><td>A</td><td>1</td><td>X</td><td>TRUE</td></tr>\n",
       "\t<tr><th scope=row>3</th><td>A</td><td>2</td><td>X</td><td>FALSE</td></tr>\n",
       "\t<tr><th scope=row>4</th><td>A</td><td>2</td><td>X</td><td>FALSE</td></tr>\n",
       "\t<tr><th scope=row>5</th><td>B</td><td>1</td><td>X</td><td>TRUE</td></tr>\n",
       "\t<tr><th scope=row>6</th><td>B</td><td>2</td><td>Y</td><td>TRUE</td></tr>\n",
       "\t<tr><th scope=row>7</th><td>B</td><td>3</td><td>X</td><td>FALSE</td></tr>\n",
       "\t<tr><th scope=row>8</th><td>C</td><td>1</td><td>Z</td><td>FALSE</td></tr>\n",
       "\t<tr><th scope=row>9</th><td>C</td><td>2</td><td>Y</td><td>TRUE</td></tr>\n",
       "\t<tr><th scope=row>10</th><td>C</td><td>3</td><td>Z</td><td>FALSE</td></tr>\n",
       "</tbody>\n",
       "</table>\n"
      ],
      "text/latex": [
       "\\begin{tabular}{r|llll}\n",
       "  & Coder & Subject & Response & dup\\\\\n",
       "\\hline\n",
       "\t1 & A & 1 & X & TRUE\\\\\n",
       "\t2 & A & 1 & X & TRUE\\\\\n",
       "\t3 & A & 2 & X & FALSE\\\\\n",
       "\t4 & A & 2 & X & FALSE\\\\\n",
       "\t5 & B & 1 & X & TRUE\\\\\n",
       "\t6 & B & 2 & Y & TRUE\\\\\n",
       "\t7 & B & 3 & X & FALSE\\\\\n",
       "\t8 & C & 1 & Z & FALSE\\\\\n",
       "\t9 & C & 2 & Y & TRUE\\\\\n",
       "\t10 & C & 3 & Z & FALSE\\\\\n",
       "\\end{tabular}\n"
      ],
      "text/plain": [
       "   Coder Subject Response   dup\n",
       "1      A       1        X  TRUE\n",
       "2      A       1        X  TRUE\n",
       "3      A       2        X FALSE\n",
       "4      A       2        X FALSE\n",
       "5      B       1        X  TRUE\n",
       "6      B       2        Y  TRUE\n",
       "7      B       3        X FALSE\n",
       "8      C       1        Z FALSE\n",
       "9      C       2        Y  TRUE\n",
       "10     C       3        Z FALSE"
      ]
     },
     "execution_count": 8,
     "metadata": {},
     "output_type": "execute_result"
    }
   ],
   "source": [
    "# Find the rows which have duplicates in a different group.\n",
    "dupRows <- dupsBetweenGroups(df, \"Coder\")\n",
    "\n",
    "# Print it alongside the data frame\n",
    "cbind(df, dup=dupRows)"
   ]
  },
  {
   "cell_type": "markdown",
   "metadata": {},
   "source": [
    "Note that this does not mark duplicated rows within a group. With Coder=A, there are two rows with Subject=1 and Response=X, but these are not marked as duplicates.\n",
    "### Finding unique rows\n",
    "It’s also possible to find the rows that are unique within each group:"
   ]
  },
  {
   "cell_type": "code",
   "execution_count": 9,
   "metadata": {
    "collapsed": false
   },
   "outputs": [
    {
     "data": {
      "text/html": [
       "<table>\n",
       "<thead><tr><th></th><th scope=col>Coder</th><th scope=col>Subject</th><th scope=col>Response</th><th scope=col>unique</th></tr></thead>\n",
       "<tbody>\n",
       "\t<tr><th scope=row>1</th><td>A</td><td>1</td><td>X</td><td>FALSE</td></tr>\n",
       "\t<tr><th scope=row>2</th><td>A</td><td>1</td><td>X</td><td>FALSE</td></tr>\n",
       "\t<tr><th scope=row>3</th><td>A</td><td>2</td><td>X</td><td>TRUE</td></tr>\n",
       "\t<tr><th scope=row>4</th><td>A</td><td>2</td><td>X</td><td>TRUE</td></tr>\n",
       "\t<tr><th scope=row>5</th><td>B</td><td>1</td><td>X</td><td>FALSE</td></tr>\n",
       "\t<tr><th scope=row>6</th><td>B</td><td>2</td><td>Y</td><td>FALSE</td></tr>\n",
       "\t<tr><th scope=row>7</th><td>B</td><td>3</td><td>X</td><td>TRUE</td></tr>\n",
       "\t<tr><th scope=row>8</th><td>C</td><td>1</td><td>Z</td><td>TRUE</td></tr>\n",
       "\t<tr><th scope=row>9</th><td>C</td><td>2</td><td>Y</td><td>FALSE</td></tr>\n",
       "\t<tr><th scope=row>10</th><td>C</td><td>3</td><td>Z</td><td>TRUE</td></tr>\n",
       "</tbody>\n",
       "</table>\n"
      ],
      "text/latex": [
       "\\begin{tabular}{r|llll}\n",
       "  & Coder & Subject & Response & unique\\\\\n",
       "\\hline\n",
       "\t1 & A & 1 & X & FALSE\\\\\n",
       "\t2 & A & 1 & X & FALSE\\\\\n",
       "\t3 & A & 2 & X & TRUE\\\\\n",
       "\t4 & A & 2 & X & TRUE\\\\\n",
       "\t5 & B & 1 & X & FALSE\\\\\n",
       "\t6 & B & 2 & Y & FALSE\\\\\n",
       "\t7 & B & 3 & X & TRUE\\\\\n",
       "\t8 & C & 1 & Z & TRUE\\\\\n",
       "\t9 & C & 2 & Y & FALSE\\\\\n",
       "\t10 & C & 3 & Z & TRUE\\\\\n",
       "\\end{tabular}\n"
      ],
      "text/plain": [
       "   Coder Subject Response unique\n",
       "1      A       1        X  FALSE\n",
       "2      A       1        X  FALSE\n",
       "3      A       2        X   TRUE\n",
       "4      A       2        X   TRUE\n",
       "5      B       1        X  FALSE\n",
       "6      B       2        Y  FALSE\n",
       "7      B       3        X   TRUE\n",
       "8      C       1        Z   TRUE\n",
       "9      C       2        Y  FALSE\n",
       "10     C       3        Z   TRUE"
      ]
     },
     "execution_count": 9,
     "metadata": {},
     "output_type": "execute_result"
    }
   ],
   "source": [
    "cbind(df, unique=!dupRows)"
   ]
  },
  {
   "cell_type": "markdown",
   "metadata": {},
   "source": [
    "### Splitting apart the data frame\n",
    "If you wish to split the joined data frame into the three original data frames"
   ]
  },
  {
   "cell_type": "code",
   "execution_count": 10,
   "metadata": {
    "collapsed": false
   },
   "outputs": [
    {
     "data": {
      "text/html": [
       "<table>\n",
       "<thead><tr><th></th><th scope=col>Subject</th><th scope=col>Response</th><th scope=col>dup</th></tr></thead>\n",
       "<tbody>\n",
       "\t<tr><th scope=row>1</th><td>1</td><td>X</td><td>TRUE</td></tr>\n",
       "\t<tr><th scope=row>2</th><td>1</td><td>X</td><td>TRUE</td></tr>\n",
       "\t<tr><th scope=row>3</th><td>2</td><td>X</td><td>FALSE</td></tr>\n",
       "\t<tr><th scope=row>4</th><td>2</td><td>X</td><td>FALSE</td></tr>\n",
       "</tbody>\n",
       "</table>\n"
      ],
      "text/latex": [
       "\\begin{tabular}{r|lll}\n",
       "  & Subject & Response & dup\\\\\n",
       "\\hline\n",
       "\t1 & 1 & X & TRUE\\\\\n",
       "\t2 & 1 & X & TRUE\\\\\n",
       "\t3 & 2 & X & FALSE\\\\\n",
       "\t4 & 2 & X & FALSE\\\\\n",
       "\\end{tabular}\n"
      ],
      "text/plain": [
       "  Subject Response   dup\n",
       "1       1        X  TRUE\n",
       "2       1        X  TRUE\n",
       "3       2        X FALSE\n",
       "4       2        X FALSE"
      ]
     },
     "execution_count": 10,
     "metadata": {},
     "output_type": "execute_result"
    }
   ],
   "source": [
    "# Store the results in df\n",
    "dfDup <- cbind(df, dup=dupRows)\n",
    "\n",
    "dfA <- subset(dfDup, Coder==\"A\", select=-Coder)\n",
    "dfA"
   ]
  },
  {
   "cell_type": "code",
   "execution_count": 11,
   "metadata": {
    "collapsed": false
   },
   "outputs": [
    {
     "data": {
      "text/html": [
       "<table>\n",
       "<thead><tr><th></th><th scope=col>Subject</th><th scope=col>Response</th><th scope=col>dup</th></tr></thead>\n",
       "<tbody>\n",
       "\t<tr><th scope=row>5</th><td>1</td><td>X</td><td>TRUE</td></tr>\n",
       "\t<tr><th scope=row>6</th><td>2</td><td>Y</td><td>TRUE</td></tr>\n",
       "\t<tr><th scope=row>7</th><td>3</td><td>X</td><td>FALSE</td></tr>\n",
       "</tbody>\n",
       "</table>\n"
      ],
      "text/latex": [
       "\\begin{tabular}{r|lll}\n",
       "  & Subject & Response & dup\\\\\n",
       "\\hline\n",
       "\t5 & 1 & X & TRUE\\\\\n",
       "\t6 & 2 & Y & TRUE\\\\\n",
       "\t7 & 3 & X & FALSE\\\\\n",
       "\\end{tabular}\n"
      ],
      "text/plain": [
       "  Subject Response   dup\n",
       "5       1        X  TRUE\n",
       "6       2        Y  TRUE\n",
       "7       3        X FALSE"
      ]
     },
     "execution_count": 11,
     "metadata": {},
     "output_type": "execute_result"
    }
   ],
   "source": [
    "dfB <- subset(dfDup, Coder==\"B\", select=-Coder)\n",
    "dfB"
   ]
  },
  {
   "cell_type": "code",
   "execution_count": 12,
   "metadata": {
    "collapsed": false
   },
   "outputs": [
    {
     "data": {
      "text/html": [
       "<table>\n",
       "<thead><tr><th></th><th scope=col>Subject</th><th scope=col>Response</th><th scope=col>dup</th></tr></thead>\n",
       "<tbody>\n",
       "\t<tr><th scope=row>8</th><td>1</td><td>Z</td><td>FALSE</td></tr>\n",
       "\t<tr><th scope=row>9</th><td>2</td><td>Y</td><td>TRUE</td></tr>\n",
       "\t<tr><th scope=row>10</th><td>3</td><td>Z</td><td>FALSE</td></tr>\n",
       "</tbody>\n",
       "</table>\n"
      ],
      "text/latex": [
       "\\begin{tabular}{r|lll}\n",
       "  & Subject & Response & dup\\\\\n",
       "\\hline\n",
       "\t8 & 1 & Z & FALSE\\\\\n",
       "\t9 & 2 & Y & TRUE\\\\\n",
       "\t10 & 3 & Z & FALSE\\\\\n",
       "\\end{tabular}\n"
      ],
      "text/plain": [
       "   Subject Response   dup\n",
       "8        1        Z FALSE\n",
       "9        2        Y  TRUE\n",
       "10       3        Z FALSE"
      ]
     },
     "execution_count": 12,
     "metadata": {},
     "output_type": "execute_result"
    }
   ],
   "source": [
    "dfC <- subset(dfDup, Coder==\"C\", select=-Coder)\n",
    "dfC"
   ]
  },
  {
   "cell_type": "markdown",
   "metadata": {},
   "source": [
    "### Ignoring columns\n",
    "It is also possible to ignore one or more columns, by removing that column from the data frame that is passed to the function. The results can be joined to the original complete data frame if desired."
   ]
  },
  {
   "cell_type": "code",
   "execution_count": 13,
   "metadata": {
    "collapsed": false
   },
   "outputs": [
    {
     "data": {
      "text/html": [
       "<table>\n",
       "<thead><tr><th></th><th scope=col>Coder</th><th scope=col>Response</th></tr></thead>\n",
       "<tbody>\n",
       "\t<tr><th scope=row>1</th><td>A</td><td>X</td></tr>\n",
       "\t<tr><th scope=row>2</th><td>A</td><td>X</td></tr>\n",
       "\t<tr><th scope=row>3</th><td>A</td><td>X</td></tr>\n",
       "\t<tr><th scope=row>4</th><td>A</td><td>X</td></tr>\n",
       "\t<tr><th scope=row>5</th><td>B</td><td>X</td></tr>\n",
       "\t<tr><th scope=row>6</th><td>B</td><td>Y</td></tr>\n",
       "\t<tr><th scope=row>7</th><td>B</td><td>X</td></tr>\n",
       "\t<tr><th scope=row>8</th><td>C</td><td>Z</td></tr>\n",
       "\t<tr><th scope=row>9</th><td>C</td><td>Y</td></tr>\n",
       "\t<tr><th scope=row>10</th><td>C</td><td>Z</td></tr>\n",
       "</tbody>\n",
       "</table>\n"
      ],
      "text/latex": [
       "\\begin{tabular}{r|ll}\n",
       "  & Coder & Response\\\\\n",
       "\\hline\n",
       "\t1 & A & X\\\\\n",
       "\t2 & A & X\\\\\n",
       "\t3 & A & X\\\\\n",
       "\t4 & A & X\\\\\n",
       "\t5 & B & X\\\\\n",
       "\t6 & B & Y\\\\\n",
       "\t7 & B & X\\\\\n",
       "\t8 & C & Z\\\\\n",
       "\t9 & C & Y\\\\\n",
       "\t10 & C & Z\\\\\n",
       "\\end{tabular}\n"
      ],
      "text/plain": [
       "   Coder Response\n",
       "1      A        X\n",
       "2      A        X\n",
       "3      A        X\n",
       "4      A        X\n",
       "5      B        X\n",
       "6      B        Y\n",
       "7      B        X\n",
       "8      C        Z\n",
       "9      C        Y\n",
       "10     C        Z"
      ]
     },
     "execution_count": 13,
     "metadata": {},
     "output_type": "execute_result"
    }
   ],
   "source": [
    "# Ignore the Subject column -- only use Response\n",
    "dfNoSub <- subset(df, select=-Subject)\n",
    "dfNoSub"
   ]
  },
  {
   "cell_type": "code",
   "execution_count": 14,
   "metadata": {
    "collapsed": false
   },
   "outputs": [
    {
     "data": {
      "text/html": [
       "<table>\n",
       "<thead><tr><th></th><th scope=col>Coder</th><th scope=col>Subject</th><th scope=col>Response</th><th scope=col>dup</th></tr></thead>\n",
       "<tbody>\n",
       "\t<tr><th scope=row>1</th><td>A</td><td>1</td><td>X</td><td>TRUE</td></tr>\n",
       "\t<tr><th scope=row>2</th><td>A</td><td>1</td><td>X</td><td>TRUE</td></tr>\n",
       "\t<tr><th scope=row>3</th><td>A</td><td>2</td><td>X</td><td>TRUE</td></tr>\n",
       "\t<tr><th scope=row>4</th><td>A</td><td>2</td><td>X</td><td>TRUE</td></tr>\n",
       "\t<tr><th scope=row>5</th><td>B</td><td>1</td><td>X</td><td>TRUE</td></tr>\n",
       "\t<tr><th scope=row>6</th><td>B</td><td>2</td><td>Y</td><td>TRUE</td></tr>\n",
       "\t<tr><th scope=row>7</th><td>B</td><td>3</td><td>X</td><td>TRUE</td></tr>\n",
       "\t<tr><th scope=row>8</th><td>C</td><td>1</td><td>Z</td><td>FALSE</td></tr>\n",
       "\t<tr><th scope=row>9</th><td>C</td><td>2</td><td>Y</td><td>TRUE</td></tr>\n",
       "\t<tr><th scope=row>10</th><td>C</td><td>3</td><td>Z</td><td>FALSE</td></tr>\n",
       "</tbody>\n",
       "</table>\n"
      ],
      "text/latex": [
       "\\begin{tabular}{r|llll}\n",
       "  & Coder & Subject & Response & dup\\\\\n",
       "\\hline\n",
       "\t1 & A & 1 & X & TRUE\\\\\n",
       "\t2 & A & 1 & X & TRUE\\\\\n",
       "\t3 & A & 2 & X & TRUE\\\\\n",
       "\t4 & A & 2 & X & TRUE\\\\\n",
       "\t5 & B & 1 & X & TRUE\\\\\n",
       "\t6 & B & 2 & Y & TRUE\\\\\n",
       "\t7 & B & 3 & X & TRUE\\\\\n",
       "\t8 & C & 1 & Z & FALSE\\\\\n",
       "\t9 & C & 2 & Y & TRUE\\\\\n",
       "\t10 & C & 3 & Z & FALSE\\\\\n",
       "\\end{tabular}\n"
      ],
      "text/plain": [
       "   Coder Subject Response   dup\n",
       "1      A       1        X  TRUE\n",
       "2      A       1        X  TRUE\n",
       "3      A       2        X  TRUE\n",
       "4      A       2        X  TRUE\n",
       "5      B       1        X  TRUE\n",
       "6      B       2        Y  TRUE\n",
       "7      B       3        X  TRUE\n",
       "8      C       1        Z FALSE\n",
       "9      C       2        Y  TRUE\n",
       "10     C       3        Z FALSE"
      ]
     },
     "execution_count": 14,
     "metadata": {},
     "output_type": "execute_result"
    }
   ],
   "source": [
    "# Check for duplicates\n",
    "dupRows <- dupsBetweenGroups(dfNoSub, \"Coder\")\n",
    "\n",
    "# Join the result to the original data frame\n",
    "cbind(df, dup=dupRows)"
   ]
  },
  {
   "cell_type": "markdown",
   "metadata": {},
   "source": [
    "## Notes\n",
    "To find exact duplicate rows within a single dataframe, search for \"Finding and removing duplicate records\"."
   ]
  }
 ],
 "metadata": {
  "kernelspec": {
   "display_name": "R",
   "language": "R",
   "name": "ir"
  },
  "language_info": {
   "codemirror_mode": "r",
   "file_extension": ".r",
   "mimetype": "text/x-r-source",
   "name": "R",
   "pygments_lexer": "r",
   "version": "3.2.0"
  }
 },
 "nbformat": 4,
 "nbformat_minor": 0
}
