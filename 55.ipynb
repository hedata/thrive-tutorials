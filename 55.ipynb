{
 "cells": [
  {
   "cell_type": "markdown",
   "metadata": {},
   "source": [
    "# Creating strings from variables\n",
    "Credits: http://www.cookbook-r.com/ (Creative Commons Attribution-Share Alike 3.0 Unported License)"
   ]
  },
  {
   "cell_type": "markdown",
   "metadata": {},
   "source": [
    "## Problem\n",
    "You want to do create a string from variables.\n",
    "\n",
    "## Solution\n",
    "The two common ways of creating strings from variables are the `paste` function and the `sprintf` function. `paste` is more useful for vectors, and `sprintf` is more useful for precise control of the output.\n",
    "\n",
    "### Using paste()"
   ]
  },
  {
   "cell_type": "code",
   "execution_count": 1,
   "metadata": {
    "collapsed": false
   },
   "outputs": [
    {
     "data": {
      "text/html": [
       "'apple banana'"
      ],
      "text/latex": [
       "'apple banana'"
      ],
      "text/markdown": [
       "'apple banana'"
      ],
      "text/plain": [
       "[1] \"apple banana\""
      ]
     },
     "execution_count": 1,
     "metadata": {},
     "output_type": "execute_result"
    }
   ],
   "source": [
    "a <- \"apple\"\n",
    "b <- \"banana\"\n",
    "\n",
    "# Put a and b together, with a space in between:\n",
    "paste(a, b)"
   ]
  },
  {
   "cell_type": "code",
   "execution_count": 2,
   "metadata": {
    "collapsed": false
   },
   "outputs": [
    {
     "data": {
      "text/html": [
       "'applebanana'"
      ],
      "text/latex": [
       "'applebanana'"
      ],
      "text/markdown": [
       "'applebanana'"
      ],
      "text/plain": [
       "[1] \"applebanana\""
      ]
     },
     "execution_count": 2,
     "metadata": {},
     "output_type": "execute_result"
    },
    {
     "data": {
      "text/html": [
       "'applebanana'"
      ],
      "text/latex": [
       "'applebanana'"
      ],
      "text/markdown": [
       "'applebanana'"
      ],
      "text/plain": [
       "[1] \"applebanana\""
      ]
     },
     "execution_count": 2,
     "metadata": {},
     "output_type": "execute_result"
    },
    {
     "data": {
      "text/html": [
       "'apple, banana'"
      ],
      "text/latex": [
       "'apple, banana'"
      ],
      "text/markdown": [
       "'apple, banana'"
      ],
      "text/plain": [
       "[1] \"apple, banana\""
      ]
     },
     "execution_count": 2,
     "metadata": {},
     "output_type": "execute_result"
    }
   ],
   "source": [
    "# With no space, use sep=\"\", or use paste0():\n",
    "paste(a, b, sep=\"\")\n",
    "\n",
    "paste0(a, b)\n",
    "\n",
    "# With a comma and space:\n",
    "paste(a, b, sep=\", \")"
   ]
  },
  {
   "cell_type": "code",
   "execution_count": 4,
   "metadata": {
    "collapsed": false
   },
   "outputs": [
    {
     "data": {
      "text/html": [
       "'fig, grapefruit, honeydew'"
      ],
      "text/latex": [
       "'fig, grapefruit, honeydew'"
      ],
      "text/markdown": [
       "'fig, grapefruit, honeydew'"
      ],
      "text/plain": [
       "[1] \"fig, grapefruit, honeydew\""
      ]
     },
     "execution_count": 4,
     "metadata": {},
     "output_type": "execute_result"
    },
    {
     "data": {
      "text/html": [
       "<ol class=list-inline>\n",
       "\t<li>'apple fig'</li>\n",
       "\t<li>'apple grapefruit'</li>\n",
       "\t<li>'apple honeydew'</li>\n",
       "</ol>\n"
      ],
      "text/latex": [
       "\\begin{enumerate*}\n",
       "\\item 'apple fig'\n",
       "\\item 'apple grapefruit'\n",
       "\\item 'apple honeydew'\n",
       "\\end{enumerate*}\n"
      ],
      "text/markdown": [
       "1. 'apple fig'\n",
       "2. 'apple grapefruit'\n",
       "3. 'apple honeydew'\n",
       "\n",
       "\n"
      ],
      "text/plain": [
       "[1] \"apple fig\"        \"apple grapefruit\" \"apple honeydew\"  "
      ]
     },
     "execution_count": 4,
     "metadata": {},
     "output_type": "execute_result"
    },
    {
     "data": {
      "text/html": [
       "'apple-fig, apple-grapefruit, apple-honeydew'"
      ],
      "text/latex": [
       "'apple-fig, apple-grapefruit, apple-honeydew'"
      ],
      "text/markdown": [
       "'apple-fig, apple-grapefruit, apple-honeydew'"
      ],
      "text/plain": [
       "[1] \"apple-fig, apple-grapefruit, apple-honeydew\""
      ]
     },
     "execution_count": 4,
     "metadata": {},
     "output_type": "execute_result"
    }
   ],
   "source": [
    "# With a vector\n",
    "d <- c(\"fig\", \"grapefruit\", \"honeydew\")\n",
    "\n",
    "# If the input is a vector, use collapse to put the elements together:\n",
    "paste(d, collapse=\", \")\n",
    "\n",
    "# If the input is a scalar and a vector, it puts the scalar with each\n",
    "# element of the vector, and returns a vector:\n",
    "paste(a, d)\n",
    "\n",
    "# Use sep and collapse:\n",
    "paste(a, d, sep=\"-\", collapse=\", \")"
   ]
  },
  {
   "cell_type": "markdown",
   "metadata": {},
   "source": [
    "### Using sprintf()\n",
    "\n",
    "Another way is to use `sprintf` function. This is derived from the function of the same name in the C programming language.\n",
    "To substitute in a string or string variable, use %s:"
   ]
  },
  {
   "cell_type": "code",
   "execution_count": 1,
   "metadata": {
    "collapsed": false
   },
   "outputs": [
    {
     "data": {
      "text/html": [
       "'This is where a string goes.'"
      ],
      "text/latex": [
       "'This is where a string goes.'"
      ],
      "text/markdown": [
       "'This is where a string goes.'"
      ],
      "text/plain": [
       "[1] \"This is where a string goes.\""
      ]
     },
     "execution_count": 1,
     "metadata": {},
     "output_type": "execute_result"
    }
   ],
   "source": [
    "a <- \"string\"\n",
    "sprintf(\"This is where a %s goes.\", a)"
   ]
  },
  {
   "cell_type": "markdown",
   "metadata": {},
   "source": [
    "For integers, use %d or a variant:"
   ]
  },
  {
   "cell_type": "code",
   "execution_count": 2,
   "metadata": {
    "collapsed": false
   },
   "outputs": [
    {
     "data": {
      "text/html": [
       "'Regular:8'"
      ],
      "text/latex": [
       "'Regular:8'"
      ],
      "text/markdown": [
       "'Regular:8'"
      ],
      "text/plain": [
       "[1] \"Regular:8\""
      ]
     },
     "execution_count": 2,
     "metadata": {},
     "output_type": "execute_result"
    },
    {
     "data": {
      "text/html": [
       "'Leading spaces:   8'"
      ],
      "text/latex": [
       "'Leading spaces:   8'"
      ],
      "text/markdown": [
       "'Leading spaces:   8'"
      ],
      "text/plain": [
       "[1] \"Leading spaces:   8\""
      ]
     },
     "execution_count": 2,
     "metadata": {},
     "output_type": "execute_result"
    },
    {
     "data": {
      "text/html": [
       "'Leading zeros:0008'"
      ],
      "text/latex": [
       "'Leading zeros:0008'"
      ],
      "text/markdown": [
       "'Leading zeros:0008'"
      ],
      "text/plain": [
       "[1] \"Leading zeros:0008\""
      ]
     },
     "execution_count": 2,
     "metadata": {},
     "output_type": "execute_result"
    }
   ],
   "source": [
    "x <- 8\n",
    "sprintf(\"Regular:%d\", x)\n",
    "\n",
    "# Can print to take some number of characters, leading with spaces.\n",
    "sprintf(\"Leading spaces:%4d\", x)\n",
    "\n",
    "# Can also lead with zeros instead.\n",
    "sprintf(\"Leading zeros:%04d\", x)"
   ]
  },
  {
   "cell_type": "markdown",
   "metadata": {},
   "source": [
    "For floating-point numbers, use %f for standard notation, and %e or %E for exponential notation. You can also use %g or %G for a “smart” formatter that automatically switches between the two formats, depending on where the significant digits are. The following examples are taken from the R help page for sprintf:"
   ]
  },
  {
   "cell_type": "code",
   "execution_count": 3,
   "metadata": {
    "collapsed": false
   },
   "outputs": [
    {
     "data": {
      "text/html": [
       "'3.141593'"
      ],
      "text/latex": [
       "'3.141593'"
      ],
      "text/markdown": [
       "'3.141593'"
      ],
      "text/plain": [
       "[1] \"3.141593\""
      ]
     },
     "execution_count": 3,
     "metadata": {},
     "output_type": "execute_result"
    },
    {
     "data": {
      "text/html": [
       "'3.142'"
      ],
      "text/latex": [
       "'3.142'"
      ],
      "text/markdown": [
       "'3.142'"
      ],
      "text/plain": [
       "[1] \"3.142\""
      ]
     },
     "execution_count": 3,
     "metadata": {},
     "output_type": "execute_result"
    },
    {
     "data": {
      "text/html": [
       "'3'"
      ],
      "text/latex": [
       "'3'"
      ],
      "text/markdown": [
       "'3'"
      ],
      "text/plain": [
       "[1] \"3\""
      ]
     },
     "execution_count": 3,
     "metadata": {},
     "output_type": "execute_result"
    },
    {
     "data": {
      "text/html": [
       "'  3.1'"
      ],
      "text/latex": [
       "'  3.1'"
      ],
      "text/markdown": [
       "'  3.1'"
      ],
      "text/plain": [
       "[1] \"  3.1\""
      ]
     },
     "execution_count": 3,
     "metadata": {},
     "output_type": "execute_result"
    },
    {
     "data": {
      "text/html": [
       "'003.1'"
      ],
      "text/latex": [
       "'003.1'"
      ],
      "text/markdown": [
       "'003.1'"
      ],
      "text/plain": [
       "[1] \"003.1\""
      ]
     },
     "execution_count": 3,
     "metadata": {},
     "output_type": "execute_result"
    },
    {
     "data": {
      "text/html": [
       "'+3.141593'"
      ],
      "text/latex": [
       "'+3.141593'"
      ],
      "text/markdown": [
       "'+3.141593'"
      ],
      "text/plain": [
       "[1] \"+3.141593\""
      ]
     },
     "execution_count": 3,
     "metadata": {},
     "output_type": "execute_result"
    },
    {
     "data": {
      "text/html": [
       "' 3.141593'"
      ],
      "text/latex": [
       "' 3.141593'"
      ],
      "text/markdown": [
       "' 3.141593'"
      ],
      "text/plain": [
       "[1] \" 3.141593\""
      ]
     },
     "execution_count": 3,
     "metadata": {},
     "output_type": "execute_result"
    },
    {
     "data": {
      "text/html": [
       "'3.141593  '"
      ],
      "text/latex": [
       "'3.141593  '"
      ],
      "text/markdown": [
       "'3.141593  '"
      ],
      "text/plain": [
       "[1] \"3.141593  \""
      ]
     },
     "execution_count": 3,
     "metadata": {},
     "output_type": "execute_result"
    },
    {
     "data": {
      "text/html": [
       "'3.141593e+00'"
      ],
      "text/latex": [
       "'3.141593e+00'"
      ],
      "text/markdown": [
       "'3.141593e+00'"
      ],
      "text/plain": [
       "[1] \"3.141593e+00\""
      ]
     },
     "execution_count": 3,
     "metadata": {},
     "output_type": "execute_result"
    },
    {
     "data": {
      "text/html": [
       "'3.141593E+00'"
      ],
      "text/latex": [
       "'3.141593E+00'"
      ],
      "text/markdown": [
       "'3.141593E+00'"
      ],
      "text/plain": [
       "[1] \"3.141593E+00\""
      ]
     },
     "execution_count": 3,
     "metadata": {},
     "output_type": "execute_result"
    },
    {
     "data": {
      "text/html": [
       "'3.14159'"
      ],
      "text/latex": [
       "'3.14159'"
      ],
      "text/markdown": [
       "'3.14159'"
      ],
      "text/plain": [
       "[1] \"3.14159\""
      ]
     },
     "execution_count": 3,
     "metadata": {},
     "output_type": "execute_result"
    },
    {
     "data": {
      "text/html": [
       "'3.14159e+06'"
      ],
      "text/latex": [
       "'3.14159e+06'"
      ],
      "text/markdown": [
       "'3.14159e+06'"
      ],
      "text/plain": [
       "[1] \"3.14159e+06\""
      ]
     },
     "execution_count": 3,
     "metadata": {},
     "output_type": "execute_result"
    },
    {
     "data": {
      "text/html": [
       "'3141592.65'"
      ],
      "text/latex": [
       "'3141592.65'"
      ],
      "text/markdown": [
       "'3141592.65'"
      ],
      "text/plain": [
       "[1] \"3141592.65\""
      ]
     },
     "execution_count": 3,
     "metadata": {},
     "output_type": "execute_result"
    },
    {
     "data": {
      "text/html": [
       "'3.14159E-06'"
      ],
      "text/latex": [
       "'3.14159E-06'"
      ],
      "text/markdown": [
       "'3.14159E-06'"
      ],
      "text/plain": [
       "[1] \"3.14159E-06\""
      ]
     },
     "execution_count": 3,
     "metadata": {},
     "output_type": "execute_result"
    }
   ],
   "source": [
    "sprintf(\"%f\", pi)         # \"3.141593\"\n",
    "sprintf(\"%.3f\", pi)       # \"3.142\"\n",
    "sprintf(\"%1.0f\", pi)      # \"3\"\n",
    "sprintf(\"%5.1f\", pi)      # \"  3.1\"\n",
    "sprintf(\"%05.1f\", pi)     # \"003.1\"\n",
    "sprintf(\"%+f\", pi)        # \"+3.141593\"\n",
    "sprintf(\"% f\", pi)        # \" 3.141593\"\n",
    "sprintf(\"%-10f\", pi)      # \"3.141593  \"   (left justified)\n",
    "sprintf(\"%e\", pi)         # \"3.141593e+00\"\n",
    "sprintf(\"%E\", pi)         # \"3.141593E+00\"\n",
    "sprintf(\"%g\", pi)         # \"3.14159\"\n",
    "sprintf(\"%g\",   1e6 * pi) # \"3.14159e+06\"  (exponential)\n",
    "sprintf(\"%.9g\", 1e6 * pi) # \"3141592.65\"   (\"fixed\")\n",
    "sprintf(\"%G\", 1e-6 * pi)  # \"3.14159E-06\""
   ]
  },
  {
   "cell_type": "markdown",
   "metadata": {},
   "source": [
    "In the %m.nf format specification: The m represents the field width, which is the minimum number of characters in the output string, and can be padded with leading spaces, or zeros if there is a zero in front of m. The n represents precision, which the number of digits after the decimal.\n",
    "\n",
    "Other miscellaneous things:"
   ]
  },
  {
   "cell_type": "code",
   "execution_count": 4,
   "metadata": {
    "collapsed": false
   },
   "outputs": [
    {
     "data": {
      "text/html": [
       "'Substitute in multiple strings: string string2'"
      ],
      "text/latex": [
       "'Substitute in multiple strings: string string2'"
      ],
      "text/markdown": [
       "'Substitute in multiple strings: string string2'"
      ],
      "text/plain": [
       "[1] \"Substitute in multiple strings: string string2\""
      ]
     },
     "execution_count": 4,
     "metadata": {},
     "output_type": "execute_result"
    },
    {
     "data": {
      "text/html": [
       "'A single percent sign here %'"
      ],
      "text/latex": [
       "'A single percent sign here %'"
      ],
      "text/markdown": [
       "'A single percent sign here %'"
      ],
      "text/plain": [
       "[1] \"A single percent sign here %\""
      ]
     },
     "execution_count": 4,
     "metadata": {},
     "output_type": "execute_result"
    }
   ],
   "source": [
    "x <- \"string\"\n",
    "sprintf(\"Substitute in multiple strings: %s %s\", x, \"string2\")\n",
    "\n",
    "# To print a percent sign, use \"%%\"\n",
    "sprintf(\"A single percent sign here %%\")"
   ]
  }
 ],
 "metadata": {
  "kernelspec": {
   "display_name": "R",
   "language": "R",
   "name": "ir"
  },
  "language_info": {
   "codemirror_mode": "r",
   "file_extension": ".r",
   "mimetype": "text/x-r-source",
   "name": "R",
   "pygments_lexer": "r",
   "version": "3.2.2"
  }
 },
 "nbformat": 4,
 "nbformat_minor": 0
}
