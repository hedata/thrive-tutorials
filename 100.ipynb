{
 "cells": [
  {
   "cell_type": "markdown",
   "metadata": {},
   "source": [
    "# Randomizing order\n",
    "Credits: http://www.cookbook-r.com/ (Creative Commons Attribution-Share Alike 3.0 Unported License)"
   ]
  },
  {
   "cell_type": "markdown",
   "metadata": {},
   "source": [
    "## Problem\n",
    "You want to randomize the order of a data structure.\n",
    "\n",
    "## Solution"
   ]
  },
  {
   "cell_type": "code",
   "execution_count": 1,
   "metadata": {
    "collapsed": false
   },
   "outputs": [
    {
     "data": {
      "text/html": [
       "<table>\n",
       "<thead><tr><th></th><th scope=col>label</th><th scope=col>number</th></tr></thead>\n",
       "<tbody>\n",
       "\t<tr><th scope=row>1</th><td>a</td><td>11</td></tr>\n",
       "\t<tr><th scope=row>2</th><td>b</td><td>12</td></tr>\n",
       "\t<tr><th scope=row>3</th><td>c</td><td>13</td></tr>\n",
       "\t<tr><th scope=row>4</th><td>d</td><td>14</td></tr>\n",
       "\t<tr><th scope=row>5</th><td>e</td><td>15</td></tr>\n",
       "</tbody>\n",
       "</table>\n"
      ],
      "text/latex": [
       "\\begin{tabular}{r|ll}\n",
       "  & label & number\\\\\n",
       "\\hline\n",
       "\t1 & a & 11\\\\\n",
       "\t2 & b & 12\\\\\n",
       "\t3 & c & 13\\\\\n",
       "\t4 & d & 14\\\\\n",
       "\t5 & e & 15\\\\\n",
       "\\end{tabular}\n"
      ],
      "text/plain": [
       "  label number\n",
       "1     a     11\n",
       "2     b     12\n",
       "3     c     13\n",
       "4     d     14\n",
       "5     e     15"
      ]
     },
     "execution_count": 1,
     "metadata": {},
     "output_type": "execute_result"
    }
   ],
   "source": [
    "# Create a vector\n",
    "v <- 11:20\n",
    "\n",
    "# Randomize the order of the vector\n",
    "v <- sample(v)\n",
    "\n",
    "# Create a data frame\n",
    "data <- data.frame(label=letters[1:5], number=11:15)\n",
    "data"
   ]
  },
  {
   "cell_type": "code",
   "execution_count": 2,
   "metadata": {
    "collapsed": false
   },
   "outputs": [
    {
     "data": {
      "text/html": [
       "<table>\n",
       "<thead><tr><th></th><th scope=col>label</th><th scope=col>number</th></tr></thead>\n",
       "<tbody>\n",
       "\t<tr><th scope=row>5</th><td>e</td><td>15</td></tr>\n",
       "\t<tr><th scope=row>1</th><td>a</td><td>11</td></tr>\n",
       "\t<tr><th scope=row>3</th><td>c</td><td>13</td></tr>\n",
       "\t<tr><th scope=row>2</th><td>b</td><td>12</td></tr>\n",
       "\t<tr><th scope=row>4</th><td>d</td><td>14</td></tr>\n",
       "</tbody>\n",
       "</table>\n"
      ],
      "text/latex": [
       "\\begin{tabular}{r|ll}\n",
       "  & label & number\\\\\n",
       "\\hline\n",
       "\t5 & e & 15\\\\\n",
       "\t1 & a & 11\\\\\n",
       "\t3 & c & 13\\\\\n",
       "\t2 & b & 12\\\\\n",
       "\t4 & d & 14\\\\\n",
       "\\end{tabular}\n"
      ],
      "text/plain": [
       "  label number\n",
       "5     e     15\n",
       "1     a     11\n",
       "3     c     13\n",
       "2     b     12\n",
       "4     d     14"
      ]
     },
     "execution_count": 2,
     "metadata": {},
     "output_type": "execute_result"
    }
   ],
   "source": [
    "# Randomize the order of the data frame\n",
    "data <- data[sample(1:nrow(data)), ]\n",
    "data"
   ]
  },
  {
   "cell_type": "markdown",
   "metadata": {},
   "source": [
    "### Notes\n",
    "To make a randomization repeatable, you should set the seed for the random number generator."
   ]
  }
 ],
 "metadata": {
  "kernelspec": {
   "display_name": "R",
   "language": "R",
   "name": "ir"
  },
  "language_info": {
   "codemirror_mode": "r",
   "file_extension": ".r",
   "mimetype": "text/x-r-source",
   "name": "R",
   "pygments_lexer": "r",
   "version": "3.2.0"
  }
 },
 "nbformat": 4,
 "nbformat_minor": 0
}
