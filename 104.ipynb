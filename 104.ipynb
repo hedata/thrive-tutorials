{
 "cells": [
  {
   "cell_type": "markdown",
   "metadata": {},
   "source": [
    "# Recoding data\n",
    "Credits: http://www.cookbook-r.com/ (Creative Commons Attribution-Share Alike 3.0 Unported License)"
   ]
  },
  {
   "cell_type": "markdown",
   "metadata": {},
   "source": [
    "## Problem\n",
    "You want to recode data or calculate new data columns from existing ones.\n",
    "\n",
    "## Solution\n",
    "The examples below will use this data:"
   ]
  },
  {
   "cell_type": "code",
   "execution_count": 1,
   "metadata": {
    "collapsed": true
   },
   "outputs": [],
   "source": [
    "data <- read.table(header=T, text='\n",
    " subject sex control cond1 cond2\n",
    "       1   M     7.9  12.3  10.7\n",
    "       2   F     6.3  10.6  11.1\n",
    "       3   F     9.5  13.1  13.8\n",
    "       4   M    11.5  13.4  12.9\n",
    "')"
   ]
  },
  {
   "cell_type": "markdown",
   "metadata": {},
   "source": [
    "### Recoding a categorical variable\n",
    "The easiest way is to use revalue() or mapvalues() from the plyr package.\n",
    "This will code M as 1 and F as 2, and put it in a new column.\n",
    "Note that these functions preserves the type: if the input is a factor, the output will be a factor; and if the input is a character vector, the output will be a character vector."
   ]
  },
  {
   "cell_type": "code",
   "execution_count": 3,
   "metadata": {
    "collapsed": false
   },
   "outputs": [
    {
     "data": {
      "text/html": [
       "<table>\n",
       "<thead><tr><th></th><th scope=col>subject</th><th scope=col>sex</th><th scope=col>control</th><th scope=col>cond1</th><th scope=col>cond2</th><th scope=col>scode</th></tr></thead>\n",
       "<tbody>\n",
       "\t<tr><th scope=row>1</th><td>1</td><td>M</td><td>7.9</td><td>12.3</td><td>10.7</td><td>1</td></tr>\n",
       "\t<tr><th scope=row>2</th><td>2</td><td>F</td><td>6.3</td><td>10.6</td><td>11.1</td><td>2</td></tr>\n",
       "\t<tr><th scope=row>3</th><td>3</td><td>F</td><td>9.5</td><td>13.1</td><td>13.8</td><td>2</td></tr>\n",
       "\t<tr><th scope=row>4</th><td>4</td><td>M</td><td>11.5</td><td>13.4</td><td>12.9</td><td>1</td></tr>\n",
       "</tbody>\n",
       "</table>\n"
      ],
      "text/latex": [
       "\\begin{tabular}{r|llllll}\n",
       "  & subject & sex & control & cond1 & cond2 & scode\\\\\n",
       "\\hline\n",
       "\t1 & 1 & M & 7.9 & 12.3 & 10.7 & 1\\\\\n",
       "\t2 & 2 & F & 6.3 & 10.6 & 11.1 & 2\\\\\n",
       "\t3 & 3 & F & 9.5 & 13.1 & 13.8 & 2\\\\\n",
       "\t4 & 4 & M & 11.5 & 13.4 & 12.9 & 1\\\\\n",
       "\\end{tabular}\n"
      ],
      "text/plain": [
       "  subject sex control cond1 cond2 scode\n",
       "1       1   M     7.9  12.3  10.7     1\n",
       "2       2   F     6.3  10.6  11.1     2\n",
       "3       3   F     9.5  13.1  13.8     2\n",
       "4       4   M    11.5  13.4  12.9     1"
      ]
     },
     "execution_count": 3,
     "metadata": {},
     "output_type": "execute_result"
    }
   ],
   "source": [
    "library(plyr)\n",
    "\n",
    "# The following two lines are equivalent:\n",
    "data$scode <- revalue(data$sex, c(\"M\"=\"1\", \"F\"=\"2\"))\n",
    "data$scode <- mapvalues(data$sex, from = c(\"M\", \"F\"), to = c(\"1\", \"2\"))\n",
    "data\n",
    "\n",
    "# data$sex is a factor, so data$scode is also a factor"
   ]
  },
  {
   "cell_type": "markdown",
   "metadata": {},
   "source": [
    "Search for \"Mapping vector values\" and \"Renaming levels of a factor\" for more information about these functions.\n",
    "\n",
    "If you don’t want to rely on plyr, you can do the following with R’s built-in functions:"
   ]
  },
  {
   "cell_type": "code",
   "execution_count": 4,
   "metadata": {
    "collapsed": false
   },
   "outputs": [
    {
     "data": {
      "text/html": [
       "<table>\n",
       "<thead><tr><th></th><th scope=col>subject</th><th scope=col>sex</th><th scope=col>control</th><th scope=col>cond1</th><th scope=col>cond2</th><th scope=col>scode</th></tr></thead>\n",
       "<tbody>\n",
       "\t<tr><th scope=row>1</th><td>1</td><td>M</td><td>7.9</td><td>12.3</td><td>10.7</td><td>1</td></tr>\n",
       "\t<tr><th scope=row>2</th><td>2</td><td>F</td><td>6.3</td><td>10.6</td><td>11.1</td><td>2</td></tr>\n",
       "\t<tr><th scope=row>3</th><td>3</td><td>F</td><td>9.5</td><td>13.1</td><td>13.8</td><td>2</td></tr>\n",
       "\t<tr><th scope=row>4</th><td>4</td><td>M</td><td>11.5</td><td>13.4</td><td>12.9</td><td>1</td></tr>\n",
       "</tbody>\n",
       "</table>\n"
      ],
      "text/latex": [
       "\\begin{tabular}{r|llllll}\n",
       "  & subject & sex & control & cond1 & cond2 & scode\\\\\n",
       "\\hline\n",
       "\t1 & 1 & M & 7.9 & 12.3 & 10.7 & 1\\\\\n",
       "\t2 & 2 & F & 6.3 & 10.6 & 11.1 & 2\\\\\n",
       "\t3 & 3 & F & 9.5 & 13.1 & 13.8 & 2\\\\\n",
       "\t4 & 4 & M & 11.5 & 13.4 & 12.9 & 1\\\\\n",
       "\\end{tabular}\n"
      ],
      "text/plain": [
       "  subject sex control cond1 cond2 scode\n",
       "1       1   M     7.9  12.3  10.7     1\n",
       "2       2   F     6.3  10.6  11.1     2\n",
       "3       3   F     9.5  13.1  13.8     2\n",
       "4       4   M    11.5  13.4  12.9     1"
      ]
     },
     "execution_count": 4,
     "metadata": {},
     "output_type": "execute_result"
    }
   ],
   "source": [
    "data$scode[data$sex==\"M\"] <- \"1\"\n",
    "data$scode[data$sex==\"F\"] <- \"2\"\n",
    "\n",
    "# Convert the column to a factor\n",
    "data$scode <- factor(data$scode)\n",
    "data"
   ]
  },
  {
   "cell_type": "markdown",
   "metadata": {},
   "source": [
    "Another way to do it is to use the match function:"
   ]
  },
  {
   "cell_type": "code",
   "execution_count": 5,
   "metadata": {
    "collapsed": false
   },
   "outputs": [
    {
     "data": {
      "text/html": [
       "<table>\n",
       "<thead><tr><th></th><th scope=col>subject</th><th scope=col>sex</th><th scope=col>control</th><th scope=col>cond1</th><th scope=col>cond2</th><th scope=col>scode</th></tr></thead>\n",
       "<tbody>\n",
       "\t<tr><th scope=row>1</th><td>1</td><td>M</td><td>7.9</td><td>12.3</td><td>10.7</td><td>g1</td></tr>\n",
       "\t<tr><th scope=row>2</th><td>2</td><td>F</td><td>6.3</td><td>10.6</td><td>11.1</td><td>g2</td></tr>\n",
       "\t<tr><th scope=row>3</th><td>3</td><td>F</td><td>9.5</td><td>13.1</td><td>13.8</td><td>g2</td></tr>\n",
       "\t<tr><th scope=row>4</th><td>4</td><td>M</td><td>11.5</td><td>13.4</td><td>12.9</td><td>g1</td></tr>\n",
       "</tbody>\n",
       "</table>\n"
      ],
      "text/latex": [
       "\\begin{tabular}{r|llllll}\n",
       "  & subject & sex & control & cond1 & cond2 & scode\\\\\n",
       "\\hline\n",
       "\t1 & 1 & M & 7.9 & 12.3 & 10.7 & g1\\\\\n",
       "\t2 & 2 & F & 6.3 & 10.6 & 11.1 & g2\\\\\n",
       "\t3 & 3 & F & 9.5 & 13.1 & 13.8 & g2\\\\\n",
       "\t4 & 4 & M & 11.5 & 13.4 & 12.9 & g1\\\\\n",
       "\\end{tabular}\n"
      ],
      "text/plain": [
       "  subject sex control cond1 cond2 scode\n",
       "1       1   M     7.9  12.3  10.7    g1\n",
       "2       2   F     6.3  10.6  11.1    g2\n",
       "3       3   F     9.5  13.1  13.8    g2\n",
       "4       4   M    11.5  13.4  12.9    g1"
      ]
     },
     "execution_count": 5,
     "metadata": {},
     "output_type": "execute_result"
    }
   ],
   "source": [
    "oldvalues <- c(\"M\", \"F\")\n",
    "newvalues <- factor(c(\"g1\",\"g2\"))  # Make this a factor\n",
    "\n",
    "data$scode <- newvalues[ match(data$sex, oldvalues) ]\n",
    "data"
   ]
  },
  {
   "cell_type": "markdown",
   "metadata": {},
   "source": [
    "### Recoding a continuous variable into categorical variable\n",
    "Mark those whose control measurement is &lt;7 as “low” and those with &gt;=7 as “high”:"
   ]
  },
  {
   "cell_type": "code",
   "execution_count": 6,
   "metadata": {
    "collapsed": false
   },
   "outputs": [
    {
     "data": {
      "text/html": [
       "<table>\n",
       "<thead><tr><th></th><th scope=col>subject</th><th scope=col>sex</th><th scope=col>control</th><th scope=col>cond1</th><th scope=col>cond2</th><th scope=col>scode</th><th scope=col>category</th></tr></thead>\n",
       "<tbody>\n",
       "\t<tr><th scope=row>1</th><td>1</td><td>M</td><td>7.9</td><td>12.3</td><td>10.7</td><td>g1</td><td>high</td></tr>\n",
       "\t<tr><th scope=row>2</th><td>2</td><td>F</td><td>6.3</td><td>10.6</td><td>11.1</td><td>g2</td><td>low</td></tr>\n",
       "\t<tr><th scope=row>3</th><td>3</td><td>F</td><td>9.5</td><td>13.1</td><td>13.8</td><td>g2</td><td>high</td></tr>\n",
       "\t<tr><th scope=row>4</th><td>4</td><td>M</td><td>11.5</td><td>13.4</td><td>12.9</td><td>g1</td><td>high</td></tr>\n",
       "</tbody>\n",
       "</table>\n"
      ],
      "text/latex": [
       "\\begin{tabular}{r|lllllll}\n",
       "  & subject & sex & control & cond1 & cond2 & scode & category\\\\\n",
       "\\hline\n",
       "\t1 & 1 & M & 7.9 & 12.3 & 10.7 & g1 & high\\\\\n",
       "\t2 & 2 & F & 6.3 & 10.6 & 11.1 & g2 & low\\\\\n",
       "\t3 & 3 & F & 9.5 & 13.1 & 13.8 & g2 & high\\\\\n",
       "\t4 & 4 & M & 11.5 & 13.4 & 12.9 & g1 & high\\\\\n",
       "\\end{tabular}\n"
      ],
      "text/plain": [
       "  subject sex control cond1 cond2 scode category\n",
       "1       1   M     7.9  12.3  10.7    g1     high\n",
       "2       2   F     6.3  10.6  11.1    g2      low\n",
       "3       3   F     9.5  13.1  13.8    g2     high\n",
       "4       4   M    11.5  13.4  12.9    g1     high"
      ]
     },
     "execution_count": 6,
     "metadata": {},
     "output_type": "execute_result"
    }
   ],
   "source": [
    "data$category[data$control< 7] <- \"low\"\n",
    "data$category[data$control>=7] <- \"high\"\n",
    "\n",
    "# Convert the column to a factor\n",
    "data$category <- factor(data$category)\n",
    "data"
   ]
  },
  {
   "cell_type": "markdown",
   "metadata": {},
   "source": [
    "With the cut function, you specify boundaries and the resulting values:"
   ]
  },
  {
   "cell_type": "code",
   "execution_count": 7,
   "metadata": {
    "collapsed": false
   },
   "outputs": [
    {
     "data": {
      "text/html": [
       "<table>\n",
       "<thead><tr><th></th><th scope=col>subject</th><th scope=col>sex</th><th scope=col>control</th><th scope=col>cond1</th><th scope=col>cond2</th><th scope=col>scode</th><th scope=col>category</th></tr></thead>\n",
       "<tbody>\n",
       "\t<tr><th scope=row>1</th><td>1</td><td>M</td><td>7.9</td><td>12.3</td><td>10.7</td><td>g1</td><td>medium</td></tr>\n",
       "\t<tr><th scope=row>2</th><td>2</td><td>F</td><td>6.3</td><td>10.6</td><td>11.1</td><td>g2</td><td>low</td></tr>\n",
       "\t<tr><th scope=row>3</th><td>3</td><td>F</td><td>9.5</td><td>13.1</td><td>13.8</td><td>g2</td><td>high</td></tr>\n",
       "\t<tr><th scope=row>4</th><td>4</td><td>M</td><td>11.5</td><td>13.4</td><td>12.9</td><td>g1</td><td>high</td></tr>\n",
       "</tbody>\n",
       "</table>\n"
      ],
      "text/latex": [
       "\\begin{tabular}{r|lllllll}\n",
       "  & subject & sex & control & cond1 & cond2 & scode & category\\\\\n",
       "\\hline\n",
       "\t1 & 1 & M & 7.9 & 12.3 & 10.7 & g1 & medium\\\\\n",
       "\t2 & 2 & F & 6.3 & 10.6 & 11.1 & g2 & low\\\\\n",
       "\t3 & 3 & F & 9.5 & 13.1 & 13.8 & g2 & high\\\\\n",
       "\t4 & 4 & M & 11.5 & 13.4 & 12.9 & g1 & high\\\\\n",
       "\\end{tabular}\n"
      ],
      "text/plain": [
       "  subject sex control cond1 cond2 scode category\n",
       "1       1   M     7.9  12.3  10.7    g1   medium\n",
       "2       2   F     6.3  10.6  11.1    g2      low\n",
       "3       3   F     9.5  13.1  13.8    g2     high\n",
       "4       4   M    11.5  13.4  12.9    g1     high"
      ]
     },
     "execution_count": 7,
     "metadata": {},
     "output_type": "execute_result"
    }
   ],
   "source": [
    "data$category <- cut(data$control,\n",
    "                     breaks=c(-Inf, 7, 9, Inf),\n",
    "                     labels=c(\"low\",\"medium\",\"high\"))\n",
    "data"
   ]
  },
  {
   "cell_type": "markdown",
   "metadata": {},
   "source": [
    "By default, the ranges are open on the left, and closed on the right, as in (7,9]. To set it so that ranges are closed on the left and open on the right, like [7,9), use right=FALSE.\n",
    "### Calculating a new continuous variable\n",
    "Suppose you want to add a new column with the sum of the three measurements."
   ]
  },
  {
   "cell_type": "code",
   "execution_count": 8,
   "metadata": {
    "collapsed": false
   },
   "outputs": [
    {
     "data": {
      "text/html": [
       "<table>\n",
       "<thead><tr><th></th><th scope=col>subject</th><th scope=col>sex</th><th scope=col>control</th><th scope=col>cond1</th><th scope=col>cond2</th><th scope=col>scode</th><th scope=col>category</th><th scope=col>total</th></tr></thead>\n",
       "<tbody>\n",
       "\t<tr><th scope=row>1</th><td>1</td><td>M</td><td>7.9</td><td>12.3</td><td>10.7</td><td>g1</td><td>medium</td><td>30.9</td></tr>\n",
       "\t<tr><th scope=row>2</th><td>2</td><td>F</td><td>6.3</td><td>10.6</td><td>11.1</td><td>g2</td><td>low</td><td>28</td></tr>\n",
       "\t<tr><th scope=row>3</th><td>3</td><td>F</td><td>9.5</td><td>13.1</td><td>13.8</td><td>g2</td><td>high</td><td>36.4</td></tr>\n",
       "\t<tr><th scope=row>4</th><td>4</td><td>M</td><td>11.5</td><td>13.4</td><td>12.9</td><td>g1</td><td>high</td><td>37.8</td></tr>\n",
       "</tbody>\n",
       "</table>\n"
      ],
      "text/latex": [
       "\\begin{tabular}{r|llllllll}\n",
       "  & subject & sex & control & cond1 & cond2 & scode & category & total\\\\\n",
       "\\hline\n",
       "\t1 & 1 & M & 7.9 & 12.3 & 10.7 & g1 & medium & 30.9\\\\\n",
       "\t2 & 2 & F & 6.3 & 10.6 & 11.1 & g2 & low & 28\\\\\n",
       "\t3 & 3 & F & 9.5 & 13.1 & 13.8 & g2 & high & 36.4\\\\\n",
       "\t4 & 4 & M & 11.5 & 13.4 & 12.9 & g1 & high & 37.8\\\\\n",
       "\\end{tabular}\n"
      ],
      "text/plain": [
       "  subject sex control cond1 cond2 scode category total\n",
       "1       1   M     7.9  12.3  10.7    g1   medium  30.9\n",
       "2       2   F     6.3  10.6  11.1    g2      low  28.0\n",
       "3       3   F     9.5  13.1  13.8    g2     high  36.4\n",
       "4       4   M    11.5  13.4  12.9    g1     high  37.8"
      ]
     },
     "execution_count": 8,
     "metadata": {},
     "output_type": "execute_result"
    }
   ],
   "source": [
    "data$total <- data$control + data$cond1 + data$cond2\n",
    "data"
   ]
  }
 ],
 "metadata": {
  "kernelspec": {
   "display_name": "R",
   "language": "R",
   "name": "ir"
  },
  "language_info": {
   "codemirror_mode": "r",
   "file_extension": ".r",
   "mimetype": "text/x-r-source",
   "name": "R",
   "pygments_lexer": "r",
   "version": "3.2.0"
  }
 },
 "nbformat": 4,
 "nbformat_minor": 0
}
