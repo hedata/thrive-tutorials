{
 "cells": [
  {
   "cell_type": "markdown",
   "metadata": {},
   "source": [
    "# Averaging a sequence in blocks\n",
    "Credits: http://www.cookbook-r.com/ (Creative Commons Attribution-Share Alike 3.0 Unported License)"
   ]
  },
  {
   "cell_type": "markdown",
   "metadata": {},
   "source": [
    "## Problem\n",
    "You want to chop a sequence of data into blocks of a given length, and find the average of each block. This is one way of smoothing data.\n",
    "\n",
    "## Solution\n",
    "Suppose you have a numeric vector and want to find the average of the first four numbers, the second four, and so on."
   ]
  },
  {
   "cell_type": "code",
   "execution_count": 1,
   "metadata": {
    "collapsed": false
   },
   "outputs": [
    {
     "data": {
      "text/html": [
       "<ol class=list-inline>\n",
       "\t<li>28</li>\n",
       "\t<li>78</li>\n",
       "\t<li>40</li>\n",
       "\t<li>88</li>\n",
       "\t<li>94</li>\n",
       "\t<li>4</li>\n",
       "\t<li>52</li>\n",
       "\t<li>89</li>\n",
       "\t<li>55</li>\n",
       "\t<li>45</li>\n",
       "\t<li>95</li>\n",
       "\t<li>45</li>\n",
       "\t<li>67</li>\n",
       "\t<li>57</li>\n",
       "\t<li>10</li>\n",
       "\t<li>89</li>\n",
       "\t<li>24</li>\n",
       "\t<li>4</li>\n",
       "\t<li>32</li>\n",
       "\t<li>95</li>\n",
       "\t<li>88</li>\n",
       "\t<li>69</li>\n",
       "</ol>\n"
      ],
      "text/latex": [
       "\\begin{enumerate*}\n",
       "\\item 28\n",
       "\\item 78\n",
       "\\item 40\n",
       "\\item 88\n",
       "\\item 94\n",
       "\\item 4\n",
       "\\item 52\n",
       "\\item 89\n",
       "\\item 55\n",
       "\\item 45\n",
       "\\item 95\n",
       "\\item 45\n",
       "\\item 67\n",
       "\\item 57\n",
       "\\item 10\n",
       "\\item 89\n",
       "\\item 24\n",
       "\\item 4\n",
       "\\item 32\n",
       "\\item 95\n",
       "\\item 88\n",
       "\\item 69\n",
       "\\end{enumerate*}\n"
      ],
      "text/markdown": [
       "1. 28\n",
       "2. 78\n",
       "3. 40\n",
       "4. 88\n",
       "5. 94\n",
       "6. 4\n",
       "7. 52\n",
       "8. 89\n",
       "9. 55\n",
       "10. 45\n",
       "11. 95\n",
       "12. 45\n",
       "13. 67\n",
       "14. 57\n",
       "15. 10\n",
       "16. 89\n",
       "17. 24\n",
       "18. 4\n",
       "19. 32\n",
       "20. 95\n",
       "21. 88\n",
       "22. 69\n",
       "\n",
       "\n"
      ],
      "text/plain": [
       " [1] 28 78 40 88 94  4 52 89 55 45 95 45 67 57 10 89 24  4 32 95 88 69"
      ]
     },
     "execution_count": 1,
     "metadata": {},
     "output_type": "execute_result"
    }
   ],
   "source": [
    "# Generate a vector with 22 random numbers from 0-99\n",
    "set.seed(123)\n",
    "x <- floor(runif(22)*100)\n",
    "x"
   ]
  },
  {
   "cell_type": "code",
   "execution_count": 2,
   "metadata": {
    "collapsed": false
   },
   "outputs": [
    {
     "data": {
      "text/html": [
       "24"
      ],
      "text/latex": [
       "24"
      ],
      "text/markdown": [
       "24"
      ],
      "text/plain": [
       "[1] 24"
      ]
     },
     "execution_count": 2,
     "metadata": {},
     "output_type": "execute_result"
    }
   ],
   "source": [
    "# Round up the length of vector the to the nearest 4\n",
    "newlength <- ceiling(length(x)/4)*4\n",
    "newlength"
   ]
  },
  {
   "cell_type": "code",
   "execution_count": 3,
   "metadata": {
    "collapsed": false
   },
   "outputs": [
    {
     "data": {
      "text/html": [
       "<ol class=list-inline>\n",
       "\t<li>28</li>\n",
       "\t<li>78</li>\n",
       "\t<li>40</li>\n",
       "\t<li>88</li>\n",
       "\t<li>94</li>\n",
       "\t<li>4</li>\n",
       "\t<li>52</li>\n",
       "\t<li>89</li>\n",
       "\t<li>55</li>\n",
       "\t<li>45</li>\n",
       "\t<li>95</li>\n",
       "\t<li>45</li>\n",
       "\t<li>67</li>\n",
       "\t<li>57</li>\n",
       "\t<li>10</li>\n",
       "\t<li>89</li>\n",
       "\t<li>24</li>\n",
       "\t<li>4</li>\n",
       "\t<li>32</li>\n",
       "\t<li>95</li>\n",
       "\t<li>88</li>\n",
       "\t<li>69</li>\n",
       "\t<li>NA</li>\n",
       "\t<li>NA</li>\n",
       "</ol>\n"
      ],
      "text/latex": [
       "\\begin{enumerate*}\n",
       "\\item 28\n",
       "\\item 78\n",
       "\\item 40\n",
       "\\item 88\n",
       "\\item 94\n",
       "\\item 4\n",
       "\\item 52\n",
       "\\item 89\n",
       "\\item 55\n",
       "\\item 45\n",
       "\\item 95\n",
       "\\item 45\n",
       "\\item 67\n",
       "\\item 57\n",
       "\\item 10\n",
       "\\item 89\n",
       "\\item 24\n",
       "\\item 4\n",
       "\\item 32\n",
       "\\item 95\n",
       "\\item 88\n",
       "\\item 69\n",
       "\\item NA\n",
       "\\item NA\n",
       "\\end{enumerate*}\n"
      ],
      "text/markdown": [
       "1. 28\n",
       "2. 78\n",
       "3. 40\n",
       "4. 88\n",
       "5. 94\n",
       "6. 4\n",
       "7. 52\n",
       "8. 89\n",
       "9. 55\n",
       "10. 45\n",
       "11. 95\n",
       "12. 45\n",
       "13. 67\n",
       "14. 57\n",
       "15. 10\n",
       "16. 89\n",
       "17. 24\n",
       "18. 4\n",
       "19. 32\n",
       "20. 95\n",
       "21. 88\n",
       "22. 69\n",
       "23. NA\n",
       "24. NA\n",
       "\n",
       "\n"
      ],
      "text/plain": [
       " [1] 28 78 40 88 94  4 52 89 55 45 95 45 67 57 10 89 24  4 32 95 88 69 NA NA"
      ]
     },
     "execution_count": 3,
     "metadata": {},
     "output_type": "execute_result"
    }
   ],
   "source": [
    "# Pad x with NA's up to the new length\n",
    "x[newlength] <- NA\n",
    "x"
   ]
  },
  {
   "cell_type": "code",
   "execution_count": 4,
   "metadata": {
    "collapsed": false
   },
   "outputs": [
    {
     "data": {
      "text/html": [
       "<table>\n",
       "<tbody>\n",
       "\t<tr><td>28</td><td>94</td><td>55</td><td>67</td><td>24</td><td>88</td></tr>\n",
       "\t<tr><td>78</td><td> 4</td><td>45</td><td>57</td><td> 4</td><td>69</td></tr>\n",
       "\t<tr><td>40</td><td>52</td><td>95</td><td>10</td><td>32</td><td>NA</td></tr>\n",
       "\t<tr><td>88</td><td>89</td><td>45</td><td>89</td><td>95</td><td>NA</td></tr>\n",
       "</tbody>\n",
       "</table>\n"
      ],
      "text/latex": [
       "\\begin{tabular}{llllll}\n",
       "\t 28 & 94 & 55 & 67 & 24 & 88\\\\\n",
       "\t 78 &  4 & 45 & 57 &  4 & 69\\\\\n",
       "\t 40 & 52 & 95 & 10 & 32 & NA\\\\\n",
       "\t 88 & 89 & 45 & 89 & 95 & NA\\\\\n",
       "\\end{tabular}\n"
      ],
      "text/markdown": [
       "1. 28\n",
       "2. 78\n",
       "3. 40\n",
       "4. 88\n",
       "5. 94\n",
       "6. 4\n",
       "7. 52\n",
       "8. 89\n",
       "9. 55\n",
       "10. 45\n",
       "11. 95\n",
       "12. 45\n",
       "13. 67\n",
       "14. 57\n",
       "15. 10\n",
       "16. 89\n",
       "17. 24\n",
       "18. 4\n",
       "19. 32\n",
       "20. 95\n",
       "21. 88\n",
       "22. 69\n",
       "23. NA\n",
       "24. NA\n",
       "\n",
       "\n"
      ],
      "text/plain": [
       "     [,1] [,2] [,3] [,4] [,5] [,6]\n",
       "[1,]   28   94   55   67   24   88\n",
       "[2,]   78    4   45   57    4   69\n",
       "[3,]   40   52   95   10   32   NA\n",
       "[4,]   88   89   45   89   95   NA"
      ]
     },
     "execution_count": 4,
     "metadata": {},
     "output_type": "execute_result"
    }
   ],
   "source": [
    "# Convert to a matrix with 4 rows\n",
    "x <- matrix(x, nrow=4)\n",
    "x"
   ]
  },
  {
   "cell_type": "code",
   "execution_count": 5,
   "metadata": {
    "collapsed": false
   },
   "outputs": [
    {
     "data": {
      "text/html": [
       "<ol class=list-inline>\n",
       "\t<li>58.5</li>\n",
       "\t<li>59.75</li>\n",
       "\t<li>60</li>\n",
       "\t<li>55.75</li>\n",
       "\t<li>38.75</li>\n",
       "\t<li>78.5</li>\n",
       "</ol>\n"
      ],
      "text/latex": [
       "\\begin{enumerate*}\n",
       "\\item 58.5\n",
       "\\item 59.75\n",
       "\\item 60\n",
       "\\item 55.75\n",
       "\\item 38.75\n",
       "\\item 78.5\n",
       "\\end{enumerate*}\n"
      ],
      "text/markdown": [
       "1. 58.5\n",
       "2. 59.75\n",
       "3. 60\n",
       "4. 55.75\n",
       "5. 38.75\n",
       "6. 78.5\n",
       "\n",
       "\n"
      ],
      "text/plain": [
       "[1] 58.50 59.75 60.00 55.75 38.75 78.50"
      ]
     },
     "execution_count": 5,
     "metadata": {},
     "output_type": "execute_result"
    }
   ],
   "source": [
    "# Take the means of the columns, and ignore any NA's\n",
    "colMeans(x, na.rm=TRUE)"
   ]
  }
 ],
 "metadata": {
  "kernelspec": {
   "display_name": "R",
   "language": "R",
   "name": "ir"
  },
  "language_info": {
   "codemirror_mode": "r",
   "file_extension": ".r",
   "mimetype": "text/x-r-source",
   "name": "R",
   "pygments_lexer": "r",
   "version": "3.2.2"
  }
 },
 "nbformat": 4,
 "nbformat_minor": 0
}
