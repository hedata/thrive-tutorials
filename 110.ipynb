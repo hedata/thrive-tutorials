{
 "cells": [
  {
   "cell_type": "markdown",
   "metadata": {},
   "source": [
    "# Adding and removing columns from a data frame\n",
    "Credits: http://www.cookbook-r.com/ (Creative Commons Attribution-Share Alike 3.0 Unported License)"
   ]
  },
  {
   "cell_type": "markdown",
   "metadata": {},
   "source": [
    "## Problem\n",
    "You want to add or remove columns from a data frame.\n",
    "\n",
    "## Solution\n",
    "There are many different ways of adding and removing columns from a data frame."
   ]
  },
  {
   "cell_type": "code",
   "execution_count": 4,
   "metadata": {
    "collapsed": false
   },
   "outputs": [
    {
     "data": {
      "text/html": [
       "<table>\n",
       "<thead><tr><th></th><th scope=col>id</th><th scope=col>weight</th></tr></thead>\n",
       "<tbody>\n",
       "\t<tr><th scope=row>1</th><td>1</td><td>20</td></tr>\n",
       "\t<tr><th scope=row>2</th><td>2</td><td>27</td></tr>\n",
       "\t<tr><th scope=row>3</th><td>3</td><td>24</td></tr>\n",
       "</tbody>\n",
       "</table>\n"
      ],
      "text/latex": [
       "\\begin{tabular}{r|ll}\n",
       "  & id & weight\\\\\n",
       "\\hline\n",
       "\t1 & 1 & 20\\\\\n",
       "\t2 & 2 & 27\\\\\n",
       "\t3 & 3 & 24\\\\\n",
       "\\end{tabular}\n"
      ],
      "text/plain": [
       "  id weight\n",
       "1  1     20\n",
       "2  2     27\n",
       "3  3     24"
      ]
     },
     "execution_count": 4,
     "metadata": {},
     "output_type": "execute_result"
    }
   ],
   "source": [
    "data <- read.table(header=TRUE, text='\n",
    " id weight\n",
    "  1     20\n",
    "  2     27\n",
    "  3     24\n",
    "')\n",
    "data"
   ]
  },
  {
   "cell_type": "code",
   "execution_count": 9,
   "metadata": {
    "collapsed": true
   },
   "outputs": [],
   "source": [
    "# Ways to add a column\n",
    "data$size      <- c(\"small\", \"large\", \"medium\")\n",
    "# or\n",
    "data[[\"size\"]] <- c(\"small\", \"large\", \"medium\")\n",
    "# or\n",
    "data[,\"size\"]  <- c(\"small\", \"large\", \"medium\")\n",
    "# or\n",
    "data$size      <- 0   # Use the same value (0) for all rows"
   ]
  },
  {
   "cell_type": "code",
   "execution_count": 6,
   "metadata": {
    "collapsed": false
   },
   "outputs": [
    {
     "data": {
      "text/html": [
       "<table>\n",
       "<thead><tr><th></th><th scope=col>id</th><th scope=col>weight</th><th scope=col>size</th></tr></thead>\n",
       "<tbody>\n",
       "\t<tr><th scope=row>1</th><td>1</td><td>20</td><td>0</td></tr>\n",
       "\t<tr><th scope=row>2</th><td>2</td><td>27</td><td>0</td></tr>\n",
       "\t<tr><th scope=row>3</th><td>3</td><td>24</td><td>0</td></tr>\n",
       "</tbody>\n",
       "</table>\n"
      ],
      "text/latex": [
       "\\begin{tabular}{r|lll}\n",
       "  & id & weight & size\\\\\n",
       "\\hline\n",
       "\t1 & 1 & 20 & 0\\\\\n",
       "\t2 & 2 & 27 & 0\\\\\n",
       "\t3 & 3 & 24 & 0\\\\\n",
       "\\end{tabular}\n"
      ],
      "text/plain": [
       "  id weight size\n",
       "1  1     20    0\n",
       "2  2     27    0\n",
       "3  3     24    0"
      ]
     },
     "execution_count": 6,
     "metadata": {},
     "output_type": "execute_result"
    }
   ],
   "source": [
    "data"
   ]
  },
  {
   "cell_type": "code",
   "execution_count": 10,
   "metadata": {
    "collapsed": false
   },
   "outputs": [
    {
     "ename": "ERROR",
     "evalue": "Error in eval(expr, envir, enclos): object 'size' not found\n",
     "output_type": "error",
     "traceback": [
      "Error in eval(expr, envir, enclos): object 'size' not found\n"
     ]
    }
   ],
   "source": [
    "# Ways to remove the column\n",
    "data$size      <- NULL\n",
    "# or\n",
    "data[[\"size\"]] <- NULL\n",
    "# or\n",
    "data[,\"size\"]  <- NULL\n",
    "# or\n",
    "data[[3]]      <- NULL\n",
    "# or\n",
    "data[,3]       <- NULL\n",
    "# or\n",
    "data           <- subset(data, select=-size)"
   ]
  },
  {
   "cell_type": "code",
   "execution_count": 11,
   "metadata": {
    "collapsed": false
   },
   "outputs": [
    {
     "data": {
      "text/html": [
       "<table>\n",
       "<thead><tr><th></th><th scope=col>id</th><th scope=col>weight</th></tr></thead>\n",
       "<tbody>\n",
       "\t<tr><th scope=row>1</th><td>1</td><td>20</td></tr>\n",
       "\t<tr><th scope=row>2</th><td>2</td><td>27</td></tr>\n",
       "\t<tr><th scope=row>3</th><td>3</td><td>24</td></tr>\n",
       "</tbody>\n",
       "</table>\n"
      ],
      "text/latex": [
       "\\begin{tabular}{r|ll}\n",
       "  & id & weight\\\\\n",
       "\\hline\n",
       "\t1 & 1 & 20\\\\\n",
       "\t2 & 2 & 27\\\\\n",
       "\t3 & 3 & 24\\\\\n",
       "\\end{tabular}\n"
      ],
      "text/plain": [
       "  id weight\n",
       "1  1     20\n",
       "2  2     27\n",
       "3  3     24"
      ]
     },
     "execution_count": 11,
     "metadata": {},
     "output_type": "execute_result"
    }
   ],
   "source": [
    "data"
   ]
  }
 ],
 "metadata": {
  "kernelspec": {
   "display_name": "R",
   "language": "R",
   "name": "ir"
  },
  "language_info": {
   "codemirror_mode": "r",
   "file_extension": ".r",
   "mimetype": "text/x-r-source",
   "name": "R",
   "pygments_lexer": "r",
   "version": "3.2.0"
  }
 },
 "nbformat": 4,
 "nbformat_minor": 0
}
