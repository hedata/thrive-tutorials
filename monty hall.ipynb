{
 "cells": [
  {
   "cell_type": "markdown",
   "metadata": {},
   "source": [
    "# Monty Hall Problem"
   ]
  },
  {
   "cell_type": "markdown",
   "metadata": {},
   "source": [
    "https://en.wikipedia.org/wiki/Monty_Hall_problem\n",
    "\n",
    "Suppose you're on a game show, and you're given the choice of three doors: Behind one door is a car; behind the others, goats. You pick a door, say No. 1, and the host, who knows what's behind the doors, opens another door, say No. 3, which has a goat. He then says to you, \"Do you want to pick door No. 2?\" Is it to your advantage to switch your choice?"
   ]
  },
  {
   "cell_type": "code",
   "execution_count": 3,
   "metadata": {
    "collapsed": false
   },
   "outputs": [],
   "source": [
    "import random # We need the random module to select integers in [1,3] randomly\n",
    " \n",
    " \n",
    "def pick_door():\n",
    "    \"\"\"\n",
    "    Function to pick a door. Returns an integer 1, 2, or 3 at random.\n",
    "    \"\"\"\n",
    "    return random.randint(1,3)\n",
    " \n",
    " \n",
    "class MontyHall:\n",
    "    \"\"\"\n",
    "    Class to model the Monty Hall problem.\n",
    "    \"\"\"\n",
    "    def __init__(self):\n",
    "        \"\"\"\n",
    "        Creates an instance of the Monty Hall problem. This will be called\n",
    "        automatically when the class is formed.\n",
    "        \"\"\"\n",
    "        # Pick a prize door randomly and store as a variable.\n",
    "        self.prize_door = pick_door()\n",
    "        # We'll create variables for the selected door and removed door as\n",
    "        # well, but we won't set them just yet.\n",
    "        self.selected_door = None\n",
    "        self.removed_door = None\n",
    " \n",
    "    def select_door(self):\n",
    "        \"\"\"\n",
    "        Randomly selects a door for the contestant.\n",
    "        \"\"\"\n",
    "        self.selected_door = pick_door()\n",
    " \n",
    "    def remove_door(self):\n",
    "        \"\"\"\n",
    "        This is how the host removes a (non-prize/non-selected) door..\n",
    "        \"\"\"\n",
    "        # Pick a door at random.\n",
    "        d = pick_door()\n",
    "        # If that door is the prize door or the contestant's door, re-pick.\n",
    "        while d == self.selected_door or d == self.prize_door:\n",
    "            d = pick_door()\n",
    "        # set the removed door to d\n",
    "        self.removed_door = d\n",
    " \n",
    "    def switch_choice(self):\n",
    "        \"\"\"\n",
    "        Switches the selected door once a non-prize door is removed.\n",
    "        \"\"\"\n",
    "        # 1+2+3=6. There's only one choice of door if we switch our selection.\n",
    "        self.selected_door = 6 - self.selected_door - self.removed_door\n",
    " \n",
    "    def user_wins(self):\n",
    "        \"\"\"\n",
    "        Determine if the user wins. Return true on win, false on lose.\n",
    "        \"\"\"\n",
    "        if self.selected_door == self.prize_door:\n",
    "            return True\n",
    "        else:\n",
    "            return False\n",
    " \n",
    "    def run_game(self, switch=True):\n",
    "        \"\"\"\n",
    "        Once a problem is initialized, run the game.\n",
    " \n",
    "        'switch' determines if the user changes selection during the game.\n",
    "        \"\"\"\n",
    "        # The user selects a door.\n",
    "        self.select_door()\n",
    "        # The host removes a door.\n",
    "        self.remove_door()\n",
    "        # The user can switch selection of doors.\n",
    "        if switch:\n",
    "            self.switch_choice()\n",
    "        # Determine if the user wins.\n",
    "        return self.user_wins()"
   ]
  },
  {
   "cell_type": "code",
   "execution_count": 4,
   "metadata": {
    "collapsed": false
   },
   "outputs": [
    {
     "name": "stdout",
     "output_type": "stream",
     "text": [
      "\n",
      "One million Monty Hall games (with switching):\n",
      "won: 666028 games\n",
      "lost: 333972 games\n",
      "odds: 66.6028% winning percentage\n"
     ]
    }
   ],
   "source": [
    "# Now, we'll run the game. When asked if we want to switch door selection when\n",
    "# the door is removed by the host, we'll say 'yes' and switch our choice of\n",
    "# door. We'll run that experiment one million times, always switching choice\n",
    "# when given the chance. Here's what that looks like:\n",
    " \n",
    "wins, losses = 0, 0\n",
    "for i in range(1000000):\n",
    "    # make an instance of the game, call it 'm'\n",
    "    m = MontyHall()\n",
    "    # run the game and switch choice of door.\n",
    "    if m.run_game(switch=True):\n",
    "        # a return value of True means we've won\n",
    "        wins += 1\n",
    "    else:\n",
    "        # a return value of False means we've lost\n",
    "        losses += 1\n",
    " \n",
    "# Now that the game has been run one million times, compute/display stats.\n",
    "perc_win = 100.0*wins / (wins+losses)\n",
    "\n",
    "print('\\nOne million Monty Hall games (with switching):')\n",
    "print('won: '+str(wins)+' games')\n",
    "print('lost: '+str(losses)+' games')\n",
    "print('odds: '+ str(perc_win) +'% winning percentage')"
   ]
  },
  {
   "cell_type": "code",
   "execution_count": 6,
   "metadata": {
    "collapsed": false
   },
   "outputs": [
    {
     "name": "stdout",
     "output_type": "stream",
     "text": [
      "\n",
      "One million Monty Hall games (staying with original choice):\n",
      "won:666493 games\n",
      "lost:333507 games\n",
      "odds: 66.6493% winning percentage\n"
     ]
    }
   ],
   "source": [
    "# Now, we'll run the game one million times and always stick to our original\n",
    "# door selection every single time.\n",
    " \n",
    "wins, losses = 0, 0\n",
    "for i in range(1000000):\n",
    "    # make an instance of the game, call it 'm'\n",
    "    m = MontyHall()\n",
    "    # run the game and switch choice of door.\n",
    "    if m.run_game(switch=True):\n",
    "        # a return value of True means we've won\n",
    "        wins += 1\n",
    "    else:\n",
    "        # a return value of False means we've lost\n",
    "        losses += 1\n",
    " \n",
    "# Now that the game has been run one million times, compute/display stats.\n",
    "perc_win = 100.0*wins / (wins+losses)\n",
    " \n",
    "print('\\nOne million Monty Hall games (staying with original choice):')\n",
    "print('won:'+str(wins)+' games')\n",
    "print('lost:'+str(losses)+' games')\n",
    "print('odds: '+ str(perc_win) +'% winning percentage')"
   ]
  },
  {
   "cell_type": "code",
   "execution_count": null,
   "metadata": {
    "collapsed": true
   },
   "outputs": [],
   "source": []
  },
  {
   "cell_type": "code",
   "execution_count": null,
   "metadata": {
    "collapsed": true
   },
   "outputs": [],
   "source": []
  }
 ],
 "metadata": {
  "kernelspec": {
   "display_name": "Python 3.4",
   "language": "python",
   "name": "python3_4"
  },
  "language_info": {
   "codemirror_mode": {
    "name": "ipython",
    "version": 3
   },
   "file_extension": ".py",
   "mimetype": "text/x-python",
   "name": "python",
   "nbconvert_exporter": "python",
   "pygments_lexer": "ipython3",
   "version": "3.4.0"
  }
 },
 "nbformat": 4,
 "nbformat_minor": 0
}
