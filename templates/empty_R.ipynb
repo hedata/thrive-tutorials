{
 "cells": [
  {
   "cell_type": "markdown",
   "metadata": {},
   "source": [
    "This is a text cell. You can use it to write down your thoughts.\n",
    "\n",
    "Double click into this cell to edit the text. You can use Markdown and Latex and [More](http://jupyter-notebook.readthedocs.io/en/latest/examples/Notebook/Working%20With%20Markdown%20Cells.html)\n",
    "\n",
    "Use the code cell below to execute and code interactively. You can always create new cells with the cell toolbar."
   ]
  },
  {
   "cell_type": "code",
   "execution_count": 1,
   "metadata": {
    "collapsed": false
   },
   "outputs": [
    {
     "name": "stdout",
     "output_type": "stream",
     "text": [
      "Hello from the interactive Notebook\n"
     ]
    }
   ],
   "source": [
    "print(\"Hello from the interactive Notebook\")"
   ]
  }
 ],
 "metadata": {
  "kernelspec": {
    "display_name": "R",
    "language": "R",
    "name": "ir"
  },
  "language_info": {
   "codemirror_mode": "r",
   "file_extension": ".r",
   "mimetype": "text/x-r-source",
   "name": "R",
   "pygments_lexer": "r",
   "version": "3.5.1+"
  },
  "thrive": {
   "type": "template"
  }
 },
 "nbformat": 4,
 "nbformat_minor": 0
}
