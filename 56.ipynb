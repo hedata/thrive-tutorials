{
 "cells": [
  {
   "cell_type": "markdown",
   "metadata": {},
   "source": [
    "# Creating a formula from a string\n",
    "Credits: http://www.cookbook-r.com/ (Creative Commons Attribution-Share Alike 3.0 Unported License)"
   ]
  },
  {
   "cell_type": "markdown",
   "metadata": {},
   "source": [
    "## Problem\n",
    "You want to create a formula from a string.\n",
    "\n",
    "## Solution\n",
    "It can be useful to create a formula from a string. This often occurs in functions where the formula arguments are passed in as strings.\n",
    "\n",
    "In the most basic case, use ```as.formula()```:"
   ]
  },
  {
   "cell_type": "code",
   "execution_count": 3,
   "metadata": {
    "collapsed": false
   },
   "outputs": [
    {
     "data": {
      "text/html": [
       "'y ~ x1 + x2'"
      ],
      "text/latex": [
       "'y ~ x1 + x2'"
      ],
      "text/markdown": [
       "'y ~ x1 + x2'"
      ],
      "text/plain": [
       "[1] \"y ~ x1 + x2\""
      ]
     },
     "execution_count": 3,
     "metadata": {},
     "output_type": "execute_result"
    },
    {
     "data": {
      "text/plain": [
       "y ~ x1 + x2"
      ]
     },
     "execution_count": 3,
     "metadata": {},
     "output_type": "execute_result"
    }
   ],
   "source": [
    "# This returns a string:\n",
    "\"y ~ x1 + x2\"\n",
    "\n",
    "# This returns a formula:\n",
    "as.formula(\"y ~ x1 + x2\")"
   ]
  },
  {
   "cell_type": "markdown",
   "metadata": {},
   "source": [
    "Here is an example of how it might be used:"
   ]
  },
  {
   "cell_type": "code",
   "execution_count": 4,
   "metadata": {
    "collapsed": false
   },
   "outputs": [
    {
     "data": {
      "text/html": [
       "'y ~ x1 + x2 + x3'"
      ],
      "text/latex": [
       "'y ~ x1 + x2 + x3'"
      ],
      "text/markdown": [
       "'y ~ x1 + x2 + x3'"
      ],
      "text/plain": [
       "[1] \"y ~ x1 + x2 + x3\""
      ]
     },
     "execution_count": 4,
     "metadata": {},
     "output_type": "execute_result"
    },
    {
     "data": {
      "text/plain": [
       "y ~ x1 + x2 + x3"
      ]
     },
     "execution_count": 4,
     "metadata": {},
     "output_type": "execute_result"
    }
   ],
   "source": [
    "# These are the variable names:\n",
    "measurevar <- \"y\"\n",
    "groupvars  <- c(\"x1\",\"x2\",\"x3\")\n",
    "\n",
    "# This creates the appropriate string:\n",
    "paste(measurevar, paste(groupvars, collapse=\" + \"), sep=\" ~ \")\n",
    "\n",
    "# This returns the formula:\n",
    "as.formula(paste(measurevar, paste(groupvars, collapse=\" + \"), sep=\" ~ \"))"
   ]
  }
 ],
 "metadata": {
  "kernelspec": {
   "display_name": "R",
   "language": "R",
   "name": "ir"
  },
  "language_info": {
   "codemirror_mode": "r",
   "file_extension": ".r",
   "mimetype": "text/x-r-source",
   "name": "R",
   "pygments_lexer": "r",
   "version": "3.2.2"
  }
 },
 "nbformat": 4,
 "nbformat_minor": 0
}
