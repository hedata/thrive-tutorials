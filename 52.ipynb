{
 "cells": [
  {
   "cell_type": "markdown",
   "metadata": {},
   "source": [
    "# Saving the state of the random number generator\n",
    "Credits: http://www.cookbook-r.com/ (Creative Commons Attribution-Share Alike 3.0 Unported License)"
   ]
  },
  {
   "cell_type": "markdown",
   "metadata": {},
   "source": [
    "## Problem\n",
    "You want to save and restore the state of the random number generator\n",
    "\n",
    "## Solution\n",
    "Save .Random.seed to another variable and then later restore that value to .Random.seed."
   ]
  },
  {
   "cell_type": "code",
   "execution_count": 1,
   "metadata": {
    "collapsed": false
   },
   "outputs": [
    {
     "data": {
      "text/html": [
       "<ol class=list-inline>\n",
       "\t<li>0.108971454435959</li>\n",
       "\t<li>0.597345531685278</li>\n",
       "\t<li>0.972630720352754</li>\n",
       "</ol>\n"
      ],
      "text/latex": [
       "\\begin{enumerate*}\n",
       "\\item 0.108971454435959\n",
       "\\item 0.597345531685278\n",
       "\\item 0.972630720352754\n",
       "\\end{enumerate*}\n"
      ],
      "text/markdown": [
       "1. 0.108971454435959\n",
       "2. 0.597345531685278\n",
       "3. 0.972630720352754\n",
       "\n",
       "\n"
      ],
      "text/plain": [
       "[1] 0.1089715 0.5973455 0.9726307"
      ]
     },
     "execution_count": 1,
     "metadata": {},
     "output_type": "execute_result"
    }
   ],
   "source": [
    "# For this example, set the random seed\n",
    "set.seed(423)\n",
    "runif(3)\n",
    "\n",
    "# Save the seed\n",
    "oldseed <- .Random.seed"
   ]
  },
  {
   "cell_type": "code",
   "execution_count": 2,
   "metadata": {
    "collapsed": false
   },
   "outputs": [
    {
     "data": {
      "text/html": [
       "<ol class=list-inline>\n",
       "\t<li>0.79737675958313</li>\n",
       "\t<li>0.227842746302485</li>\n",
       "\t<li>0.51898300438188</li>\n",
       "</ol>\n"
      ],
      "text/latex": [
       "\\begin{enumerate*}\n",
       "\\item 0.79737675958313\n",
       "\\item 0.227842746302485\n",
       "\\item 0.51898300438188\n",
       "\\end{enumerate*}\n"
      ],
      "text/markdown": [
       "1. 0.79737675958313\n",
       "2. 0.227842746302485\n",
       "3. 0.51898300438188\n",
       "\n",
       "\n"
      ],
      "text/plain": [
       "[1] 0.7973768 0.2278427 0.5189830"
      ]
     },
     "execution_count": 2,
     "metadata": {},
     "output_type": "execute_result"
    },
    {
     "data": {
      "text/html": [
       "<ol class=list-inline>\n",
       "\t<li>0.692925532115623</li>\n",
       "\t<li>0.810445342445746</li>\n",
       "\t<li>0.101946499198675</li>\n",
       "\t<li>0.916665239958093</li>\n",
       "\t<li>0.202492428943515</li>\n",
       "\t<li>0.165276647312567</li>\n",
       "\t<li>0.463994201272726</li>\n",
       "\t<li>0.130051930900663</li>\n",
       "\t<li>0.893685999326408</li>\n",
       "\t<li>0.638632253045216</li>\n",
       "\t<li>0.192545412806794</li>\n",
       "\t<li>0.575571133755147</li>\n",
       "\t<li>0.78458928479813</li>\n",
       "\t<li>0.550809561507776</li>\n",
       "\t<li>0.593888559611514</li>\n",
       "\t<li>0.0204007278662175</li>\n",
       "\t<li>0.176631623180583</li>\n",
       "\t<li>0.336479230551049</li>\n",
       "\t<li>0.533043301897123</li>\n",
       "\t<li>0.229394994210452</li>\n",
       "\t<li>0.432329590665177</li>\n",
       "\t<li>0.718899692641571</li>\n",
       "\t<li>0.973180200206116</li>\n",
       "\t<li>0.203200075775385</li>\n",
       "\t<li>0.589915934950113</li>\n",
       "\t<li>0.884508759947494</li>\n",
       "\t<li>0.611548955785111</li>\n",
       "\t<li>0.681237605400383</li>\n",
       "\t<li>0.481628993758932</li>\n",
       "\t<li>0.518075631698593</li>\n",
       "</ol>\n"
      ],
      "text/latex": [
       "\\begin{enumerate*}\n",
       "\\item 0.692925532115623\n",
       "\\item 0.810445342445746\n",
       "\\item 0.101946499198675\n",
       "\\item 0.916665239958093\n",
       "\\item 0.202492428943515\n",
       "\\item 0.165276647312567\n",
       "\\item 0.463994201272726\n",
       "\\item 0.130051930900663\n",
       "\\item 0.893685999326408\n",
       "\\item 0.638632253045216\n",
       "\\item 0.192545412806794\n",
       "\\item 0.575571133755147\n",
       "\\item 0.78458928479813\n",
       "\\item 0.550809561507776\n",
       "\\item 0.593888559611514\n",
       "\\item 0.0204007278662175\n",
       "\\item 0.176631623180583\n",
       "\\item 0.336479230551049\n",
       "\\item 0.533043301897123\n",
       "\\item 0.229394994210452\n",
       "\\item 0.432329590665177\n",
       "\\item 0.718899692641571\n",
       "\\item 0.973180200206116\n",
       "\\item 0.203200075775385\n",
       "\\item 0.589915934950113\n",
       "\\item 0.884508759947494\n",
       "\\item 0.611548955785111\n",
       "\\item 0.681237605400383\n",
       "\\item 0.481628993758932\n",
       "\\item 0.518075631698593\n",
       "\\end{enumerate*}\n"
      ],
      "text/markdown": [
       "1. 0.692925532115623\n",
       "2. 0.810445342445746\n",
       "3. 0.101946499198675\n",
       "4. 0.916665239958093\n",
       "5. 0.202492428943515\n",
       "6. 0.165276647312567\n",
       "7. 0.463994201272726\n",
       "8. 0.130051930900663\n",
       "9. 0.893685999326408\n",
       "10. 0.638632253045216\n",
       "11. 0.192545412806794\n",
       "12. 0.575571133755147\n",
       "13. 0.78458928479813\n",
       "14. 0.550809561507776\n",
       "15. 0.593888559611514\n",
       "16. 0.0204007278662175\n",
       "17. 0.176631623180583\n",
       "18. 0.336479230551049\n",
       "19. 0.533043301897123\n",
       "20. 0.229394994210452\n",
       "21. 0.432329590665177\n",
       "22. 0.718899692641571\n",
       "23. 0.973180200206116\n",
       "24. 0.203200075775385\n",
       "25. 0.589915934950113\n",
       "26. 0.884508759947494\n",
       "27. 0.611548955785111\n",
       "28. 0.681237605400383\n",
       "29. 0.481628993758932\n",
       "30. 0.518075631698593\n",
       "\n",
       "\n"
      ],
      "text/plain": [
       " [1] 0.69292553 0.81044534 0.10194650 0.91666524 0.20249243 0.16527665\n",
       " [7] 0.46399420 0.13005193 0.89368600 0.63863225 0.19254541 0.57557113\n",
       "[13] 0.78458928 0.55080956 0.59388856 0.02040073 0.17663162 0.33647923\n",
       "[19] 0.53304330 0.22939499 0.43232959 0.71889969 0.97318020 0.20320008\n",
       "[25] 0.58991593 0.88450876 0.61154896 0.68123761 0.48162899 0.51807563"
      ]
     },
     "execution_count": 2,
     "metadata": {},
     "output_type": "execute_result"
    }
   ],
   "source": [
    "runif(3)\n",
    "\n",
    "# Do some other stuff with RNG here, such as:\n",
    "runif(30)\n",
    "# ..."
   ]
  },
  {
   "cell_type": "code",
   "execution_count": 3,
   "metadata": {
    "collapsed": false
   },
   "outputs": [
    {
     "data": {
      "text/html": [
       "<ol class=list-inline>\n",
       "\t<li>0.79737675958313</li>\n",
       "\t<li>0.227842746302485</li>\n",
       "\t<li>0.51898300438188</li>\n",
       "</ol>\n"
      ],
      "text/latex": [
       "\\begin{enumerate*}\n",
       "\\item 0.79737675958313\n",
       "\\item 0.227842746302485\n",
       "\\item 0.51898300438188\n",
       "\\end{enumerate*}\n"
      ],
      "text/markdown": [
       "1. 0.79737675958313\n",
       "2. 0.227842746302485\n",
       "3. 0.51898300438188\n",
       "\n",
       "\n"
      ],
      "text/plain": [
       "[1] 0.7973768 0.2278427 0.5189830"
      ]
     },
     "execution_count": 3,
     "metadata": {},
     "output_type": "execute_result"
    }
   ],
   "source": [
    "# Restore the seed\n",
    ".Random.seed <- oldseed\n",
    "\n",
    "# Get the same random numbers as before, after saving the seed\n",
    "runif(3)\n",
    "#> [1] 0.7973768 0.2278427 0.5189830"
   ]
  },
  {
   "cell_type": "markdown",
   "metadata": {},
   "source": [
    "If no random number generator has been used in your R session, the variable .Random.seed will not exist. If you cannot be certain that an RNG has been used before attempting to save, the seed, you should check for it before saving and restoring:"
   ]
  },
  {
   "cell_type": "code",
   "execution_count": 4,
   "metadata": {
    "collapsed": false
   },
   "outputs": [
    {
     "data": {
      "text/html": [
       "<ol class=list-inline>\n",
       "\t<li>0.692925532115623</li>\n",
       "\t<li>0.810445342445746</li>\n",
       "\t<li>0.101946499198675</li>\n",
       "\t<li>0.916665239958093</li>\n",
       "\t<li>0.202492428943515</li>\n",
       "\t<li>0.165276647312567</li>\n",
       "\t<li>0.463994201272726</li>\n",
       "\t<li>0.130051930900663</li>\n",
       "\t<li>0.893685999326408</li>\n",
       "\t<li>0.638632253045216</li>\n",
       "\t<li>0.192545412806794</li>\n",
       "\t<li>0.575571133755147</li>\n",
       "\t<li>0.78458928479813</li>\n",
       "\t<li>0.550809561507776</li>\n",
       "\t<li>0.593888559611514</li>\n",
       "\t<li>0.0204007278662175</li>\n",
       "\t<li>0.176631623180583</li>\n",
       "\t<li>0.336479230551049</li>\n",
       "\t<li>0.533043301897123</li>\n",
       "\t<li>0.229394994210452</li>\n",
       "\t<li>0.432329590665177</li>\n",
       "\t<li>0.718899692641571</li>\n",
       "\t<li>0.973180200206116</li>\n",
       "\t<li>0.203200075775385</li>\n",
       "\t<li>0.589915934950113</li>\n",
       "\t<li>0.884508759947494</li>\n",
       "\t<li>0.611548955785111</li>\n",
       "\t<li>0.681237605400383</li>\n",
       "\t<li>0.481628993758932</li>\n",
       "\t<li>0.518075631698593</li>\n",
       "</ol>\n"
      ],
      "text/latex": [
       "\\begin{enumerate*}\n",
       "\\item 0.692925532115623\n",
       "\\item 0.810445342445746\n",
       "\\item 0.101946499198675\n",
       "\\item 0.916665239958093\n",
       "\\item 0.202492428943515\n",
       "\\item 0.165276647312567\n",
       "\\item 0.463994201272726\n",
       "\\item 0.130051930900663\n",
       "\\item 0.893685999326408\n",
       "\\item 0.638632253045216\n",
       "\\item 0.192545412806794\n",
       "\\item 0.575571133755147\n",
       "\\item 0.78458928479813\n",
       "\\item 0.550809561507776\n",
       "\\item 0.593888559611514\n",
       "\\item 0.0204007278662175\n",
       "\\item 0.176631623180583\n",
       "\\item 0.336479230551049\n",
       "\\item 0.533043301897123\n",
       "\\item 0.229394994210452\n",
       "\\item 0.432329590665177\n",
       "\\item 0.718899692641571\n",
       "\\item 0.973180200206116\n",
       "\\item 0.203200075775385\n",
       "\\item 0.589915934950113\n",
       "\\item 0.884508759947494\n",
       "\\item 0.611548955785111\n",
       "\\item 0.681237605400383\n",
       "\\item 0.481628993758932\n",
       "\\item 0.518075631698593\n",
       "\\end{enumerate*}\n"
      ],
      "text/markdown": [
       "1. 0.692925532115623\n",
       "2. 0.810445342445746\n",
       "3. 0.101946499198675\n",
       "4. 0.916665239958093\n",
       "5. 0.202492428943515\n",
       "6. 0.165276647312567\n",
       "7. 0.463994201272726\n",
       "8. 0.130051930900663\n",
       "9. 0.893685999326408\n",
       "10. 0.638632253045216\n",
       "11. 0.192545412806794\n",
       "12. 0.575571133755147\n",
       "13. 0.78458928479813\n",
       "14. 0.550809561507776\n",
       "15. 0.593888559611514\n",
       "16. 0.0204007278662175\n",
       "17. 0.176631623180583\n",
       "18. 0.336479230551049\n",
       "19. 0.533043301897123\n",
       "20. 0.229394994210452\n",
       "21. 0.432329590665177\n",
       "22. 0.718899692641571\n",
       "23. 0.973180200206116\n",
       "24. 0.203200075775385\n",
       "25. 0.589915934950113\n",
       "26. 0.884508759947494\n",
       "27. 0.611548955785111\n",
       "28. 0.681237605400383\n",
       "29. 0.481628993758932\n",
       "30. 0.518075631698593\n",
       "\n",
       "\n"
      ],
      "text/plain": [
       " [1] 0.69292553 0.81044534 0.10194650 0.91666524 0.20249243 0.16527665\n",
       " [7] 0.46399420 0.13005193 0.89368600 0.63863225 0.19254541 0.57557113\n",
       "[13] 0.78458928 0.55080956 0.59388856 0.02040073 0.17663162 0.33647923\n",
       "[19] 0.53304330 0.22939499 0.43232959 0.71889969 0.97318020 0.20320008\n",
       "[25] 0.58991593 0.88450876 0.61154896 0.68123761 0.48162899 0.51807563"
      ]
     },
     "execution_count": 4,
     "metadata": {},
     "output_type": "execute_result"
    }
   ],
   "source": [
    "oldseed <- NULL\n",
    "if (exists(\".Random.seed\"))\n",
    "    oldseed <- .Random.seed\n",
    "\n",
    "# Do some other stuff with RNG here, such as:\n",
    "runif(30)\n",
    "\n",
    "if (!is.null(oldseed))\n",
    "    .Random.seed <- oldseed"
   ]
  },
  {
   "cell_type": "markdown",
   "metadata": {},
   "source": [
    "## Saving and restoring the state of the RNG in functions\n",
    "If you attempt to restore the state of the random number generator within a function by using ```.Random.seed <- x```, it will not work, because this operation changes a _local_ variable named `.Random.seed`, instead of the variable in the _global_ envrionment.\n",
    "\n",
    "Here are two examples. What these functions are supposed to do is generate some random numbers, while leaving the state of the RNG unchanged."
   ]
  },
  {
   "cell_type": "code",
   "execution_count": 5,
   "metadata": {
    "collapsed": true
   },
   "outputs": [],
   "source": [
    "# This is the bad version\n",
    "bad_rand_restore <- function() {\n",
    "    if (exists(\".Random.seed\"))\n",
    "        oldseed <- .Random.seed\n",
    "    else\n",
    "        oldseed <- NULL\n",
    "\n",
    "    print(runif(3))\n",
    "\n",
    "    if (!is.null(oldseed))\n",
    "        .Random.seed <- oldseed\n",
    "    else\n",
    "        rm(\".Random.seed\")\n",
    "}"
   ]
  },
  {
   "cell_type": "code",
   "execution_count": 6,
   "metadata": {
    "collapsed": true
   },
   "outputs": [],
   "source": [
    "# This is the good version\n",
    "rand_restore <- function() {\n",
    "    if (exists(\".Random.seed\", .GlobalEnv))\n",
    "        oldseed <- .GlobalEnv$.Random.seed\n",
    "    else\n",
    "        oldseed <- NULL\n",
    "\n",
    "    print(runif(3))\n",
    "\n",
    "    if (!is.null(oldseed)) \n",
    "        .GlobalEnv$.Random.seed <- oldseed\n",
    "    else\n",
    "        rm(\".Random.seed\", envir = .GlobalEnv)\n",
    "}"
   ]
  },
  {
   "cell_type": "code",
   "execution_count": 7,
   "metadata": {
    "collapsed": false
   },
   "outputs": [
    {
     "name": "stdout",
     "output_type": "stream",
     "text": [
      "[1] 0.1089715 0.5973455 0.9726307\n",
      "[1] 0.7973768 0.2278427 0.5189830\n",
      "[1] 0.6929255 0.8104453 0.1019465\n"
     ]
    }
   ],
   "source": [
    "# The bad version doesn't properly reset the RNG state, so random numbers keep\n",
    "# changing.\n",
    "set.seed(423)\n",
    "bad_rand_restore()\n",
    "bad_rand_restore()\n",
    "bad_rand_restore()"
   ]
  },
  {
   "cell_type": "code",
   "execution_count": 8,
   "metadata": {
    "collapsed": false
   },
   "outputs": [
    {
     "name": "stdout",
     "output_type": "stream",
     "text": [
      "[1] 0.1089715 0.5973455 0.9726307\n",
      "[1] 0.1089715 0.5973455 0.9726307\n",
      "[1] 0.1089715 0.5973455 0.9726307\n"
     ]
    }
   ],
   "source": [
    "# The good version correctly resets the RNG state each time, so random numbers\n",
    "# stay the same.\n",
    "set.seed(423)\n",
    "rand_restore()\n",
    "rand_restore()\n",
    "rand_restore()"
   ]
  },
  {
   "cell_type": "markdown",
   "metadata": {},
   "source": [
    "## Notes\n",
    "\n",
    ".Random.seed should not be modified by the user."
   ]
  }
 ],
 "metadata": {
  "kernelspec": {
   "display_name": "R",
   "language": "R",
   "name": "ir"
  },
  "language_info": {
   "codemirror_mode": "r",
   "file_extension": ".r",
   "mimetype": "text/x-r-source",
   "name": "R",
   "pygments_lexer": "r",
   "version": "3.2.2"
  }
 },
 "nbformat": 4,
 "nbformat_minor": 0
}
