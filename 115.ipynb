{
 "cells": [
  {
   "cell_type": "markdown",
   "metadata": {},
   "source": [
    "# Converting data between wide and long format\n",
    "Credits: http://www.cookbook-r.com/ (Creative Commons Attribution-Share Alike 3.0 Unported License)"
   ]
  },
  {
   "cell_type": "markdown",
   "metadata": {},
   "source": [
    "## Problem\n",
    "You want to do convert data from a wide format to a long format.\n",
    "\n",
    "Many functions in R expect data to be in a long format rather than a wide format. Programs like SPSS, however, often use wide-formatted data.\n",
    "\n",
    "## Solution\n",
    "There are two sets of methods that are explained below:\n",
    "\n",
    "* `gather()` and `spread()` from the **tidyr** package. This is a newer interface to the **reshape2** package.\n",
    "* `melt()` and `dcast()` from the **reshape2** package.\n",
    "\n",
    "There are a number of other methods which aren’t covered here, since they are not as easy to use:\n",
    "\n",
    "* the `reshape()` function, which is confusingly not part of the reshape2 package; it is part of the base install of R.\n",
    "* `stack()` and `unstack()`\n",
    "\n",
    "### Sample data\n",
    "\n",
    "These data frames hold the same data, but in wide and long formats. They will each be converted to the other format below."
   ]
  },
  {
   "cell_type": "code",
   "execution_count": 1,
   "metadata": {
    "collapsed": true
   },
   "outputs": [],
   "source": [
    "olddata_wide <- read.table(header=TRUE, text='\n",
    " subject sex control cond1 cond2\n",
    "       1   M     7.9  12.3  10.7\n",
    "       2   F     6.3  10.6  11.1\n",
    "       3   F     9.5  13.1  13.8\n",
    "       4   M    11.5  13.4  12.9\n",
    "')\n",
    "# Make sure the subject column is a factor\n",
    "olddata_wide$subject <- factor(olddata_wide$subject)"
   ]
  },
  {
   "cell_type": "code",
   "execution_count": 2,
   "metadata": {
    "collapsed": true
   },
   "outputs": [],
   "source": [
    "olddata_long <- read.table(header=TRUE, text='\n",
    " subject sex condition measurement\n",
    "       1   M   control         7.9\n",
    "       1   M     cond1        12.3\n",
    "       1   M     cond2        10.7\n",
    "       2   F   control         6.3\n",
    "       2   F     cond1        10.6\n",
    "       2   F     cond2        11.1\n",
    "       3   F   control         9.5\n",
    "       3   F     cond1        13.1\n",
    "       3   F     cond2        13.8\n",
    "       4   M   control        11.5\n",
    "       4   M     cond1        13.4\n",
    "       4   M     cond2        12.9\n",
    "')\n",
    "# Make sure the subject column is a factor\n",
    "olddata_long$subject <- factor(olddata_long$subject)"
   ]
  },
  {
   "cell_type": "markdown",
   "metadata": {},
   "source": [
    "### tidyr\n",
    "#### From wide to long\n",
    "Use `gather`:"
   ]
  },
  {
   "cell_type": "code",
   "execution_count": 3,
   "metadata": {
    "collapsed": false
   },
   "outputs": [
    {
     "data": {
      "text/html": [
       "<table>\n",
       "<thead><tr><th></th><th scope=col>subject</th><th scope=col>sex</th><th scope=col>control</th><th scope=col>cond1</th><th scope=col>cond2</th></tr></thead>\n",
       "<tbody>\n",
       "\t<tr><th scope=row>1</th><td>1</td><td>M</td><td>7.9</td><td>12.3</td><td>10.7</td></tr>\n",
       "\t<tr><th scope=row>2</th><td>2</td><td>F</td><td>6.3</td><td>10.6</td><td>11.1</td></tr>\n",
       "\t<tr><th scope=row>3</th><td>3</td><td>F</td><td>9.5</td><td>13.1</td><td>13.8</td></tr>\n",
       "\t<tr><th scope=row>4</th><td>4</td><td>M</td><td>11.5</td><td>13.4</td><td>12.9</td></tr>\n",
       "</tbody>\n",
       "</table>\n"
      ],
      "text/latex": [
       "\\begin{tabular}{r|lllll}\n",
       "  & subject & sex & control & cond1 & cond2\\\\\n",
       "\\hline\n",
       "\t1 & 1 & M & 7.9 & 12.3 & 10.7\\\\\n",
       "\t2 & 2 & F & 6.3 & 10.6 & 11.1\\\\\n",
       "\t3 & 3 & F & 9.5 & 13.1 & 13.8\\\\\n",
       "\t4 & 4 & M & 11.5 & 13.4 & 12.9\\\\\n",
       "\\end{tabular}\n"
      ],
      "text/plain": [
       "  subject sex control cond1 cond2\n",
       "1       1   M     7.9  12.3  10.7\n",
       "2       2   F     6.3  10.6  11.1\n",
       "3       3   F     9.5  13.1  13.8\n",
       "4       4   M    11.5  13.4  12.9"
      ]
     },
     "execution_count": 3,
     "metadata": {},
     "output_type": "execute_result"
    }
   ],
   "source": [
    "olddata_wide"
   ]
  },
  {
   "cell_type": "code",
   "execution_count": 4,
   "metadata": {
    "collapsed": false
   },
   "outputs": [],
   "source": [
    "library(tidyr)"
   ]
  },
  {
   "cell_type": "code",
   "execution_count": 5,
   "metadata": {
    "collapsed": false,
    "scrolled": true
   },
   "outputs": [
    {
     "data": {
      "text/html": [
       "<table>\n",
       "<thead><tr><th></th><th scope=col>subject</th><th scope=col>sex</th><th scope=col>condition</th><th scope=col>measurement</th></tr></thead>\n",
       "<tbody>\n",
       "\t<tr><th scope=row>1</th><td>1</td><td>M</td><td>control</td><td>7.9</td></tr>\n",
       "\t<tr><th scope=row>2</th><td>2</td><td>F</td><td>control</td><td>6.3</td></tr>\n",
       "\t<tr><th scope=row>3</th><td>3</td><td>F</td><td>control</td><td>9.5</td></tr>\n",
       "\t<tr><th scope=row>4</th><td>4</td><td>M</td><td>control</td><td>11.5</td></tr>\n",
       "\t<tr><th scope=row>5</th><td>1</td><td>M</td><td>cond1</td><td>12.3</td></tr>\n",
       "\t<tr><th scope=row>6</th><td>2</td><td>F</td><td>cond1</td><td>10.6</td></tr>\n",
       "\t<tr><th scope=row>7</th><td>3</td><td>F</td><td>cond1</td><td>13.1</td></tr>\n",
       "\t<tr><th scope=row>8</th><td>4</td><td>M</td><td>cond1</td><td>13.4</td></tr>\n",
       "\t<tr><th scope=row>9</th><td>1</td><td>M</td><td>cond2</td><td>10.7</td></tr>\n",
       "\t<tr><th scope=row>10</th><td>2</td><td>F</td><td>cond2</td><td>11.1</td></tr>\n",
       "\t<tr><th scope=row>11</th><td>3</td><td>F</td><td>cond2</td><td>13.8</td></tr>\n",
       "\t<tr><th scope=row>12</th><td>4</td><td>M</td><td>cond2</td><td>12.9</td></tr>\n",
       "</tbody>\n",
       "</table>\n"
      ],
      "text/latex": [
       "\\begin{tabular}{r|llll}\n",
       "  & subject & sex & condition & measurement\\\\\n",
       "\\hline\n",
       "\t1 & 1 & M & control & 7.9\\\\\n",
       "\t2 & 2 & F & control & 6.3\\\\\n",
       "\t3 & 3 & F & control & 9.5\\\\\n",
       "\t4 & 4 & M & control & 11.5\\\\\n",
       "\t5 & 1 & M & cond1 & 12.3\\\\\n",
       "\t6 & 2 & F & cond1 & 10.6\\\\\n",
       "\t7 & 3 & F & cond1 & 13.1\\\\\n",
       "\t8 & 4 & M & cond1 & 13.4\\\\\n",
       "\t9 & 1 & M & cond2 & 10.7\\\\\n",
       "\t10 & 2 & F & cond2 & 11.1\\\\\n",
       "\t11 & 3 & F & cond2 & 13.8\\\\\n",
       "\t12 & 4 & M & cond2 & 12.9\\\\\n",
       "\\end{tabular}\n"
      ],
      "text/plain": [
       "   subject sex condition measurement\n",
       "1        1   M   control         7.9\n",
       "2        2   F   control         6.3\n",
       "3        3   F   control         9.5\n",
       "4        4   M   control        11.5\n",
       "5        1   M     cond1        12.3\n",
       "6        2   F     cond1        10.6\n",
       "7        3   F     cond1        13.1\n",
       "8        4   M     cond1        13.4\n",
       "9        1   M     cond2        10.7\n",
       "10       2   F     cond2        11.1\n",
       "11       3   F     cond2        13.8\n",
       "12       4   M     cond2        12.9"
      ]
     },
     "execution_count": 5,
     "metadata": {},
     "output_type": "execute_result"
    }
   ],
   "source": [
    "# The arguments to gather():\n",
    "# - data: Data object\n",
    "# - key: Name of new key column (made from names of data columns)\n",
    "# - value: Name of new value column\n",
    "# - ...: Names of source columns that contain values\n",
    "data_long <- gather(olddata_wide, condition, measurement, control:cond2)\n",
    "data_long"
   ]
  },
  {
   "cell_type": "markdown",
   "metadata": {},
   "source": [
    "In this example, the source columns that are gathered are specified with `control:cond2`. This means to use all the columns, positionally, between `control` and `cond2`. Another way of doing it is to name the columns individually, as in:"
   ]
  },
  {
   "cell_type": "code",
   "execution_count": 6,
   "metadata": {
    "collapsed": false
   },
   "outputs": [
    {
     "data": {
      "text/html": [
       "<table>\n",
       "<thead><tr><th></th><th scope=col>subject</th><th scope=col>sex</th><th scope=col>condition</th><th scope=col>measurement</th></tr></thead>\n",
       "<tbody>\n",
       "\t<tr><th scope=row>1</th><td>1</td><td>M</td><td>control</td><td>7.9</td></tr>\n",
       "\t<tr><th scope=row>2</th><td>2</td><td>F</td><td>control</td><td>6.3</td></tr>\n",
       "\t<tr><th scope=row>3</th><td>3</td><td>F</td><td>control</td><td>9.5</td></tr>\n",
       "\t<tr><th scope=row>4</th><td>4</td><td>M</td><td>control</td><td>11.5</td></tr>\n",
       "\t<tr><th scope=row>5</th><td>1</td><td>M</td><td>cond1</td><td>12.3</td></tr>\n",
       "\t<tr><th scope=row>6</th><td>2</td><td>F</td><td>cond1</td><td>10.6</td></tr>\n",
       "\t<tr><th scope=row>7</th><td>3</td><td>F</td><td>cond1</td><td>13.1</td></tr>\n",
       "\t<tr><th scope=row>8</th><td>4</td><td>M</td><td>cond1</td><td>13.4</td></tr>\n",
       "\t<tr><th scope=row>9</th><td>1</td><td>M</td><td>cond2</td><td>10.7</td></tr>\n",
       "\t<tr><th scope=row>10</th><td>2</td><td>F</td><td>cond2</td><td>11.1</td></tr>\n",
       "\t<tr><th scope=row>11</th><td>3</td><td>F</td><td>cond2</td><td>13.8</td></tr>\n",
       "\t<tr><th scope=row>12</th><td>4</td><td>M</td><td>cond2</td><td>12.9</td></tr>\n",
       "</tbody>\n",
       "</table>\n"
      ],
      "text/latex": [
       "\\begin{tabular}{r|llll}\n",
       "  & subject & sex & condition & measurement\\\\\n",
       "\\hline\n",
       "\t1 & 1 & M & control & 7.9\\\\\n",
       "\t2 & 2 & F & control & 6.3\\\\\n",
       "\t3 & 3 & F & control & 9.5\\\\\n",
       "\t4 & 4 & M & control & 11.5\\\\\n",
       "\t5 & 1 & M & cond1 & 12.3\\\\\n",
       "\t6 & 2 & F & cond1 & 10.6\\\\\n",
       "\t7 & 3 & F & cond1 & 13.1\\\\\n",
       "\t8 & 4 & M & cond1 & 13.4\\\\\n",
       "\t9 & 1 & M & cond2 & 10.7\\\\\n",
       "\t10 & 2 & F & cond2 & 11.1\\\\\n",
       "\t11 & 3 & F & cond2 & 13.8\\\\\n",
       "\t12 & 4 & M & cond2 & 12.9\\\\\n",
       "\\end{tabular}\n"
      ],
      "text/plain": [
       "   subject sex condition measurement\n",
       "1        1   M   control         7.9\n",
       "2        2   F   control         6.3\n",
       "3        3   F   control         9.5\n",
       "4        4   M   control        11.5\n",
       "5        1   M     cond1        12.3\n",
       "6        2   F     cond1        10.6\n",
       "7        3   F     cond1        13.1\n",
       "8        4   M     cond1        13.4\n",
       "9        1   M     cond2        10.7\n",
       "10       2   F     cond2        11.1\n",
       "11       3   F     cond2        13.8\n",
       "12       4   M     cond2        12.9"
      ]
     },
     "execution_count": 6,
     "metadata": {},
     "output_type": "execute_result"
    }
   ],
   "source": [
    "gather(olddata_wide, condition, measurement, control, cond1, cond2)"
   ]
  },
  {
   "cell_type": "markdown",
   "metadata": {},
   "source": [
    "If you need to use `gather()` programmatically, you may need to use variables containing column names. To do this, you should use the `gather_()` function instead, which takes strings instead of bare (unquoted) column names."
   ]
  },
  {
   "cell_type": "code",
   "execution_count": 7,
   "metadata": {
    "collapsed": false
   },
   "outputs": [
    {
     "data": {
      "text/html": [
       "<table>\n",
       "<thead><tr><th></th><th scope=col>subject</th><th scope=col>sex</th><th scope=col>condition</th><th scope=col>measurement</th></tr></thead>\n",
       "<tbody>\n",
       "\t<tr><th scope=row>1</th><td>1</td><td>M</td><td>control</td><td>7.9</td></tr>\n",
       "\t<tr><th scope=row>2</th><td>2</td><td>F</td><td>control</td><td>6.3</td></tr>\n",
       "\t<tr><th scope=row>3</th><td>3</td><td>F</td><td>control</td><td>9.5</td></tr>\n",
       "\t<tr><th scope=row>4</th><td>4</td><td>M</td><td>control</td><td>11.5</td></tr>\n",
       "\t<tr><th scope=row>5</th><td>1</td><td>M</td><td>cond1</td><td>12.3</td></tr>\n",
       "\t<tr><th scope=row>6</th><td>2</td><td>F</td><td>cond1</td><td>10.6</td></tr>\n",
       "\t<tr><th scope=row>7</th><td>3</td><td>F</td><td>cond1</td><td>13.1</td></tr>\n",
       "\t<tr><th scope=row>8</th><td>4</td><td>M</td><td>cond1</td><td>13.4</td></tr>\n",
       "\t<tr><th scope=row>9</th><td>1</td><td>M</td><td>cond2</td><td>10.7</td></tr>\n",
       "\t<tr><th scope=row>10</th><td>2</td><td>F</td><td>cond2</td><td>11.1</td></tr>\n",
       "\t<tr><th scope=row>11</th><td>3</td><td>F</td><td>cond2</td><td>13.8</td></tr>\n",
       "\t<tr><th scope=row>12</th><td>4</td><td>M</td><td>cond2</td><td>12.9</td></tr>\n",
       "</tbody>\n",
       "</table>\n"
      ],
      "text/latex": [
       "\\begin{tabular}{r|llll}\n",
       "  & subject & sex & condition & measurement\\\\\n",
       "\\hline\n",
       "\t1 & 1 & M & control & 7.9\\\\\n",
       "\t2 & 2 & F & control & 6.3\\\\\n",
       "\t3 & 3 & F & control & 9.5\\\\\n",
       "\t4 & 4 & M & control & 11.5\\\\\n",
       "\t5 & 1 & M & cond1 & 12.3\\\\\n",
       "\t6 & 2 & F & cond1 & 10.6\\\\\n",
       "\t7 & 3 & F & cond1 & 13.1\\\\\n",
       "\t8 & 4 & M & cond1 & 13.4\\\\\n",
       "\t9 & 1 & M & cond2 & 10.7\\\\\n",
       "\t10 & 2 & F & cond2 & 11.1\\\\\n",
       "\t11 & 3 & F & cond2 & 13.8\\\\\n",
       "\t12 & 4 & M & cond2 & 12.9\\\\\n",
       "\\end{tabular}\n"
      ],
      "text/plain": [
       "   subject sex condition measurement\n",
       "1        1   M   control         7.9\n",
       "2        2   F   control         6.3\n",
       "3        3   F   control         9.5\n",
       "4        4   M   control        11.5\n",
       "5        1   M     cond1        12.3\n",
       "6        2   F     cond1        10.6\n",
       "7        3   F     cond1        13.1\n",
       "8        4   M     cond1        13.4\n",
       "9        1   M     cond2        10.7\n",
       "10       2   F     cond2        11.1\n",
       "11       3   F     cond2        13.8\n",
       "12       4   M     cond2        12.9"
      ]
     },
     "execution_count": 7,
     "metadata": {},
     "output_type": "execute_result"
    }
   ],
   "source": [
    "keycol <- \"condition\"\n",
    "valuecol <- \"measurement\"\n",
    "gathercols <- c(\"control\", \"cond1\", \"cond2\")\n",
    "\n",
    "gather_(olddata_wide, keycol, valuecol, gathercols)"
   ]
  },
  {
   "cell_type": "markdown",
   "metadata": {},
   "source": [
    "Optional: Rename the factor levels of the variable column, and sort."
   ]
  },
  {
   "cell_type": "code",
   "execution_count": 8,
   "metadata": {
    "collapsed": false
   },
   "outputs": [],
   "source": [
    "# Rename factor names from \"cond1\" and \"cond2\" to \"first\" and \"second\"\n",
    "levels(data_long$condition)[levels(data_long$condition)==\"cond1\"] <- \"first\"\n",
    "levels(data_long$condition)[levels(data_long$condition)==\"cond2\"] <- \"second\""
   ]
  },
  {
   "cell_type": "code",
   "execution_count": 9,
   "metadata": {
    "collapsed": false
   },
   "outputs": [
    {
     "data": {
      "text/html": [
       "<table>\n",
       "<thead><tr><th></th><th scope=col>subject</th><th scope=col>sex</th><th scope=col>condition</th><th scope=col>measurement</th></tr></thead>\n",
       "<tbody>\n",
       "\t<tr><th scope=row>1</th><td>1</td><td>M</td><td>control</td><td>7.9</td></tr>\n",
       "\t<tr><th scope=row>5</th><td>1</td><td>M</td><td>first</td><td>12.3</td></tr>\n",
       "\t<tr><th scope=row>9</th><td>1</td><td>M</td><td>second</td><td>10.7</td></tr>\n",
       "\t<tr><th scope=row>2</th><td>2</td><td>F</td><td>control</td><td>6.3</td></tr>\n",
       "\t<tr><th scope=row>6</th><td>2</td><td>F</td><td>first</td><td>10.6</td></tr>\n",
       "\t<tr><th scope=row>10</th><td>2</td><td>F</td><td>second</td><td>11.1</td></tr>\n",
       "\t<tr><th scope=row>3</th><td>3</td><td>F</td><td>control</td><td>9.5</td></tr>\n",
       "\t<tr><th scope=row>7</th><td>3</td><td>F</td><td>first</td><td>13.1</td></tr>\n",
       "\t<tr><th scope=row>11</th><td>3</td><td>F</td><td>second</td><td>13.8</td></tr>\n",
       "\t<tr><th scope=row>4</th><td>4</td><td>M</td><td>control</td><td>11.5</td></tr>\n",
       "\t<tr><th scope=row>8</th><td>4</td><td>M</td><td>first</td><td>13.4</td></tr>\n",
       "\t<tr><th scope=row>12</th><td>4</td><td>M</td><td>second</td><td>12.9</td></tr>\n",
       "</tbody>\n",
       "</table>\n"
      ],
      "text/latex": [
       "\\begin{tabular}{r|llll}\n",
       "  & subject & sex & condition & measurement\\\\\n",
       "\\hline\n",
       "\t1 & 1 & M & control & 7.9\\\\\n",
       "\t5 & 1 & M & first & 12.3\\\\\n",
       "\t9 & 1 & M & second & 10.7\\\\\n",
       "\t2 & 2 & F & control & 6.3\\\\\n",
       "\t6 & 2 & F & first & 10.6\\\\\n",
       "\t10 & 2 & F & second & 11.1\\\\\n",
       "\t3 & 3 & F & control & 9.5\\\\\n",
       "\t7 & 3 & F & first & 13.1\\\\\n",
       "\t11 & 3 & F & second & 13.8\\\\\n",
       "\t4 & 4 & M & control & 11.5\\\\\n",
       "\t8 & 4 & M & first & 13.4\\\\\n",
       "\t12 & 4 & M & second & 12.9\\\\\n",
       "\\end{tabular}\n"
      ],
      "text/plain": [
       "   subject sex condition measurement\n",
       "1        1   M   control         7.9\n",
       "5        1   M     first        12.3\n",
       "9        1   M    second        10.7\n",
       "2        2   F   control         6.3\n",
       "6        2   F     first        10.6\n",
       "10       2   F    second        11.1\n",
       "3        3   F   control         9.5\n",
       "7        3   F     first        13.1\n",
       "11       3   F    second        13.8\n",
       "4        4   M   control        11.5\n",
       "8        4   M     first        13.4\n",
       "12       4   M    second        12.9"
      ]
     },
     "execution_count": 9,
     "metadata": {},
     "output_type": "execute_result"
    }
   ],
   "source": [
    "# Sort by subject first, then by condition\n",
    "data_long <- data_long[order(data_long$subject, data_long$condition), ]\n",
    "data_long"
   ]
  },
  {
   "cell_type": "markdown",
   "metadata": {},
   "source": [
    "#### From long to wide\n",
    "\n",
    "Use `spread`:"
   ]
  },
  {
   "cell_type": "code",
   "execution_count": 10,
   "metadata": {
    "collapsed": false
   },
   "outputs": [
    {
     "data": {
      "text/html": [
       "<table>\n",
       "<thead><tr><th></th><th scope=col>subject</th><th scope=col>sex</th><th scope=col>condition</th><th scope=col>measurement</th></tr></thead>\n",
       "<tbody>\n",
       "\t<tr><th scope=row>1</th><td>1</td><td>M</td><td>control</td><td>7.9</td></tr>\n",
       "\t<tr><th scope=row>2</th><td>1</td><td>M</td><td>cond1</td><td>12.3</td></tr>\n",
       "\t<tr><th scope=row>3</th><td>1</td><td>M</td><td>cond2</td><td>10.7</td></tr>\n",
       "\t<tr><th scope=row>4</th><td>2</td><td>F</td><td>control</td><td>6.3</td></tr>\n",
       "\t<tr><th scope=row>5</th><td>2</td><td>F</td><td>cond1</td><td>10.6</td></tr>\n",
       "\t<tr><th scope=row>6</th><td>2</td><td>F</td><td>cond2</td><td>11.1</td></tr>\n",
       "\t<tr><th scope=row>7</th><td>3</td><td>F</td><td>control</td><td>9.5</td></tr>\n",
       "\t<tr><th scope=row>8</th><td>3</td><td>F</td><td>cond1</td><td>13.1</td></tr>\n",
       "\t<tr><th scope=row>9</th><td>3</td><td>F</td><td>cond2</td><td>13.8</td></tr>\n",
       "\t<tr><th scope=row>10</th><td>4</td><td>M</td><td>control</td><td>11.5</td></tr>\n",
       "\t<tr><th scope=row>11</th><td>4</td><td>M</td><td>cond1</td><td>13.4</td></tr>\n",
       "\t<tr><th scope=row>12</th><td>4</td><td>M</td><td>cond2</td><td>12.9</td></tr>\n",
       "</tbody>\n",
       "</table>\n"
      ],
      "text/latex": [
       "\\begin{tabular}{r|llll}\n",
       "  & subject & sex & condition & measurement\\\\\n",
       "\\hline\n",
       "\t1 & 1 & M & control & 7.9\\\\\n",
       "\t2 & 1 & M & cond1 & 12.3\\\\\n",
       "\t3 & 1 & M & cond2 & 10.7\\\\\n",
       "\t4 & 2 & F & control & 6.3\\\\\n",
       "\t5 & 2 & F & cond1 & 10.6\\\\\n",
       "\t6 & 2 & F & cond2 & 11.1\\\\\n",
       "\t7 & 3 & F & control & 9.5\\\\\n",
       "\t8 & 3 & F & cond1 & 13.1\\\\\n",
       "\t9 & 3 & F & cond2 & 13.8\\\\\n",
       "\t10 & 4 & M & control & 11.5\\\\\n",
       "\t11 & 4 & M & cond1 & 13.4\\\\\n",
       "\t12 & 4 & M & cond2 & 12.9\\\\\n",
       "\\end{tabular}\n"
      ],
      "text/plain": [
       "   subject sex condition measurement\n",
       "1        1   M   control         7.9\n",
       "2        1   M     cond1        12.3\n",
       "3        1   M     cond2        10.7\n",
       "4        2   F   control         6.3\n",
       "5        2   F     cond1        10.6\n",
       "6        2   F     cond2        11.1\n",
       "7        3   F   control         9.5\n",
       "8        3   F     cond1        13.1\n",
       "9        3   F     cond2        13.8\n",
       "10       4   M   control        11.5\n",
       "11       4   M     cond1        13.4\n",
       "12       4   M     cond2        12.9"
      ]
     },
     "execution_count": 10,
     "metadata": {},
     "output_type": "execute_result"
    }
   ],
   "source": [
    "olddata_long"
   ]
  },
  {
   "cell_type": "code",
   "execution_count": 11,
   "metadata": {
    "collapsed": false
   },
   "outputs": [
    {
     "data": {
      "text/html": [
       "<table>\n",
       "<thead><tr><th></th><th scope=col>subject</th><th scope=col>sex</th><th scope=col>cond1</th><th scope=col>cond2</th><th scope=col>control</th></tr></thead>\n",
       "<tbody>\n",
       "\t<tr><th scope=row>1</th><td>1</td><td>M</td><td>12.3</td><td>10.7</td><td>7.9</td></tr>\n",
       "\t<tr><th scope=row>2</th><td>2</td><td>F</td><td>10.6</td><td>11.1</td><td>6.3</td></tr>\n",
       "\t<tr><th scope=row>3</th><td>3</td><td>F</td><td>13.1</td><td>13.8</td><td>9.5</td></tr>\n",
       "\t<tr><th scope=row>4</th><td>4</td><td>M</td><td>13.4</td><td>12.9</td><td>11.5</td></tr>\n",
       "</tbody>\n",
       "</table>\n"
      ],
      "text/latex": [
       "\\begin{tabular}{r|lllll}\n",
       "  & subject & sex & cond1 & cond2 & control\\\\\n",
       "\\hline\n",
       "\t1 & 1 & M & 12.3 & 10.7 & 7.9\\\\\n",
       "\t2 & 2 & F & 10.6 & 11.1 & 6.3\\\\\n",
       "\t3 & 3 & F & 13.1 & 13.8 & 9.5\\\\\n",
       "\t4 & 4 & M & 13.4 & 12.9 & 11.5\\\\\n",
       "\\end{tabular}\n"
      ],
      "text/plain": [
       "  subject sex cond1 cond2 control\n",
       "1       1   M  12.3  10.7     7.9\n",
       "2       2   F  10.6  11.1     6.3\n",
       "3       3   F  13.1  13.8     9.5\n",
       "4       4   M  13.4  12.9    11.5"
      ]
     },
     "execution_count": 11,
     "metadata": {},
     "output_type": "execute_result"
    }
   ],
   "source": [
    "# The arguments to spread():\n",
    "# - data: Data object\n",
    "# - key: Name of column containing the new column names\n",
    "# - value: Name of column containing values\n",
    "data_wide <- spread(olddata_long, condition, measurement)\n",
    "data_wide"
   ]
  },
  {
   "cell_type": "markdown",
   "metadata": {},
   "source": [
    "Optional: A few things to make the data look nicer."
   ]
  },
  {
   "cell_type": "code",
   "execution_count": 12,
   "metadata": {
    "collapsed": false
   },
   "outputs": [
    {
     "data": {
      "text/html": [
       "<table>\n",
       "<thead><tr><th></th><th scope=col>subject</th><th scope=col>sex</th><th scope=col>control</th><th scope=col>first</th><th scope=col>second</th></tr></thead>\n",
       "<tbody>\n",
       "\t<tr><th scope=row>1</th><td>1</td><td>M</td><td>7.9</td><td>12.3</td><td>10.7</td></tr>\n",
       "\t<tr><th scope=row>2</th><td>2</td><td>F</td><td>6.3</td><td>10.6</td><td>11.1</td></tr>\n",
       "\t<tr><th scope=row>3</th><td>3</td><td>F</td><td>9.5</td><td>13.1</td><td>13.8</td></tr>\n",
       "\t<tr><th scope=row>4</th><td>4</td><td>M</td><td>11.5</td><td>13.4</td><td>12.9</td></tr>\n",
       "</tbody>\n",
       "</table>\n"
      ],
      "text/latex": [
       "\\begin{tabular}{r|lllll}\n",
       "  & subject & sex & control & first & second\\\\\n",
       "\\hline\n",
       "\t1 & 1 & M & 7.9 & 12.3 & 10.7\\\\\n",
       "\t2 & 2 & F & 6.3 & 10.6 & 11.1\\\\\n",
       "\t3 & 3 & F & 9.5 & 13.1 & 13.8\\\\\n",
       "\t4 & 4 & M & 11.5 & 13.4 & 12.9\\\\\n",
       "\\end{tabular}\n"
      ],
      "text/plain": [
       "  subject sex control first second\n",
       "1       1   M     7.9  12.3   10.7\n",
       "2       2   F     6.3  10.6   11.1\n",
       "3       3   F     9.5  13.1   13.8\n",
       "4       4   M    11.5  13.4   12.9"
      ]
     },
     "execution_count": 12,
     "metadata": {},
     "output_type": "execute_result"
    }
   ],
   "source": [
    "# Rename cond1 to first, and cond2 to second\n",
    "names(data_wide)[names(data_wide)==\"cond1\"] <- \"first\"\n",
    "names(data_wide)[names(data_wide)==\"cond2\"] <- \"second\"\n",
    "\n",
    "# Reorder the columns\n",
    "data_wide <- data_wide[, c(1,2,5,3,4)]\n",
    "data_wide"
   ]
  },
  {
   "cell_type": "markdown",
   "metadata": {},
   "source": [
    "The order of factor levels determines the order of the columns. The level order can be changed before reshaping, or the columns can be re-ordered afterward.\n",
    "\n",
    "### reshape2\n",
    "\n",
    "#### From wide to long\n",
    "\n",
    "Use `melt`:"
   ]
  },
  {
   "cell_type": "code",
   "execution_count": 13,
   "metadata": {
    "collapsed": false
   },
   "outputs": [
    {
     "data": {
      "text/html": [
       "<table>\n",
       "<thead><tr><th></th><th scope=col>subject</th><th scope=col>sex</th><th scope=col>control</th><th scope=col>cond1</th><th scope=col>cond2</th></tr></thead>\n",
       "<tbody>\n",
       "\t<tr><th scope=row>1</th><td>1</td><td>M</td><td>7.9</td><td>12.3</td><td>10.7</td></tr>\n",
       "\t<tr><th scope=row>2</th><td>2</td><td>F</td><td>6.3</td><td>10.6</td><td>11.1</td></tr>\n",
       "\t<tr><th scope=row>3</th><td>3</td><td>F</td><td>9.5</td><td>13.1</td><td>13.8</td></tr>\n",
       "\t<tr><th scope=row>4</th><td>4</td><td>M</td><td>11.5</td><td>13.4</td><td>12.9</td></tr>\n",
       "</tbody>\n",
       "</table>\n"
      ],
      "text/latex": [
       "\\begin{tabular}{r|lllll}\n",
       "  & subject & sex & control & cond1 & cond2\\\\\n",
       "\\hline\n",
       "\t1 & 1 & M & 7.9 & 12.3 & 10.7\\\\\n",
       "\t2 & 2 & F & 6.3 & 10.6 & 11.1\\\\\n",
       "\t3 & 3 & F & 9.5 & 13.1 & 13.8\\\\\n",
       "\t4 & 4 & M & 11.5 & 13.4 & 12.9\\\\\n",
       "\\end{tabular}\n"
      ],
      "text/plain": [
       "  subject sex control cond1 cond2\n",
       "1       1   M     7.9  12.3  10.7\n",
       "2       2   F     6.3  10.6  11.1\n",
       "3       3   F     9.5  13.1  13.8\n",
       "4       4   M    11.5  13.4  12.9"
      ]
     },
     "execution_count": 13,
     "metadata": {},
     "output_type": "execute_result"
    }
   ],
   "source": [
    "olddata_wide"
   ]
  },
  {
   "cell_type": "code",
   "execution_count": 14,
   "metadata": {
    "collapsed": false
   },
   "outputs": [],
   "source": [
    "library(reshape2)"
   ]
  },
  {
   "cell_type": "code",
   "execution_count": 15,
   "metadata": {
    "collapsed": false
   },
   "outputs": [
    {
     "data": {
      "text/html": [
       "<table>\n",
       "<thead><tr><th></th><th scope=col>subject</th><th scope=col>sex</th><th scope=col>variable</th><th scope=col>value</th></tr></thead>\n",
       "<tbody>\n",
       "\t<tr><th scope=row>1</th><td>1</td><td>M</td><td>control</td><td>7.9</td></tr>\n",
       "\t<tr><th scope=row>2</th><td>2</td><td>F</td><td>control</td><td>6.3</td></tr>\n",
       "\t<tr><th scope=row>3</th><td>3</td><td>F</td><td>control</td><td>9.5</td></tr>\n",
       "\t<tr><th scope=row>4</th><td>4</td><td>M</td><td>control</td><td>11.5</td></tr>\n",
       "\t<tr><th scope=row>5</th><td>1</td><td>M</td><td>cond1</td><td>12.3</td></tr>\n",
       "\t<tr><th scope=row>6</th><td>2</td><td>F</td><td>cond1</td><td>10.6</td></tr>\n",
       "\t<tr><th scope=row>7</th><td>3</td><td>F</td><td>cond1</td><td>13.1</td></tr>\n",
       "\t<tr><th scope=row>8</th><td>4</td><td>M</td><td>cond1</td><td>13.4</td></tr>\n",
       "\t<tr><th scope=row>9</th><td>1</td><td>M</td><td>cond2</td><td>10.7</td></tr>\n",
       "\t<tr><th scope=row>10</th><td>2</td><td>F</td><td>cond2</td><td>11.1</td></tr>\n",
       "\t<tr><th scope=row>11</th><td>3</td><td>F</td><td>cond2</td><td>13.8</td></tr>\n",
       "\t<tr><th scope=row>12</th><td>4</td><td>M</td><td>cond2</td><td>12.9</td></tr>\n",
       "</tbody>\n",
       "</table>\n"
      ],
      "text/latex": [
       "\\begin{tabular}{r|llll}\n",
       "  & subject & sex & variable & value\\\\\n",
       "\\hline\n",
       "\t1 & 1 & M & control & 7.9\\\\\n",
       "\t2 & 2 & F & control & 6.3\\\\\n",
       "\t3 & 3 & F & control & 9.5\\\\\n",
       "\t4 & 4 & M & control & 11.5\\\\\n",
       "\t5 & 1 & M & cond1 & 12.3\\\\\n",
       "\t6 & 2 & F & cond1 & 10.6\\\\\n",
       "\t7 & 3 & F & cond1 & 13.1\\\\\n",
       "\t8 & 4 & M & cond1 & 13.4\\\\\n",
       "\t9 & 1 & M & cond2 & 10.7\\\\\n",
       "\t10 & 2 & F & cond2 & 11.1\\\\\n",
       "\t11 & 3 & F & cond2 & 13.8\\\\\n",
       "\t12 & 4 & M & cond2 & 12.9\\\\\n",
       "\\end{tabular}\n"
      ],
      "text/plain": [
       "   subject sex variable value\n",
       "1        1   M  control   7.9\n",
       "2        2   F  control   6.3\n",
       "3        3   F  control   9.5\n",
       "4        4   M  control  11.5\n",
       "5        1   M    cond1  12.3\n",
       "6        2   F    cond1  10.6\n",
       "7        3   F    cond1  13.1\n",
       "8        4   M    cond1  13.4\n",
       "9        1   M    cond2  10.7\n",
       "10       2   F    cond2  11.1\n",
       "11       3   F    cond2  13.8\n",
       "12       4   M    cond2  12.9"
      ]
     },
     "execution_count": 15,
     "metadata": {},
     "output_type": "execute_result"
    }
   ],
   "source": [
    "# Specify id.vars: the variables to keep but not split apart on\n",
    "melt(olddata_wide, id.vars=c(\"subject\", \"sex\"))"
   ]
  },
  {
   "cell_type": "markdown",
   "metadata": {},
   "source": [
    "There are options for `melt` that can make the output a little easier to work with:"
   ]
  },
  {
   "cell_type": "code",
   "execution_count": 16,
   "metadata": {
    "collapsed": false
   },
   "outputs": [
    {
     "data": {
      "text/html": [
       "<table>\n",
       "<thead><tr><th></th><th scope=col>subject</th><th scope=col>sex</th><th scope=col>condition</th><th scope=col>measurement</th></tr></thead>\n",
       "<tbody>\n",
       "\t<tr><th scope=row>1</th><td>1</td><td>M</td><td>control</td><td>7.9</td></tr>\n",
       "\t<tr><th scope=row>2</th><td>2</td><td>F</td><td>control</td><td>6.3</td></tr>\n",
       "\t<tr><th scope=row>3</th><td>3</td><td>F</td><td>control</td><td>9.5</td></tr>\n",
       "\t<tr><th scope=row>4</th><td>4</td><td>M</td><td>control</td><td>11.5</td></tr>\n",
       "\t<tr><th scope=row>5</th><td>1</td><td>M</td><td>cond1</td><td>12.3</td></tr>\n",
       "\t<tr><th scope=row>6</th><td>2</td><td>F</td><td>cond1</td><td>10.6</td></tr>\n",
       "\t<tr><th scope=row>7</th><td>3</td><td>F</td><td>cond1</td><td>13.1</td></tr>\n",
       "\t<tr><th scope=row>8</th><td>4</td><td>M</td><td>cond1</td><td>13.4</td></tr>\n",
       "\t<tr><th scope=row>9</th><td>1</td><td>M</td><td>cond2</td><td>10.7</td></tr>\n",
       "\t<tr><th scope=row>10</th><td>2</td><td>F</td><td>cond2</td><td>11.1</td></tr>\n",
       "\t<tr><th scope=row>11</th><td>3</td><td>F</td><td>cond2</td><td>13.8</td></tr>\n",
       "\t<tr><th scope=row>12</th><td>4</td><td>M</td><td>cond2</td><td>12.9</td></tr>\n",
       "</tbody>\n",
       "</table>\n"
      ],
      "text/latex": [
       "\\begin{tabular}{r|llll}\n",
       "  & subject & sex & condition & measurement\\\\\n",
       "\\hline\n",
       "\t1 & 1 & M & control & 7.9\\\\\n",
       "\t2 & 2 & F & control & 6.3\\\\\n",
       "\t3 & 3 & F & control & 9.5\\\\\n",
       "\t4 & 4 & M & control & 11.5\\\\\n",
       "\t5 & 1 & M & cond1 & 12.3\\\\\n",
       "\t6 & 2 & F & cond1 & 10.6\\\\\n",
       "\t7 & 3 & F & cond1 & 13.1\\\\\n",
       "\t8 & 4 & M & cond1 & 13.4\\\\\n",
       "\t9 & 1 & M & cond2 & 10.7\\\\\n",
       "\t10 & 2 & F & cond2 & 11.1\\\\\n",
       "\t11 & 3 & F & cond2 & 13.8\\\\\n",
       "\t12 & 4 & M & cond2 & 12.9\\\\\n",
       "\\end{tabular}\n"
      ],
      "text/plain": [
       "   subject sex condition measurement\n",
       "1        1   M   control         7.9\n",
       "2        2   F   control         6.3\n",
       "3        3   F   control         9.5\n",
       "4        4   M   control        11.5\n",
       "5        1   M     cond1        12.3\n",
       "6        2   F     cond1        10.6\n",
       "7        3   F     cond1        13.1\n",
       "8        4   M     cond1        13.4\n",
       "9        1   M     cond2        10.7\n",
       "10       2   F     cond2        11.1\n",
       "11       3   F     cond2        13.8\n",
       "12       4   M     cond2        12.9"
      ]
     },
     "execution_count": 16,
     "metadata": {},
     "output_type": "execute_result"
    }
   ],
   "source": [
    "data_long <- melt(olddata_wide,\n",
    "        # ID variables - all the variables to keep but not split apart on\n",
    "    id.vars=c(\"subject\", \"sex\"),\n",
    "        # The source columns\n",
    "    measure.vars=c(\"control\", \"cond1\", \"cond2\" ),\n",
    "        # Name of the destination column that will identify the original\n",
    "        # column that the measurement came from\n",
    "    variable.name=\"condition\",\n",
    "    value.name=\"measurement\"\n",
    ")\n",
    "data_long"
   ]
  },
  {
   "cell_type": "markdown",
   "metadata": {},
   "source": [
    "If you leave out the `measure.vars`, `melt` will automatically use all the other variables as the `id.vars`. The reverse is true if you leave out `id.vars`.\n",
    "\n",
    "If you don’t specify `variable.name`, it will name that column \"variable\", and if you leave out `value.name`, it will name that column \"measurement\".\n",
    "\n",
    "Optional: Rename the factor levels of the \"variable\" column."
   ]
  },
  {
   "cell_type": "code",
   "execution_count": 17,
   "metadata": {
    "collapsed": false
   },
   "outputs": [
    {
     "data": {
      "text/html": [
       "<table>\n",
       "<thead><tr><th></th><th scope=col>subject</th><th scope=col>sex</th><th scope=col>condition</th><th scope=col>measurement</th></tr></thead>\n",
       "<tbody>\n",
       "\t<tr><th scope=row>1</th><td>1</td><td>M</td><td>control</td><td>7.9</td></tr>\n",
       "\t<tr><th scope=row>5</th><td>1</td><td>M</td><td>first</td><td>12.3</td></tr>\n",
       "\t<tr><th scope=row>9</th><td>1</td><td>M</td><td>second</td><td>10.7</td></tr>\n",
       "\t<tr><th scope=row>2</th><td>2</td><td>F</td><td>control</td><td>6.3</td></tr>\n",
       "\t<tr><th scope=row>6</th><td>2</td><td>F</td><td>first</td><td>10.6</td></tr>\n",
       "\t<tr><th scope=row>10</th><td>2</td><td>F</td><td>second</td><td>11.1</td></tr>\n",
       "\t<tr><th scope=row>3</th><td>3</td><td>F</td><td>control</td><td>9.5</td></tr>\n",
       "\t<tr><th scope=row>7</th><td>3</td><td>F</td><td>first</td><td>13.1</td></tr>\n",
       "\t<tr><th scope=row>11</th><td>3</td><td>F</td><td>second</td><td>13.8</td></tr>\n",
       "\t<tr><th scope=row>4</th><td>4</td><td>M</td><td>control</td><td>11.5</td></tr>\n",
       "\t<tr><th scope=row>8</th><td>4</td><td>M</td><td>first</td><td>13.4</td></tr>\n",
       "\t<tr><th scope=row>12</th><td>4</td><td>M</td><td>second</td><td>12.9</td></tr>\n",
       "</tbody>\n",
       "</table>\n"
      ],
      "text/latex": [
       "\\begin{tabular}{r|llll}\n",
       "  & subject & sex & condition & measurement\\\\\n",
       "\\hline\n",
       "\t1 & 1 & M & control & 7.9\\\\\n",
       "\t5 & 1 & M & first & 12.3\\\\\n",
       "\t9 & 1 & M & second & 10.7\\\\\n",
       "\t2 & 2 & F & control & 6.3\\\\\n",
       "\t6 & 2 & F & first & 10.6\\\\\n",
       "\t10 & 2 & F & second & 11.1\\\\\n",
       "\t3 & 3 & F & control & 9.5\\\\\n",
       "\t7 & 3 & F & first & 13.1\\\\\n",
       "\t11 & 3 & F & second & 13.8\\\\\n",
       "\t4 & 4 & M & control & 11.5\\\\\n",
       "\t8 & 4 & M & first & 13.4\\\\\n",
       "\t12 & 4 & M & second & 12.9\\\\\n",
       "\\end{tabular}\n"
      ],
      "text/plain": [
       "   subject sex condition measurement\n",
       "1        1   M   control         7.9\n",
       "5        1   M     first        12.3\n",
       "9        1   M    second        10.7\n",
       "2        2   F   control         6.3\n",
       "6        2   F     first        10.6\n",
       "10       2   F    second        11.1\n",
       "3        3   F   control         9.5\n",
       "7        3   F     first        13.1\n",
       "11       3   F    second        13.8\n",
       "4        4   M   control        11.5\n",
       "8        4   M     first        13.4\n",
       "12       4   M    second        12.9"
      ]
     },
     "execution_count": 17,
     "metadata": {},
     "output_type": "execute_result"
    }
   ],
   "source": [
    "# Rename factor names from \"cond1\" and \"cond2\" to \"first\" and \"second\"\n",
    "levels(data_long$condition)[levels(data_long$condition)==\"cond1\"] <- \"first\"\n",
    "levels(data_long$condition)[levels(data_long$condition)==\"cond2\"] <- \"second\"\n",
    "\n",
    "# Sort by subject first, then by condition\n",
    "data_long <- data_long[ order(data_long$subject, data_long$condition), ]\n",
    "data_long"
   ]
  },
  {
   "cell_type": "markdown",
   "metadata": {},
   "source": [
    "#### From long to wide\n",
    "\n",
    "The following code uses dcast to reshape the data. This function is meant for data frames; if you are working with arrays or matrices, use `acast` instead."
   ]
  },
  {
   "cell_type": "code",
   "execution_count": 18,
   "metadata": {
    "collapsed": false
   },
   "outputs": [
    {
     "data": {
      "text/html": [
       "<table>\n",
       "<thead><tr><th></th><th scope=col>subject</th><th scope=col>sex</th><th scope=col>condition</th><th scope=col>measurement</th></tr></thead>\n",
       "<tbody>\n",
       "\t<tr><th scope=row>1</th><td>1</td><td>M</td><td>control</td><td>7.9</td></tr>\n",
       "\t<tr><th scope=row>2</th><td>1</td><td>M</td><td>cond1</td><td>12.3</td></tr>\n",
       "\t<tr><th scope=row>3</th><td>1</td><td>M</td><td>cond2</td><td>10.7</td></tr>\n",
       "\t<tr><th scope=row>4</th><td>2</td><td>F</td><td>control</td><td>6.3</td></tr>\n",
       "\t<tr><th scope=row>5</th><td>2</td><td>F</td><td>cond1</td><td>10.6</td></tr>\n",
       "\t<tr><th scope=row>6</th><td>2</td><td>F</td><td>cond2</td><td>11.1</td></tr>\n",
       "\t<tr><th scope=row>7</th><td>3</td><td>F</td><td>control</td><td>9.5</td></tr>\n",
       "\t<tr><th scope=row>8</th><td>3</td><td>F</td><td>cond1</td><td>13.1</td></tr>\n",
       "\t<tr><th scope=row>9</th><td>3</td><td>F</td><td>cond2</td><td>13.8</td></tr>\n",
       "\t<tr><th scope=row>10</th><td>4</td><td>M</td><td>control</td><td>11.5</td></tr>\n",
       "\t<tr><th scope=row>11</th><td>4</td><td>M</td><td>cond1</td><td>13.4</td></tr>\n",
       "\t<tr><th scope=row>12</th><td>4</td><td>M</td><td>cond2</td><td>12.9</td></tr>\n",
       "</tbody>\n",
       "</table>\n"
      ],
      "text/latex": [
       "\\begin{tabular}{r|llll}\n",
       "  & subject & sex & condition & measurement\\\\\n",
       "\\hline\n",
       "\t1 & 1 & M & control & 7.9\\\\\n",
       "\t2 & 1 & M & cond1 & 12.3\\\\\n",
       "\t3 & 1 & M & cond2 & 10.7\\\\\n",
       "\t4 & 2 & F & control & 6.3\\\\\n",
       "\t5 & 2 & F & cond1 & 10.6\\\\\n",
       "\t6 & 2 & F & cond2 & 11.1\\\\\n",
       "\t7 & 3 & F & control & 9.5\\\\\n",
       "\t8 & 3 & F & cond1 & 13.1\\\\\n",
       "\t9 & 3 & F & cond2 & 13.8\\\\\n",
       "\t10 & 4 & M & control & 11.5\\\\\n",
       "\t11 & 4 & M & cond1 & 13.4\\\\\n",
       "\t12 & 4 & M & cond2 & 12.9\\\\\n",
       "\\end{tabular}\n"
      ],
      "text/plain": [
       "   subject sex condition measurement\n",
       "1        1   M   control         7.9\n",
       "2        1   M     cond1        12.3\n",
       "3        1   M     cond2        10.7\n",
       "4        2   F   control         6.3\n",
       "5        2   F     cond1        10.6\n",
       "6        2   F     cond2        11.1\n",
       "7        3   F   control         9.5\n",
       "8        3   F     cond1        13.1\n",
       "9        3   F     cond2        13.8\n",
       "10       4   M   control        11.5\n",
       "11       4   M     cond1        13.4\n",
       "12       4   M     cond2        12.9"
      ]
     },
     "execution_count": 18,
     "metadata": {},
     "output_type": "execute_result"
    }
   ],
   "source": [
    "olddata_long"
   ]
  },
  {
   "cell_type": "code",
   "execution_count": 19,
   "metadata": {
    "collapsed": false
   },
   "outputs": [
    {
     "data": {
      "text/html": [
       "<table>\n",
       "<thead><tr><th></th><th scope=col>subject</th><th scope=col>sex</th><th scope=col>cond1</th><th scope=col>cond2</th><th scope=col>control</th></tr></thead>\n",
       "<tbody>\n",
       "\t<tr><th scope=row>1</th><td>1</td><td>M</td><td>12.3</td><td>10.7</td><td>7.9</td></tr>\n",
       "\t<tr><th scope=row>2</th><td>2</td><td>F</td><td>10.6</td><td>11.1</td><td>6.3</td></tr>\n",
       "\t<tr><th scope=row>3</th><td>3</td><td>F</td><td>13.1</td><td>13.8</td><td>9.5</td></tr>\n",
       "\t<tr><th scope=row>4</th><td>4</td><td>M</td><td>13.4</td><td>12.9</td><td>11.5</td></tr>\n",
       "</tbody>\n",
       "</table>\n"
      ],
      "text/latex": [
       "\\begin{tabular}{r|lllll}\n",
       "  & subject & sex & cond1 & cond2 & control\\\\\n",
       "\\hline\n",
       "\t1 & 1 & M & 12.3 & 10.7 & 7.9\\\\\n",
       "\t2 & 2 & F & 10.6 & 11.1 & 6.3\\\\\n",
       "\t3 & 3 & F & 13.1 & 13.8 & 9.5\\\\\n",
       "\t4 & 4 & M & 13.4 & 12.9 & 11.5\\\\\n",
       "\\end{tabular}\n"
      ],
      "text/plain": [
       "  subject sex cond1 cond2 control\n",
       "1       1   M  12.3  10.7     7.9\n",
       "2       2   F  10.6  11.1     6.3\n",
       "3       3   F  13.1  13.8     9.5\n",
       "4       4   M  13.4  12.9    11.5"
      ]
     },
     "execution_count": 19,
     "metadata": {},
     "output_type": "execute_result"
    }
   ],
   "source": [
    "# From the source:\n",
    "# \"subject\" and \"sex\" are columns we want to keep the same\n",
    "# \"condition\" is the column that contains the names of the new column to put things in\n",
    "# \"measurement\" holds the measurements\n",
    "data_wide <- dcast(olddata_long, subject + sex ~ condition, value.var=\"measurement\")\n",
    "data_wide"
   ]
  },
  {
   "cell_type": "markdown",
   "metadata": {},
   "source": [
    "Optional: A few things to make the data look nicer."
   ]
  },
  {
   "cell_type": "code",
   "execution_count": 20,
   "metadata": {
    "collapsed": false
   },
   "outputs": [
    {
     "data": {
      "text/html": [
       "<table>\n",
       "<thead><tr><th></th><th scope=col>subject</th><th scope=col>sex</th><th scope=col>control</th><th scope=col>first</th><th scope=col>second</th></tr></thead>\n",
       "<tbody>\n",
       "\t<tr><th scope=row>1</th><td>1</td><td>M</td><td>7.9</td><td>12.3</td><td>10.7</td></tr>\n",
       "\t<tr><th scope=row>2</th><td>2</td><td>F</td><td>6.3</td><td>10.6</td><td>11.1</td></tr>\n",
       "\t<tr><th scope=row>3</th><td>3</td><td>F</td><td>9.5</td><td>13.1</td><td>13.8</td></tr>\n",
       "\t<tr><th scope=row>4</th><td>4</td><td>M</td><td>11.5</td><td>13.4</td><td>12.9</td></tr>\n",
       "</tbody>\n",
       "</table>\n"
      ],
      "text/latex": [
       "\\begin{tabular}{r|lllll}\n",
       "  & subject & sex & control & first & second\\\\\n",
       "\\hline\n",
       "\t1 & 1 & M & 7.9 & 12.3 & 10.7\\\\\n",
       "\t2 & 2 & F & 6.3 & 10.6 & 11.1\\\\\n",
       "\t3 & 3 & F & 9.5 & 13.1 & 13.8\\\\\n",
       "\t4 & 4 & M & 11.5 & 13.4 & 12.9\\\\\n",
       "\\end{tabular}\n"
      ],
      "text/plain": [
       "  subject sex control first second\n",
       "1       1   M     7.9  12.3   10.7\n",
       "2       2   F     6.3  10.6   11.1\n",
       "3       3   F     9.5  13.1   13.8\n",
       "4       4   M    11.5  13.4   12.9"
      ]
     },
     "execution_count": 20,
     "metadata": {},
     "output_type": "execute_result"
    }
   ],
   "source": [
    "# Rename cond1 to first, and cond2 to second\n",
    "names(data_wide)[names(data_wide)==\"cond1\"] <- \"first\"\n",
    "names(data_wide)[names(data_wide)==\"cond2\"] <- \"second\"\n",
    "\n",
    "# Reorder the columns\n",
    "data_wide <- data_wide[, c(1,2,5,3,4)]\n",
    "data_wide"
   ]
  },
  {
   "cell_type": "markdown",
   "metadata": {},
   "source": [
    "The order of factor levels determines the order of the columns. The level order can be changed before reshaping, or the columns can be re-ordered afterward."
   ]
  }
 ],
 "metadata": {
  "kernelspec": {
   "display_name": "R",
   "language": "R",
   "name": "ir"
  },
  "language_info": {
   "codemirror_mode": "r",
   "file_extension": ".r",
   "mimetype": "text/x-r-source",
   "name": "R",
   "pygments_lexer": "r",
   "version": "3.2.2"
  }
 },
 "nbformat": 4,
 "nbformat_minor": 0
}
