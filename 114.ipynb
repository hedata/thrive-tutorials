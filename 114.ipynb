{
 "cells": [
  {
   "cell_type": "markdown",
   "metadata": {},
   "source": [
    "# Re-computing the levels of all factor columns in a data frame\n",
    "Credits: http://www.cookbook-r.com/ (Creative Commons Attribution-Share Alike 3.0 Unported License)"
   ]
  },
  {
   "cell_type": "markdown",
   "metadata": {},
   "source": [
    "## Problem\n",
    "You want to re-compute factor levels of all factor columns in a data frame.\n",
    "\n",
    "## Solution\n",
    "Sometimes after reading in data and cleaning it, you will end up with factor columns that have levels that should no longer be there.\n",
    "\n",
    "For example, d below has one blank row. When it’s read in, the factor columns have a level \"\", which shouldn’t be part of the data."
   ]
  },
  {
   "cell_type": "code",
   "execution_count": 1,
   "metadata": {
    "collapsed": false
   },
   "outputs": [
    {
     "data": {
      "text/html": [
       "<table>\n",
       "<thead><tr><th></th><th scope=col>x</th><th scope=col>y</th><th scope=col>value</th></tr></thead>\n",
       "<tbody>\n",
       "\t<tr><th scope=row>1</th><td>a</td><td>one</td><td>1</td></tr>\n",
       "\t<tr><th scope=row>2</th><td></td><td></td><td>5</td></tr>\n",
       "\t<tr><th scope=row>3</th><td>b</td><td>two</td><td>4</td></tr>\n",
       "\t<tr><th scope=row>4</th><td>c</td><td>three</td><td>10</td></tr>\n",
       "</tbody>\n",
       "</table>\n"
      ],
      "text/latex": [
       "\\begin{tabular}{r|lll}\n",
       "  & x & y & value\\\\\n",
       "\\hline\n",
       "\t1 & a & one & 1\\\\\n",
       "\t2 &  &  & 5\\\\\n",
       "\t3 & b & two & 4\\\\\n",
       "\t4 & c & three & 10\\\\\n",
       "\\end{tabular}\n"
      ],
      "text/plain": [
       "  x     y value\n",
       "1 a   one     1\n",
       "2             5\n",
       "3 b   two     4\n",
       "4 c three    10"
      ]
     },
     "execution_count": 1,
     "metadata": {},
     "output_type": "execute_result"
    }
   ],
   "source": [
    "d <- read.csv(header = TRUE, text='\n",
    "x,y,value\n",
    "a,one,1\n",
    ",,5\n",
    "b,two,4\n",
    "c,three,10\n",
    "')\n",
    "\n",
    "d"
   ]
  },
  {
   "cell_type": "code",
   "execution_count": 2,
   "metadata": {
    "collapsed": false
   },
   "outputs": [
    {
     "name": "stdout",
     "output_type": "stream",
     "text": [
      "'data.frame':\t4 obs. of  3 variables:\n",
      " $ x    : Factor w/ 4 levels \"\",\"a\",\"b\",\"c\": 2 1 3 4\n",
      " $ y    : Factor w/ 4 levels \"\",\"one\",\"three\",..: 2 1 4 3\n",
      " $ value: int  1 5 4 10\n"
     ]
    }
   ],
   "source": [
    "str(d)"
   ]
  },
  {
   "cell_type": "markdown",
   "metadata": {},
   "source": [
    "Even after removing the empty row, the factors still have the blank string \"\" as a level:"
   ]
  },
  {
   "cell_type": "code",
   "execution_count": 3,
   "metadata": {
    "collapsed": false
   },
   "outputs": [
    {
     "data": {
      "text/html": [
       "<table>\n",
       "<thead><tr><th></th><th scope=col>x</th><th scope=col>y</th><th scope=col>value</th></tr></thead>\n",
       "<tbody>\n",
       "\t<tr><th scope=row>1</th><td>a</td><td>one</td><td>1</td></tr>\n",
       "\t<tr><th scope=row>3</th><td>b</td><td>two</td><td>4</td></tr>\n",
       "\t<tr><th scope=row>4</th><td>c</td><td>three</td><td>10</td></tr>\n",
       "</tbody>\n",
       "</table>\n"
      ],
      "text/latex": [
       "\\begin{tabular}{r|lll}\n",
       "  & x & y & value\\\\\n",
       "\\hline\n",
       "\t1 & a & one & 1\\\\\n",
       "\t3 & b & two & 4\\\\\n",
       "\t4 & c & three & 10\\\\\n",
       "\\end{tabular}\n"
      ],
      "text/plain": [
       "  x     y value\n",
       "1 a   one     1\n",
       "3 b   two     4\n",
       "4 c three    10"
      ]
     },
     "execution_count": 3,
     "metadata": {},
     "output_type": "execute_result"
    }
   ],
   "source": [
    "# Remove second row\n",
    "d <- d[-2,]\n",
    "d"
   ]
  },
  {
   "cell_type": "code",
   "execution_count": 4,
   "metadata": {
    "collapsed": false
   },
   "outputs": [
    {
     "name": "stdout",
     "output_type": "stream",
     "text": [
      "'data.frame':\t3 obs. of  3 variables:\n",
      " $ x    : Factor w/ 4 levels \"\",\"a\",\"b\",\"c\": 2 3 4\n",
      " $ y    : Factor w/ 4 levels \"\",\"one\",\"three\",..: 2 4 3\n",
      " $ value: int  1 4 10\n"
     ]
    }
   ],
   "source": [
    "str(d)"
   ]
  },
  {
   "cell_type": "markdown",
   "metadata": {},
   "source": [
    "### With `droplevels`\n",
    "\n",
    "The simplest way is to use the `droplevels()` function:"
   ]
  },
  {
   "cell_type": "code",
   "execution_count": 5,
   "metadata": {
    "collapsed": false
   },
   "outputs": [
    {
     "name": "stdout",
     "output_type": "stream",
     "text": [
      "'data.frame':\t3 obs. of  3 variables:\n",
      " $ x    : Factor w/ 3 levels \"a\",\"b\",\"c\": 1 2 3\n",
      " $ y    : Factor w/ 3 levels \"one\",\"three\",..: 1 3 2\n",
      " $ value: int  1 4 10\n"
     ]
    }
   ],
   "source": [
    "d1 <- droplevels(d)\n",
    "str(d1)"
   ]
  },
  {
   "cell_type": "markdown",
   "metadata": {},
   "source": [
    "### With `vapply` and `lapply`\n",
    "\n",
    "To re-compute the levels for all factor columns, we can use `vapply()` with `is.factor()` to find out which of columns are factors, and then use that information with lapply to apply the `factor()` function to those columns."
   ]
  },
  {
   "cell_type": "code",
   "execution_count": 6,
   "metadata": {
    "collapsed": false
   },
   "outputs": [
    {
     "name": "stdout",
     "output_type": "stream",
     "text": [
      "'data.frame':\t3 obs. of  3 variables:\n",
      " $ x    : Factor w/ 3 levels \"a\",\"b\",\"c\": 1 2 3\n",
      " $ y    : Factor w/ 3 levels \"one\",\"three\",..: 1 3 2\n",
      " $ value: int  1 4 10\n"
     ]
    }
   ],
   "source": [
    "# Find which columns are factors\n",
    "factor_cols <- vapply(d, is.factor, logical(1))\n",
    "\n",
    "# Apply the factor() function to those columns, and assign then back into d\n",
    "d[factor_cols] <- lapply(d[factor_cols], factor)\n",
    "str(d)"
   ]
  },
  {
   "cell_type": "markdown",
   "metadata": {},
   "source": [
    "## See also\n",
    "\n",
    "For information about re-computing the levels of a factor, search for \"Re-computing the levels of factor\""
   ]
  }
 ],
 "metadata": {
  "kernelspec": {
   "display_name": "R",
   "language": "R",
   "name": "ir"
  },
  "language_info": {
   "codemirror_mode": "r",
   "file_extension": ".r",
   "mimetype": "text/x-r-source",
   "name": "R",
   "pygments_lexer": "r",
   "version": "3.2.2"
  }
 },
 "nbformat": 4,
 "nbformat_minor": 0
}
