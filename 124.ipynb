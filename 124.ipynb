{
 "cells": [
  {
   "cell_type": "markdown",
   "metadata": {},
   "source": [
    "# Frequency tests\n",
    "Credits: http://www.cookbook-r.com/ (Creative Commons Attribution-Share Alike 3.0 Unported License)"
   ]
  },
  {
   "cell_type": "markdown",
   "metadata": {},
   "source": [
    "## Problem\n",
    "You have categorical data and want test whether the frequency distribution of values differs from an expected frequency, or if the distribution differs between groups.\n",
    "\n",
    "## Solution\n",
    "There are two general questions that frequency tests address:\n",
    "\n",
    "1. Does the frequency distribution differ from an expected, or theoretical, distribution (e.g., expect 50% yes, 50% no)? (Goodness-of-fit test)\n",
    "2. Does the frequency distribution differ between two or more groups? (Independence test)\n",
    "\n",
    "Of the statistical tests commonly used to address these questions, there are **exact** tests and **approximate** tests.\n",
    "\n",
    "|                 | Expected distribution      | Comparing groups                |\n",
    "|-----------------|----------------------------|---------------------------------|\n",
    "| **Exact**       | Exact binomial             | Fisher’s exact                  |\n",
    "| **Approximate** | Chi-square goodness of fit | Chi-square test of independence |\n",
    "\t\t\n",
    "\t\t\n",
    "Note: The exact binomial test can only be used on one variable that has two levels. Fisher’s exact test can only be used with two-dimensional contingency tables (for example, it can be used when there is one independent variable and one dependent variable, but not when there are 2 IVs and 1 DV).\n",
    "\n",
    "To test for paired or within-subjects effects, McNemar’s test can be used. To use it, there must be one IV with two levels, and one DV with two levels.\n",
    "\n",
    "To test for the independence of two variables with repeated measurements, the Cochran-Mantel-Haenszel test can be used.\n",
    "\n",
    "Suppose this is your data, where each row represents one case:"
   ]
  },
  {
   "cell_type": "code",
   "execution_count": 1,
   "metadata": {
    "collapsed": false
   },
   "outputs": [],
   "source": [
    "data <- read.table(header=TRUE, text='\n",
    " condition result\n",
    "   control      0\n",
    "   control      0\n",
    "   control      0\n",
    "   control      0\n",
    " treatment      1\n",
    "   control      0\n",
    "   control      0\n",
    " treatment      0\n",
    " treatment      1\n",
    "   control      1\n",
    " treatment      1\n",
    " treatment      1\n",
    " treatment      1\n",
    " treatment      1\n",
    " treatment      0\n",
    "   control      0\n",
    "   control      1\n",
    "   control      0\n",
    "   control      1\n",
    " treatment      0\n",
    " treatment      1\n",
    " treatment      0\n",
    " treatment      0\n",
    "   control      0\n",
    " treatment      1\n",
    "   control      0\n",
    "   control      0\n",
    " treatment      1\n",
    " treatment      0\n",
    " treatment      1\n",
    "')"
   ]
  },
  {
   "cell_type": "markdown",
   "metadata": {},
   "source": [
    "Instead of a data frame of **cases**, your data might be stored as a data frame of **counts**, or as a contingency table. For the analyses here, your data must be in a contingency table. See this page for more information.\n",
    "\n",
    "## Tests of goodness-of-fit (expected frequency)\n",
    "\n",
    "### Chi-square test\n",
    "\n",
    "To test the hypothesis that the two values in the result column (ignoring condition) are equally likely (50%-50%) in the population:"
   ]
  },
  {
   "cell_type": "code",
   "execution_count": 2,
   "metadata": {
    "collapsed": false
   },
   "outputs": [
    {
     "data": {
      "text/plain": [
       "\n",
       " 0  1 \n",
       "17 13 "
      ]
     },
     "execution_count": 2,
     "metadata": {},
     "output_type": "execute_result"
    }
   ],
   "source": [
    "# Create contingency table for result, which contains values 0 and 1\n",
    "# The column names are \"0\" and \"1\" (they're not actually values in the table)\n",
    "ct <- table(data$result)\n",
    "ct"
   ]
  },
  {
   "cell_type": "code",
   "execution_count": 3,
   "metadata": {
    "collapsed": false
   },
   "outputs": [
    {
     "data": {
      "text/plain": [
       "\n",
       "\tChi-squared test for given probabilities\n",
       "\n",
       "data:  ct\n",
       "X-squared = 0.53333, df = 1, p-value = 0.4652\n"
      ]
     },
     "execution_count": 3,
     "metadata": {},
     "output_type": "execute_result"
    }
   ],
   "source": [
    "# An alternative is to manually create the table\n",
    "#ct <- matrix(c(17,13), ncol=2)\n",
    "#colnames(ct1) <- c(\"0\", \"1\")\n",
    "\n",
    "# Perform Chi-square test\n",
    "chisq.test(ct)"
   ]
  },
  {
   "cell_type": "markdown",
   "metadata": {},
   "source": [
    "To test the sample with different expected frequencies (in this case 0.75 and 0.25):"
   ]
  },
  {
   "cell_type": "code",
   "execution_count": 4,
   "metadata": {
    "collapsed": false
   },
   "outputs": [
    {
     "data": {
      "text/plain": [
       "\n",
       "\tChi-squared test for given probabilities\n",
       "\n",
       "data:  ct\n",
       "X-squared = 5.3778, df = 1, p-value = 0.02039\n"
      ]
     },
     "execution_count": 4,
     "metadata": {},
     "output_type": "execute_result"
    }
   ],
   "source": [
    "# Probability table - must sum to 1\n",
    "pt <- c(.75, .25)\n",
    "chisq.test(ct, p=pt)"
   ]
  },
  {
   "cell_type": "markdown",
   "metadata": {},
   "source": [
    "If you want to extract information out of the test result, you can save the result into a variable, examine the variable with `str()`, and pull out the parts you want. For example:"
   ]
  },
  {
   "cell_type": "code",
   "execution_count": 5,
   "metadata": {
    "collapsed": false
   },
   "outputs": [
    {
     "name": "stdout",
     "output_type": "stream",
     "text": [
      "List of 9\n",
      " $ statistic: Named num 5.38\n",
      "  ..- attr(*, \"names\")= chr \"X-squared\"\n",
      " $ parameter: Named num 1\n",
      "  ..- attr(*, \"names\")= chr \"df\"\n",
      " $ p.value  : num 0.0204\n",
      " $ method   : chr \"Chi-squared test for given probabilities\"\n",
      " $ data.name: chr \"ct\"\n",
      " $ observed : 'table' int [1:2(1d)] 17 13\n",
      "  ..- attr(*, \"dimnames\")=List of 1\n",
      "  .. ..$ : chr [1:2] \"0\" \"1\"\n",
      " $ expected : Named num [1:2] 22.5 7.5\n",
      "  ..- attr(*, \"names\")= chr [1:2] \"0\" \"1\"\n",
      " $ residuals: table [1:2(1d)] -1.16 2.01\n",
      "  ..- attr(*, \"dimnames\")=List of 1\n",
      "  .. ..$ : chr [1:2] \"0\" \"1\"\n",
      " $ stdres   : table [1:2(1d)] -2.32 2.32\n",
      "  ..- attr(*, \"dimnames\")=List of 1\n",
      "  .. ..$ : chr [1:2] \"0\" \"1\"\n",
      " - attr(*, \"class\")= chr \"htest\"\n"
     ]
    }
   ],
   "source": [
    "chi_res <- chisq.test(ct, p=pt)\n",
    "# View all the parts that can be extracted\n",
    "str(chi_res)"
   ]
  },
  {
   "cell_type": "markdown",
   "metadata": {},
   "source": [
    "### Exact binomial test\n",
    "\n",
    "The exact binomial test is used only with data where there is one variable with two possible values."
   ]
  },
  {
   "cell_type": "code",
   "execution_count": 6,
   "metadata": {
    "collapsed": false
   },
   "outputs": [
    {
     "data": {
      "text/plain": [
       "\n",
       " 0  1 \n",
       "17 13 "
      ]
     },
     "execution_count": 6,
     "metadata": {},
     "output_type": "execute_result"
    }
   ],
   "source": [
    "ct <- table(data$result)\n",
    "ct"
   ]
  },
  {
   "cell_type": "code",
   "execution_count": 7,
   "metadata": {
    "collapsed": false
   },
   "outputs": [
    {
     "data": {
      "text/plain": [
       "\n",
       "\tExact binomial test\n",
       "\n",
       "data:  ct\n",
       "number of successes = 17, number of trials = 30, p-value = 0.5847\n",
       "alternative hypothesis: true probability of success is not equal to 0.5\n",
       "95 percent confidence interval:\n",
       " 0.3742735 0.7453925\n",
       "sample estimates:\n",
       "probability of success \n",
       "             0.5666667 \n"
      ]
     },
     "execution_count": 7,
     "metadata": {},
     "output_type": "execute_result"
    }
   ],
   "source": [
    "binom.test(ct, p=0.5)"
   ]
  },
  {
   "cell_type": "code",
   "execution_count": 8,
   "metadata": {
    "collapsed": false
   },
   "outputs": [
    {
     "data": {
      "text/plain": [
       "\n",
       "\tExact binomial test\n",
       "\n",
       "data:  ct\n",
       "number of successes = 17, number of trials = 30, p-value = 0.0002157\n",
       "alternative hypothesis: true probability of success is not equal to 0.25\n",
       "95 percent confidence interval:\n",
       " 0.3742735 0.7453925\n",
       "sample estimates:\n",
       "probability of success \n",
       "             0.5666667 \n"
      ]
     },
     "execution_count": 8,
     "metadata": {},
     "output_type": "execute_result"
    }
   ],
   "source": [
    "# Using expected probability of 75% -- notice that 1 is in the second column of\n",
    "# the table so need to use p=.25\n",
    "binom.test(ct, p=0.25)"
   ]
  },
  {
   "cell_type": "markdown",
   "metadata": {},
   "source": [
    "If you want to extract information out of the test result, you can save the result into a variable, examine the variable with `str()`, and pull out the parts you want. For example:"
   ]
  },
  {
   "cell_type": "code",
   "execution_count": 9,
   "metadata": {
    "collapsed": false
   },
   "outputs": [
    {
     "name": "stdout",
     "output_type": "stream",
     "text": [
      "List of 9\n",
      " $ statistic  : Named num 17\n",
      "  ..- attr(*, \"names\")= chr \"number of successes\"\n",
      " $ parameter  : Named num 30\n",
      "  ..- attr(*, \"names\")= chr \"number of trials\"\n",
      " $ p.value    : Named num 0.000216\n",
      "  ..- attr(*, \"names\")= chr \"0\"\n",
      " $ conf.int   : atomic [1:2] 0.374 0.745\n",
      "  ..- attr(*, \"conf.level\")= num 0.95\n",
      " $ estimate   : Named num 0.567\n",
      "  ..- attr(*, \"names\")= chr \"probability of success\"\n",
      " $ null.value : Named num 0.25\n",
      "  ..- attr(*, \"names\")= chr \"probability of success\"\n",
      " $ alternative: chr \"two.sided\"\n",
      " $ method     : chr \"Exact binomial test\"\n",
      " $ data.name  : chr \"ct\"\n",
      " - attr(*, \"class\")= chr \"htest\"\n"
     ]
    }
   ],
   "source": [
    "bin_res <- binom.test(ct, p=0.25)\n",
    "# View all the parts that can be extracted\n",
    "str(bin_res)"
   ]
  },
  {
   "cell_type": "code",
   "execution_count": 10,
   "metadata": {
    "collapsed": false
   },
   "outputs": [
    {
     "data": {
      "text/html": [
       "<strong>0:</strong> 0.000215693826095082"
      ],
      "text/latex": [
       "\\textbf{0:} 0.000215693826095082"
      ],
      "text/markdown": [
       "**0:** 0.000215693826095082"
      ],
      "text/plain": [
       "           0 \n",
       "0.0002156938 "
      ]
     },
     "execution_count": 10,
     "metadata": {},
     "output_type": "execute_result"
    }
   ],
   "source": [
    "# Get the p-value\n",
    "bin_res$p.value"
   ]
  },
  {
   "cell_type": "code",
   "execution_count": 11,
   "metadata": {
    "collapsed": false
   },
   "outputs": [
    {
     "data": {
      "text/html": [
       "<ol class=list-inline>\n",
       "\t<li>0.374273450609221</li>\n",
       "\t<li>0.745392450096737</li>\n",
       "</ol>\n"
      ],
      "text/latex": [
       "\\begin{enumerate*}\n",
       "\\item 0.374273450609221\n",
       "\\item 0.745392450096737\n",
       "\\end{enumerate*}\n"
      ],
      "text/markdown": [
       "1. 0.374273450609221\n",
       "2. 0.745392450096737\n",
       "\n",
       "\n"
      ],
      "text/plain": [
       "[1] 0.3742735 0.7453925\n",
       "attr(,\"conf.level\")\n",
       "[1] 0.95"
      ]
     },
     "execution_count": 11,
     "metadata": {},
     "output_type": "execute_result"
    }
   ],
   "source": [
    "# Get the 95% confidence interval\n",
    "bin_res$conf.int"
   ]
  },
  {
   "cell_type": "markdown",
   "metadata": {},
   "source": [
    "## Tests of independence (comparing groups)\n",
    "\n",
    "### Chi-square test\n",
    "\n",
    "To test whether the control and treatment conditions result in different frequencies, use a 2D contingency table."
   ]
  },
  {
   "cell_type": "code",
   "execution_count": 12,
   "metadata": {
    "collapsed": false
   },
   "outputs": [
    {
     "data": {
      "text/plain": [
       "           \n",
       "             0  1\n",
       "  control   11  3\n",
       "  treatment  6 10"
      ]
     },
     "execution_count": 12,
     "metadata": {},
     "output_type": "execute_result"
    }
   ],
   "source": [
    "ct <- table(data$condition, data$result)\n",
    "ct"
   ]
  },
  {
   "cell_type": "code",
   "execution_count": 13,
   "metadata": {
    "collapsed": false
   },
   "outputs": [
    {
     "data": {
      "text/plain": [
       "\n",
       "\tPearson's Chi-squared test with Yates' continuity correction\n",
       "\n",
       "data:  ct\n",
       "X-squared = 3.593, df = 1, p-value = 0.05802\n"
      ]
     },
     "execution_count": 13,
     "metadata": {},
     "output_type": "execute_result"
    }
   ],
   "source": [
    "chisq.test(ct)"
   ]
  },
  {
   "cell_type": "code",
   "execution_count": 14,
   "metadata": {
    "collapsed": false
   },
   "outputs": [
    {
     "data": {
      "text/plain": [
       "\n",
       "\tPearson's Chi-squared test\n",
       "\n",
       "data:  ct\n",
       "X-squared = 5.1293, df = 1, p-value = 0.02353\n"
      ]
     },
     "execution_count": 14,
     "metadata": {},
     "output_type": "execute_result"
    }
   ],
   "source": [
    "chisq.test(ct, correct=FALSE)"
   ]
  },
  {
   "cell_type": "markdown",
   "metadata": {},
   "source": [
    "For 2x2 tables, it uses <a href=\"http://en.wikipedia.org/wiki/Yates's_correction_for_continuity\">Yates’s continuity correction</a> by default. This test is more conservative for small sample sizes.\n",
    "\n",
    "The flag `correct=FALSE`, tells it to use Pearson’s chi-square test without the correction.\n",
    "\n",
    "### Fisher’s exact test\n",
    "\n",
    "For small sample sizes, Fisher’s exact test may be more appropriate. It is typically used for 2x2 tables with relatively small sample sizes because it is computationally intensive for more complicated (e.g., 2x3) tables, and those with larger sample sizes. However, the implementation in R seems to handle larger cases without trouble."
   ]
  },
  {
   "cell_type": "code",
   "execution_count": 15,
   "metadata": {
    "collapsed": false
   },
   "outputs": [
    {
     "data": {
      "text/plain": [
       "           \n",
       "             0  1\n",
       "  control   11  3\n",
       "  treatment  6 10"
      ]
     },
     "execution_count": 15,
     "metadata": {},
     "output_type": "execute_result"
    }
   ],
   "source": [
    "ct <- table(data$condition, data$result)\n",
    "ct"
   ]
  },
  {
   "cell_type": "code",
   "execution_count": 16,
   "metadata": {
    "collapsed": false
   },
   "outputs": [
    {
     "data": {
      "text/plain": [
       "\n",
       "\tFisher's Exact Test for Count Data\n",
       "\n",
       "data:  ct\n",
       "p-value = 0.03293\n",
       "alternative hypothesis: true odds ratio is not equal to 1\n",
       "95 percent confidence interval:\n",
       "  0.966861 45.555016\n",
       "sample estimates:\n",
       "odds ratio \n",
       "  5.714369 \n"
      ]
     },
     "execution_count": 16,
     "metadata": {},
     "output_type": "execute_result"
    }
   ],
   "source": [
    "fisher.test(ct)"
   ]
  },
  {
   "cell_type": "markdown",
   "metadata": {},
   "source": [
    "### Cochran-Mantel-Haenszel test\n",
    "\n",
    "The Cochran-Mantel-Haenszel test (or Mantel-Haenszel test) is used for testing the independence of two dichotomous variables with repeated measurements. It is most commonly used with 2x2xK tables, where K is the number of measurement conditions. For example, you may want to know whether a treatment (C vs. D) affects the likelihood of recovery (yes or no). Suppose, though, that the treatments were administered at three different times of day, morning, afternoon, and night – and that you want your test to control for this. The CMH test would then operate on a 2x2x3 contingency table, where the third variable is the one you wish to control for.\n",
    "\n",
    "The implementation of the CMH test in R can handle dimensions greater than 2x2xK. For example, you could use it for a 3x3xK contingency table.\n",
    "\n",
    "In the following example (borrowed from McDonald’s <a href=\"http://udel.edu/~mcdonald/statcmh.html\">Handbook of Biological Statistics</a>), there are three variables: Location, Allele, and Habitat. The question is whether Allele (94 or non-94) and Habitat (marine or estuarine) are independent, when location is controlled for."
   ]
  },
  {
   "cell_type": "code",
   "execution_count": 17,
   "metadata": {
    "collapsed": true
   },
   "outputs": [],
   "source": [
    "fish <- read.table(header=TRUE, text='\n",
    "  Location Allele   Habitat Count\n",
    " tillamook     94    marine    56\n",
    " tillamook     94 estuarine    69\n",
    " tillamook non-94    marine    40\n",
    " tillamook non-94 estuarine    77\n",
    "   yaquina     94    marine    61\n",
    "   yaquina     94 estuarine   257\n",
    "   yaquina non-94    marine    57\n",
    "   yaquina non-94 estuarine   301\n",
    "     alsea     94    marine    73\n",
    "     alsea     94 estuarine    65\n",
    "     alsea non-94    marine    71\n",
    "     alsea non-94 estuarine    79\n",
    "    umpqua     94    marine    71\n",
    "    umpqua     94 estuarine    48\n",
    "    umpqua non-94    marine    55\n",
    "    umpqua non-94 estuarine    48\n",
    "')"
   ]
  },
  {
   "cell_type": "markdown",
   "metadata": {},
   "source": [
    "Note that the data above is entered as a data frame of **counts**, instead of a data frame of **cases** as in previous examples. Instead of using `table()` to convert it to a contingency table, use `xtabs()` instead."
   ]
  },
  {
   "cell_type": "code",
   "execution_count": 18,
   "metadata": {
    "collapsed": false
   },
   "outputs": [
    {
     "data": {
      "text/plain": [
       ", , Location = alsea\n",
       "\n",
       "        Habitat\n",
       "Allele   estuarine marine\n",
       "  94            65     73\n",
       "  non-94        79     71\n",
       "\n",
       ", , Location = tillamook\n",
       "\n",
       "        Habitat\n",
       "Allele   estuarine marine\n",
       "  94            69     56\n",
       "  non-94        77     40\n",
       "\n",
       ", , Location = umpqua\n",
       "\n",
       "        Habitat\n",
       "Allele   estuarine marine\n",
       "  94            48     71\n",
       "  non-94        48     55\n",
       "\n",
       ", , Location = yaquina\n",
       "\n",
       "        Habitat\n",
       "Allele   estuarine marine\n",
       "  94           257     61\n",
       "  non-94       301     57\n"
      ]
     },
     "execution_count": 18,
     "metadata": {},
     "output_type": "execute_result"
    }
   ],
   "source": [
    "# Make a 3D contingency table, where the last variable, Location, is the one to \n",
    "# control for. If you use table() for case data, the last variable is also the \n",
    "# one to control for.\n",
    "ct <- xtabs(Count ~ Allele + Habitat + Location, data=fish)\n",
    "ct"
   ]
  },
  {
   "cell_type": "code",
   "execution_count": 19,
   "metadata": {
    "collapsed": false
   },
   "outputs": [
    {
     "data": {
      "text/plain": [
       "                 Location alsea tillamook umpqua yaquina\n",
       "Allele Habitat                                          \n",
       "94     estuarine             65        69     48     257\n",
       "       marine                73        56     71      61\n",
       "non-94 estuarine             79        77     48     301\n",
       "       marine                71        40     55      57"
      ]
     },
     "execution_count": 19,
     "metadata": {},
     "output_type": "execute_result"
    }
   ],
   "source": [
    "# This prints ct in a \"flat\" format\n",
    "ftable(ct)"
   ]
  },
  {
   "cell_type": "code",
   "execution_count": 20,
   "metadata": {
    "collapsed": false
   },
   "outputs": [
    {
     "data": {
      "text/plain": [
       "                 Habitat estuarine marine\n",
       "Location  Allele                         \n",
       "alsea     94                    65     73\n",
       "          non-94                79     71\n",
       "tillamook 94                    69     56\n",
       "          non-94                77     40\n",
       "umpqua    94                    48     71\n",
       "          non-94                48     55\n",
       "yaquina   94                   257     61\n",
       "          non-94               301     57"
      ]
     },
     "execution_count": 20,
     "metadata": {},
     "output_type": "execute_result"
    }
   ],
   "source": [
    "# Print with different arrangement of variables\n",
    "ftable(ct, row.vars=c(\"Location\",\"Allele\"), col.vars=\"Habitat\")"
   ]
  },
  {
   "cell_type": "markdown",
   "metadata": {},
   "source": [
    "According to this test, there is a relationship between Allele and Habitat, controlling for Location, p=.025.\n",
    "\n",
    "Note that the first two dimensions of the contingency table are treated the same (so their order can be swapped without affecting the test result), the highest-order dimension in the contingency table is different. This is illustrated below."
   ]
  },
  {
   "cell_type": "code",
   "execution_count": 21,
   "metadata": {
    "collapsed": false
   },
   "outputs": [
    {
     "data": {
      "text/plain": [
       "\n",
       "\tMantel-Haenszel chi-squared test with continuity correction\n",
       "\n",
       "data:  ct.1\n",
       "Mantel-Haenszel X-squared = 5.0497, df = 1, p-value = 0.02463\n",
       "alternative hypothesis: true common odds ratio is not equal to 1\n",
       "95 percent confidence interval:\n",
       " 0.6005522 0.9593077\n",
       "sample estimates:\n",
       "common odds ratio \n",
       "         0.759022 \n"
      ]
     },
     "execution_count": 21,
     "metadata": {},
     "output_type": "execute_result"
    }
   ],
   "source": [
    "# The following two create different contingency tables, but have the same result\n",
    "# with the CMH test\n",
    "ct.1 <- xtabs(Count ~ Habitat + Allele + Location, data=fish)\n",
    "ct.2 <- xtabs(Count ~ Allele + Habitat + Location, data=fish)\n",
    "mantelhaen.test(ct.1)"
   ]
  },
  {
   "cell_type": "code",
   "execution_count": 22,
   "metadata": {
    "collapsed": false
   },
   "outputs": [
    {
     "data": {
      "text/plain": [
       "\n",
       "\tMantel-Haenszel chi-squared test with continuity correction\n",
       "\n",
       "data:  ct.2\n",
       "Mantel-Haenszel X-squared = 5.0497, df = 1, p-value = 0.02463\n",
       "alternative hypothesis: true common odds ratio is not equal to 1\n",
       "95 percent confidence interval:\n",
       " 0.6005522 0.9593077\n",
       "sample estimates:\n",
       "common odds ratio \n",
       "         0.759022 \n"
      ]
     },
     "execution_count": 22,
     "metadata": {},
     "output_type": "execute_result"
    }
   ],
   "source": [
    "mantelhaen.test(ct.2)"
   ]
  },
  {
   "cell_type": "code",
   "execution_count": 23,
   "metadata": {
    "collapsed": false
   },
   "outputs": [
    {
     "data": {
      "text/plain": [
       "\n",
       "\tCochran-Mantel-Haenszel test\n",
       "\n",
       "data:  ct.3\n",
       "Cochran-Mantel-Haenszel M^2 = 168.47, df = 3, p-value < 2.2e-16\n"
      ]
     },
     "execution_count": 23,
     "metadata": {},
     "output_type": "execute_result"
    }
   ],
   "source": [
    "# With Allele last, we get a different result\n",
    "ct.3 <- xtabs(Count ~ Location + Habitat + Allele, data=fish)\n",
    "ct.4 <- xtabs(Count ~ Habitat + Location + Allele, data=fish)\n",
    "mantelhaen.test(ct.3)"
   ]
  },
  {
   "cell_type": "code",
   "execution_count": 24,
   "metadata": {
    "collapsed": false
   },
   "outputs": [
    {
     "data": {
      "text/plain": [
       "\n",
       "\tCochran-Mantel-Haenszel test\n",
       "\n",
       "data:  ct.4\n",
       "Cochran-Mantel-Haenszel M^2 = 168.47, df = 3, p-value < 2.2e-16\n"
      ]
     },
     "execution_count": 24,
     "metadata": {},
     "output_type": "execute_result"
    }
   ],
   "source": [
    "mantelhaen.test(ct.4)"
   ]
  },
  {
   "cell_type": "code",
   "execution_count": 25,
   "metadata": {
    "collapsed": false
   },
   "outputs": [
    {
     "data": {
      "text/plain": [
       "\n",
       "\tCochran-Mantel-Haenszel test\n",
       "\n",
       "data:  ct.5\n",
       "Cochran-Mantel-Haenszel M^2 = 2.0168, df = 3, p-value = 0.5689\n"
      ]
     },
     "execution_count": 25,
     "metadata": {},
     "output_type": "execute_result"
    }
   ],
   "source": [
    "# With Habitat last, we get a different result\n",
    "ct.5 <- xtabs(Count ~ Allele + Location + Habitat, data=fish)\n",
    "ct.6 <- xtabs(Count ~ Location + Allele + Habitat, data=fish)\n",
    "mantelhaen.test(ct.5)"
   ]
  },
  {
   "cell_type": "code",
   "execution_count": 26,
   "metadata": {
    "collapsed": false
   },
   "outputs": [
    {
     "data": {
      "text/plain": [
       "\n",
       "\tCochran-Mantel-Haenszel test\n",
       "\n",
       "data:  ct.6\n",
       "Cochran-Mantel-Haenszel M^2 = 2.0168, df = 3, p-value = 0.5689\n"
      ]
     },
     "execution_count": 26,
     "metadata": {},
     "output_type": "execute_result"
    }
   ],
   "source": [
    "mantelhaen.test(ct.6)"
   ]
  },
  {
   "cell_type": "markdown",
   "metadata": {},
   "source": [
    "### McNemar’s test\n",
    "\n",
    "McNemar’s test is conceptually like a within-subjects test for frequency data. For example, suppose you want to test whether a treatment increases the probability that a person will respond “yes” to a question, and that you get just one pre-treatment and one post-treatment response per person. A standard chi-square test would be inappropriate, because it assumes that the groups are independent. Instead, McNemar’s test can be used. This test can only be used when there are two measurements of a dichotomous variable. The 2x2 contingency table used for McNemar’s test bears a superficial resemblance to those used for “normal” chi-square tests, but it is different in structure.\n",
    "\n",
    "Suppose this is your data. Each subject has a pre-treatment and post-treatment response."
   ]
  },
  {
   "cell_type": "code",
   "execution_count": 27,
   "metadata": {
    "collapsed": true
   },
   "outputs": [],
   "source": [
    "data <- read.table(header=TRUE, text='\n",
    " subject time result\n",
    "       1  pre      0\n",
    "       1 post      1\n",
    "       2  pre      1\n",
    "       2 post      1\n",
    "       3  pre      0\n",
    "       3 post      1\n",
    "       4  pre      1\n",
    "       4 post      0\n",
    "       5  pre      1\n",
    "       5 post      1\n",
    "       6  pre      0\n",
    "       6 post      1\n",
    "       7  pre      0\n",
    "       7 post      1\n",
    "       8  pre      0\n",
    "       8 post      1\n",
    "       9  pre      0\n",
    "       9 post      1\n",
    "      10  pre      1\n",
    "      10 post      1\n",
    "      11  pre      0\n",
    "      11 post      0\n",
    "      12  pre      1\n",
    "      12 post      1\n",
    "      13  pre      0\n",
    "      13 post      1\n",
    "      14  pre      0\n",
    "      14 post      0\n",
    "      15  pre      0\n",
    "      15 post      1\n",
    "')"
   ]
  },
  {
   "cell_type": "markdown",
   "metadata": {},
   "source": [
    "If your data is not already in wide format, it must be converted (see this page for more information):"
   ]
  },
  {
   "cell_type": "code",
   "execution_count": 28,
   "metadata": {
    "collapsed": false
   },
   "outputs": [
    {
     "data": {
      "text/html": [
       "<table>\n",
       "<thead><tr><th></th><th scope=col>subject</th><th scope=col>post</th><th scope=col>pre</th></tr></thead>\n",
       "<tbody>\n",
       "\t<tr><th scope=row>1</th><td>1</td><td>1</td><td>0</td></tr>\n",
       "\t<tr><th scope=row>2</th><td>2</td><td>1</td><td>1</td></tr>\n",
       "\t<tr><th scope=row>3</th><td>3</td><td>1</td><td>0</td></tr>\n",
       "\t<tr><th scope=row>4</th><td>4</td><td>0</td><td>1</td></tr>\n",
       "\t<tr><th scope=row>5</th><td>5</td><td>1</td><td>1</td></tr>\n",
       "\t<tr><th scope=row>6</th><td>6</td><td>1</td><td>0</td></tr>\n",
       "\t<tr><th scope=row>7</th><td>7</td><td>1</td><td>0</td></tr>\n",
       "\t<tr><th scope=row>8</th><td>8</td><td>1</td><td>0</td></tr>\n",
       "\t<tr><th scope=row>9</th><td>9</td><td>1</td><td>0</td></tr>\n",
       "\t<tr><th scope=row>10</th><td>10</td><td>1</td><td>1</td></tr>\n",
       "\t<tr><th scope=row>11</th><td>11</td><td>0</td><td>0</td></tr>\n",
       "\t<tr><th scope=row>12</th><td>12</td><td>1</td><td>1</td></tr>\n",
       "\t<tr><th scope=row>13</th><td>13</td><td>1</td><td>0</td></tr>\n",
       "\t<tr><th scope=row>14</th><td>14</td><td>0</td><td>0</td></tr>\n",
       "\t<tr><th scope=row>15</th><td>15</td><td>1</td><td>0</td></tr>\n",
       "</tbody>\n",
       "</table>\n"
      ],
      "text/latex": [
       "\\begin{tabular}{r|lll}\n",
       "  & subject & post & pre\\\\\n",
       "\\hline\n",
       "\t1 & 1 & 1 & 0\\\\\n",
       "\t2 & 2 & 1 & 1\\\\\n",
       "\t3 & 3 & 1 & 0\\\\\n",
       "\t4 & 4 & 0 & 1\\\\\n",
       "\t5 & 5 & 1 & 1\\\\\n",
       "\t6 & 6 & 1 & 0\\\\\n",
       "\t7 & 7 & 1 & 0\\\\\n",
       "\t8 & 8 & 1 & 0\\\\\n",
       "\t9 & 9 & 1 & 0\\\\\n",
       "\t10 & 10 & 1 & 1\\\\\n",
       "\t11 & 11 & 0 & 0\\\\\n",
       "\t12 & 12 & 1 & 1\\\\\n",
       "\t13 & 13 & 1 & 0\\\\\n",
       "\t14 & 14 & 0 & 0\\\\\n",
       "\t15 & 15 & 1 & 0\\\\\n",
       "\\end{tabular}\n"
      ],
      "text/plain": [
       "   subject post pre\n",
       "1        1    1   0\n",
       "2        2    1   1\n",
       "3        3    1   0\n",
       "4        4    0   1\n",
       "5        5    1   1\n",
       "6        6    1   0\n",
       "7        7    1   0\n",
       "8        8    1   0\n",
       "9        9    1   0\n",
       "10      10    1   1\n",
       "11      11    0   0\n",
       "12      12    1   1\n",
       "13      13    1   0\n",
       "14      14    0   0\n",
       "15      15    1   0"
      ]
     },
     "execution_count": 28,
     "metadata": {},
     "output_type": "execute_result"
    }
   ],
   "source": [
    "library(tidyr)\n",
    "\n",
    "data_wide <- spread(data, time, result)\n",
    "data_wide"
   ]
  },
  {
   "cell_type": "markdown",
   "metadata": {},
   "source": [
    "Next, generate the contingency table from just the pre and post columns from the data frame:"
   ]
  },
  {
   "cell_type": "code",
   "execution_count": 29,
   "metadata": {
    "collapsed": false
   },
   "outputs": [
    {
     "data": {
      "text/plain": [
       "   post\n",
       "pre 0 1\n",
       "  0 2 8\n",
       "  1 1 4"
      ]
     },
     "execution_count": 29,
     "metadata": {},
     "output_type": "execute_result"
    }
   ],
   "source": [
    "ct <- table( data_wide[,c(\"pre\",\"post\")] )\n",
    "ct"
   ]
  },
  {
   "cell_type": "markdown",
   "metadata": {},
   "source": [
    "The contingency table above puts each subject into one of four cells, depending\n",
    "on their pre- and post-treatment response. Note that it it is different from\n",
    "the contingency table used for a \"normal\" chi-square test, shown below. The table\n",
    "below does not account for repeated measurements, and so it is not useful for\n",
    "the purposes here.\n",
    "```\n",
    "table(data[,c(\"time\",\"result\")])\n",
    "        result\n",
    "time    0  1\n",
    "post    3 12\n",
    "pre    10  5\n",
    "```"
   ]
  },
  {
   "cell_type": "markdown",
   "metadata": {},
   "source": [
    "After creating the appropriate contingency table, run the test:"
   ]
  },
  {
   "cell_type": "code",
   "execution_count": 30,
   "metadata": {
    "collapsed": false
   },
   "outputs": [
    {
     "data": {
      "text/plain": [
       "\n",
       "\tMcNemar's Chi-squared test with continuity correction\n",
       "\n",
       "data:  ct\n",
       "McNemar's chi-squared = 4, df = 1, p-value = 0.0455\n"
      ]
     },
     "execution_count": 30,
     "metadata": {},
     "output_type": "execute_result"
    }
   ],
   "source": [
    "mcnemar.test(ct)"
   ]
  },
  {
   "cell_type": "markdown",
   "metadata": {},
   "source": [
    "For small sample sizes, it uses a continuity correction. Instead of using this correction, you can use an **exact** version of McNemar’s test, which is more accurate. It is available in the package  `exact2x2`."
   ]
  },
  {
   "cell_type": "code",
   "execution_count": 32,
   "metadata": {
    "collapsed": false
   },
   "outputs": [
    {
     "name": "stderr",
     "output_type": "stream",
     "text": [
      "also installing the dependencies ‘exactci’, ‘ssanv’\n",
      "\n"
     ]
    },
    {
     "name": "stdout",
     "output_type": "stream",
     "text": [
      "\n",
      "The downloaded source packages are in\n",
      "\t‘/tmp/RtmpzaL2KN/downloaded_packages’\n"
     ]
    }
   ],
   "source": [
    "install.packages(\"exact2x2\",repos = \"http://cran.wu.ac.at\")"
   ]
  },
  {
   "cell_type": "code",
   "execution_count": 33,
   "metadata": {
    "collapsed": false
   },
   "outputs": [
    {
     "name": "stderr",
     "output_type": "stream",
     "text": [
      "Loading required package: exactci\n",
      "Loading required package: ssanv\n"
     ]
    },
    {
     "data": {
      "text/plain": [
       "\n",
       "\tExact McNemar test (with central confidence intervals)\n",
       "\n",
       "data:  ct\n",
       "b = 8, c = 1, p-value = 0.03906\n",
       "alternative hypothesis: true odds ratio is not equal to 1\n",
       "95 percent confidence interval:\n",
       "   1.072554 354.981246\n",
       "sample estimates:\n",
       "odds ratio \n",
       "         8 \n"
      ]
     },
     "execution_count": 33,
     "metadata": {},
     "output_type": "execute_result"
    }
   ],
   "source": [
    "library(exact2x2)\n",
    "#> Loading required package: exactci\n",
    "#> Loading required package: ssanv\n",
    "mcnemar.exact(ct)"
   ]
  }
 ],
 "metadata": {
  "kernelspec": {
   "display_name": "R",
   "language": "R",
   "name": "ir"
  },
  "language_info": {
   "codemirror_mode": "r",
   "file_extension": ".r",
   "mimetype": "text/x-r-source",
   "name": "R",
   "pygments_lexer": "r",
   "version": "3.2.2"
  }
 },
 "nbformat": 4,
 "nbformat_minor": 0
}
