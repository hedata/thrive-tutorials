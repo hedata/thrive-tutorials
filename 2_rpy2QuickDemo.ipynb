{
 "cells": [
  {
   "cell_type": "code",
   "execution_count": 1,
   "metadata": {
    "collapsed": false
   },
   "outputs": [],
   "source": [
    "%load_ext rpy2.ipython"
   ]
  },
  {
   "cell_type": "code",
   "execution_count": 2,
   "metadata": {
    "collapsed": false
   },
   "outputs": [],
   "source": [
    "%%R\n",
    "X = c(1,2,3,4,5)\n",
    "Y = c(1,2,3,6,5)\n",
    "s = capture.output(summary(lm(Y~X)))"
   ]
  },
  {
   "cell_type": "code",
   "execution_count": 3,
   "metadata": {
    "collapsed": false
   },
   "outputs": [
    {
     "name": "stdout",
     "output_type": "stream",
     "text": [
      "lm(formula = Y ~ X)\n",
      "\n",
      "Residuals:\n",
      "        1         2         3         4         5 \n",
      "-2.22e-16 -2.00e-01 -4.00e-01  1.40e+00 -8.00e-01 \n",
      "\n",
      "Coefficients:\n",
      "            Estimate Std. Error t value Pr(>|t|)  \n",
      "(Intercept)  -0.2000     1.0132  -0.197   0.8561  \n",
      "X             1.2000     0.3055   3.928   0.0294 *\n",
      "---\n",
      "Signif. codes:  0 ‘***’ 0.001 ‘**’ 0.01 ‘*’ 0.05 ‘.’ 0.1 ‘ ’ 1\n",
      "\n",
      "Residual standard error: 0.9661 on 3 degrees of freedom\n",
      "Multiple R-squared:  0.8372,\tAdjusted R-squared:  0.7829 \n",
      "F-statistic: 15.43 on 1 and 3 DF,  p-value: 0.02937\n"
     ]
    }
   ],
   "source": [
    "a =%R s\n",
    "for line in a[2:-1]:\n",
    "         print(line )"
   ]
  },
  {
   "cell_type": "code",
   "execution_count": 4,
   "metadata": {
    "collapsed": false
   },
   "outputs": [
    {
     "data": {
      "image/png": "[encoded data removed]"
     },
     "metadata": {},
     "output_type": "display_data"
    }
   ],
   "source": [
    "%R plot(X,Y)"
   ]
  }
 ],
 "metadata": {
  "kernelspec": {
   "display_name": "Python 3",
   "language": "python",
   "name": "python3"
  },
  "language_info": {
   "codemirror_mode": {
    "name": "ipython",
    "version": 3
   },
   "file_extension": ".py",
   "mimetype": "text/x-python",
   "name": "python",
   "nbconvert_exporter": "python",
   "pygments_lexer": "ipython3",
   "version": "3.4.3+"
  }
 },
 "nbformat": 4,
 "nbformat_minor": 0
}
