{
 "cells": [
  {
   "cell_type": "markdown",
   "metadata": {},
   "source": [
    "# Getting a subset of a data structure\n",
    "Credits: http://www.cookbook-r.com/ (Creative Commons Attribution-Share Alike 3.0 Unported License)"
   ]
  },
  {
   "cell_type": "markdown",
   "metadata": {},
   "source": [
    "## Problem\n",
    "You want to do get a subset of the elements of a vector, matrix, or data frame.\n",
    "\n",
    "## Solution\n",
    "To get a subset based on some conditional criterion, the subset() function or indexing using square brackets can be used. In the examples here, both ways are shown."
   ]
  },
  {
   "cell_type": "code",
   "execution_count": 2,
   "metadata": {
    "collapsed": false
   },
   "outputs": [],
   "source": [
    "# A sample vector\n",
    "v <- c(1,4,4,3,2,2,3)"
   ]
  },
  {
   "cell_type": "code",
   "execution_count": 3,
   "metadata": {
    "collapsed": false
   },
   "outputs": [
    {
     "data": {
      "text/html": [
       "<ol class=list-inline>\n",
       "\t<li>1</li>\n",
       "\t<li>2</li>\n",
       "\t<li>2</li>\n",
       "</ol>\n"
      ],
      "text/latex": [
       "\\begin{enumerate*}\n",
       "\\item 1\n",
       "\\item 2\n",
       "\\item 2\n",
       "\\end{enumerate*}\n"
      ],
      "text/markdown": [
       "1. 1\n",
       "2. 2\n",
       "3. 2\n",
       "\n",
       "\n"
      ],
      "text/plain": [
       "[1] 1 2 2"
      ]
     },
     "execution_count": 3,
     "metadata": {},
     "output_type": "execute_result"
    },
    {
     "data": {
      "text/html": [
       "<ol class=list-inline>\n",
       "\t<li>1</li>\n",
       "\t<li>2</li>\n",
       "\t<li>2</li>\n",
       "</ol>\n"
      ],
      "text/latex": [
       "\\begin{enumerate*}\n",
       "\\item 1\n",
       "\\item 2\n",
       "\\item 2\n",
       "\\end{enumerate*}\n"
      ],
      "text/markdown": [
       "1. 1\n",
       "2. 2\n",
       "3. 2\n",
       "\n",
       "\n"
      ],
      "text/plain": [
       "[1] 1 2 2"
      ]
     },
     "execution_count": 3,
     "metadata": {},
     "output_type": "execute_result"
    }
   ],
   "source": [
    "subset(v, v<3)\n",
    "v[v<3]"
   ]
  },
  {
   "cell_type": "code",
   "execution_count": 4,
   "metadata": {
    "collapsed": true
   },
   "outputs": [],
   "source": [
    "# Another vector\n",
    "t <- c(\"small\", \"small\", \"large\", \"medium\")"
   ]
  },
  {
   "cell_type": "code",
   "execution_count": 5,
   "metadata": {
    "collapsed": false
   },
   "outputs": [
    {
     "data": {
      "text/html": [
       "<ol class=list-inline>\n",
       "\t<li>'large'</li>\n",
       "\t<li>'medium'</li>\n",
       "</ol>\n"
      ],
      "text/latex": [
       "\\begin{enumerate*}\n",
       "\\item 'large'\n",
       "\\item 'medium'\n",
       "\\end{enumerate*}\n"
      ],
      "text/markdown": [
       "1. 'large'\n",
       "2. 'medium'\n",
       "\n",
       "\n"
      ],
      "text/plain": [
       "[1] \"large\"  \"medium\""
      ]
     },
     "execution_count": 5,
     "metadata": {},
     "output_type": "execute_result"
    },
    {
     "data": {
      "text/html": [
       "<ol class=list-inline>\n",
       "\t<li>'large'</li>\n",
       "\t<li>'medium'</li>\n",
       "</ol>\n"
      ],
      "text/latex": [
       "\\begin{enumerate*}\n",
       "\\item 'large'\n",
       "\\item 'medium'\n",
       "\\end{enumerate*}\n"
      ],
      "text/markdown": [
       "1. 'large'\n",
       "2. 'medium'\n",
       "\n",
       "\n"
      ],
      "text/plain": [
       "[1] \"large\"  \"medium\""
      ]
     },
     "execution_count": 5,
     "metadata": {},
     "output_type": "execute_result"
    }
   ],
   "source": [
    "# Remove \"small\" entries\n",
    "subset(t, t!=\"small\")\n",
    "t[t!=\"small\"]"
   ]
  },
  {
   "cell_type": "markdown",
   "metadata": {},
   "source": [
    "One important difference between the two methods is that you can assign values to elements with square bracket indexing, but you cannot with subset()."
   ]
  },
  {
   "cell_type": "code",
   "execution_count": 6,
   "metadata": {
    "collapsed": false
   },
   "outputs": [
    {
     "ename": "ERROR",
     "evalue": "Error in subset(v, v < 3) <- 9: konnte Funktion \"subset<-\" nicht finden\n",
     "output_type": "error",
     "traceback": [
      "Error in subset(v, v < 3) <- 9: konnte Funktion \"subset<-\" nicht finden\n"
     ]
    }
   ],
   "source": [
    "v[v<3] <- 9\n",
    "\n",
    "subset(v, v<3) <- 9"
   ]
  },
  {
   "cell_type": "markdown",
   "metadata": {},
   "source": [
    "With data frames:"
   ]
  },
  {
   "cell_type": "code",
   "execution_count": 7,
   "metadata": {
    "collapsed": true
   },
   "outputs": [],
   "source": [
    "# A sample data frame\n",
    "data <- read.table(header=T, text='\n",
    " subject sex size\n",
    "       1   M    7\n",
    "       2   F    6\n",
    "       3   F    9\n",
    "       4   M   11\n",
    " ')"
   ]
  },
  {
   "cell_type": "code",
   "execution_count": 8,
   "metadata": {
    "collapsed": false
   },
   "outputs": [
    {
     "data": {
      "text/html": [
       "<table>\n",
       "<thead><tr><th></th><th scope=col>subject</th><th scope=col>sex</th><th scope=col>size</th></tr></thead>\n",
       "<tbody>\n",
       "\t<tr><th scope=row>1</th><td>1</td><td>M</td><td>7</td></tr>\n",
       "\t<tr><th scope=row>2</th><td>2</td><td>F</td><td>6</td></tr>\n",
       "</tbody>\n",
       "</table>\n"
      ],
      "text/latex": [
       "\\begin{tabular}{r|lll}\n",
       "  & subject & sex & size\\\\\n",
       "\\hline\n",
       "\t1 & 1 & M & 7\\\\\n",
       "\t2 & 2 & F & 6\\\\\n",
       "\\end{tabular}\n"
      ],
      "text/plain": [
       "  subject sex size\n",
       "1       1   M    7\n",
       "2       2   F    6"
      ]
     },
     "execution_count": 8,
     "metadata": {},
     "output_type": "execute_result"
    },
    {
     "data": {
      "text/html": [
       "<table>\n",
       "<thead><tr><th></th><th scope=col>subject</th><th scope=col>sex</th><th scope=col>size</th></tr></thead>\n",
       "<tbody>\n",
       "\t<tr><th scope=row>1</th><td>1</td><td>M</td><td>7</td></tr>\n",
       "\t<tr><th scope=row>2</th><td>2</td><td>F</td><td>6</td></tr>\n",
       "</tbody>\n",
       "</table>\n"
      ],
      "text/latex": [
       "\\begin{tabular}{r|lll}\n",
       "  & subject & sex & size\\\\\n",
       "\\hline\n",
       "\t1 & 1 & M & 7\\\\\n",
       "\t2 & 2 & F & 6\\\\\n",
       "\\end{tabular}\n"
      ],
      "text/plain": [
       "  subject sex size\n",
       "1       1   M    7\n",
       "2       2   F    6"
      ]
     },
     "execution_count": 8,
     "metadata": {},
     "output_type": "execute_result"
    }
   ],
   "source": [
    "subset(data, subject < 3)\n",
    "data[data$subject < 3, ]"
   ]
  },
  {
   "cell_type": "code",
   "execution_count": 9,
   "metadata": {
    "collapsed": false
   },
   "outputs": [
    {
     "data": {
      "text/html": [
       "<table>\n",
       "<thead><tr><th></th><th scope=col>sex</th><th scope=col>size</th></tr></thead>\n",
       "<tbody>\n",
       "\t<tr><th scope=row>1</th><td>M</td><td>7</td></tr>\n",
       "\t<tr><th scope=row>2</th><td>F</td><td>6</td></tr>\n",
       "</tbody>\n",
       "</table>\n"
      ],
      "text/latex": [
       "\\begin{tabular}{r|ll}\n",
       "  & sex & size\\\\\n",
       "\\hline\n",
       "\t1 & M & 7\\\\\n",
       "\t2 & F & 6\\\\\n",
       "\\end{tabular}\n"
      ],
      "text/plain": [
       "  sex size\n",
       "1   M    7\n",
       "2   F    6"
      ]
     },
     "execution_count": 9,
     "metadata": {},
     "output_type": "execute_result"
    },
    {
     "data": {
      "text/html": [
       "<table>\n",
       "<thead><tr><th></th><th scope=col>sex</th><th scope=col>size</th></tr></thead>\n",
       "<tbody>\n",
       "\t<tr><th scope=row>1</th><td>M</td><td>7</td></tr>\n",
       "\t<tr><th scope=row>2</th><td>F</td><td>6</td></tr>\n",
       "</tbody>\n",
       "</table>\n"
      ],
      "text/latex": [
       "\\begin{tabular}{r|ll}\n",
       "  & sex & size\\\\\n",
       "\\hline\n",
       "\t1 & M & 7\\\\\n",
       "\t2 & F & 6\\\\\n",
       "\\end{tabular}\n"
      ],
      "text/plain": [
       "  sex size\n",
       "1   M    7\n",
       "2   F    6"
      ]
     },
     "execution_count": 9,
     "metadata": {},
     "output_type": "execute_result"
    },
    {
     "data": {
      "text/html": [
       "<table>\n",
       "<thead><tr><th></th><th scope=col>sex</th><th scope=col>size</th></tr></thead>\n",
       "<tbody>\n",
       "\t<tr><th scope=row>1</th><td>M</td><td>7</td></tr>\n",
       "\t<tr><th scope=row>2</th><td>F</td><td>6</td></tr>\n",
       "</tbody>\n",
       "</table>\n"
      ],
      "text/latex": [
       "\\begin{tabular}{r|ll}\n",
       "  & sex & size\\\\\n",
       "\\hline\n",
       "\t1 & M & 7\\\\\n",
       "\t2 & F & 6\\\\\n",
       "\\end{tabular}\n"
      ],
      "text/plain": [
       "  sex size\n",
       "1   M    7\n",
       "2   F    6"
      ]
     },
     "execution_count": 9,
     "metadata": {},
     "output_type": "execute_result"
    },
    {
     "data": {
      "text/html": [
       "<table>\n",
       "<thead><tr><th></th><th scope=col>sex</th><th scope=col>size</th></tr></thead>\n",
       "<tbody>\n",
       "\t<tr><th scope=row>1</th><td>M</td><td>7</td></tr>\n",
       "\t<tr><th scope=row>2</th><td>F</td><td>6</td></tr>\n",
       "</tbody>\n",
       "</table>\n"
      ],
      "text/latex": [
       "\\begin{tabular}{r|ll}\n",
       "  & sex & size\\\\\n",
       "\\hline\n",
       "\t1 & M & 7\\\\\n",
       "\t2 & F & 6\\\\\n",
       "\\end{tabular}\n"
      ],
      "text/plain": [
       "  sex size\n",
       "1   M    7\n",
       "2   F    6"
      ]
     },
     "execution_count": 9,
     "metadata": {},
     "output_type": "execute_result"
    }
   ],
   "source": [
    "# Subset of particular rows and columns\n",
    "subset(data, subject < 3, select = -subject)\n",
    "subset(data, subject < 3, select = c(sex,size))\n",
    "subset(data, subject < 3, select = sex:size)\n",
    "data[data$subject < 3, c(\"sex\",\"size\")]"
   ]
  },
  {
   "cell_type": "code",
   "execution_count": 10,
   "metadata": {
    "collapsed": false
   },
   "outputs": [
    {
     "data": {
      "text/html": [
       "<table>\n",
       "<thead><tr><th></th><th scope=col>subject</th><th scope=col>sex</th><th scope=col>size</th></tr></thead>\n",
       "<tbody>\n",
       "\t<tr><th scope=row>1</th><td>1</td><td>M</td><td>7</td></tr>\n",
       "</tbody>\n",
       "</table>\n"
      ],
      "text/latex": [
       "\\begin{tabular}{r|lll}\n",
       "  & subject & sex & size\\\\\n",
       "\\hline\n",
       "\t1 & 1 & M & 7\\\\\n",
       "\\end{tabular}\n"
      ],
      "text/plain": [
       "  subject sex size\n",
       "1       1   M    7"
      ]
     },
     "execution_count": 10,
     "metadata": {},
     "output_type": "execute_result"
    },
    {
     "data": {
      "text/html": [
       "<table>\n",
       "<thead><tr><th></th><th scope=col>subject</th><th scope=col>sex</th><th scope=col>size</th></tr></thead>\n",
       "<tbody>\n",
       "\t<tr><th scope=row>1</th><td>1</td><td>M</td><td>7</td></tr>\n",
       "\t<tr><th scope=row>2</th><td>2</td><td>F</td><td>6</td></tr>\n",
       "\t<tr><th scope=row>4</th><td>4</td><td>M</td><td>11</td></tr>\n",
       "</tbody>\n",
       "</table>\n"
      ],
      "text/latex": [
       "\\begin{tabular}{r|lll}\n",
       "  & subject & sex & size\\\\\n",
       "\\hline\n",
       "\t1 & 1 & M & 7\\\\\n",
       "\t2 & 2 & F & 6\\\\\n",
       "\t4 & 4 & M & 11\\\\\n",
       "\\end{tabular}\n"
      ],
      "text/plain": [
       "  subject sex size\n",
       "1       1   M    7\n",
       "2       2   F    6\n",
       "4       4   M   11"
      ]
     },
     "execution_count": 10,
     "metadata": {},
     "output_type": "execute_result"
    }
   ],
   "source": [
    "# Logical AND of two conditions\n",
    "subset(data, subject < 3  &  sex==\"M\")\n",
    "data[data$subject < 3  |  data$sex==\"M\", ]"
   ]
  },
  {
   "cell_type": "code",
   "execution_count": 11,
   "metadata": {
    "collapsed": false
   },
   "outputs": [
    {
     "data": {
      "text/html": [
       "<table>\n",
       "<thead><tr><th></th><th scope=col>subject</th><th scope=col>sex</th><th scope=col>size</th></tr></thead>\n",
       "<tbody>\n",
       "\t<tr><th scope=row>3</th><td>3</td><td>F</td><td>9</td></tr>\n",
       "\t<tr><th scope=row>4</th><td>4</td><td>M</td><td>11</td></tr>\n",
       "</tbody>\n",
       "</table>\n"
      ],
      "text/latex": [
       "\\begin{tabular}{r|lll}\n",
       "  & subject & sex & size\\\\\n",
       "\\hline\n",
       "\t3 & 3 & F & 9\\\\\n",
       "\t4 & 4 & M & 11\\\\\n",
       "\\end{tabular}\n"
      ],
      "text/plain": [
       "  subject sex size\n",
       "3       3   F    9\n",
       "4       4   M   11"
      ]
     },
     "execution_count": 11,
     "metadata": {},
     "output_type": "execute_result"
    },
    {
     "data": {
      "text/html": [
       "<table>\n",
       "<thead><tr><th></th><th scope=col>subject</th><th scope=col>sex</th><th scope=col>size</th></tr></thead>\n",
       "<tbody>\n",
       "\t<tr><th scope=row>3</th><td>3</td><td>F</td><td>9</td></tr>\n",
       "\t<tr><th scope=row>4</th><td>4</td><td>M</td><td>11</td></tr>\n",
       "</tbody>\n",
       "</table>\n"
      ],
      "text/latex": [
       "\\begin{tabular}{r|lll}\n",
       "  & subject & sex & size\\\\\n",
       "\\hline\n",
       "\t3 & 3 & F & 9\\\\\n",
       "\t4 & 4 & M & 11\\\\\n",
       "\\end{tabular}\n"
      ],
      "text/plain": [
       "  subject sex size\n",
       "3       3   F    9\n",
       "4       4   M   11"
      ]
     },
     "execution_count": 11,
     "metadata": {},
     "output_type": "execute_result"
    }
   ],
   "source": [
    "# Condition based on transformed data\n",
    "subset(data, log2(size) > 3 )\n",
    "data[log2(data$size) > 3, ]"
   ]
  },
  {
   "cell_type": "code",
   "execution_count": 12,
   "metadata": {
    "collapsed": false
   },
   "outputs": [
    {
     "data": {
      "text/html": [
       "<table>\n",
       "<thead><tr><th></th><th scope=col>subject</th><th scope=col>sex</th><th scope=col>size</th></tr></thead>\n",
       "<tbody>\n",
       "\t<tr><th scope=row>1</th><td>1</td><td>M</td><td>7</td></tr>\n",
       "\t<tr><th scope=row>3</th><td>3</td><td>F</td><td>9</td></tr>\n",
       "</tbody>\n",
       "</table>\n"
      ],
      "text/latex": [
       "\\begin{tabular}{r|lll}\n",
       "  & subject & sex & size\\\\\n",
       "\\hline\n",
       "\t1 & 1 & M & 7\\\\\n",
       "\t3 & 3 & F & 9\\\\\n",
       "\\end{tabular}\n"
      ],
      "text/plain": [
       "  subject sex size\n",
       "1       1   M    7\n",
       "3       3   F    9"
      ]
     },
     "execution_count": 12,
     "metadata": {},
     "output_type": "execute_result"
    },
    {
     "data": {
      "text/html": [
       "<table>\n",
       "<thead><tr><th></th><th scope=col>subject</th><th scope=col>sex</th><th scope=col>size</th></tr></thead>\n",
       "<tbody>\n",
       "\t<tr><th scope=row>1</th><td>1</td><td>M</td><td>7</td></tr>\n",
       "\t<tr><th scope=row>3</th><td>3</td><td>F</td><td>9</td></tr>\n",
       "</tbody>\n",
       "</table>\n"
      ],
      "text/latex": [
       "\\begin{tabular}{r|lll}\n",
       "  & subject & sex & size\\\\\n",
       "\\hline\n",
       "\t1 & 1 & M & 7\\\\\n",
       "\t3 & 3 & F & 9\\\\\n",
       "\\end{tabular}\n"
      ],
      "text/plain": [
       "  subject sex size\n",
       "1       1   M    7\n",
       "3       3   F    9"
      ]
     },
     "execution_count": 12,
     "metadata": {},
     "output_type": "execute_result"
    }
   ],
   "source": [
    "# Subset if elements are in another vector\n",
    "subset(data, subject %in% c(1,3))\n",
    "data[data$subject %in% c(1,3), ]"
   ]
  },
  {
   "cell_type": "markdown",
   "metadata": {},
   "source": [
    "### Help doc\n",
    "get the documentation with:"
   ]
  },
  {
   "cell_type": "code",
   "execution_count": 13,
   "metadata": {
    "collapsed": false
   },
   "outputs": [
    {
     "data": {
      "text/html": [
       "\n",
       "<table width=\"100%\" summary=\"page for subset {base}\"><tr><td>subset {base}</td><td style=\"text-align: right;\">R Documentation</td></tr></table>\n",
       "\n",
       "<h2>Subsetting Vectors, Matrices and Data Frames</h2>\n",
       "\n",
       "<h3>Description</h3>\n",
       "\n",
       "<p>Return subsets of vectors, matrices or data frames which meet conditions.\n",
       "</p>\n",
       "\n",
       "\n",
       "<h3>Usage</h3>\n",
       "\n",
       "<pre>\n",
       "subset(x, ...)\n",
       "\n",
       "## Default S3 method:\n",
       "subset(x, subset, ...)\n",
       "\n",
       "## S3 method for class 'matrix'\n",
       "subset(x, subset, select, drop = FALSE, ...)\n",
       "\n",
       "## S3 method for class 'data.frame'\n",
       "subset(x, subset, select, drop = FALSE, ...)\n",
       "</pre>\n",
       "\n",
       "\n",
       "<h3>Arguments</h3>\n",
       "\n",
       "<table summary=\"R argblock\">\n",
       "<tr valign=\"top\"><td><code>x</code></td>\n",
       "<td>\n",
       "<p>object to be subsetted.</p>\n",
       "</td></tr>\n",
       "<tr valign=\"top\"><td><code>subset</code></td>\n",
       "<td>\n",
       "<p>logical expression indicating elements or rows to keep:\n",
       "missing values are taken as false.</p>\n",
       "</td></tr>\n",
       "<tr valign=\"top\"><td><code>select</code></td>\n",
       "<td>\n",
       "<p>expression, indicating columns to select from a\n",
       "data frame.</p>\n",
       "</td></tr>\n",
       "<tr valign=\"top\"><td><code>drop</code></td>\n",
       "<td>\n",
       "<p>passed on to <code>[</code> indexing operator.</p>\n",
       "</td></tr>\n",
       "<tr valign=\"top\"><td><code>...</code></td>\n",
       "<td>\n",
       "<p>further arguments to be passed to or from other methods.</p>\n",
       "</td></tr>\n",
       "</table>\n",
       "\n",
       "\n",
       "<h3>Details</h3>\n",
       "\n",
       "<p>This is a generic function, with methods supplied for matrices, data\n",
       "frames and vectors (including lists).  Packages and users can add\n",
       "further methods.\n",
       "</p>\n",
       "<p>For ordinary vectors, the result is simply\n",
       "<code>x[subset &amp; !is.na(subset)]</code>.\n",
       "</p>\n",
       "<p>For data frames, the <code>subset</code> argument works on the rows.  Note\n",
       "that <code>subset</code> will be evaluated in the data frame, so columns can\n",
       "be referred to (by name) as variables in the expression (see the examples).\n",
       "</p>\n",
       "<p>The <code>select</code> argument exists only for the methods for data frames\n",
       "and matrices.  It works by first replacing column names in the\n",
       "selection expression with the corresponding column numbers in the data\n",
       "frame and then using the resulting integer vector to index the\n",
       "columns.  This allows the use of the standard indexing conventions so\n",
       "that for example ranges of columns can be specified easily, or single\n",
       "columns can be dropped (see the examples).\n",
       "</p>\n",
       "<p>The <code>drop</code> argument is passed on to the indexing method for\n",
       "matrices and data frames: note that the default for matrices is\n",
       "different from that for indexing.\n",
       "</p>\n",
       "<p>Factors may have empty levels after subsetting; unused levels are\n",
       "not automatically removed.  See <code>droplevels</code> for a way to\n",
       "drop all unused levels from a data frame.\n",
       "</p>\n",
       "\n",
       "\n",
       "<h3>Value</h3>\n",
       "\n",
       "<p>An object similar to <code>x</code> contain just the selected elements (for\n",
       "a vector), rows and columns (for a matrix or data frame), and so on.\n",
       "</p>\n",
       "\n",
       "\n",
       "<h3>Warning</h3>\n",
       "\n",
       "<p>This is a convenience function intended for use interactively.  For\n",
       "programming it is better to use the standard subsetting functions like\n",
       "<code>[</code>, and in particular the non-standard evaluation of\n",
       "argument <code>subset</code> can have unanticipated consequences.\n",
       "</p>\n",
       "\n",
       "\n",
       "<h3>Author(s)</h3>\n",
       "\n",
       "<p>Peter Dalgaard and Brian Ripley</p>\n",
       "\n",
       "\n",
       "<h3>See Also</h3>\n",
       "\n",
       "<p><code>[</code>, \n",
       "<code>transform</code>\n",
       "<code>droplevels</code>\n",
       "</p>\n",
       "\n",
       "\n",
       "<h3>Examples</h3>\n",
       "\n",
       "<pre>\n",
       "subset(airquality, Temp &gt; 80, select = c(Ozone, Temp))\n",
       "subset(airquality, Day == 1, select = -Temp)\n",
       "subset(airquality, select = Ozone:Wind)\n",
       "\n",
       "with(airquality, subset(Ozone, Temp &gt; 80))\n",
       "\n",
       "## sometimes requiring a logical 'subset' argument is a nuisance\n",
       "nm &lt;- rownames(state.x77)\n",
       "start_with_M &lt;- nm %in% grep(\"^M\", nm, value = TRUE)\n",
       "subset(state.x77, start_with_M, Illiteracy:Murder)\n",
       "# but in recent versions of R this can simply be\n",
       "subset(state.x77, grepl(\"^M\", nm), Illiteracy:Murder)\n",
       "</pre>\n",
       "\n",
       "<hr /><div style=\"text-align: center;\">[Package <em>base</em> version 3.2.2 ]</div>"
      ],
      "text/latex": [
       "\\inputencoding{utf8}\n",
       "\\HeaderA{subset}{Subsetting Vectors, Matrices and Data Frames}{subset}\n",
       "\\methaliasA{subset.data.frame}{subset}{subset.data.frame}\n",
       "\\methaliasA{subset.default}{subset}{subset.default}\n",
       "\\methaliasA{subset.matrix}{subset}{subset.matrix}\n",
       "\\keyword{manip}{subset}\n",
       "%\n",
       "\\begin{Description}\\relax\n",
       "Return subsets of vectors, matrices or data frames which meet conditions.\n",
       "\\end{Description}\n",
       "%\n",
       "\\begin{Usage}\n",
       "\\begin{verbatim}\n",
       "subset(x, ...)\n",
       "\n",
       "## Default S3 method:\n",
       "subset(x, subset, ...)\n",
       "\n",
       "## S3 method for class 'matrix'\n",
       "subset(x, subset, select, drop = FALSE, ...)\n",
       "\n",
       "## S3 method for class 'data.frame'\n",
       "subset(x, subset, select, drop = FALSE, ...)\n",
       "\\end{verbatim}\n",
       "\\end{Usage}\n",
       "%\n",
       "\\begin{Arguments}\n",
       "\\begin{ldescription}\n",
       "\\item[\\code{x}] object to be subsetted.\n",
       "\\item[\\code{subset}] logical expression indicating elements or rows to keep:\n",
       "missing values are taken as false.\n",
       "\\item[\\code{select}] expression, indicating columns to select from a\n",
       "data frame.\n",
       "\\item[\\code{drop}] passed on to \\code{[} indexing operator.\n",
       "\\item[\\code{...}] further arguments to be passed to or from other methods.\n",
       "\\end{ldescription}\n",
       "\\end{Arguments}\n",
       "%\n",
       "\\begin{Details}\\relax\n",
       "This is a generic function, with methods supplied for matrices, data\n",
       "frames and vectors (including lists).  Packages and users can add\n",
       "further methods.\n",
       "\n",
       "For ordinary vectors, the result is simply\n",
       "\\code{x[subset \\& !is.na(subset)]}.\n",
       "\n",
       "For data frames, the \\code{subset} argument works on the rows.  Note\n",
       "that \\code{subset} will be evaluated in the data frame, so columns can\n",
       "be referred to (by name) as variables in the expression (see the examples).\n",
       "\n",
       "The \\code{select} argument exists only for the methods for data frames\n",
       "and matrices.  It works by first replacing column names in the\n",
       "selection expression with the corresponding column numbers in the data\n",
       "frame and then using the resulting integer vector to index the\n",
       "columns.  This allows the use of the standard indexing conventions so\n",
       "that for example ranges of columns can be specified easily, or single\n",
       "columns can be dropped (see the examples).\n",
       "\n",
       "The \\code{drop} argument is passed on to the indexing method for\n",
       "matrices and data frames: note that the default for matrices is\n",
       "different from that for indexing.\n",
       "\n",
       "Factors may have empty levels after subsetting; unused levels are\n",
       "not automatically removed.  See \\code{\\LinkA{droplevels}{droplevels}} for a way to\n",
       "drop all unused levels from a data frame.\n",
       "\n",
       "\\end{Details}\n",
       "%\n",
       "\\begin{Value}\n",
       "An object similar to \\code{x} contain just the selected elements (for\n",
       "a vector), rows and columns (for a matrix or data frame), and so on.\n",
       "\\end{Value}\n",
       "%\n",
       "\\begin{Section}{Warning}\n",
       "This is a convenience function intended for use interactively.  For\n",
       "programming it is better to use the standard subsetting functions like\n",
       "\\code{\\LinkA{[}{[}}, and in particular the non-standard evaluation of\n",
       "argument \\code{subset} can have unanticipated consequences.\n",
       "\\end{Section}\n",
       "%\n",
       "\\begin{Author}\\relax\n",
       "Peter Dalgaard and Brian Ripley\n",
       "\\end{Author}\n",
       "%\n",
       "\\begin{SeeAlso}\\relax\n",
       "\\code{\\LinkA{[}{[}}, \n",
       "\\code{\\LinkA{transform}{transform}}\n",
       "\\code{\\LinkA{droplevels}{droplevels}}\n",
       "\\end{SeeAlso}\n",
       "%\n",
       "\\begin{Examples}\n",
       "\\begin{ExampleCode}\n",
       "subset(airquality, Temp > 80, select = c(Ozone, Temp))\n",
       "subset(airquality, Day == 1, select = -Temp)\n",
       "subset(airquality, select = Ozone:Wind)\n",
       "\n",
       "with(airquality, subset(Ozone, Temp > 80))\n",
       "\n",
       "## sometimes requiring a logical 'subset' argument is a nuisance\n",
       "nm <- rownames(state.x77)\n",
       "start_with_M <- nm %in% grep(\"^M\", nm, value = TRUE)\n",
       "subset(state.x77, start_with_M, Illiteracy:Murder)\n",
       "# but in recent versions of R this can simply be\n",
       "subset(state.x77, grepl(\"^M\", nm), Illiteracy:Murder)\n",
       "\\end{ExampleCode}\n",
       "\\end{Examples}"
      ],
      "text/plain": [
       "subset                  package:base                   R Documentation\n",
       "\n",
       "_\bS_\bu_\bb_\bs_\be_\bt_\bt_\bi_\bn_\bg _\bV_\be_\bc_\bt_\bo_\br_\bs, _\bM_\ba_\bt_\br_\bi_\bc_\be_\bs _\ba_\bn_\bd _\bD_\ba_\bt_\ba _\bF_\br_\ba_\bm_\be_\bs\n",
       "\n",
       "_\bD_\be_\bs_\bc_\br_\bi_\bp_\bt_\bi_\bo_\bn:\n",
       "\n",
       "     Return subsets of vectors, matrices or data frames which meet\n",
       "     conditions.\n",
       "\n",
       "_\bU_\bs_\ba_\bg_\be:\n",
       "\n",
       "     subset(x, ...)\n",
       "     \n",
       "     ## Default S3 method:\n",
       "     subset(x, subset, ...)\n",
       "     \n",
       "     ## S3 method for class 'matrix'\n",
       "     subset(x, subset, select, drop = FALSE, ...)\n",
       "     \n",
       "     ## S3 method for class 'data.frame'\n",
       "     subset(x, subset, select, drop = FALSE, ...)\n",
       "     \n",
       "_\bA_\br_\bg_\bu_\bm_\be_\bn_\bt_\bs:\n",
       "\n",
       "       x: object to be subsetted.\n",
       "\n",
       "  subset: logical expression indicating elements or rows to keep:\n",
       "          missing values are taken as false.\n",
       "\n",
       "  select: expression, indicating columns to select from a data frame.\n",
       "\n",
       "    drop: passed on to ‘[’ indexing operator.\n",
       "\n",
       "     ...: further arguments to be passed to or from other methods.\n",
       "\n",
       "_\bD_\be_\bt_\ba_\bi_\bl_\bs:\n",
       "\n",
       "     This is a generic function, with methods supplied for matrices,\n",
       "     data frames and vectors (including lists).  Packages and users can\n",
       "     add further methods.\n",
       "\n",
       "     For ordinary vectors, the result is simply ‘x[subset &\n",
       "     !is.na(subset)]’.\n",
       "\n",
       "     For data frames, the ‘subset’ argument works on the rows.  Note\n",
       "     that ‘subset’ will be evaluated in the data frame, so columns can\n",
       "     be referred to (by name) as variables in the expression (see the\n",
       "     examples).\n",
       "\n",
       "     The ‘select’ argument exists only for the methods for data frames\n",
       "     and matrices.  It works by first replacing column names in the\n",
       "     selection expression with the corresponding column numbers in the\n",
       "     data frame and then using the resulting integer vector to index\n",
       "     the columns.  This allows the use of the standard indexing\n",
       "     conventions so that for example ranges of columns can be specified\n",
       "     easily, or single columns can be dropped (see the examples).\n",
       "\n",
       "     The ‘drop’ argument is passed on to the indexing method for\n",
       "     matrices and data frames: note that the default for matrices is\n",
       "     different from that for indexing.\n",
       "\n",
       "     Factors may have empty levels after subsetting; unused levels are\n",
       "     not automatically removed.  See ‘droplevels’ for a way to drop all\n",
       "     unused levels from a data frame.\n",
       "\n",
       "_\bV_\ba_\bl_\bu_\be:\n",
       "\n",
       "     An object similar to ‘x’ contain just the selected elements (for a\n",
       "     vector), rows and columns (for a matrix or data frame), and so on.\n",
       "\n",
       "_\bW_\ba_\br_\bn_\bi_\bn_\bg:\n",
       "\n",
       "     This is a convenience function intended for use interactively.\n",
       "     For programming it is better to use the standard subsetting\n",
       "     functions like ‘[’, and in particular the non-standard evaluation\n",
       "     of argument ‘subset’ can have unanticipated consequences.\n",
       "\n",
       "_\bA_\bu_\bt_\bh_\bo_\br(_\bs):\n",
       "\n",
       "     Peter Dalgaard and Brian Ripley\n",
       "\n",
       "_\bS_\be_\be _\bA_\bl_\bs_\bo:\n",
       "\n",
       "     ‘[’, ‘transform’ ‘droplevels’\n",
       "\n",
       "_\bE_\bx_\ba_\bm_\bp_\bl_\be_\bs:\n",
       "\n",
       "     subset(airquality, Temp > 80, select = c(Ozone, Temp))\n",
       "     subset(airquality, Day == 1, select = -Temp)\n",
       "     subset(airquality, select = Ozone:Wind)\n",
       "     \n",
       "     with(airquality, subset(Ozone, Temp > 80))\n",
       "     \n",
       "     ## sometimes requiring a logical 'subset' argument is a nuisance\n",
       "     nm <- rownames(state.x77)\n",
       "     start_with_M <- nm %in% grep(\"^M\", nm, value = TRUE)\n",
       "     subset(state.x77, start_with_M, Illiteracy:Murder)\n",
       "     # but in recent versions of R this can simply be\n",
       "     subset(state.x77, grepl(\"^M\", nm), Illiteracy:Murder)\n",
       "     "
      ]
     },
     "execution_count": 13,
     "metadata": {},
     "output_type": "execute_result"
    }
   ],
   "source": [
    "?subset"
   ]
  }
 ],
 "metadata": {
  "kernelspec": {
   "display_name": "R",
   "language": "R",
   "name": "ir"
  },
  "language_info": {
   "codemirror_mode": "r",
   "file_extension": ".r",
   "mimetype": "text/x-r-source",
   "name": "R",
   "pygments_lexer": "r",
   "version": "3.2.2"
  }
 },
 "nbformat": 4,
 "nbformat_minor": 0
}
