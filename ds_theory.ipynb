{
 "cells": [
  {
   "cell_type": "markdown",
   "metadata": {},
   "source": [
    "## Some quick definitions: Data Science what is it?\n",
    "\n",
    "> Data Science is an interdisciplinary field about processes and systems to extract knowledge or insights from data in various forms, either structured or unstructured \n",
    "> [wikipedia](https://en.wikipedia.org/wiki/Data_science)\n",
    "\n",
    "Wikipedia crystal clear as always. To extract knowledge or insights you first have to ask some questions. Questions like: [Where are all the devices connected to the internet?](https://imgur.com/aQUHzgu), [Who will be the next world cup soccer champion?](https://github.com/GoogleCloudPlatform/ipython-soccer-predictions/blob/master/predict/wc-final.ipynb) and many more! Sounds cool and i am sure you already have ideas for questions you are interested in.\n",
    "\n",
    "## Good news we created a blueprint!\n",
    "\n",
    "Using a lot of great [resources](#Resources) and our own experience we created this little blueprint on how to try to get some insights for you questions using data science.\n",
    "\n",
    "The blueprint consists of 7 Steps. Each step gives you a description what to do and some tags. You can use this tags to filter the tag cloud and find notebooks that contain working examples you can reuse.\n",
    "\n",
    "This blueprint is a work in progress. It for sure will never be finished and complete. If you have feedback. Talk to us in the chat.\n",
    "\n",
    "Enough talk here it is.\n",
    "\n",
    "# Inquire\n",
    "What do you want to know from data? Write it down. \n",
    "If it is a really difficult problem. who will be the next soccer champion. \n",
    "Write down some easy questions after the big problem. Like how many teams are competing? What is the average age of the players? Where do the teams come from? Are there some groups of teams with similarities?\n",
    "\n",
    "\n",
    "# Obtain\n",
    "Think about what data you would need to answer these questions. What has to be in the data? What doesnt need to be in?. Write it all down and then look around where you can get these. \n",
    "\n",
    "\n",
    "APis\n",
    "\n",
    "\n",
    "Free sources\n",
    "* http://rs.io/100-interesting-data-sets-for-statistics/\n",
    "* https://www.reddit.com/r/datasets\n",
    "* https://www.kaggle.com/datasets\n",
    "* http://archive.ics.uci.edu/ml/\n",
    "\n",
    "Tags:\n",
    "* api\n",
    "* crawl\n",
    "* scrape\n",
    "\n",
    "# Scrub\n",
    "\n",
    "# Explore\n",
    "\n",
    "# Model\n",
    "\n",
    "# Interpret\n",
    "\n",
    "# Share\n",
    "\n",
    "\n",
    "\n",
    "#### Resources\n",
    "\n",
    "* [Hilary Mason, Data Science Process](http://image.slidesharecdn.com/python4datasciencepythonbrasil-151110002755-lva1-app6892/95/python-for-data-science-python-brasil-11-2015-6-638.jpg?cb=1447115748)\n",
    "* [The field guide to data science](https://www.boozallen.com/content/dam/boozallen/documents/2015/12/2015-FIeld-Guide-To-Data-Science.pdf) "
   ]
  }
 ],
 "metadata": {
  "kernelspec": {
   "display_name": "Python 3",
   "language": "python",
   "name": "python3"
  },
  "language_info": {
   "codemirror_mode": {
    "name": "ipython",
    "version": 3
   },
   "file_extension": ".py",
   "mimetype": "text/x-python",
   "name": "python",
   "nbconvert_exporter": "python",
   "pygments_lexer": "ipython3",
   "version": "3.4.3"
  }
 },
 "nbformat": 4,
 "nbformat_minor": 0
}
