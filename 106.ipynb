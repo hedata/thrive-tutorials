{
 "cells": [
  {
   "cell_type": "markdown",
   "metadata": {},
   "source": [
    "# Renaming levels of a factor\n",
    "Credits: http://www.cookbook-r.com/ (Creative Commons Attribution-Share Alike 3.0 Unported License)"
   ]
  },
  {
   "cell_type": "markdown",
   "metadata": {},
   "source": [
    "## Problem\n",
    "You want to rename the levels in a factor.\n",
    "\n",
    "## Solution"
   ]
  },
  {
   "cell_type": "code",
   "execution_count": 3,
   "metadata": {
    "collapsed": false
   },
   "outputs": [
    {
     "data": {
      "text/html": [
       "<ol class=list-inline>\n",
       "\t<li>alpha</li>\n",
       "\t<li>beta</li>\n",
       "\t<li>gamma</li>\n",
       "\t<li>alpha</li>\n",
       "\t<li>beta</li>\n",
       "</ol>\n"
      ],
      "text/latex": [
       "\\begin{enumerate*}\n",
       "\\item alpha\n",
       "\\item beta\n",
       "\\item gamma\n",
       "\\item alpha\n",
       "\\item beta\n",
       "\\end{enumerate*}\n"
      ],
      "text/markdown": [
       "1. alpha\n",
       "2. beta\n",
       "3. gamma\n",
       "4. alpha\n",
       "5. beta\n",
       "\n",
       "\n"
      ],
      "text/plain": [
       "[1] alpha beta  gamma alpha beta \n",
       "Levels: alpha beta gamma"
      ]
     },
     "execution_count": 3,
     "metadata": {},
     "output_type": "execute_result"
    }
   ],
   "source": [
    "# A sample factor to work with.\n",
    "x <- factor(c(\"alpha\",\"beta\",\"gamma\",\"alpha\",\"beta\"))\n",
    "x"
   ]
  },
  {
   "cell_type": "code",
   "execution_count": 4,
   "metadata": {
    "collapsed": false
   },
   "outputs": [
    {
     "data": {
      "text/html": [
       "<ol class=list-inline>\n",
       "\t<li>'alpha'</li>\n",
       "\t<li>'beta'</li>\n",
       "\t<li>'gamma'</li>\n",
       "</ol>\n"
      ],
      "text/latex": [
       "\\begin{enumerate*}\n",
       "\\item 'alpha'\n",
       "\\item 'beta'\n",
       "\\item 'gamma'\n",
       "\\end{enumerate*}\n"
      ],
      "text/markdown": [
       "1. 'alpha'\n",
       "2. 'beta'\n",
       "3. 'gamma'\n",
       "\n",
       "\n"
      ],
      "text/plain": [
       "[1] \"alpha\" \"beta\"  \"gamma\""
      ]
     },
     "execution_count": 4,
     "metadata": {},
     "output_type": "execute_result"
    }
   ],
   "source": [
    "levels(x)"
   ]
  },
  {
   "cell_type": "markdown",
   "metadata": {},
   "source": [
    "The easiest way is to use revalue() or mapvalues() from the plyr package:"
   ]
  },
  {
   "cell_type": "code",
   "execution_count": 7,
   "metadata": {
    "collapsed": false
   },
   "outputs": [
    {
     "data": {
      "text/html": [
       "<ol class=list-inline>\n",
       "\t<li>alpha</li>\n",
       "\t<li>two</li>\n",
       "\t<li>three</li>\n",
       "\t<li>alpha</li>\n",
       "\t<li>two</li>\n",
       "</ol>\n"
      ],
      "text/latex": [
       "\\begin{enumerate*}\n",
       "\\item alpha\n",
       "\\item two\n",
       "\\item three\n",
       "\\item alpha\n",
       "\\item two\n",
       "\\end{enumerate*}\n"
      ],
      "text/markdown": [
       "1. alpha\n",
       "2. two\n",
       "3. three\n",
       "4. alpha\n",
       "5. two\n",
       "\n",
       "\n"
      ],
      "text/plain": [
       "[1] alpha two   three alpha two  \n",
       "Levels: alpha two three"
      ]
     },
     "execution_count": 7,
     "metadata": {},
     "output_type": "execute_result"
    },
    {
     "data": {
      "text/html": [
       "<ol class=list-inline>\n",
       "\t<li>'alpha'</li>\n",
       "\t<li>'beta'</li>\n",
       "\t<li>'gamma'</li>\n",
       "</ol>\n"
      ],
      "text/latex": [
       "\\begin{enumerate*}\n",
       "\\item 'alpha'\n",
       "\\item 'beta'\n",
       "\\item 'gamma'\n",
       "\\end{enumerate*}\n"
      ],
      "text/markdown": [
       "1. 'alpha'\n",
       "2. 'beta'\n",
       "3. 'gamma'\n",
       "\n",
       "\n"
      ],
      "text/plain": [
       "[1] \"alpha\" \"beta\"  \"gamma\""
      ]
     },
     "execution_count": 7,
     "metadata": {},
     "output_type": "execute_result"
    }
   ],
   "source": [
    "library(plyr)\n",
    "revalue(x, c(\"beta\"=\"two\", \"gamma\"=\"three\"))\n",
    "levels(x)"
   ]
  },
  {
   "cell_type": "code",
   "execution_count": 8,
   "metadata": {
    "collapsed": false
   },
   "outputs": [
    {
     "data": {
      "text/html": [
       "<ol class=list-inline>\n",
       "\t<li>alpha</li>\n",
       "\t<li>two</li>\n",
       "\t<li>three</li>\n",
       "\t<li>alpha</li>\n",
       "\t<li>two</li>\n",
       "</ol>\n"
      ],
      "text/latex": [
       "\\begin{enumerate*}\n",
       "\\item alpha\n",
       "\\item two\n",
       "\\item three\n",
       "\\item alpha\n",
       "\\item two\n",
       "\\end{enumerate*}\n"
      ],
      "text/markdown": [
       "1. alpha\n",
       "2. two\n",
       "3. three\n",
       "4. alpha\n",
       "5. two\n",
       "\n",
       "\n"
      ],
      "text/plain": [
       "[1] alpha two   three alpha two  \n",
       "Levels: alpha two three"
      ]
     },
     "execution_count": 8,
     "metadata": {},
     "output_type": "execute_result"
    },
    {
     "data": {
      "text/html": [
       "<ol class=list-inline>\n",
       "\t<li>'alpha'</li>\n",
       "\t<li>'beta'</li>\n",
       "\t<li>'gamma'</li>\n",
       "</ol>\n"
      ],
      "text/latex": [
       "\\begin{enumerate*}\n",
       "\\item 'alpha'\n",
       "\\item 'beta'\n",
       "\\item 'gamma'\n",
       "\\end{enumerate*}\n"
      ],
      "text/markdown": [
       "1. 'alpha'\n",
       "2. 'beta'\n",
       "3. 'gamma'\n",
       "\n",
       "\n"
      ],
      "text/plain": [
       "[1] \"alpha\" \"beta\"  \"gamma\""
      ]
     },
     "execution_count": 8,
     "metadata": {},
     "output_type": "execute_result"
    }
   ],
   "source": [
    "mapvalues(x, from = c(\"beta\", \"gamma\"), to = c(\"two\", \"three\"))\n",
    "levels(x)"
   ]
  },
  {
   "cell_type": "markdown",
   "metadata": {},
   "source": [
    "If you don’t want to rely on plyr, you can do the following with R’s built-in functions.\n",
    "Note that these methods will modify x directly; that is, you don’t have to save the result back into x."
   ]
  },
  {
   "cell_type": "code",
   "execution_count": 6,
   "metadata": {
    "collapsed": true
   },
   "outputs": [],
   "source": [
    "# Rename by name: change \"beta\" to \"two\"\n",
    "levels(x)[levels(x)==\"beta\"] <- \"two\"\n",
    "\n",
    "# You can also rename by position, but this is a bit dangerous if your data\n",
    "# can change in the future. If there is a change in the number or positions of\n",
    "# factor levels, then this can result in wrong data.\n"
   ]
  },
  {
   "cell_type": "code",
   "execution_count": 14,
   "metadata": {
    "collapsed": false
   },
   "outputs": [
    {
     "data": {
      "text/html": [
       "<ol class=list-inline>\n",
       "\t<li>one</li>\n",
       "\t<li>two</li>\n",
       "\t<li>three</li>\n",
       "\t<li>one</li>\n",
       "\t<li>two</li>\n",
       "</ol>\n"
      ],
      "text/latex": [
       "\\begin{enumerate*}\n",
       "\\item one\n",
       "\\item two\n",
       "\\item three\n",
       "\\item one\n",
       "\\item two\n",
       "\\end{enumerate*}\n"
      ],
      "text/markdown": [
       "1. one\n",
       "2. two\n",
       "3. three\n",
       "4. one\n",
       "5. two\n",
       "\n",
       "\n"
      ],
      "text/plain": [
       "[1] one   two   three one   two  \n",
       "Levels: one two three"
      ]
     },
     "execution_count": 14,
     "metadata": {},
     "output_type": "execute_result"
    },
    {
     "data": {
      "text/html": [
       "<ol class=list-inline>\n",
       "\t<li>'one'</li>\n",
       "\t<li>'two'</li>\n",
       "\t<li>'three'</li>\n",
       "</ol>\n"
      ],
      "text/latex": [
       "\\begin{enumerate*}\n",
       "\\item 'one'\n",
       "\\item 'two'\n",
       "\\item 'three'\n",
       "\\end{enumerate*}\n"
      ],
      "text/markdown": [
       "1. 'one'\n",
       "2. 'two'\n",
       "3. 'three'\n",
       "\n",
       "\n"
      ],
      "text/plain": [
       "[1] \"one\"   \"two\"   \"three\""
      ]
     },
     "execution_count": 14,
     "metadata": {},
     "output_type": "execute_result"
    }
   ],
   "source": [
    "# Rename by index in levels list: change third item, \"gamma\", to \"three\".\n",
    "levels(x)[3] <- \"three\"\n",
    "x\n",
    "levels(x)"
   ]
  },
  {
   "cell_type": "code",
   "execution_count": 15,
   "metadata": {
    "collapsed": false
   },
   "outputs": [
    {
     "data": {
      "text/html": [
       "<ol class=list-inline>\n",
       "\t<li>one</li>\n",
       "\t<li>two</li>\n",
       "\t<li>three</li>\n",
       "\t<li>one</li>\n",
       "\t<li>two</li>\n",
       "</ol>\n"
      ],
      "text/latex": [
       "\\begin{enumerate*}\n",
       "\\item one\n",
       "\\item two\n",
       "\\item three\n",
       "\\item one\n",
       "\\item two\n",
       "\\end{enumerate*}\n"
      ],
      "text/markdown": [
       "1. one\n",
       "2. two\n",
       "3. three\n",
       "4. one\n",
       "5. two\n",
       "\n",
       "\n"
      ],
      "text/plain": [
       "[1] one   two   three one   two  \n",
       "Levels: one two three"
      ]
     },
     "execution_count": 15,
     "metadata": {},
     "output_type": "execute_result"
    },
    {
     "data": {
      "text/html": [
       "<ol class=list-inline>\n",
       "\t<li>'one'</li>\n",
       "\t<li>'two'</li>\n",
       "\t<li>'three'</li>\n",
       "</ol>\n"
      ],
      "text/latex": [
       "\\begin{enumerate*}\n",
       "\\item 'one'\n",
       "\\item 'two'\n",
       "\\item 'three'\n",
       "\\end{enumerate*}\n"
      ],
      "text/markdown": [
       "1. 'one'\n",
       "2. 'two'\n",
       "3. 'three'\n",
       "\n",
       "\n"
      ],
      "text/plain": [
       "[1] \"one\"   \"two\"   \"three\""
      ]
     },
     "execution_count": 15,
     "metadata": {},
     "output_type": "execute_result"
    }
   ],
   "source": [
    "# Rename all levels\n",
    "levels(x) <- c(\"one\",\"two\",\"three\")\n",
    "x\n",
    "levels(x)"
   ]
  },
  {
   "cell_type": "markdown",
   "metadata": {},
   "source": [
    "It’s possible to rename factor levels by name (without plyr), but keep in mind that this works only if ALL levels are present in the list; if any are not in the list, they will be replaced with NA."
   ]
  },
  {
   "cell_type": "code",
   "execution_count": 16,
   "metadata": {
    "collapsed": false
   },
   "outputs": [
    {
     "data": {
      "text/html": [
       "<ol class=list-inline>\n",
       "\t<li>A</li>\n",
       "\t<li>B</li>\n",
       "\t<li>C</li>\n",
       "\t<li>A</li>\n",
       "\t<li>B</li>\n",
       "</ol>\n"
      ],
      "text/latex": [
       "\\begin{enumerate*}\n",
       "\\item A\n",
       "\\item B\n",
       "\\item C\n",
       "\\item A\n",
       "\\item B\n",
       "\\end{enumerate*}\n"
      ],
      "text/markdown": [
       "1. A\n",
       "2. B\n",
       "3. C\n",
       "4. A\n",
       "5. B\n",
       "\n",
       "\n"
      ],
      "text/plain": [
       "[1] A B C A B\n",
       "Levels: A B C"
      ]
     },
     "execution_count": 16,
     "metadata": {},
     "output_type": "execute_result"
    },
    {
     "data": {
      "text/html": [
       "<ol class=list-inline>\n",
       "\t<li>'A'</li>\n",
       "\t<li>'B'</li>\n",
       "\t<li>'C'</li>\n",
       "</ol>\n"
      ],
      "text/latex": [
       "\\begin{enumerate*}\n",
       "\\item 'A'\n",
       "\\item 'B'\n",
       "\\item 'C'\n",
       "\\end{enumerate*}\n"
      ],
      "text/markdown": [
       "1. 'A'\n",
       "2. 'B'\n",
       "3. 'C'\n",
       "\n",
       "\n"
      ],
      "text/plain": [
       "[1] \"A\" \"B\" \"C\""
      ]
     },
     "execution_count": 16,
     "metadata": {},
     "output_type": "execute_result"
    }
   ],
   "source": [
    "# Rename all levels, by name\n",
    "x <- factor(c(\"alpha\",\"beta\",\"gamma\",\"alpha\",\"beta\"))\n",
    "levels(x) <- list(A=\"alpha\", B=\"beta\", C=\"gamma\")\n",
    "\n",
    "x\n",
    "levels(x)"
   ]
  },
  {
   "cell_type": "markdown",
   "metadata": {},
   "source": [
    "It’s also possible to use R’s string search-and-replace functions to rename factor levels. Note that the `^` and `$` surrounding `alpha` are there to ensure that the entire string matches. Without them, if there were a level named `alphabet`, it would also match, and the replacement would be `onebet`."
   ]
  },
  {
   "cell_type": "code",
   "execution_count": 17,
   "metadata": {
    "collapsed": false
   },
   "outputs": [
    {
     "data": {
      "text/html": [
       "<ol class=list-inline>\n",
       "\t<li>alpha</li>\n",
       "\t<li>beta</li>\n",
       "\t<li>gamma</li>\n",
       "\t<li>alpha</li>\n",
       "\t<li>beta</li>\n",
       "</ol>\n"
      ],
      "text/latex": [
       "\\begin{enumerate*}\n",
       "\\item alpha\n",
       "\\item beta\n",
       "\\item gamma\n",
       "\\item alpha\n",
       "\\item beta\n",
       "\\end{enumerate*}\n"
      ],
      "text/markdown": [
       "1. alpha\n",
       "2. beta\n",
       "3. gamma\n",
       "4. alpha\n",
       "5. beta\n",
       "\n",
       "\n"
      ],
      "text/plain": [
       "[1] alpha beta  gamma alpha beta \n",
       "Levels: alpha beta gamma"
      ]
     },
     "execution_count": 17,
     "metadata": {},
     "output_type": "execute_result"
    },
    {
     "data": {
      "text/html": [
       "<ol class=list-inline>\n",
       "\t<li>'alpha'</li>\n",
       "\t<li>'beta'</li>\n",
       "\t<li>'gamma'</li>\n",
       "</ol>\n"
      ],
      "text/latex": [
       "\\begin{enumerate*}\n",
       "\\item 'alpha'\n",
       "\\item 'beta'\n",
       "\\item 'gamma'\n",
       "\\end{enumerate*}\n"
      ],
      "text/markdown": [
       "1. 'alpha'\n",
       "2. 'beta'\n",
       "3. 'gamma'\n",
       "\n",
       "\n"
      ],
      "text/plain": [
       "[1] \"alpha\" \"beta\"  \"gamma\""
      ]
     },
     "execution_count": 17,
     "metadata": {},
     "output_type": "execute_result"
    }
   ],
   "source": [
    "# A sample factor to work with.\n",
    "x <- factor(c(\"alpha\",\"beta\",\"gamma\",\"alpha\",\"beta\"))\n",
    "\n",
    "x\n",
    "levels(x)"
   ]
  },
  {
   "cell_type": "code",
   "execution_count": 18,
   "metadata": {
    "collapsed": false
   },
   "outputs": [
    {
     "data": {
      "text/html": [
       "<ol class=list-inline>\n",
       "\t<li>one</li>\n",
       "\t<li>beta</li>\n",
       "\t<li>gamma</li>\n",
       "\t<li>one</li>\n",
       "\t<li>beta</li>\n",
       "</ol>\n"
      ],
      "text/latex": [
       "\\begin{enumerate*}\n",
       "\\item one\n",
       "\\item beta\n",
       "\\item gamma\n",
       "\\item one\n",
       "\\item beta\n",
       "\\end{enumerate*}\n"
      ],
      "text/markdown": [
       "1. one\n",
       "2. beta\n",
       "3. gamma\n",
       "4. one\n",
       "5. beta\n",
       "\n",
       "\n"
      ],
      "text/plain": [
       "[1] one   beta  gamma one   beta \n",
       "Levels: one beta gamma"
      ]
     },
     "execution_count": 18,
     "metadata": {},
     "output_type": "execute_result"
    },
    {
     "data": {
      "text/html": [
       "<ol class=list-inline>\n",
       "\t<li>'one'</li>\n",
       "\t<li>'beta'</li>\n",
       "\t<li>'gamma'</li>\n",
       "</ol>\n"
      ],
      "text/latex": [
       "\\begin{enumerate*}\n",
       "\\item 'one'\n",
       "\\item 'beta'\n",
       "\\item 'gamma'\n",
       "\\end{enumerate*}\n"
      ],
      "text/markdown": [
       "1. 'one'\n",
       "2. 'beta'\n",
       "3. 'gamma'\n",
       "\n",
       "\n"
      ],
      "text/plain": [
       "[1] \"one\"   \"beta\"  \"gamma\""
      ]
     },
     "execution_count": 18,
     "metadata": {},
     "output_type": "execute_result"
    }
   ],
   "source": [
    "levels(x) <- sub(\"^alpha$\", \"one\", levels(x))\n",
    "\n",
    "x\n",
    "levels(x)"
   ]
  },
  {
   "cell_type": "code",
   "execution_count": 19,
   "metadata": {
    "collapsed": false
   },
   "outputs": [
    {
     "data": {
      "text/html": [
       "<ol class=list-inline>\n",
       "\t<li>one</li>\n",
       "\t<li>betX</li>\n",
       "\t<li>gXmmX</li>\n",
       "\t<li>one</li>\n",
       "\t<li>betX</li>\n",
       "</ol>\n"
      ],
      "text/latex": [
       "\\begin{enumerate*}\n",
       "\\item one\n",
       "\\item betX\n",
       "\\item gXmmX\n",
       "\\item one\n",
       "\\item betX\n",
       "\\end{enumerate*}\n"
      ],
      "text/markdown": [
       "1. one\n",
       "2. betX\n",
       "3. gXmmX\n",
       "4. one\n",
       "5. betX\n",
       "\n",
       "\n"
      ],
      "text/plain": [
       "[1] one   betX  gXmmX one   betX \n",
       "Levels: one betX gXmmX"
      ]
     },
     "execution_count": 19,
     "metadata": {},
     "output_type": "execute_result"
    },
    {
     "data": {
      "text/html": [
       "<ol class=list-inline>\n",
       "\t<li>'one'</li>\n",
       "\t<li>'betX'</li>\n",
       "\t<li>'gXmmX'</li>\n",
       "</ol>\n"
      ],
      "text/latex": [
       "\\begin{enumerate*}\n",
       "\\item 'one'\n",
       "\\item 'betX'\n",
       "\\item 'gXmmX'\n",
       "\\end{enumerate*}\n"
      ],
      "text/markdown": [
       "1. 'one'\n",
       "2. 'betX'\n",
       "3. 'gXmmX'\n",
       "\n",
       "\n"
      ],
      "text/plain": [
       "[1] \"one\"   \"betX\"  \"gXmmX\""
      ]
     },
     "execution_count": 19,
     "metadata": {},
     "output_type": "execute_result"
    }
   ],
   "source": [
    "# Across all columns, replace all instances of \"a\" with \"X\"\n",
    "levels(x) <- gsub(\"a\", \"X\", levels(x))\n",
    "\n",
    "x\n",
    "levels(x)\n",
    "# gsub() replaces all instances of the pattern in each factor level.\n",
    "# sub() replaces only the first instance in each factor level."
   ]
  },
  {
   "cell_type": "markdown",
   "metadata": {},
   "source": [
    "### See also\n",
    "Mapping values in a vector to new values works much the same. Search for \"Mapping vector values\" for more information."
   ]
  }
 ],
 "metadata": {
  "kernelspec": {
   "display_name": "R",
   "language": "R",
   "name": "ir"
  },
  "language_info": {
   "codemirror_mode": "r",
   "file_extension": ".r",
   "mimetype": "text/x-r-source",
   "name": "R",
   "pygments_lexer": "r",
   "version": "3.2.0"
  }
 },
 "nbformat": 4,
 "nbformat_minor": 0
}
