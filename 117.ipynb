{
 "cells": [
  {
   "cell_type": "markdown",
   "metadata": {},
   "source": [
    "# Converting between data frames and contingency tables\n",
    "Credits: http://www.cookbook-r.com/ (Creative Commons Attribution-Share Alike 3.0 Unported License)"
   ]
  },
  {
   "cell_type": "markdown",
   "metadata": {},
   "source": [
    "## Problem\n",
    "You want to do convert between a data frame of cases, a data frame of counts of each **type** of case, and a contingency table.\n",
    "\n",
    "## Solution\n",
    "These three data structures represent the same information, but in different formats:\n",
    "\n",
    "* `cases`: A data frame where each row represents one **case**.\n",
    "* `ctable`: A **contingency table**.\n",
    "* `counts`: A data frame of counts, where each row represents the count of each **combination**."
   ]
  },
  {
   "cell_type": "code",
   "execution_count": 1,
   "metadata": {
    "collapsed": false
   },
   "outputs": [
    {
     "data": {
      "text/html": [
       "<table>\n",
       "<thead><tr><th></th><th scope=col>Sex</th><th scope=col>Color</th></tr></thead>\n",
       "<tbody>\n",
       "\t<tr><th scope=row>1</th><td>M</td><td>brown</td></tr>\n",
       "\t<tr><th scope=row>2</th><td>M</td><td>blue</td></tr>\n",
       "\t<tr><th scope=row>3</th><td>F</td><td>brown</td></tr>\n",
       "\t<tr><th scope=row>4</th><td>F</td><td>brown</td></tr>\n",
       "\t<tr><th scope=row>5</th><td>F</td><td>brown</td></tr>\n",
       "</tbody>\n",
       "</table>\n"
      ],
      "text/latex": [
       "\\begin{tabular}{r|ll}\n",
       "  & Sex & Color\\\\\n",
       "\\hline\n",
       "\t1 & M & brown\\\\\n",
       "\t2 & M & blue\\\\\n",
       "\t3 & F & brown\\\\\n",
       "\t4 & F & brown\\\\\n",
       "\t5 & F & brown\\\\\n",
       "\\end{tabular}\n"
      ],
      "text/plain": [
       "  Sex Color\n",
       "1   M brown\n",
       "2   M  blue\n",
       "3   F brown\n",
       "4   F brown\n",
       "5   F brown"
      ]
     },
     "execution_count": 1,
     "metadata": {},
     "output_type": "execute_result"
    }
   ],
   "source": [
    "# Each row represents one case\n",
    "cases <- data.frame(\n",
    "    Sex=c(\"M\", \"M\", \"F\", \"F\", \"F\"), \n",
    "    Color=c(\"brown\", \"blue\", \"brown\", \"brown\", \"brown\")\n",
    ")\n",
    "cases"
   ]
  },
  {
   "cell_type": "code",
   "execution_count": 2,
   "metadata": {
    "collapsed": false
   },
   "outputs": [
    {
     "data": {
      "text/plain": [
       "   Color\n",
       "Sex blue brown\n",
       "  F    0     3\n",
       "  M    1     1"
      ]
     },
     "execution_count": 2,
     "metadata": {},
     "output_type": "execute_result"
    }
   ],
   "source": [
    "# A contingency table\n",
    "ctable <- table(cases)\n",
    "ctable"
   ]
  },
  {
   "cell_type": "code",
   "execution_count": 3,
   "metadata": {
    "collapsed": false
   },
   "outputs": [
    {
     "data": {
      "text/html": [
       "<table>\n",
       "<thead><tr><th></th><th scope=col>Sex</th><th scope=col>Color</th><th scope=col>Freq</th></tr></thead>\n",
       "<tbody>\n",
       "\t<tr><th scope=row>1</th><td>F</td><td>blue</td><td>0</td></tr>\n",
       "\t<tr><th scope=row>2</th><td>M</td><td>blue</td><td>1</td></tr>\n",
       "\t<tr><th scope=row>3</th><td>F</td><td>brown</td><td>3</td></tr>\n",
       "\t<tr><th scope=row>4</th><td>M</td><td>brown</td><td>1</td></tr>\n",
       "</tbody>\n",
       "</table>\n"
      ],
      "text/latex": [
       "\\begin{tabular}{r|lll}\n",
       "  & Sex & Color & Freq\\\\\n",
       "\\hline\n",
       "\t1 & F & blue & 0\\\\\n",
       "\t2 & M & blue & 1\\\\\n",
       "\t3 & F & brown & 3\\\\\n",
       "\t4 & M & brown & 1\\\\\n",
       "\\end{tabular}\n"
      ],
      "text/plain": [
       "  Sex Color Freq\n",
       "1   F  blue    0\n",
       "2   M  blue    1\n",
       "3   F brown    3\n",
       "4   M brown    1"
      ]
     },
     "execution_count": 3,
     "metadata": {},
     "output_type": "execute_result"
    }
   ],
   "source": [
    "# A table with counts of each combination\n",
    "counts <- data.frame(\n",
    "    Sex=c(\"F\", \"M\", \"F\", \"M\"), \n",
    "    Color=c(\"blue\", \"blue\", \"brown\", \"brown\"),\n",
    "    Freq=c(0, 1, 3, 1)\n",
    ")\n",
    "counts"
   ]
  },
  {
   "cell_type": "markdown",
   "metadata": {},
   "source": [
    "### Cases to contingency table\n",
    "\n",
    "To convert from cases to contingency table (this is already shown above):"
   ]
  },
  {
   "cell_type": "code",
   "execution_count": 4,
   "metadata": {
    "collapsed": false
   },
   "outputs": [
    {
     "data": {
      "text/plain": [
       "   Color\n",
       "Sex blue brown\n",
       "  F    0     3\n",
       "  M    1     1"
      ]
     },
     "execution_count": 4,
     "metadata": {},
     "output_type": "execute_result"
    }
   ],
   "source": [
    "# Cases to Table\n",
    "ctable  <- table(cases)\n",
    "ctable"
   ]
  },
  {
   "cell_type": "code",
   "execution_count": 5,
   "metadata": {
    "collapsed": false
   },
   "outputs": [
    {
     "data": {
      "text/plain": [
       "   \n",
       "    blue brown\n",
       "  F    0     3\n",
       "  M    1     1"
      ]
     },
     "execution_count": 5,
     "metadata": {},
     "output_type": "execute_result"
    }
   ],
   "source": [
    "# If you call table using two vectors, it will not add names (Sex and Color) to\n",
    "# the dimensions.\n",
    "table(cases$Sex, cases$Color)"
   ]
  },
  {
   "cell_type": "code",
   "execution_count": 6,
   "metadata": {
    "collapsed": false
   },
   "outputs": [
    {
     "data": {
      "text/plain": [
       "   Color\n",
       "Sex blue brown\n",
       "  F    0     3\n",
       "  M    1     1"
      ]
     },
     "execution_count": 6,
     "metadata": {},
     "output_type": "execute_result"
    }
   ],
   "source": [
    "# The dimension names can be specified manually with `dnn`, or by using a subset\n",
    "# of the data frame that contains only the desired columns.\n",
    "table(cases$Sex, cases$Color, dnn=c(\"Sex\",\"Color\"))"
   ]
  },
  {
   "cell_type": "code",
   "execution_count": 7,
   "metadata": {
    "collapsed": false
   },
   "outputs": [
    {
     "data": {
      "text/plain": [
       "   Color\n",
       "Sex blue brown\n",
       "  F    0     3\n",
       "  M    1     1"
      ]
     },
     "execution_count": 7,
     "metadata": {},
     "output_type": "execute_result"
    }
   ],
   "source": [
    "table(cases[,c(\"Sex\",\"Color\")])"
   ]
  },
  {
   "cell_type": "markdown",
   "metadata": {},
   "source": [
    "### Cases to counts\n",
    "\n",
    "It can also be represented as a data frame of **counts** of each combination. Note that it’s converted here and stored in `countdf`:"
   ]
  },
  {
   "cell_type": "code",
   "execution_count": 8,
   "metadata": {
    "collapsed": false
   },
   "outputs": [
    {
     "data": {
      "text/html": [
       "<table>\n",
       "<thead><tr><th></th><th scope=col>Sex</th><th scope=col>Color</th><th scope=col>Freq</th></tr></thead>\n",
       "<tbody>\n",
       "\t<tr><th scope=row>1</th><td>F</td><td>blue</td><td>0</td></tr>\n",
       "\t<tr><th scope=row>2</th><td>M</td><td>blue</td><td>1</td></tr>\n",
       "\t<tr><th scope=row>3</th><td>F</td><td>brown</td><td>3</td></tr>\n",
       "\t<tr><th scope=row>4</th><td>M</td><td>brown</td><td>1</td></tr>\n",
       "</tbody>\n",
       "</table>\n"
      ],
      "text/latex": [
       "\\begin{tabular}{r|lll}\n",
       "  & Sex & Color & Freq\\\\\n",
       "\\hline\n",
       "\t1 & F & blue & 0\\\\\n",
       "\t2 & M & blue & 1\\\\\n",
       "\t3 & F & brown & 3\\\\\n",
       "\t4 & M & brown & 1\\\\\n",
       "\\end{tabular}\n"
      ],
      "text/plain": [
       "  Sex Color Freq\n",
       "1   F  blue    0\n",
       "2   M  blue    1\n",
       "3   F brown    3\n",
       "4   M brown    1"
      ]
     },
     "execution_count": 8,
     "metadata": {},
     "output_type": "execute_result"
    }
   ],
   "source": [
    "# Cases to Counts\n",
    "countdf <- as.data.frame(table(cases))\n",
    "countdf"
   ]
  },
  {
   "cell_type": "markdown",
   "metadata": {},
   "source": [
    "#### `countsToCases()` function"
   ]
  },
  {
   "cell_type": "code",
   "execution_count": 9,
   "metadata": {
    "collapsed": true
   },
   "outputs": [],
   "source": [
    "# This function is used in the examples below:\n",
    "# Convert from data frame of counts to data frame of cases.\n",
    "# `countcol` is the name of the column containing the counts\n",
    "countsToCases <- function(x, countcol = \"Freq\") {\n",
    "    # Get the row indices to pull from x\n",
    "    idx <- rep.int(seq_len(nrow(x)), x[[countcol]])\n",
    "\n",
    "    # Drop count column\n",
    "    x[[countcol]] <- NULL\n",
    "\n",
    "    # Get the rows from x\n",
    "    x[idx, ]\n",
    "}"
   ]
  },
  {
   "cell_type": "markdown",
   "metadata": {},
   "source": [
    "### Contingency table to cases"
   ]
  },
  {
   "cell_type": "code",
   "execution_count": 10,
   "metadata": {
    "collapsed": false
   },
   "outputs": [
    {
     "data": {
      "text/html": [
       "<table>\n",
       "<thead><tr><th></th><th scope=col>Sex</th><th scope=col>Color</th></tr></thead>\n",
       "<tbody>\n",
       "\t<tr><th scope=row>2</th><td>M</td><td>blue</td></tr>\n",
       "\t<tr><th scope=row>3</th><td>F</td><td>brown</td></tr>\n",
       "\t<tr><th scope=row>3.1</th><td>F</td><td>brown</td></tr>\n",
       "\t<tr><th scope=row>3.2</th><td>F</td><td>brown</td></tr>\n",
       "\t<tr><th scope=row>4</th><td>M</td><td>brown</td></tr>\n",
       "</tbody>\n",
       "</table>\n"
      ],
      "text/latex": [
       "\\begin{tabular}{r|ll}\n",
       "  & Sex & Color\\\\\n",
       "\\hline\n",
       "\t2 & M & blue\\\\\n",
       "\t3 & F & brown\\\\\n",
       "\t3.1 & F & brown\\\\\n",
       "\t3.2 & F & brown\\\\\n",
       "\t4 & M & brown\\\\\n",
       "\\end{tabular}\n"
      ],
      "text/plain": [
       "    Sex Color\n",
       "2     M  blue\n",
       "3     F brown\n",
       "3.1   F brown\n",
       "3.2   F brown\n",
       "4     M brown"
      ]
     },
     "execution_count": 10,
     "metadata": {},
     "output_type": "execute_result"
    }
   ],
   "source": [
    "countsToCases(as.data.frame(ctable))"
   ]
  },
  {
   "cell_type": "markdown",
   "metadata": {},
   "source": [
    "### Contingency table to counts"
   ]
  },
  {
   "cell_type": "code",
   "execution_count": 11,
   "metadata": {
    "collapsed": false
   },
   "outputs": [
    {
     "data": {
      "text/html": [
       "<table>\n",
       "<thead><tr><th></th><th scope=col>Sex</th><th scope=col>Color</th><th scope=col>Freq</th></tr></thead>\n",
       "<tbody>\n",
       "\t<tr><th scope=row>1</th><td>F</td><td>blue</td><td>0</td></tr>\n",
       "\t<tr><th scope=row>2</th><td>M</td><td>blue</td><td>1</td></tr>\n",
       "\t<tr><th scope=row>3</th><td>F</td><td>brown</td><td>3</td></tr>\n",
       "\t<tr><th scope=row>4</th><td>M</td><td>brown</td><td>1</td></tr>\n",
       "</tbody>\n",
       "</table>\n"
      ],
      "text/latex": [
       "\\begin{tabular}{r|lll}\n",
       "  & Sex & Color & Freq\\\\\n",
       "\\hline\n",
       "\t1 & F & blue & 0\\\\\n",
       "\t2 & M & blue & 1\\\\\n",
       "\t3 & F & brown & 3\\\\\n",
       "\t4 & M & brown & 1\\\\\n",
       "\\end{tabular}\n"
      ],
      "text/plain": [
       "  Sex Color Freq\n",
       "1   F  blue    0\n",
       "2   M  blue    1\n",
       "3   F brown    3\n",
       "4   M brown    1"
      ]
     },
     "execution_count": 11,
     "metadata": {},
     "output_type": "execute_result"
    }
   ],
   "source": [
    "as.data.frame(ctable)\n",
    "#>   Sex Color Freq\n",
    "#> 1   F  blue    0\n",
    "#> 2   M  blue    1\n",
    "#> 3   F brown    3\n",
    "#> 4   M brown    1"
   ]
  },
  {
   "cell_type": "markdown",
   "metadata": {},
   "source": [
    "### Counts to cases"
   ]
  },
  {
   "cell_type": "code",
   "execution_count": 12,
   "metadata": {
    "collapsed": false
   },
   "outputs": [
    {
     "data": {
      "text/html": [
       "<table>\n",
       "<thead><tr><th></th><th scope=col>Sex</th><th scope=col>Color</th></tr></thead>\n",
       "<tbody>\n",
       "\t<tr><th scope=row>2</th><td>M</td><td>blue</td></tr>\n",
       "\t<tr><th scope=row>3</th><td>F</td><td>brown</td></tr>\n",
       "\t<tr><th scope=row>3.1</th><td>F</td><td>brown</td></tr>\n",
       "\t<tr><th scope=row>3.2</th><td>F</td><td>brown</td></tr>\n",
       "\t<tr><th scope=row>4</th><td>M</td><td>brown</td></tr>\n",
       "</tbody>\n",
       "</table>\n"
      ],
      "text/latex": [
       "\\begin{tabular}{r|ll}\n",
       "  & Sex & Color\\\\\n",
       "\\hline\n",
       "\t2 & M & blue\\\\\n",
       "\t3 & F & brown\\\\\n",
       "\t3.1 & F & brown\\\\\n",
       "\t3.2 & F & brown\\\\\n",
       "\t4 & M & brown\\\\\n",
       "\\end{tabular}\n"
      ],
      "text/plain": [
       "    Sex Color\n",
       "2     M  blue\n",
       "3     F brown\n",
       "3.1   F brown\n",
       "3.2   F brown\n",
       "4     M brown"
      ]
     },
     "execution_count": 12,
     "metadata": {},
     "output_type": "execute_result"
    }
   ],
   "source": [
    "countsToCases(countdf)"
   ]
  },
  {
   "cell_type": "markdown",
   "metadata": {},
   "source": [
    "### Counts to contingency table"
   ]
  },
  {
   "cell_type": "code",
   "execution_count": 13,
   "metadata": {
    "collapsed": false
   },
   "outputs": [
    {
     "data": {
      "text/plain": [
       "   Color\n",
       "Sex blue brown\n",
       "  F    0     3\n",
       "  M    1     1"
      ]
     },
     "execution_count": 13,
     "metadata": {},
     "output_type": "execute_result"
    }
   ],
   "source": [
    "xtabs(Freq ~ Sex+Color, data=countdf)"
   ]
  }
 ],
 "metadata": {
  "kernelspec": {
   "display_name": "R",
   "language": "R",
   "name": "ir"
  },
  "language_info": {
   "codemirror_mode": "r",
   "file_extension": ".r",
   "mimetype": "text/x-r-source",
   "name": "R",
   "pygments_lexer": "r",
   "version": "3.2.2"
  }
 },
 "nbformat": 4,
 "nbformat_minor": 0
}
