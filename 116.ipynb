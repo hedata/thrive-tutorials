{
 "cells": [
  {
   "cell_type": "markdown",
   "metadata": {},
   "source": [
    "# Summarizing data\n",
    "Credits: http://www.cookbook-r.com/ (Creative Commons Attribution-Share Alike 3.0 Unported License)"
   ]
  },
  {
   "cell_type": "markdown",
   "metadata": {},
   "source": [
    "## Problem\n",
    "You want to do summarize your data (with mean, standard deviation, etc.), broken down by group.\n",
    "\n",
    "## Solution\n",
    "There are three ways described here to group data based on some specified variables, and apply a summary function (like mean, standard deviation, etc.) to each group.\n",
    "\n",
    "* The `ddply()` function. It is the easiest to use, though it requires the `plyr` package. This is probably what you want to use.\n",
    "* The `summarizeBy()` function. It is easier to use, though it requires the doBy package.\n",
    "* The `aggregate()` function. It is more difficult to use but is included in the base install of R.\n",
    "Suppose you have this data and want to find the N, mean of **change**, standard deviation, and standard error of the mean for each group, where the groups are specified by each combination of sex and condition: **F-placebo**, **F-aspirin**, **M-placebo**, and **M-aspirin**."
   ]
  },
  {
   "cell_type": "code",
   "execution_count": 1,
   "metadata": {
    "collapsed": true
   },
   "outputs": [],
   "source": [
    "data <- read.table(header=TRUE, text='\n",
    " subject sex condition before after change\n",
    "       1   F   placebo   10.1   6.9   -3.2\n",
    "       2   F   placebo    6.3   4.2   -2.1\n",
    "       3   M   aspirin   12.4   6.3   -6.1\n",
    "       4   F   placebo    8.1   6.1   -2.0\n",
    "       5   M   aspirin   15.2   9.9   -5.3\n",
    "       6   F   aspirin   10.9   7.0   -3.9\n",
    "       7   F   aspirin   11.6   8.5   -3.1\n",
    "       8   M   aspirin    9.5   3.0   -6.5\n",
    "       9   F   placebo   11.5   9.0   -2.5\n",
    "      10   M   placebo   11.9  11.0   -0.9\n",
    "      11   F   aspirin   11.4   8.0   -3.4\n",
    "      12   M   aspirin   10.0   4.4   -5.6\n",
    "      13   M   aspirin   12.5   5.4   -7.1\n",
    "      14   M   placebo   10.6  10.6    0.0\n",
    "      15   M   aspirin    9.1   4.3   -4.8\n",
    "      16   F   placebo   12.1  10.2   -1.9\n",
    "      17   F   placebo   11.0   8.8   -2.2\n",
    "      18   F   placebo   11.9  10.2   -1.7\n",
    "      19   M   aspirin    9.1   3.6   -5.5\n",
    "      20   M   placebo   13.5  12.4   -1.1\n",
    "      21   M   aspirin   12.0   7.5   -4.5\n",
    "      22   F   placebo    9.1   7.6   -1.5\n",
    "      23   M   placebo    9.9   8.0   -1.9\n",
    "      24   F   placebo    7.6   5.2   -2.4\n",
    "      25   F   placebo   11.8   9.7   -2.1\n",
    "      26   F   placebo   11.8  10.7   -1.1\n",
    "      27   F   aspirin   10.1   7.9   -2.2\n",
    "      28   M   aspirin   11.6   8.3   -3.3\n",
    "      29   F   aspirin   11.3   6.8   -4.5\n",
    "      30   F   placebo   10.3   8.3   -2.0\n",
    " ')"
   ]
  },
  {
   "cell_type": "markdown",
   "metadata": {},
   "source": [
    "### Using ddply"
   ]
  },
  {
   "cell_type": "code",
   "execution_count": 2,
   "metadata": {
    "collapsed": true
   },
   "outputs": [],
   "source": [
    "library(plyr)"
   ]
  },
  {
   "cell_type": "code",
   "execution_count": 3,
   "metadata": {
    "collapsed": false
   },
   "outputs": [
    {
     "data": {
      "text/html": [
       "<table>\n",
       "<thead><tr><th></th><th scope=col>sex</th><th scope=col>condition</th><th scope=col>N</th><th scope=col>mean</th><th scope=col>sd</th><th scope=col>se</th></tr></thead>\n",
       "<tbody>\n",
       "\t<tr><th scope=row>1</th><td>F</td><td>aspirin</td><td>5</td><td>-3.42</td><td>0.8642916</td><td>0.386523</td></tr>\n",
       "\t<tr><th scope=row>2</th><td>F</td><td>placebo</td><td>12</td><td>-2.058333</td><td>0.5247655</td><td>0.1514867</td></tr>\n",
       "\t<tr><th scope=row>3</th><td>M</td><td>aspirin</td><td>9</td><td>-5.411111</td><td>1.130757</td><td>0.376919</td></tr>\n",
       "\t<tr><th scope=row>4</th><td>M</td><td>placebo</td><td>4</td><td>-0.975</td><td>0.7804913</td><td>0.3902456</td></tr>\n",
       "</tbody>\n",
       "</table>\n"
      ],
      "text/latex": [
       "\\begin{tabular}{r|llllll}\n",
       "  & sex & condition & N & mean & sd & se\\\\\n",
       "\\hline\n",
       "\t1 & F & aspirin & 5 & -3.42 & 0.8642916 & 0.386523\\\\\n",
       "\t2 & F & placebo & 12 & -2.058333 & 0.5247655 & 0.1514867\\\\\n",
       "\t3 & M & aspirin & 9 & -5.411111 & 1.130757 & 0.376919\\\\\n",
       "\t4 & M & placebo & 4 & -0.975 & 0.7804913 & 0.3902456\\\\\n",
       "\\end{tabular}\n"
      ],
      "text/plain": [
       "  sex condition  N      mean        sd        se\n",
       "1   F   aspirin  5 -3.420000 0.8642916 0.3865230\n",
       "2   F   placebo 12 -2.058333 0.5247655 0.1514867\n",
       "3   M   aspirin  9 -5.411111 1.1307569 0.3769190\n",
       "4   M   placebo  4 -0.975000 0.7804913 0.3902456"
      ]
     },
     "execution_count": 3,
     "metadata": {},
     "output_type": "execute_result"
    }
   ],
   "source": [
    "# Run the functions length, mean, and sd on the value of \"change\" for each group, \n",
    "# broken down by sex + condition\n",
    "cdata <- ddply(data, c(\"sex\", \"condition\"), summarise,\n",
    "               N    = length(change),\n",
    "               mean = mean(change),\n",
    "               sd   = sd(change),\n",
    "               se   = sd / sqrt(N)\n",
    ")\n",
    "cdata"
   ]
  },
  {
   "cell_type": "markdown",
   "metadata": {},
   "source": [
    "### Handling missing data\n",
    "\n",
    "If there are NA’s in the data, you need to pass the flag `na.rm=TRUE` to each of the functions. `length()` doesn’t take `na.rm` as an option, so one way to work around it is to use `sum(!is.na(...))` to count how many non-NA’s there are."
   ]
  },
  {
   "cell_type": "code",
   "execution_count": 4,
   "metadata": {
    "collapsed": false
   },
   "outputs": [
    {
     "data": {
      "text/html": [
       "<table>\n",
       "<thead><tr><th></th><th scope=col>sex</th><th scope=col>condition</th><th scope=col>N</th><th scope=col>mean</th><th scope=col>sd</th><th scope=col>se</th></tr></thead>\n",
       "<tbody>\n",
       "\t<tr><th scope=row>1</th><td>F</td><td>aspirin</td><td>4</td><td>-3.425</td><td>0.9979145</td><td>0.4989572</td></tr>\n",
       "\t<tr><th scope=row>2</th><td>F</td><td>placebo</td><td>12</td><td>-2.058333</td><td>0.5247655</td><td>0.1514867</td></tr>\n",
       "\t<tr><th scope=row>3</th><td>M</td><td>aspirin</td><td>7</td><td>-5.142857</td><td>1.067485</td><td>0.4034713</td></tr>\n",
       "\t<tr><th scope=row>4</th><td>M</td><td>placebo</td><td>3</td><td>-1.3</td><td>0.5291503</td><td>0.305505</td></tr>\n",
       "</tbody>\n",
       "</table>\n"
      ],
      "text/latex": [
       "\\begin{tabular}{r|llllll}\n",
       "  & sex & condition & N & mean & sd & se\\\\\n",
       "\\hline\n",
       "\t1 & F & aspirin & 4 & -3.425 & 0.9979145 & 0.4989572\\\\\n",
       "\t2 & F & placebo & 12 & -2.058333 & 0.5247655 & 0.1514867\\\\\n",
       "\t3 & M & aspirin & 7 & -5.142857 & 1.067485 & 0.4034713\\\\\n",
       "\t4 & M & placebo & 3 & -1.3 & 0.5291503 & 0.305505\\\\\n",
       "\\end{tabular}\n"
      ],
      "text/plain": [
       "  sex condition  N      mean        sd        se\n",
       "1   F   aspirin  4 -3.425000 0.9979145 0.4989572\n",
       "2   F   placebo 12 -2.058333 0.5247655 0.1514867\n",
       "3   M   aspirin  7 -5.142857 1.0674848 0.4034713\n",
       "4   M   placebo  3 -1.300000 0.5291503 0.3055050"
      ]
     },
     "execution_count": 4,
     "metadata": {},
     "output_type": "execute_result"
    }
   ],
   "source": [
    "# Put some NA's in the data\n",
    "dataNA <- data\n",
    "dataNA$change[11:14] <- NA\n",
    "\n",
    "cdata <- ddply(dataNA, c(\"sex\", \"condition\"), summarise,\n",
    "               N    = sum(!is.na(change)),\n",
    "               mean = mean(change, na.rm=TRUE),\n",
    "               sd   = sd(change, na.rm=TRUE),\n",
    "               se   = sd / sqrt(N)\n",
    ")\n",
    "cdata"
   ]
  },
  {
   "cell_type": "markdown",
   "metadata": {},
   "source": [
    "### A function for mean, count, standard deviation, standard error of the mean, and confidence interval\n",
    "\n",
    "Instead of manually specifying all the values you want and then calculating the standard error, as shown above, this function will handle all of those details. It will do all the things described here:\n",
    "\n",
    "* Find the mean, standard deviation, and count (N)\n",
    "* Find the standard error of the mean (**again, this may not be what you want if you are collapsing over a within-subject variable**. Search for \"Plotting means and error bars\" (ggplot2) for information on how to make error bars for graphs with within-subjects variables.)\n",
    "* Find a 95% confidence interval (or other value, if desired)\n",
    "* Rename the columns so that the resulting data frame is easier to work with\n",
    "\n",
    "To use, put this function in your code and call it as demonstrated below."
   ]
  },
  {
   "cell_type": "code",
   "execution_count": 5,
   "metadata": {
    "collapsed": true
   },
   "outputs": [],
   "source": [
    "## Summarizes data.\n",
    "## Gives count, mean, standard deviation, standard error of the mean, and confidence interval (default 95%).\n",
    "##   data: a data frame.\n",
    "##   measurevar: the name of a column that contains the variable to be summariezed\n",
    "##   groupvars: a vector containing names of columns that contain grouping variables\n",
    "##   na.rm: a boolean that indicates whether to ignore NA's\n",
    "##   conf.interval: the percent range of the confidence interval (default is 95%)\n",
    "summarySE <- function(data=NULL, measurevar, groupvars=NULL, na.rm=FALSE,\n",
    "                      conf.interval=.95, .drop=TRUE) {\n",
    "\n",
    "    # New version of length which can handle NA's: if na.rm==T, don't count them\n",
    "    length2 <- function (x, na.rm=FALSE) {\n",
    "        if (na.rm) sum(!is.na(x))\n",
    "        else       length(x)\n",
    "    }\n",
    "\n",
    "    # This does the summary. For each group's data frame, return a vector with\n",
    "    # N, mean, and sd\n",
    "    datac <- ddply(data, groupvars, .drop=.drop,\n",
    "      .fun = function(xx, col) {\n",
    "        c(N    = length2(xx[[col]], na.rm=na.rm),\n",
    "          mean = mean   (xx[[col]], na.rm=na.rm),\n",
    "          sd   = sd     (xx[[col]], na.rm=na.rm)\n",
    "        )\n",
    "      },\n",
    "      measurevar\n",
    "    )\n",
    "\n",
    "    # Rename the \"mean\" column    \n",
    "    datac <- rename(datac, c(\"mean\" = measurevar))\n",
    "\n",
    "    datac$se <- datac$sd / sqrt(datac$N)  # Calculate standard error of the mean\n",
    "\n",
    "    # Confidence interval multiplier for standard error\n",
    "    # Calculate t-statistic for confidence interval: \n",
    "    # e.g., if conf.interval is .95, use .975 (above/below), and use df=N-1\n",
    "    ciMult <- qt(conf.interval/2 + .5, datac$N-1)\n",
    "    datac$ci <- datac$se * ciMult\n",
    "\n",
    "    return(datac)\n",
    "}"
   ]
  },
  {
   "cell_type": "markdown",
   "metadata": {},
   "source": [
    "Example usage (with 95% confidence interval). Instead of doing all the steps manually, as done previously, the `summarySE` function does it all in one step:"
   ]
  },
  {
   "cell_type": "code",
   "execution_count": 6,
   "metadata": {
    "collapsed": false
   },
   "outputs": [
    {
     "data": {
      "text/html": [
       "<table>\n",
       "<thead><tr><th></th><th scope=col>sex</th><th scope=col>condition</th><th scope=col>N</th><th scope=col>change</th><th scope=col>sd</th><th scope=col>se</th><th scope=col>ci</th></tr></thead>\n",
       "<tbody>\n",
       "\t<tr><th scope=row>1</th><td>F</td><td>aspirin</td><td>5</td><td>-3.42</td><td>0.8642916</td><td>0.386523</td><td>1.07316</td></tr>\n",
       "\t<tr><th scope=row>2</th><td>F</td><td>placebo</td><td>12</td><td>-2.058333</td><td>0.5247655</td><td>0.1514867</td><td>0.3334201</td></tr>\n",
       "\t<tr><th scope=row>3</th><td>M</td><td>aspirin</td><td>9</td><td>-5.411111</td><td>1.130757</td><td>0.376919</td><td>0.8691767</td></tr>\n",
       "\t<tr><th scope=row>4</th><td>M</td><td>placebo</td><td>4</td><td>-0.975</td><td>0.7804913</td><td>0.3902456</td><td>1.241936</td></tr>\n",
       "</tbody>\n",
       "</table>\n"
      ],
      "text/latex": [
       "\\begin{tabular}{r|lllllll}\n",
       "  & sex & condition & N & change & sd & se & ci\\\\\n",
       "\\hline\n",
       "\t1 & F & aspirin & 5 & -3.42 & 0.8642916 & 0.386523 & 1.07316\\\\\n",
       "\t2 & F & placebo & 12 & -2.058333 & 0.5247655 & 0.1514867 & 0.3334201\\\\\n",
       "\t3 & M & aspirin & 9 & -5.411111 & 1.130757 & 0.376919 & 0.8691767\\\\\n",
       "\t4 & M & placebo & 4 & -0.975 & 0.7804913 & 0.3902456 & 1.241936\\\\\n",
       "\\end{tabular}\n"
      ],
      "text/plain": [
       "  sex condition  N    change        sd        se        ci\n",
       "1   F   aspirin  5 -3.420000 0.8642916 0.3865230 1.0731598\n",
       "2   F   placebo 12 -2.058333 0.5247655 0.1514867 0.3334201\n",
       "3   M   aspirin  9 -5.411111 1.1307569 0.3769190 0.8691767\n",
       "4   M   placebo  4 -0.975000 0.7804913 0.3902456 1.2419358"
      ]
     },
     "execution_count": 6,
     "metadata": {},
     "output_type": "execute_result"
    }
   ],
   "source": [
    "summarySE(data, measurevar=\"change\", groupvars=c(\"sex\", \"condition\"))"
   ]
  },
  {
   "cell_type": "code",
   "execution_count": 7,
   "metadata": {
    "collapsed": false
   },
   "outputs": [
    {
     "data": {
      "text/html": [
       "<table>\n",
       "<thead><tr><th></th><th scope=col>sex</th><th scope=col>condition</th><th scope=col>N</th><th scope=col>change</th><th scope=col>sd</th><th scope=col>se</th><th scope=col>ci</th></tr></thead>\n",
       "<tbody>\n",
       "\t<tr><th scope=row>1</th><td>F</td><td>aspirin</td><td>4</td><td>-3.425</td><td>0.9979145</td><td>0.4989572</td><td>1.587905</td></tr>\n",
       "\t<tr><th scope=row>2</th><td>F</td><td>placebo</td><td>12</td><td>-2.058333</td><td>0.5247655</td><td>0.1514867</td><td>0.3334201</td></tr>\n",
       "\t<tr><th scope=row>3</th><td>M</td><td>aspirin</td><td>7</td><td>-5.142857</td><td>1.067485</td><td>0.4034713</td><td>0.9872588</td></tr>\n",
       "\t<tr><th scope=row>4</th><td>M</td><td>placebo</td><td>3</td><td>-1.3</td><td>0.5291503</td><td>0.305505</td><td>1.314482</td></tr>\n",
       "</tbody>\n",
       "</table>\n"
      ],
      "text/latex": [
       "\\begin{tabular}{r|lllllll}\n",
       "  & sex & condition & N & change & sd & se & ci\\\\\n",
       "\\hline\n",
       "\t1 & F & aspirin & 4 & -3.425 & 0.9979145 & 0.4989572 & 1.587905\\\\\n",
       "\t2 & F & placebo & 12 & -2.058333 & 0.5247655 & 0.1514867 & 0.3334201\\\\\n",
       "\t3 & M & aspirin & 7 & -5.142857 & 1.067485 & 0.4034713 & 0.9872588\\\\\n",
       "\t4 & M & placebo & 3 & -1.3 & 0.5291503 & 0.305505 & 1.314482\\\\\n",
       "\\end{tabular}\n"
      ],
      "text/plain": [
       "  sex condition  N    change        sd        se        ci\n",
       "1   F   aspirin  4 -3.425000 0.9979145 0.4989572 1.5879046\n",
       "2   F   placebo 12 -2.058333 0.5247655 0.1514867 0.3334201\n",
       "3   M   aspirin  7 -5.142857 1.0674848 0.4034713 0.9872588\n",
       "4   M   placebo  3 -1.300000 0.5291503 0.3055050 1.3144821"
      ]
     },
     "execution_count": 7,
     "metadata": {},
     "output_type": "execute_result"
    }
   ],
   "source": [
    "# With a data set with NA's, use na.rm=TRUE\n",
    "summarySE(dataNA, measurevar=\"change\", groupvars=c(\"sex\", \"condition\"), na.rm=TRUE)"
   ]
  },
  {
   "cell_type": "markdown",
   "metadata": {},
   "source": [
    "#### Filling empty combinations with zeros\n",
    "\n",
    "Sometimes there will be empty combinations of factors in the summary data frame – that is, combinations of factors that are possible, but don’t actually occur in the original data frame. It is often useful to automatically fill in those combinations in the summary data frame with NA’s. To do this, set `.drop=FALSE` in the call to `ddply` or `summarySE`.\n",
    "\n",
    "Example usage:"
   ]
  },
  {
   "cell_type": "code",
   "execution_count": 8,
   "metadata": {
    "collapsed": false
   },
   "outputs": [
    {
     "data": {
      "text/html": [
       "<table>\n",
       "<thead><tr><th></th><th scope=col>sex</th><th scope=col>condition</th><th scope=col>N</th><th scope=col>change</th><th scope=col>sd</th><th scope=col>se</th><th scope=col>ci</th></tr></thead>\n",
       "<tbody>\n",
       "\t<tr><th scope=row>1</th><td>F</td><td>aspirin</td><td>5</td><td>-3.42</td><td>0.8642916</td><td>0.386523</td><td>1.07316</td></tr>\n",
       "\t<tr><th scope=row>2</th><td>F</td><td>placebo</td><td>12</td><td>-2.058333</td><td>0.5247655</td><td>0.1514867</td><td>0.3334201</td></tr>\n",
       "\t<tr><th scope=row>3</th><td>M</td><td>aspirin</td><td>9</td><td>-5.411111</td><td>1.130757</td><td>0.376919</td><td>0.8691767</td></tr>\n",
       "</tbody>\n",
       "</table>\n"
      ],
      "text/latex": [
       "\\begin{tabular}{r|lllllll}\n",
       "  & sex & condition & N & change & sd & se & ci\\\\\n",
       "\\hline\n",
       "\t1 & F & aspirin & 5 & -3.42 & 0.8642916 & 0.386523 & 1.07316\\\\\n",
       "\t2 & F & placebo & 12 & -2.058333 & 0.5247655 & 0.1514867 & 0.3334201\\\\\n",
       "\t3 & M & aspirin & 9 & -5.411111 & 1.130757 & 0.376919 & 0.8691767\\\\\n",
       "\\end{tabular}\n"
      ],
      "text/plain": [
       "  sex condition  N    change        sd        se        ci\n",
       "1   F   aspirin  5 -3.420000 0.8642916 0.3865230 1.0731598\n",
       "2   F   placebo 12 -2.058333 0.5247655 0.1514867 0.3334201\n",
       "3   M   aspirin  9 -5.411111 1.1307569 0.3769190 0.8691767"
      ]
     },
     "execution_count": 8,
     "metadata": {},
     "output_type": "execute_result"
    }
   ],
   "source": [
    "# First remove some all Male+Placebo entries from the data\n",
    "dataSub <- subset(data, !(sex==\"M\" & condition==\"placebo\"))\n",
    "\n",
    "# If we summarize the data, there will be a missing row for Male+Placebo,\n",
    "# since there were no cases with this combination.\n",
    "summarySE(dataSub, measurevar=\"change\", groupvars=c(\"sex\", \"condition\"))"
   ]
  },
  {
   "cell_type": "code",
   "execution_count": 9,
   "metadata": {
    "collapsed": false
   },
   "outputs": [
    {
     "name": "stderr",
     "output_type": "stream",
     "text": [
      "Warning message:\n",
      "In qt(conf.interval/2 + 0.5, datac$N - 1): NaNs produced"
     ]
    },
    {
     "data": {
      "text/html": [
       "<table>\n",
       "<thead><tr><th></th><th scope=col>sex</th><th scope=col>condition</th><th scope=col>N</th><th scope=col>change</th><th scope=col>sd</th><th scope=col>se</th><th scope=col>ci</th></tr></thead>\n",
       "<tbody>\n",
       "\t<tr><th scope=row>1</th><td>F</td><td>aspirin</td><td>5</td><td>-3.42</td><td>0.8642916</td><td>0.386523</td><td>1.07316</td></tr>\n",
       "\t<tr><th scope=row>2</th><td>F</td><td>placebo</td><td>12</td><td>-2.058333</td><td>0.5247655</td><td>0.1514867</td><td>0.3334201</td></tr>\n",
       "\t<tr><th scope=row>3</th><td>M</td><td>aspirin</td><td>9</td><td>-5.411111</td><td>1.130757</td><td>0.376919</td><td>0.8691767</td></tr>\n",
       "\t<tr><th scope=row>4</th><td>M</td><td>placebo</td><td>0</td><td>NaN</td><td>NA</td><td>NA</td><td>NaN</td></tr>\n",
       "</tbody>\n",
       "</table>\n"
      ],
      "text/latex": [
       "\\begin{tabular}{r|lllllll}\n",
       "  & sex & condition & N & change & sd & se & ci\\\\\n",
       "\\hline\n",
       "\t1 & F & aspirin & 5 & -3.42 & 0.8642916 & 0.386523 & 1.07316\\\\\n",
       "\t2 & F & placebo & 12 & -2.058333 & 0.5247655 & 0.1514867 & 0.3334201\\\\\n",
       "\t3 & M & aspirin & 9 & -5.411111 & 1.130757 & 0.376919 & 0.8691767\\\\\n",
       "\t4 & M & placebo & 0 & NaN & NA & NA & NaN\\\\\n",
       "\\end{tabular}\n"
      ],
      "text/plain": [
       "  sex condition  N    change        sd        se        ci\n",
       "1   F   aspirin  5 -3.420000 0.8642916 0.3865230 1.0731598\n",
       "2   F   placebo 12 -2.058333 0.5247655 0.1514867 0.3334201\n",
       "3   M   aspirin  9 -5.411111 1.1307569 0.3769190 0.8691767\n",
       "4   M   placebo  0       NaN        NA        NA       NaN"
      ]
     },
     "execution_count": 9,
     "metadata": {},
     "output_type": "execute_result"
    }
   ],
   "source": [
    "# Set .drop=FALSE to NOT drop those combinations\n",
    "summarySE(dataSub, measurevar=\"change\", groupvars=c(\"sex\", \"condition\"), .drop=FALSE)"
   ]
  },
  {
   "cell_type": "markdown",
   "metadata": {},
   "source": [
    "#### Using summaryBy\n",
    "\n",
    "To collapse the data using the `summarizeBy()` function:"
   ]
  },
  {
   "cell_type": "code",
   "execution_count": 10,
   "metadata": {
    "collapsed": false
   },
   "outputs": [
    {
     "name": "stdout",
     "output_type": "stream",
     "text": [
      "\n",
      "The downloaded source packages are in\n",
      "\t‘/tmp/RtmplxeM5K/downloaded_packages’\n"
     ]
    }
   ],
   "source": [
    "install.packages(\"doBy\",repos=\"http://cran.wu.ac.at\")"
   ]
  },
  {
   "cell_type": "code",
   "execution_count": 11,
   "metadata": {
    "collapsed": false
   },
   "outputs": [
    {
     "name": "stderr",
     "output_type": "stream",
     "text": [
      "Loading required package: survival\n"
     ]
    }
   ],
   "source": [
    "library(doBy)"
   ]
  },
  {
   "cell_type": "code",
   "execution_count": 12,
   "metadata": {
    "collapsed": false
   },
   "outputs": [
    {
     "data": {
      "text/html": [
       "<table>\n",
       "<thead><tr><th></th><th scope=col>sex</th><th scope=col>condition</th><th scope=col>change.length</th><th scope=col>change.mean</th><th scope=col>change.sd</th></tr></thead>\n",
       "<tbody>\n",
       "\t<tr><th scope=row>1</th><td>F</td><td>aspirin</td><td>5</td><td>-3.42</td><td>0.8642916</td></tr>\n",
       "\t<tr><th scope=row>2</th><td>F</td><td>placebo</td><td>12</td><td>-2.058333</td><td>0.5247655</td></tr>\n",
       "\t<tr><th scope=row>3</th><td>M</td><td>aspirin</td><td>9</td><td>-5.411111</td><td>1.130757</td></tr>\n",
       "\t<tr><th scope=row>4</th><td>M</td><td>placebo</td><td>4</td><td>-0.975</td><td>0.7804913</td></tr>\n",
       "</tbody>\n",
       "</table>\n"
      ],
      "text/latex": [
       "\\begin{tabular}{r|lllll}\n",
       "  & sex & condition & change.length & change.mean & change.sd\\\\\n",
       "\\hline\n",
       "\t1 & F & aspirin & 5 & -3.42 & 0.8642916\\\\\n",
       "\t2 & F & placebo & 12 & -2.058333 & 0.5247655\\\\\n",
       "\t3 & M & aspirin & 9 & -5.411111 & 1.130757\\\\\n",
       "\t4 & M & placebo & 4 & -0.975 & 0.7804913\\\\\n",
       "\\end{tabular}\n"
      ],
      "text/plain": [
       "  sex condition change.length change.mean change.sd\n",
       "1   F   aspirin             5   -3.420000 0.8642916\n",
       "2   F   placebo            12   -2.058333 0.5247655\n",
       "3   M   aspirin             9   -5.411111 1.1307569\n",
       "4   M   placebo             4   -0.975000 0.7804913"
      ]
     },
     "execution_count": 12,
     "metadata": {},
     "output_type": "execute_result"
    }
   ],
   "source": [
    "# Run the functions length, mean, and sd on the value of \"change\" for each group, \n",
    "# broken down by sex + condition\n",
    "cdata <- summaryBy(change ~ sex + condition, data=data, FUN=c(length,mean,sd))\n",
    "cdata"
   ]
  },
  {
   "cell_type": "code",
   "execution_count": 13,
   "metadata": {
    "collapsed": false
   },
   "outputs": [
    {
     "data": {
      "text/html": [
       "<table>\n",
       "<thead><tr><th></th><th scope=col>sex</th><th scope=col>condition</th><th scope=col>N</th><th scope=col>change.mean</th><th scope=col>change.sd</th><th scope=col>change.se</th></tr></thead>\n",
       "<tbody>\n",
       "\t<tr><th scope=row>1</th><td>F</td><td>aspirin</td><td>5</td><td>-3.42</td><td>0.8642916</td><td>0.386523</td></tr>\n",
       "\t<tr><th scope=row>2</th><td>F</td><td>placebo</td><td>12</td><td>-2.058333</td><td>0.5247655</td><td>0.1514867</td></tr>\n",
       "\t<tr><th scope=row>3</th><td>M</td><td>aspirin</td><td>9</td><td>-5.411111</td><td>1.130757</td><td>0.376919</td></tr>\n",
       "\t<tr><th scope=row>4</th><td>M</td><td>placebo</td><td>4</td><td>-0.975</td><td>0.7804913</td><td>0.3902456</td></tr>\n",
       "</tbody>\n",
       "</table>\n"
      ],
      "text/latex": [
       "\\begin{tabular}{r|llllll}\n",
       "  & sex & condition & N & change.mean & change.sd & change.se\\\\\n",
       "\\hline\n",
       "\t1 & F & aspirin & 5 & -3.42 & 0.8642916 & 0.386523\\\\\n",
       "\t2 & F & placebo & 12 & -2.058333 & 0.5247655 & 0.1514867\\\\\n",
       "\t3 & M & aspirin & 9 & -5.411111 & 1.130757 & 0.376919\\\\\n",
       "\t4 & M & placebo & 4 & -0.975 & 0.7804913 & 0.3902456\\\\\n",
       "\\end{tabular}\n"
      ],
      "text/plain": [
       "  sex condition  N change.mean change.sd change.se\n",
       "1   F   aspirin  5   -3.420000 0.8642916 0.3865230\n",
       "2   F   placebo 12   -2.058333 0.5247655 0.1514867\n",
       "3   M   aspirin  9   -5.411111 1.1307569 0.3769190\n",
       "4   M   placebo  4   -0.975000 0.7804913 0.3902456"
      ]
     },
     "execution_count": 13,
     "metadata": {},
     "output_type": "execute_result"
    }
   ],
   "source": [
    "# Rename column change.length to just N\n",
    "names(cdata)[names(cdata)==\"change.length\"] <- \"N\"\n",
    "\n",
    "# Calculate standard error of the mean\n",
    "cdata$change.se <- cdata$change.sd / sqrt(cdata$N)\n",
    "cdata"
   ]
  },
  {
   "cell_type": "markdown",
   "metadata": {},
   "source": [
    "**Note that if you have any within-subjects variables, these standard error values may not be useful for comparing groups.** Search for \"Plotting means and error bars\" (ggplot2) for information on how to make error bars for graphs with within-subjects variables.\n",
    "\n",
    "### Handling missing data\n",
    "\n",
    "If there are NA’s in the data, you need to pass the flag `na.rm=TRUE` to the functions. Normally you could pass it to `summaryBy()` and it would get passed to each of the functions called, but `length()` does not recognize it and so it won’t work. One way around it is to define a new length function that handles the NA’s."
   ]
  },
  {
   "cell_type": "code",
   "execution_count": 14,
   "metadata": {
    "collapsed": false
   },
   "outputs": [
    {
     "data": {
      "text/html": [
       "<table>\n",
       "<thead><tr><th></th><th scope=col>sex</th><th scope=col>condition</th><th scope=col>change.length2</th><th scope=col>change.mean</th><th scope=col>change.sd</th></tr></thead>\n",
       "<tbody>\n",
       "\t<tr><th scope=row>1</th><td>F</td><td>aspirin</td><td>4</td><td>-3.425</td><td>0.9979145</td></tr>\n",
       "\t<tr><th scope=row>2</th><td>F</td><td>placebo</td><td>12</td><td>-2.058333</td><td>0.5247655</td></tr>\n",
       "\t<tr><th scope=row>3</th><td>M</td><td>aspirin</td><td>7</td><td>-5.142857</td><td>1.067485</td></tr>\n",
       "\t<tr><th scope=row>4</th><td>M</td><td>placebo</td><td>3</td><td>-1.3</td><td>0.5291503</td></tr>\n",
       "</tbody>\n",
       "</table>\n"
      ],
      "text/latex": [
       "\\begin{tabular}{r|lllll}\n",
       "  & sex & condition & change.length2 & change.mean & change.sd\\\\\n",
       "\\hline\n",
       "\t1 & F & aspirin & 4 & -3.425 & 0.9979145\\\\\n",
       "\t2 & F & placebo & 12 & -2.058333 & 0.5247655\\\\\n",
       "\t3 & M & aspirin & 7 & -5.142857 & 1.067485\\\\\n",
       "\t4 & M & placebo & 3 & -1.3 & 0.5291503\\\\\n",
       "\\end{tabular}\n"
      ],
      "text/plain": [
       "  sex condition change.length2 change.mean change.sd\n",
       "1   F   aspirin              4   -3.425000 0.9979145\n",
       "2   F   placebo             12   -2.058333 0.5247655\n",
       "3   M   aspirin              7   -5.142857 1.0674848\n",
       "4   M   placebo              3   -1.300000 0.5291503"
      ]
     },
     "execution_count": 14,
     "metadata": {},
     "output_type": "execute_result"
    }
   ],
   "source": [
    "# New version of length which can handle NA's: if na.rm==T, don't count them\n",
    "length2 <- function (x, na.rm=FALSE) {\n",
    "    if (na.rm) sum(!is.na(x))\n",
    "    else       length(x)\n",
    "}\n",
    "\n",
    "# Put some NA's in the data\n",
    "dataNA <- data\n",
    "dataNA$change[11:14] <- NA\n",
    "\n",
    "cdataNA <- summaryBy(change ~ sex + condition, data=dataNA,\n",
    "                     FUN=c(length2, mean, sd), na.rm=TRUE)\n",
    "cdataNA"
   ]
  },
  {
   "cell_type": "markdown",
   "metadata": {},
   "source": [
    "#### A function for mean, count, standard deviation, standard error of the mean, and confidence interval\n",
    "\n",
    "Instead of manually specifying all the values you want and then calculating the standard error, as shown above, this function will handle all of those details. It will do all the things described here:\n",
    "\n",
    "* Find the mean, standard deviation, and count (N)\n",
    "* Find the standard error of the mean (**again, this may not be what you want if you are collapsing over a within-subject variable.** Search for \"Plotting means and error bars\" (ggplot2) for information on how to make error bars for graphs with within-subjects variables.)\n",
    "* Find a 95% confidence interval (or other value, if desired)\n",
    "* Rename the columns so that the resulting data frame is easier to work with\n",
    "\n",
    "To use, put this function in your code and call it as demonstrated below."
   ]
  },
  {
   "cell_type": "code",
   "execution_count": 15,
   "metadata": {
    "collapsed": true
   },
   "outputs": [],
   "source": [
    "## Summarizes data.\n",
    "## Gives count, mean, standard deviation, standard error of the mean, and confidence \n",
    "## interval (default 95%).\n",
    "##   data: a data frame.\n",
    "##   measurevar: the name of a column that contains the variable to be summariezed\n",
    "##   groupvars: a vector containing names of columns that contain grouping variables\n",
    "##   na.rm: a boolean that indicates whether to ignore NA's\n",
    "##   conf.interval: the percent range of the confidence interval (default is 95%)\n",
    "summarySE <- function(data=NULL, measurevar, groupvars=NULL, na.rm=FALSE, conf.interval=.95) {\n",
    "\n",
    "    # New version of length which can handle NA's: if na.rm==T, don't count them\n",
    "    length2 <- function (x, na.rm=FALSE) {\n",
    "        if (na.rm) sum(!is.na(x))\n",
    "        else       length(x)\n",
    "    }\n",
    "\n",
    "    # Collapse the data\n",
    "    formula <- as.formula(paste(measurevar, paste(groupvars, collapse=\" + \"), sep=\" ~ \"))\n",
    "    datac <- summaryBy(formula, data=data, FUN=c(length2,mean,sd), na.rm=na.rm)\n",
    "\n",
    "    # Rename columns\n",
    "    names(datac)[ names(datac) == paste(measurevar, \".mean\",    sep=\"\") ] <- measurevar\n",
    "    names(datac)[ names(datac) == paste(measurevar, \".sd\",      sep=\"\") ] <- \"sd\"\n",
    "    names(datac)[ names(datac) == paste(measurevar, \".length2\", sep=\"\") ] <- \"N\"\n",
    "    \n",
    "    datac$se <- datac$sd / sqrt(datac$N)  # Calculate standard error of the mean\n",
    "    \n",
    "    # Confidence interval multiplier for standard error\n",
    "    # Calculate t-statistic for confidence interval: \n",
    "    # e.g., if conf.interval is .95, use .975 (above/below), and use df=N-1\n",
    "    ciMult <- qt(conf.interval/2 + .5, datac$N-1)\n",
    "    datac$ci <- datac$se * ciMult\n",
    "    \n",
    "    return(datac)\n",
    "}"
   ]
  },
  {
   "cell_type": "markdown",
   "metadata": {},
   "source": [
    "Example usage (with 95% confidence interval). Instead of doing all the steps manually, as done previously, the `summarySE` function does it all in one step:"
   ]
  },
  {
   "cell_type": "code",
   "execution_count": 16,
   "metadata": {
    "collapsed": false
   },
   "outputs": [
    {
     "data": {
      "text/html": [
       "<table>\n",
       "<thead><tr><th></th><th scope=col>sex</th><th scope=col>condition</th><th scope=col>N</th><th scope=col>change</th><th scope=col>sd</th><th scope=col>se</th><th scope=col>ci</th></tr></thead>\n",
       "<tbody>\n",
       "\t<tr><th scope=row>1</th><td>F</td><td>aspirin</td><td>5</td><td>-3.42</td><td>0.8642916</td><td>0.386523</td><td>1.07316</td></tr>\n",
       "\t<tr><th scope=row>2</th><td>F</td><td>placebo</td><td>12</td><td>-2.058333</td><td>0.5247655</td><td>0.1514867</td><td>0.3334201</td></tr>\n",
       "\t<tr><th scope=row>3</th><td>M</td><td>aspirin</td><td>9</td><td>-5.411111</td><td>1.130757</td><td>0.376919</td><td>0.8691767</td></tr>\n",
       "\t<tr><th scope=row>4</th><td>M</td><td>placebo</td><td>4</td><td>-0.975</td><td>0.7804913</td><td>0.3902456</td><td>1.241936</td></tr>\n",
       "</tbody>\n",
       "</table>\n"
      ],
      "text/latex": [
       "\\begin{tabular}{r|lllllll}\n",
       "  & sex & condition & N & change & sd & se & ci\\\\\n",
       "\\hline\n",
       "\t1 & F & aspirin & 5 & -3.42 & 0.8642916 & 0.386523 & 1.07316\\\\\n",
       "\t2 & F & placebo & 12 & -2.058333 & 0.5247655 & 0.1514867 & 0.3334201\\\\\n",
       "\t3 & M & aspirin & 9 & -5.411111 & 1.130757 & 0.376919 & 0.8691767\\\\\n",
       "\t4 & M & placebo & 4 & -0.975 & 0.7804913 & 0.3902456 & 1.241936\\\\\n",
       "\\end{tabular}\n"
      ],
      "text/plain": [
       "  sex condition  N    change        sd        se        ci\n",
       "1   F   aspirin  5 -3.420000 0.8642916 0.3865230 1.0731598\n",
       "2   F   placebo 12 -2.058333 0.5247655 0.1514867 0.3334201\n",
       "3   M   aspirin  9 -5.411111 1.1307569 0.3769190 0.8691767\n",
       "4   M   placebo  4 -0.975000 0.7804913 0.3902456 1.2419358"
      ]
     },
     "execution_count": 16,
     "metadata": {},
     "output_type": "execute_result"
    }
   ],
   "source": [
    "summarySE(data, measurevar=\"change\", groupvars=c(\"sex\",\"condition\"))"
   ]
  },
  {
   "cell_type": "code",
   "execution_count": 17,
   "metadata": {
    "collapsed": false
   },
   "outputs": [
    {
     "data": {
      "text/html": [
       "<table>\n",
       "<thead><tr><th></th><th scope=col>sex</th><th scope=col>condition</th><th scope=col>N</th><th scope=col>change</th><th scope=col>sd</th><th scope=col>se</th><th scope=col>ci</th></tr></thead>\n",
       "<tbody>\n",
       "\t<tr><th scope=row>1</th><td>F</td><td>aspirin</td><td>4</td><td>-3.425</td><td>0.9979145</td><td>0.4989572</td><td>1.587905</td></tr>\n",
       "\t<tr><th scope=row>2</th><td>F</td><td>placebo</td><td>12</td><td>-2.058333</td><td>0.5247655</td><td>0.1514867</td><td>0.3334201</td></tr>\n",
       "\t<tr><th scope=row>3</th><td>M</td><td>aspirin</td><td>7</td><td>-5.142857</td><td>1.067485</td><td>0.4034713</td><td>0.9872588</td></tr>\n",
       "\t<tr><th scope=row>4</th><td>M</td><td>placebo</td><td>3</td><td>-1.3</td><td>0.5291503</td><td>0.305505</td><td>1.314482</td></tr>\n",
       "</tbody>\n",
       "</table>\n"
      ],
      "text/latex": [
       "\\begin{tabular}{r|lllllll}\n",
       "  & sex & condition & N & change & sd & se & ci\\\\\n",
       "\\hline\n",
       "\t1 & F & aspirin & 4 & -3.425 & 0.9979145 & 0.4989572 & 1.587905\\\\\n",
       "\t2 & F & placebo & 12 & -2.058333 & 0.5247655 & 0.1514867 & 0.3334201\\\\\n",
       "\t3 & M & aspirin & 7 & -5.142857 & 1.067485 & 0.4034713 & 0.9872588\\\\\n",
       "\t4 & M & placebo & 3 & -1.3 & 0.5291503 & 0.305505 & 1.314482\\\\\n",
       "\\end{tabular}\n"
      ],
      "text/plain": [
       "  sex condition  N    change        sd        se        ci\n",
       "1   F   aspirin  4 -3.425000 0.9979145 0.4989572 1.5879046\n",
       "2   F   placebo 12 -2.058333 0.5247655 0.1514867 0.3334201\n",
       "3   M   aspirin  7 -5.142857 1.0674848 0.4034713 0.9872588\n",
       "4   M   placebo  3 -1.300000 0.5291503 0.3055050 1.3144821"
      ]
     },
     "execution_count": 17,
     "metadata": {},
     "output_type": "execute_result"
    }
   ],
   "source": [
    "# With a data set with NA's, use na.rm=TRUE\n",
    "summarySE(dataNA, measurevar=\"change\", groupvars=c(\"sex\",\"condition\"), na.rm=TRUE)"
   ]
  },
  {
   "cell_type": "markdown",
   "metadata": {},
   "source": [
    "### Filling empty combinations with zeros\n",
    "\n",
    "Sometimes there will be empty combinations of factors in the summary data frame – that is, combinations of factors that are possible, but don’t actually occur in the original data frame. It is often useful to automatically fill in those combinations in the summary data frame with zeros.\n",
    "\n",
    "This function will fill in those missing combinations with zeros:"
   ]
  },
  {
   "cell_type": "code",
   "execution_count": 18,
   "metadata": {
    "collapsed": true
   },
   "outputs": [],
   "source": [
    "fillMissingCombs <- function(df, factors, measures) {\n",
    "\n",
    "    # Make a list of the combinations of factor levels\n",
    "    levelList <- list()\n",
    "    for (f in factors) {  levelList[[f]] <- levels(df[,f])  }\n",
    "    \n",
    "    fullFactors <- expand.grid(levelList)\n",
    "    \n",
    "    dfFull <- merge(fullFactors, df, all.x=TRUE)\n",
    "    \n",
    "    # Wherever there is an NA in the measure vars, replace with 0\n",
    "    for (m in measures) {\n",
    "      dfFull[is.na(dfFull[,m]), m] <- 0\n",
    "    }\n",
    "\n",
    "    return(dfFull)\n",
    "}"
   ]
  },
  {
   "cell_type": "markdown",
   "metadata": {},
   "source": [
    "Example usage:"
   ]
  },
  {
   "cell_type": "code",
   "execution_count": 19,
   "metadata": {
    "collapsed": false
   },
   "outputs": [
    {
     "data": {
      "text/html": [
       "<table>\n",
       "<thead><tr><th></th><th scope=col>sex</th><th scope=col>condition</th><th scope=col>N</th><th scope=col>change</th><th scope=col>sd</th><th scope=col>se</th><th scope=col>ci</th></tr></thead>\n",
       "<tbody>\n",
       "\t<tr><th scope=row>1</th><td>F</td><td>aspirin</td><td>5</td><td>-3.42</td><td>0.8642916</td><td>0.386523</td><td>1.07316</td></tr>\n",
       "\t<tr><th scope=row>2</th><td>F</td><td>placebo</td><td>12</td><td>-2.058333</td><td>0.5247655</td><td>0.1514867</td><td>0.3334201</td></tr>\n",
       "\t<tr><th scope=row>3</th><td>M</td><td>aspirin</td><td>9</td><td>-5.411111</td><td>1.130757</td><td>0.376919</td><td>0.8691767</td></tr>\n",
       "</tbody>\n",
       "</table>\n"
      ],
      "text/latex": [
       "\\begin{tabular}{r|lllllll}\n",
       "  & sex & condition & N & change & sd & se & ci\\\\\n",
       "\\hline\n",
       "\t1 & F & aspirin & 5 & -3.42 & 0.8642916 & 0.386523 & 1.07316\\\\\n",
       "\t2 & F & placebo & 12 & -2.058333 & 0.5247655 & 0.1514867 & 0.3334201\\\\\n",
       "\t3 & M & aspirin & 9 & -5.411111 & 1.130757 & 0.376919 & 0.8691767\\\\\n",
       "\\end{tabular}\n"
      ],
      "text/plain": [
       "  sex condition  N    change        sd        se        ci\n",
       "1   F   aspirin  5 -3.420000 0.8642916 0.3865230 1.0731598\n",
       "2   F   placebo 12 -2.058333 0.5247655 0.1514867 0.3334201\n",
       "3   M   aspirin  9 -5.411111 1.1307569 0.3769190 0.8691767"
      ]
     },
     "execution_count": 19,
     "metadata": {},
     "output_type": "execute_result"
    }
   ],
   "source": [
    "# First remove some all Male+Placebo entries from the data\n",
    "dataSub <- subset(data, !(sex==\"M\" & condition==\"placebo\"))\n",
    "\n",
    "# If we summarize the data, there will be a missing row for Male+Placebo,\n",
    "# since there were no cases with this combination.\n",
    "cdataSub <- summarySE(dataSub, measurevar=\"change\", groupvars=c(\"sex\", \"condition\"))\n",
    "cdataSub"
   ]
  },
  {
   "cell_type": "code",
   "execution_count": 20,
   "metadata": {
    "collapsed": false
   },
   "outputs": [
    {
     "data": {
      "text/html": [
       "<table>\n",
       "<thead><tr><th></th><th scope=col>sex</th><th scope=col>condition</th><th scope=col>N</th><th scope=col>change</th><th scope=col>sd</th><th scope=col>se</th><th scope=col>ci</th></tr></thead>\n",
       "<tbody>\n",
       "\t<tr><th scope=row>1</th><td>F</td><td>aspirin</td><td>5</td><td>-3.42</td><td>0.8642916</td><td>0.386523</td><td>1.07316</td></tr>\n",
       "\t<tr><th scope=row>2</th><td>F</td><td>placebo</td><td>12</td><td>-2.058333</td><td>0.5247655</td><td>0.1514867</td><td>0.3334201</td></tr>\n",
       "\t<tr><th scope=row>3</th><td>M</td><td>aspirin</td><td>9</td><td>-5.411111</td><td>1.130757</td><td>0.376919</td><td>0.8691767</td></tr>\n",
       "\t<tr><th scope=row>4</th><td>M</td><td>placebo</td><td>0</td><td>0</td><td>0</td><td>0</td><td>0</td></tr>\n",
       "</tbody>\n",
       "</table>\n"
      ],
      "text/latex": [
       "\\begin{tabular}{r|lllllll}\n",
       "  & sex & condition & N & change & sd & se & ci\\\\\n",
       "\\hline\n",
       "\t1 & F & aspirin & 5 & -3.42 & 0.8642916 & 0.386523 & 1.07316\\\\\n",
       "\t2 & F & placebo & 12 & -2.058333 & 0.5247655 & 0.1514867 & 0.3334201\\\\\n",
       "\t3 & M & aspirin & 9 & -5.411111 & 1.130757 & 0.376919 & 0.8691767\\\\\n",
       "\t4 & M & placebo & 0 & 0 & 0 & 0 & 0\\\\\n",
       "\\end{tabular}\n"
      ],
      "text/plain": [
       "  sex condition  N    change        sd        se        ci\n",
       "1   F   aspirin  5 -3.420000 0.8642916 0.3865230 1.0731598\n",
       "2   F   placebo 12 -2.058333 0.5247655 0.1514867 0.3334201\n",
       "3   M   aspirin  9 -5.411111 1.1307569 0.3769190 0.8691767\n",
       "4   M   placebo  0  0.000000 0.0000000 0.0000000 0.0000000"
      ]
     },
     "execution_count": 20,
     "metadata": {},
     "output_type": "execute_result"
    }
   ],
   "source": [
    "# This will fill in the missing combinations with zeros\n",
    "fillMissingCombs(cdataSub, factors=c(\"sex\",\"condition\"), measures=c(\"N\",\"change\",\"sd\",\"se\",\"ci\"))"
   ]
  },
  {
   "cell_type": "markdown",
   "metadata": {},
   "source": [
    "### Using aggregate\n",
    "\n",
    "The `aggregate` function is more difficult to use, but it is included in the base R installation and does not require the installation of another package."
   ]
  },
  {
   "cell_type": "code",
   "execution_count": 21,
   "metadata": {
    "collapsed": false
   },
   "outputs": [
    {
     "data": {
      "text/html": [
       "<table>\n",
       "<thead><tr><th></th><th scope=col>sex</th><th scope=col>condition</th><th scope=col>subject</th></tr></thead>\n",
       "<tbody>\n",
       "\t<tr><th scope=row>1</th><td>F</td><td>aspirin</td><td>5</td></tr>\n",
       "\t<tr><th scope=row>2</th><td>M</td><td>aspirin</td><td>9</td></tr>\n",
       "\t<tr><th scope=row>3</th><td>F</td><td>placebo</td><td>12</td></tr>\n",
       "\t<tr><th scope=row>4</th><td>M</td><td>placebo</td><td>4</td></tr>\n",
       "</tbody>\n",
       "</table>\n"
      ],
      "text/latex": [
       "\\begin{tabular}{r|lll}\n",
       "  & sex & condition & subject\\\\\n",
       "\\hline\n",
       "\t1 & F & aspirin & 5\\\\\n",
       "\t2 & M & aspirin & 9\\\\\n",
       "\t3 & F & placebo & 12\\\\\n",
       "\t4 & M & placebo & 4\\\\\n",
       "\\end{tabular}\n"
      ],
      "text/plain": [
       "  sex condition subject\n",
       "1   F   aspirin       5\n",
       "2   M   aspirin       9\n",
       "3   F   placebo      12\n",
       "4   M   placebo       4"
      ]
     },
     "execution_count": 21,
     "metadata": {},
     "output_type": "execute_result"
    }
   ],
   "source": [
    "# Get a count of number of subjects in each category (sex*condition)\n",
    "cdata <- aggregate(data[\"subject\"], by=data[c(\"sex\",\"condition\")], FUN=length)\n",
    "cdata"
   ]
  },
  {
   "cell_type": "code",
   "execution_count": 22,
   "metadata": {
    "collapsed": false
   },
   "outputs": [
    {
     "data": {
      "text/html": [
       "<table>\n",
       "<thead><tr><th></th><th scope=col>sex</th><th scope=col>condition</th><th scope=col>N</th></tr></thead>\n",
       "<tbody>\n",
       "\t<tr><th scope=row>1</th><td>F</td><td>aspirin</td><td>5</td></tr>\n",
       "\t<tr><th scope=row>2</th><td>M</td><td>aspirin</td><td>9</td></tr>\n",
       "\t<tr><th scope=row>3</th><td>F</td><td>placebo</td><td>12</td></tr>\n",
       "\t<tr><th scope=row>4</th><td>M</td><td>placebo</td><td>4</td></tr>\n",
       "</tbody>\n",
       "</table>\n"
      ],
      "text/latex": [
       "\\begin{tabular}{r|lll}\n",
       "  & sex & condition & N\\\\\n",
       "\\hline\n",
       "\t1 & F & aspirin & 5\\\\\n",
       "\t2 & M & aspirin & 9\\\\\n",
       "\t3 & F & placebo & 12\\\\\n",
       "\t4 & M & placebo & 4\\\\\n",
       "\\end{tabular}\n"
      ],
      "text/plain": [
       "  sex condition  N\n",
       "1   F   aspirin  5\n",
       "2   M   aspirin  9\n",
       "3   F   placebo 12\n",
       "4   M   placebo  4"
      ]
     },
     "execution_count": 22,
     "metadata": {},
     "output_type": "execute_result"
    }
   ],
   "source": [
    "# Rename \"subject\" column to \"N\"\n",
    "names(cdata)[names(cdata)==\"subject\"] <- \"N\"\n",
    "cdata"
   ]
  },
  {
   "cell_type": "code",
   "execution_count": 23,
   "metadata": {
    "collapsed": false
   },
   "outputs": [
    {
     "data": {
      "text/html": [
       "<table>\n",
       "<thead><tr><th></th><th scope=col>sex</th><th scope=col>condition</th><th scope=col>N</th></tr></thead>\n",
       "<tbody>\n",
       "\t<tr><th scope=row>1</th><td>F</td><td>aspirin</td><td>5</td></tr>\n",
       "\t<tr><th scope=row>3</th><td>F</td><td>placebo</td><td>12</td></tr>\n",
       "\t<tr><th scope=row>2</th><td>M</td><td>aspirin</td><td>9</td></tr>\n",
       "\t<tr><th scope=row>4</th><td>M</td><td>placebo</td><td>4</td></tr>\n",
       "</tbody>\n",
       "</table>\n"
      ],
      "text/latex": [
       "\\begin{tabular}{r|lll}\n",
       "  & sex & condition & N\\\\\n",
       "\\hline\n",
       "\t1 & F & aspirin & 5\\\\\n",
       "\t3 & F & placebo & 12\\\\\n",
       "\t2 & M & aspirin & 9\\\\\n",
       "\t4 & M & placebo & 4\\\\\n",
       "\\end{tabular}\n"
      ],
      "text/plain": [
       "  sex condition  N\n",
       "1   F   aspirin  5\n",
       "3   F   placebo 12\n",
       "2   M   aspirin  9\n",
       "4   M   placebo  4"
      ]
     },
     "execution_count": 23,
     "metadata": {},
     "output_type": "execute_result"
    }
   ],
   "source": [
    "# Sort by sex first\n",
    "cdata <- cdata[order(cdata$sex),]\n",
    "cdata"
   ]
  },
  {
   "cell_type": "code",
   "execution_count": 24,
   "metadata": {
    "collapsed": false
   },
   "outputs": [
    {
     "data": {
      "text/html": [
       "<table>\n",
       "<thead><tr><th></th><th scope=col>sex</th><th scope=col>condition</th><th scope=col>before</th><th scope=col>after</th><th scope=col>change</th></tr></thead>\n",
       "<tbody>\n",
       "\t<tr><th scope=row>1</th><td>F</td><td>aspirin</td><td>11.06</td><td>7.64</td><td>-3.42</td></tr>\n",
       "\t<tr><th scope=row>2</th><td>M</td><td>aspirin</td><td>11.26667</td><td>5.855556</td><td>-5.411111</td></tr>\n",
       "\t<tr><th scope=row>3</th><td>F</td><td>placebo</td><td>10.13333</td><td>8.075</td><td>-2.058333</td></tr>\n",
       "\t<tr><th scope=row>4</th><td>M</td><td>placebo</td><td>11.475</td><td>10.5</td><td>-0.975</td></tr>\n",
       "</tbody>\n",
       "</table>\n"
      ],
      "text/latex": [
       "\\begin{tabular}{r|lllll}\n",
       "  & sex & condition & before & after & change\\\\\n",
       "\\hline\n",
       "\t1 & F & aspirin & 11.06 & 7.64 & -3.42\\\\\n",
       "\t2 & M & aspirin & 11.26667 & 5.855556 & -5.411111\\\\\n",
       "\t3 & F & placebo & 10.13333 & 8.075 & -2.058333\\\\\n",
       "\t4 & M & placebo & 11.475 & 10.5 & -0.975\\\\\n",
       "\\end{tabular}\n"
      ],
      "text/plain": [
       "  sex condition   before     after    change\n",
       "1   F   aspirin 11.06000  7.640000 -3.420000\n",
       "2   M   aspirin 11.26667  5.855556 -5.411111\n",
       "3   F   placebo 10.13333  8.075000 -2.058333\n",
       "4   M   placebo 11.47500 10.500000 -0.975000"
      ]
     },
     "execution_count": 24,
     "metadata": {},
     "output_type": "execute_result"
    }
   ],
   "source": [
    "# We also keep the __before__ and __after__ columns:\n",
    "# Get the average effect size by sex and condition\n",
    "cdata.means <- aggregate(data[c(\"before\",\"after\",\"change\")], \n",
    "                         by = data[c(\"sex\",\"condition\")], FUN=mean)\n",
    "cdata.means"
   ]
  },
  {
   "cell_type": "code",
   "execution_count": 25,
   "metadata": {
    "collapsed": false
   },
   "outputs": [
    {
     "data": {
      "text/html": [
       "<table>\n",
       "<thead><tr><th></th><th scope=col>sex</th><th scope=col>condition</th><th scope=col>N</th><th scope=col>before</th><th scope=col>after</th><th scope=col>change</th></tr></thead>\n",
       "<tbody>\n",
       "\t<tr><th scope=row>1</th><td>F</td><td>aspirin</td><td>5</td><td>11.06</td><td>7.64</td><td>-3.42</td></tr>\n",
       "\t<tr><th scope=row>2</th><td>F</td><td>placebo</td><td>12</td><td>10.13333</td><td>8.075</td><td>-2.058333</td></tr>\n",
       "\t<tr><th scope=row>3</th><td>M</td><td>aspirin</td><td>9</td><td>11.26667</td><td>5.855556</td><td>-5.411111</td></tr>\n",
       "\t<tr><th scope=row>4</th><td>M</td><td>placebo</td><td>4</td><td>11.475</td><td>10.5</td><td>-0.975</td></tr>\n",
       "</tbody>\n",
       "</table>\n"
      ],
      "text/latex": [
       "\\begin{tabular}{r|llllll}\n",
       "  & sex & condition & N & before & after & change\\\\\n",
       "\\hline\n",
       "\t1 & F & aspirin & 5 & 11.06 & 7.64 & -3.42\\\\\n",
       "\t2 & F & placebo & 12 & 10.13333 & 8.075 & -2.058333\\\\\n",
       "\t3 & M & aspirin & 9 & 11.26667 & 5.855556 & -5.411111\\\\\n",
       "\t4 & M & placebo & 4 & 11.475 & 10.5 & -0.975\\\\\n",
       "\\end{tabular}\n"
      ],
      "text/plain": [
       "  sex condition  N   before     after    change\n",
       "1   F   aspirin  5 11.06000  7.640000 -3.420000\n",
       "2   F   placebo 12 10.13333  8.075000 -2.058333\n",
       "3   M   aspirin  9 11.26667  5.855556 -5.411111\n",
       "4   M   placebo  4 11.47500 10.500000 -0.975000"
      ]
     },
     "execution_count": 25,
     "metadata": {},
     "output_type": "execute_result"
    }
   ],
   "source": [
    "# Merge the data frames\n",
    "cdata <- merge(cdata, cdata.means)\n",
    "cdata"
   ]
  },
  {
   "cell_type": "code",
   "execution_count": 26,
   "metadata": {
    "collapsed": false
   },
   "outputs": [
    {
     "data": {
      "text/html": [
       "<table>\n",
       "<thead><tr><th></th><th scope=col>sex</th><th scope=col>condition</th><th scope=col>change.sd</th></tr></thead>\n",
       "<tbody>\n",
       "\t<tr><th scope=row>1</th><td>F</td><td>aspirin</td><td>0.8642916</td></tr>\n",
       "\t<tr><th scope=row>2</th><td>M</td><td>aspirin</td><td>1.130757</td></tr>\n",
       "\t<tr><th scope=row>3</th><td>F</td><td>placebo</td><td>0.5247655</td></tr>\n",
       "\t<tr><th scope=row>4</th><td>M</td><td>placebo</td><td>0.7804913</td></tr>\n",
       "</tbody>\n",
       "</table>\n"
      ],
      "text/latex": [
       "\\begin{tabular}{r|lll}\n",
       "  & sex & condition & change.sd\\\\\n",
       "\\hline\n",
       "\t1 & F & aspirin & 0.8642916\\\\\n",
       "\t2 & M & aspirin & 1.130757\\\\\n",
       "\t3 & F & placebo & 0.5247655\\\\\n",
       "\t4 & M & placebo & 0.7804913\\\\\n",
       "\\end{tabular}\n"
      ],
      "text/plain": [
       "  sex condition change.sd\n",
       "1   F   aspirin 0.8642916\n",
       "2   M   aspirin 1.1307569\n",
       "3   F   placebo 0.5247655\n",
       "4   M   placebo 0.7804913"
      ]
     },
     "execution_count": 26,
     "metadata": {},
     "output_type": "execute_result"
    }
   ],
   "source": [
    "# Get the sample (n-1) standard deviation for \"change\"\n",
    "cdata.sd <- aggregate(data[\"change\"],\n",
    "                      by = data[c(\"sex\",\"condition\")], FUN=sd)\n",
    "# Rename the column to change.sd\n",
    "names(cdata.sd)[names(cdata.sd)==\"change\"] <- \"change.sd\"\n",
    "cdata.sd"
   ]
  },
  {
   "cell_type": "code",
   "execution_count": 27,
   "metadata": {
    "collapsed": false
   },
   "outputs": [
    {
     "data": {
      "text/html": [
       "<table>\n",
       "<thead><tr><th></th><th scope=col>sex</th><th scope=col>condition</th><th scope=col>N</th><th scope=col>before</th><th scope=col>after</th><th scope=col>change</th><th scope=col>change.sd</th></tr></thead>\n",
       "<tbody>\n",
       "\t<tr><th scope=row>1</th><td>F</td><td>aspirin</td><td>5</td><td>11.06</td><td>7.64</td><td>-3.42</td><td>0.8642916</td></tr>\n",
       "\t<tr><th scope=row>2</th><td>F</td><td>placebo</td><td>12</td><td>10.13333</td><td>8.075</td><td>-2.058333</td><td>0.5247655</td></tr>\n",
       "\t<tr><th scope=row>3</th><td>M</td><td>aspirin</td><td>9</td><td>11.26667</td><td>5.855556</td><td>-5.411111</td><td>1.130757</td></tr>\n",
       "\t<tr><th scope=row>4</th><td>M</td><td>placebo</td><td>4</td><td>11.475</td><td>10.5</td><td>-0.975</td><td>0.7804913</td></tr>\n",
       "</tbody>\n",
       "</table>\n"
      ],
      "text/latex": [
       "\\begin{tabular}{r|lllllll}\n",
       "  & sex & condition & N & before & after & change & change.sd\\\\\n",
       "\\hline\n",
       "\t1 & F & aspirin & 5 & 11.06 & 7.64 & -3.42 & 0.8642916\\\\\n",
       "\t2 & F & placebo & 12 & 10.13333 & 8.075 & -2.058333 & 0.5247655\\\\\n",
       "\t3 & M & aspirin & 9 & 11.26667 & 5.855556 & -5.411111 & 1.130757\\\\\n",
       "\t4 & M & placebo & 4 & 11.475 & 10.5 & -0.975 & 0.7804913\\\\\n",
       "\\end{tabular}\n"
      ],
      "text/plain": [
       "  sex condition  N   before     after    change change.sd\n",
       "1   F   aspirin  5 11.06000  7.640000 -3.420000 0.8642916\n",
       "2   F   placebo 12 10.13333  8.075000 -2.058333 0.5247655\n",
       "3   M   aspirin  9 11.26667  5.855556 -5.411111 1.1307569\n",
       "4   M   placebo  4 11.47500 10.500000 -0.975000 0.7804913"
      ]
     },
     "execution_count": 27,
     "metadata": {},
     "output_type": "execute_result"
    }
   ],
   "source": [
    "# Merge\n",
    "cdata <- merge(cdata, cdata.sd)\n",
    "cdata"
   ]
  },
  {
   "cell_type": "code",
   "execution_count": 28,
   "metadata": {
    "collapsed": false
   },
   "outputs": [
    {
     "data": {
      "text/html": [
       "<table>\n",
       "<thead><tr><th></th><th scope=col>sex</th><th scope=col>condition</th><th scope=col>N</th><th scope=col>before</th><th scope=col>after</th><th scope=col>change</th><th scope=col>change.sd</th><th scope=col>change.se</th></tr></thead>\n",
       "<tbody>\n",
       "\t<tr><th scope=row>1</th><td>F</td><td>aspirin</td><td>5</td><td>11.06</td><td>7.64</td><td>-3.42</td><td>0.8642916</td><td>0.386523</td></tr>\n",
       "\t<tr><th scope=row>2</th><td>F</td><td>placebo</td><td>12</td><td>10.13333</td><td>8.075</td><td>-2.058333</td><td>0.5247655</td><td>0.1514867</td></tr>\n",
       "\t<tr><th scope=row>3</th><td>M</td><td>aspirin</td><td>9</td><td>11.26667</td><td>5.855556</td><td>-5.411111</td><td>1.130757</td><td>0.376919</td></tr>\n",
       "\t<tr><th scope=row>4</th><td>M</td><td>placebo</td><td>4</td><td>11.475</td><td>10.5</td><td>-0.975</td><td>0.7804913</td><td>0.3902456</td></tr>\n",
       "</tbody>\n",
       "</table>\n"
      ],
      "text/latex": [
       "\\begin{tabular}{r|llllllll}\n",
       "  & sex & condition & N & before & after & change & change.sd & change.se\\\\\n",
       "\\hline\n",
       "\t1 & F & aspirin & 5 & 11.06 & 7.64 & -3.42 & 0.8642916 & 0.386523\\\\\n",
       "\t2 & F & placebo & 12 & 10.13333 & 8.075 & -2.058333 & 0.5247655 & 0.1514867\\\\\n",
       "\t3 & M & aspirin & 9 & 11.26667 & 5.855556 & -5.411111 & 1.130757 & 0.376919\\\\\n",
       "\t4 & M & placebo & 4 & 11.475 & 10.5 & -0.975 & 0.7804913 & 0.3902456\\\\\n",
       "\\end{tabular}\n"
      ],
      "text/plain": [
       "  sex condition  N   before     after    change change.sd change.se\n",
       "1   F   aspirin  5 11.06000  7.640000 -3.420000 0.8642916 0.3865230\n",
       "2   F   placebo 12 10.13333  8.075000 -2.058333 0.5247655 0.1514867\n",
       "3   M   aspirin  9 11.26667  5.855556 -5.411111 1.1307569 0.3769190\n",
       "4   M   placebo  4 11.47500 10.500000 -0.975000 0.7804913 0.3902456"
      ]
     },
     "execution_count": 28,
     "metadata": {},
     "output_type": "execute_result"
    }
   ],
   "source": [
    "# Calculate standard error of the mean\n",
    "cdata$change.se <- cdata$change.sd / sqrt(cdata$N)\n",
    "cdata"
   ]
  },
  {
   "cell_type": "markdown",
   "metadata": {},
   "source": [
    "If you have NA’s in your data and wish to skip them, use na.rm=TRUE:"
   ]
  },
  {
   "cell_type": "code",
   "execution_count": 29,
   "metadata": {
    "collapsed": false
   },
   "outputs": [
    {
     "data": {
      "text/html": [
       "<table>\n",
       "<thead><tr><th></th><th scope=col>sex</th><th scope=col>condition</th><th scope=col>before</th><th scope=col>after</th><th scope=col>change</th></tr></thead>\n",
       "<tbody>\n",
       "\t<tr><th scope=row>1</th><td>F</td><td>aspirin</td><td>11.06</td><td>7.64</td><td>-3.42</td></tr>\n",
       "\t<tr><th scope=row>2</th><td>M</td><td>aspirin</td><td>11.26667</td><td>5.855556</td><td>-5.411111</td></tr>\n",
       "\t<tr><th scope=row>3</th><td>F</td><td>placebo</td><td>10.13333</td><td>8.075</td><td>-2.058333</td></tr>\n",
       "\t<tr><th scope=row>4</th><td>M</td><td>placebo</td><td>11.475</td><td>10.5</td><td>-0.975</td></tr>\n",
       "</tbody>\n",
       "</table>\n"
      ],
      "text/latex": [
       "\\begin{tabular}{r|lllll}\n",
       "  & sex & condition & before & after & change\\\\\n",
       "\\hline\n",
       "\t1 & F & aspirin & 11.06 & 7.64 & -3.42\\\\\n",
       "\t2 & M & aspirin & 11.26667 & 5.855556 & -5.411111\\\\\n",
       "\t3 & F & placebo & 10.13333 & 8.075 & -2.058333\\\\\n",
       "\t4 & M & placebo & 11.475 & 10.5 & -0.975\\\\\n",
       "\\end{tabular}\n"
      ],
      "text/plain": [
       "  sex condition   before     after    change\n",
       "1   F   aspirin 11.06000  7.640000 -3.420000\n",
       "2   M   aspirin 11.26667  5.855556 -5.411111\n",
       "3   F   placebo 10.13333  8.075000 -2.058333\n",
       "4   M   placebo 11.47500 10.500000 -0.975000"
      ]
     },
     "execution_count": 29,
     "metadata": {},
     "output_type": "execute_result"
    }
   ],
   "source": [
    "cdata.means <- aggregate(data[c(\"before\",\"after\",\"change\")], \n",
    "                         by = data[c(\"sex\",\"condition\")],\n",
    "                         FUN=mean, na.rm=TRUE)\n",
    "cdata.means"
   ]
  }
 ],
 "metadata": {
  "kernelspec": {
   "display_name": "R",
   "language": "R",
   "name": "ir"
  },
  "language_info": {
   "codemirror_mode": "r",
   "file_extension": ".r",
   "mimetype": "text/x-r-source",
   "name": "R",
   "pygments_lexer": "r",
   "version": "3.2.2"
  }
 },
 "nbformat": 4,
 "nbformat_minor": 0
}
