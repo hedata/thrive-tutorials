{
 "cells": [
  {
   "cell_type": "markdown",
   "metadata": {},
   "source": [
    "# Adding and removing columns from a data frame\n",
    "Credits: http://www.cookbook-r.com/ (Creative Commons Attribution-Share Alike 3.0 Unported License)"
   ]
  },
  {
   "cell_type": "markdown",
   "metadata": {},
   "source": [
    "## Problem\n",
    "You want to add or remove columns from a data frame.\n",
    "\n",
    "## Solution\n",
    "There are many different ways of adding and removing columns from a data frame."
   ]
  },
  {
   "cell_type": "code",
   "execution_count": 1,
   "metadata": {
    "collapsed": false
   },
   "outputs": [],
   "source": [
    "data <- read.table(header=TRUE, text='\n",
    " id weight\n",
    "  1     20\n",
    "  2     27\n",
    "  3     24\n",
    "')\n"
   ]
  },
  {
   "cell_type": "code",
   "execution_count": 2,
   "metadata": {
    "collapsed": true
   },
   "outputs": [],
   "source": [
    "# Ways to add a column\n",
    "data$size      <- c(\"small\", \"large\", \"medium\")\n",
    "data[[\"size\"]] <- c(\"small\", \"large\", \"medium\")\n",
    "data[,\"size\"]  <- c(\"small\", \"large\", \"medium\")\n",
    "data$size      <- 0   # Use the same value (0) for all rows"
   ]
  },
  {
   "cell_type": "code",
   "execution_count": 3,
   "metadata": {
    "collapsed": false
   },
   "outputs": [],
   "source": [
    "# Ways to remove the column\n",
    "data$size      <- NULL\n",
    "# or data[[\"size\"]] <- NULL\n",
    "# or data[,\"size\"]  <- NULL\n",
    "# or data[[3]]      <- NULL\n",
    "# or data[,3]       <- NULL\n",
    "# or data           <- subset(data, select=-size)"
   ]
  }
 ],
 "metadata": {
  "kernelspec": {
   "display_name": "R",
   "language": "R",
   "name": "ir"
  },
  "language_info": {
   "codemirror_mode": "r",
   "file_extension": ".r",
   "mimetype": "text/x-r-source",
   "name": "R",
   "pygments_lexer": "r",
   "version": "3.2.2"
  }
 },
 "nbformat": 4,
 "nbformat_minor": 0
}
