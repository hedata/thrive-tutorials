{
 "cells": [
  {
   "cell_type": "markdown",
   "metadata": {},
   "source": [
    "# Sorting\n",
    "Credits: http://www.cookbook-r.com/ (Creative Commons Attribution-Share Alike 3.0 Unported License)"
   ]
  },
  {
   "cell_type": "markdown",
   "metadata": {},
   "source": [
    "## Problem\n",
    "You want to sort a vector, matrix, or data frame.\n",
    "\n",
    "## Solution\n",
    "### Vectors"
   ]
  },
  {
   "cell_type": "code",
   "execution_count": 1,
   "metadata": {
    "collapsed": false
   },
   "outputs": [
    {
     "data": {
      "text/html": [
       "<ol class=list-inline>\n",
       "\t<li>101</li>\n",
       "\t<li>102</li>\n",
       "\t<li>103</li>\n",
       "\t<li>104</li>\n",
       "\t<li>105</li>\n",
       "\t<li>106</li>\n",
       "\t<li>107</li>\n",
       "\t<li>108</li>\n",
       "\t<li>109</li>\n",
       "\t<li>110</li>\n",
       "</ol>\n"
      ],
      "text/latex": [
       "\\begin{enumerate*}\n",
       "\\item 101\n",
       "\\item 102\n",
       "\\item 103\n",
       "\\item 104\n",
       "\\item 105\n",
       "\\item 106\n",
       "\\item 107\n",
       "\\item 108\n",
       "\\item 109\n",
       "\\item 110\n",
       "\\end{enumerate*}\n"
      ],
      "text/markdown": [
       "1. 101\n",
       "2. 102\n",
       "3. 103\n",
       "4. 104\n",
       "5. 105\n",
       "6. 106\n",
       "7. 107\n",
       "8. 108\n",
       "9. 109\n",
       "10. 110\n",
       "\n",
       "\n"
      ],
      "text/plain": [
       " [1] 101 102 103 104 105 106 107 108 109 110"
      ]
     },
     "execution_count": 1,
     "metadata": {},
     "output_type": "execute_result"
    }
   ],
   "source": [
    "# Make up a randomly ordered vector\n",
    "v <- sample(101:110)\n",
    "\n",
    "# Sort the vector\n",
    "sort(v)\n",
    "#>  [1] 101 102 103 104 105 106 107 108 109 110"
   ]
  },
  {
   "cell_type": "code",
   "execution_count": 2,
   "metadata": {
    "collapsed": false
   },
   "outputs": [
    {
     "data": {
      "text/html": [
       "<ol class=list-inline>\n",
       "\t<li>110</li>\n",
       "\t<li>109</li>\n",
       "\t<li>108</li>\n",
       "\t<li>107</li>\n",
       "\t<li>106</li>\n",
       "\t<li>105</li>\n",
       "\t<li>104</li>\n",
       "\t<li>103</li>\n",
       "\t<li>102</li>\n",
       "\t<li>101</li>\n",
       "</ol>\n"
      ],
      "text/latex": [
       "\\begin{enumerate*}\n",
       "\\item 110\n",
       "\\item 109\n",
       "\\item 108\n",
       "\\item 107\n",
       "\\item 106\n",
       "\\item 105\n",
       "\\item 104\n",
       "\\item 103\n",
       "\\item 102\n",
       "\\item 101\n",
       "\\end{enumerate*}\n"
      ],
      "text/markdown": [
       "1. 110\n",
       "2. 109\n",
       "3. 108\n",
       "4. 107\n",
       "5. 106\n",
       "6. 105\n",
       "7. 104\n",
       "8. 103\n",
       "9. 102\n",
       "10. 101\n",
       "\n",
       "\n"
      ],
      "text/plain": [
       " [1] 110 109 108 107 106 105 104 103 102 101"
      ]
     },
     "execution_count": 2,
     "metadata": {},
     "output_type": "execute_result"
    }
   ],
   "source": [
    "# Reverse sort\n",
    "sort(v, decreasing=TRUE)\n",
    "#>  [1] 110 109 108 107 106 105 104 103 102 101"
   ]
  },
  {
   "cell_type": "markdown",
   "metadata": {},
   "source": [
    "### Data frames\n",
    "To sort a data frame on one or more columns, you can use the arrange function from plyr package, or use R’s built-in functions. The arrange function is much easier to use, but does require the external package to be installed."
   ]
  },
  {
   "cell_type": "code",
   "execution_count": 3,
   "metadata": {
    "collapsed": false
   },
   "outputs": [
    {
     "data": {
      "text/html": [
       "<table>\n",
       "<thead><tr><th></th><th scope=col>id</th><th scope=col>weight</th><th scope=col>size</th></tr></thead>\n",
       "<tbody>\n",
       "\t<tr><th scope=row>1</th><td>1</td><td>20</td><td>small</td></tr>\n",
       "\t<tr><th scope=row>2</th><td>2</td><td>27</td><td>large</td></tr>\n",
       "\t<tr><th scope=row>3</th><td>3</td><td>24</td><td>medium</td></tr>\n",
       "\t<tr><th scope=row>4</th><td>4</td><td>22</td><td>large</td></tr>\n",
       "</tbody>\n",
       "</table>\n"
      ],
      "text/latex": [
       "\\begin{tabular}{r|lll}\n",
       "  & id & weight & size\\\\\n",
       "\\hline\n",
       "\t1 & 1 & 20 & small\\\\\n",
       "\t2 & 2 & 27 & large\\\\\n",
       "\t3 & 3 & 24 & medium\\\\\n",
       "\t4 & 4 & 22 & large\\\\\n",
       "\\end{tabular}\n"
      ],
      "text/plain": [
       "  id weight   size\n",
       "1  1     20  small\n",
       "2  2     27  large\n",
       "3  3     24 medium\n",
       "4  4     22  large"
      ]
     },
     "execution_count": 3,
     "metadata": {},
     "output_type": "execute_result"
    }
   ],
   "source": [
    "#make the external package \"plyr\" available\n",
    "library(plyr)\n",
    "\n",
    "# Make a data frame\n",
    "df <- data.frame (id=1:4,\n",
    "            weight=c(20,27,24,22),\n",
    "            size=c(\"small\", \"large\", \"medium\", \"large\"))\n",
    "df"
   ]
  },
  {
   "cell_type": "code",
   "execution_count": 4,
   "metadata": {
    "collapsed": false
   },
   "outputs": [
    {
     "data": {
      "text/html": [
       "<table>\n",
       "<thead><tr><th></th><th scope=col>id</th><th scope=col>weight</th><th scope=col>size</th></tr></thead>\n",
       "<tbody>\n",
       "\t<tr><th scope=row>1</th><td>1</td><td>20</td><td>small</td></tr>\n",
       "\t<tr><th scope=row>2</th><td>4</td><td>22</td><td>large</td></tr>\n",
       "\t<tr><th scope=row>3</th><td>3</td><td>24</td><td>medium</td></tr>\n",
       "\t<tr><th scope=row>4</th><td>2</td><td>27</td><td>large</td></tr>\n",
       "</tbody>\n",
       "</table>\n"
      ],
      "text/latex": [
       "\\begin{tabular}{r|lll}\n",
       "  & id & weight & size\\\\\n",
       "\\hline\n",
       "\t1 & 1 & 20 & small\\\\\n",
       "\t2 & 4 & 22 & large\\\\\n",
       "\t3 & 3 & 24 & medium\\\\\n",
       "\t4 & 2 & 27 & large\\\\\n",
       "\\end{tabular}\n"
      ],
      "text/plain": [
       "  id weight   size\n",
       "1  1     20  small\n",
       "2  4     22  large\n",
       "3  3     24 medium\n",
       "4  2     27  large"
      ]
     },
     "execution_count": 4,
     "metadata": {},
     "output_type": "execute_result"
    },
    {
     "data": {
      "text/html": [
       "<table>\n",
       "<thead><tr><th></th><th scope=col>id</th><th scope=col>weight</th><th scope=col>size</th></tr></thead>\n",
       "<tbody>\n",
       "\t<tr><th scope=row>1</th><td>1</td><td>20</td><td>small</td></tr>\n",
       "\t<tr><th scope=row>4</th><td>4</td><td>22</td><td>large</td></tr>\n",
       "\t<tr><th scope=row>3</th><td>3</td><td>24</td><td>medium</td></tr>\n",
       "\t<tr><th scope=row>2</th><td>2</td><td>27</td><td>large</td></tr>\n",
       "</tbody>\n",
       "</table>\n"
      ],
      "text/latex": [
       "\\begin{tabular}{r|lll}\n",
       "  & id & weight & size\\\\\n",
       "\\hline\n",
       "\t1 & 1 & 20 & small\\\\\n",
       "\t4 & 4 & 22 & large\\\\\n",
       "\t3 & 3 & 24 & medium\\\\\n",
       "\t2 & 2 & 27 & large\\\\\n",
       "\\end{tabular}\n"
      ],
      "text/plain": [
       "  id weight   size\n",
       "1  1     20  small\n",
       "4  4     22  large\n",
       "3  3     24 medium\n",
       "2  2     27  large"
      ]
     },
     "execution_count": 4,
     "metadata": {},
     "output_type": "execute_result"
    }
   ],
   "source": [
    "# Sort by weight column. These have the same result.\n",
    "arrange(df, weight)       # Use arrange from plyr package\n",
    "df[ order(df$weight), ]   # Use built-in R functions"
   ]
  },
  {
   "cell_type": "code",
   "execution_count": 5,
   "metadata": {
    "collapsed": false
   },
   "outputs": [
    {
     "data": {
      "text/html": [
       "<table>\n",
       "<thead><tr><th></th><th scope=col>id</th><th scope=col>weight</th><th scope=col>size</th></tr></thead>\n",
       "<tbody>\n",
       "\t<tr><th scope=row>1</th><td>4</td><td>22</td><td>large</td></tr>\n",
       "\t<tr><th scope=row>2</th><td>2</td><td>27</td><td>large</td></tr>\n",
       "\t<tr><th scope=row>3</th><td>3</td><td>24</td><td>medium</td></tr>\n",
       "\t<tr><th scope=row>4</th><td>1</td><td>20</td><td>small</td></tr>\n",
       "</tbody>\n",
       "</table>\n"
      ],
      "text/latex": [
       "\\begin{tabular}{r|lll}\n",
       "  & id & weight & size\\\\\n",
       "\\hline\n",
       "\t1 & 4 & 22 & large\\\\\n",
       "\t2 & 2 & 27 & large\\\\\n",
       "\t3 & 3 & 24 & medium\\\\\n",
       "\t4 & 1 & 20 & small\\\\\n",
       "\\end{tabular}\n"
      ],
      "text/plain": [
       "  id weight   size\n",
       "1  4     22  large\n",
       "2  2     27  large\n",
       "3  3     24 medium\n",
       "4  1     20  small"
      ]
     },
     "execution_count": 5,
     "metadata": {},
     "output_type": "execute_result"
    },
    {
     "data": {
      "text/html": [
       "<table>\n",
       "<thead><tr><th></th><th scope=col>id</th><th scope=col>weight</th><th scope=col>size</th></tr></thead>\n",
       "<tbody>\n",
       "\t<tr><th scope=row>4</th><td>4</td><td>22</td><td>large</td></tr>\n",
       "\t<tr><th scope=row>2</th><td>2</td><td>27</td><td>large</td></tr>\n",
       "\t<tr><th scope=row>3</th><td>3</td><td>24</td><td>medium</td></tr>\n",
       "\t<tr><th scope=row>1</th><td>1</td><td>20</td><td>small</td></tr>\n",
       "</tbody>\n",
       "</table>\n"
      ],
      "text/latex": [
       "\\begin{tabular}{r|lll}\n",
       "  & id & weight & size\\\\\n",
       "\\hline\n",
       "\t4 & 4 & 22 & large\\\\\n",
       "\t2 & 2 & 27 & large\\\\\n",
       "\t3 & 3 & 24 & medium\\\\\n",
       "\t1 & 1 & 20 & small\\\\\n",
       "\\end{tabular}\n"
      ],
      "text/plain": [
       "  id weight   size\n",
       "4  4     22  large\n",
       "2  2     27  large\n",
       "3  3     24 medium\n",
       "1  1     20  small"
      ]
     },
     "execution_count": 5,
     "metadata": {},
     "output_type": "execute_result"
    }
   ],
   "source": [
    "# Sort by size, then by weight\n",
    "arrange(df, size, weight)         # Use arrange from plyr package\n",
    "df[ order(df$size, df$weight), ]  # Use built-in R functions"
   ]
  },
  {
   "cell_type": "code",
   "execution_count": 6,
   "metadata": {
    "collapsed": false
   },
   "outputs": [
    {
     "data": {
      "text/html": [
       "<table>\n",
       "<thead><tr><th></th><th scope=col>id</th><th scope=col>weight</th><th scope=col>size</th></tr></thead>\n",
       "<tbody>\n",
       "\t<tr><th scope=row>1</th><td>1</td><td>20</td><td>small</td></tr>\n",
       "\t<tr><th scope=row>2</th><td>2</td><td>27</td><td>large</td></tr>\n",
       "\t<tr><th scope=row>3</th><td>3</td><td>24</td><td>medium</td></tr>\n",
       "\t<tr><th scope=row>4</th><td>4</td><td>22</td><td>large</td></tr>\n",
       "</tbody>\n",
       "</table>\n"
      ],
      "text/latex": [
       "\\begin{tabular}{r|lll}\n",
       "  & id & weight & size\\\\\n",
       "\\hline\n",
       "\t1 & 1 & 20 & small\\\\\n",
       "\t2 & 2 & 27 & large\\\\\n",
       "\t3 & 3 & 24 & medium\\\\\n",
       "\t4 & 4 & 22 & large\\\\\n",
       "\\end{tabular}\n"
      ],
      "text/plain": [
       "  id weight   size\n",
       "1  1     20  small\n",
       "2  2     27  large\n",
       "3  3     24 medium\n",
       "4  4     22  large"
      ]
     },
     "execution_count": 6,
     "metadata": {},
     "output_type": "execute_result"
    }
   ],
   "source": [
    "# Sort by all columns in the data frame, from left to right\n",
    "df[ do.call(order, as.list(df)), ] \n",
    "# In this particular example, the order will be unchanged"
   ]
  },
  {
   "cell_type": "markdown",
   "metadata": {},
   "source": [
    "Note that the size column is a factor and is sorted by the order of the factor levels. In this case, the levels were automatically assigned alphabetically (when creating the data frame), so **large** is first and **small** is last.\n",
    "\n",
    "### Reverse sort\n",
    "\n",
    "The overall order of the sort can be reversed with the argument decreasing=TRUE.\n",
    "\n",
    "To reverse the direction of a particular column, the method depends on the data type:\n",
    "\n",
    "* Numbers: put a - in front of the variable name, e.g. ```df[ order(-df$weight), ]```.\n",
    "* Factors: convert to integer and put a - in front of the variable name, e.g. ```df[ order(-xtfrm(df$size)), ]```.\n",
    "* Characters: there isn’t a simple way to do this. One method is to convert to a factor first and then sort as above."
   ]
  },
  {
   "cell_type": "code",
   "execution_count": 7,
   "metadata": {
    "collapsed": false
   },
   "outputs": [
    {
     "data": {
      "text/html": [
       "<table>\n",
       "<thead><tr><th></th><th scope=col>id</th><th scope=col>weight</th><th scope=col>size</th></tr></thead>\n",
       "<tbody>\n",
       "\t<tr><th scope=row>1</th><td>2</td><td>27</td><td>large</td></tr>\n",
       "\t<tr><th scope=row>2</th><td>3</td><td>24</td><td>medium</td></tr>\n",
       "\t<tr><th scope=row>3</th><td>4</td><td>22</td><td>large</td></tr>\n",
       "\t<tr><th scope=row>4</th><td>1</td><td>20</td><td>small</td></tr>\n",
       "</tbody>\n",
       "</table>\n"
      ],
      "text/latex": [
       "\\begin{tabular}{r|lll}\n",
       "  & id & weight & size\\\\\n",
       "\\hline\n",
       "\t1 & 2 & 27 & large\\\\\n",
       "\t2 & 3 & 24 & medium\\\\\n",
       "\t3 & 4 & 22 & large\\\\\n",
       "\t4 & 1 & 20 & small\\\\\n",
       "\\end{tabular}\n"
      ],
      "text/plain": [
       "  id weight   size\n",
       "1  2     27  large\n",
       "2  3     24 medium\n",
       "3  4     22  large\n",
       "4  1     20  small"
      ]
     },
     "execution_count": 7,
     "metadata": {},
     "output_type": "execute_result"
    },
    {
     "data": {
      "text/html": [
       "<table>\n",
       "<thead><tr><th></th><th scope=col>id</th><th scope=col>weight</th><th scope=col>size</th></tr></thead>\n",
       "<tbody>\n",
       "\t<tr><th scope=row>2</th><td>2</td><td>27</td><td>large</td></tr>\n",
       "\t<tr><th scope=row>3</th><td>3</td><td>24</td><td>medium</td></tr>\n",
       "\t<tr><th scope=row>4</th><td>4</td><td>22</td><td>large</td></tr>\n",
       "\t<tr><th scope=row>1</th><td>1</td><td>20</td><td>small</td></tr>\n",
       "</tbody>\n",
       "</table>\n"
      ],
      "text/latex": [
       "\\begin{tabular}{r|lll}\n",
       "  & id & weight & size\\\\\n",
       "\\hline\n",
       "\t2 & 2 & 27 & large\\\\\n",
       "\t3 & 3 & 24 & medium\\\\\n",
       "\t4 & 4 & 22 & large\\\\\n",
       "\t1 & 1 & 20 & small\\\\\n",
       "\\end{tabular}\n"
      ],
      "text/plain": [
       "  id weight   size\n",
       "2  2     27  large\n",
       "3  3     24 medium\n",
       "4  4     22  large\n",
       "1  1     20  small"
      ]
     },
     "execution_count": 7,
     "metadata": {},
     "output_type": "execute_result"
    },
    {
     "data": {
      "text/html": [
       "<table>\n",
       "<thead><tr><th></th><th scope=col>id</th><th scope=col>weight</th><th scope=col>size</th></tr></thead>\n",
       "<tbody>\n",
       "\t<tr><th scope=row>2</th><td>2</td><td>27</td><td>large</td></tr>\n",
       "\t<tr><th scope=row>3</th><td>3</td><td>24</td><td>medium</td></tr>\n",
       "\t<tr><th scope=row>4</th><td>4</td><td>22</td><td>large</td></tr>\n",
       "\t<tr><th scope=row>1</th><td>1</td><td>20</td><td>small</td></tr>\n",
       "</tbody>\n",
       "</table>\n"
      ],
      "text/latex": [
       "\\begin{tabular}{r|lll}\n",
       "  & id & weight & size\\\\\n",
       "\\hline\n",
       "\t2 & 2 & 27 & large\\\\\n",
       "\t3 & 3 & 24 & medium\\\\\n",
       "\t4 & 4 & 22 & large\\\\\n",
       "\t1 & 1 & 20 & small\\\\\n",
       "\\end{tabular}\n"
      ],
      "text/plain": [
       "  id weight   size\n",
       "2  2     27  large\n",
       "3  3     24 medium\n",
       "4  4     22  large\n",
       "1  1     20  small"
      ]
     },
     "execution_count": 7,
     "metadata": {},
     "output_type": "execute_result"
    }
   ],
   "source": [
    "# Reverse sort by weight column. These all have the same effect:\n",
    "arrange(df, -weight)                      # Use arrange from plyr package\n",
    "df[ order(df$weight, decreasing=TRUE), ]  # Use built-in R functions\n",
    "df[ order(-df$weight), ]                  # Use built-in R functions"
   ]
  },
  {
   "cell_type": "code",
   "execution_count": 8,
   "metadata": {
    "collapsed": false
   },
   "outputs": [
    {
     "data": {
      "text/html": [
       "<table>\n",
       "<thead><tr><th></th><th scope=col>id</th><th scope=col>weight</th><th scope=col>size</th></tr></thead>\n",
       "<tbody>\n",
       "\t<tr><th scope=row>1</th><td>2</td><td>27</td><td>large</td></tr>\n",
       "\t<tr><th scope=row>2</th><td>4</td><td>22</td><td>large</td></tr>\n",
       "\t<tr><th scope=row>3</th><td>3</td><td>24</td><td>medium</td></tr>\n",
       "\t<tr><th scope=row>4</th><td>1</td><td>20</td><td>small</td></tr>\n",
       "</tbody>\n",
       "</table>\n"
      ],
      "text/latex": [
       "\\begin{tabular}{r|lll}\n",
       "  & id & weight & size\\\\\n",
       "\\hline\n",
       "\t1 & 2 & 27 & large\\\\\n",
       "\t2 & 4 & 22 & large\\\\\n",
       "\t3 & 3 & 24 & medium\\\\\n",
       "\t4 & 1 & 20 & small\\\\\n",
       "\\end{tabular}\n"
      ],
      "text/plain": [
       "  id weight   size\n",
       "1  2     27  large\n",
       "2  4     22  large\n",
       "3  3     24 medium\n",
       "4  1     20  small"
      ]
     },
     "execution_count": 8,
     "metadata": {},
     "output_type": "execute_result"
    },
    {
     "data": {
      "text/html": [
       "<table>\n",
       "<thead><tr><th></th><th scope=col>id</th><th scope=col>weight</th><th scope=col>size</th></tr></thead>\n",
       "<tbody>\n",
       "\t<tr><th scope=row>2</th><td>2</td><td>27</td><td>large</td></tr>\n",
       "\t<tr><th scope=row>4</th><td>4</td><td>22</td><td>large</td></tr>\n",
       "\t<tr><th scope=row>3</th><td>3</td><td>24</td><td>medium</td></tr>\n",
       "\t<tr><th scope=row>1</th><td>1</td><td>20</td><td>small</td></tr>\n",
       "</tbody>\n",
       "</table>\n"
      ],
      "text/latex": [
       "\\begin{tabular}{r|lll}\n",
       "  & id & weight & size\\\\\n",
       "\\hline\n",
       "\t2 & 2 & 27 & large\\\\\n",
       "\t4 & 4 & 22 & large\\\\\n",
       "\t3 & 3 & 24 & medium\\\\\n",
       "\t1 & 1 & 20 & small\\\\\n",
       "\\end{tabular}\n"
      ],
      "text/plain": [
       "  id weight   size\n",
       "2  2     27  large\n",
       "4  4     22  large\n",
       "3  3     24 medium\n",
       "1  1     20  small"
      ]
     },
     "execution_count": 8,
     "metadata": {},
     "output_type": "execute_result"
    }
   ],
   "source": [
    "# Sort by size (increasing), then by weight (decreasing)\n",
    "arrange(df, size, -weight)         # Use arrange from plyr package\n",
    "df[ order(df$size, -df$weight), ]  # Use built-in R functions"
   ]
  },
  {
   "cell_type": "code",
   "execution_count": 9,
   "metadata": {
    "collapsed": false
   },
   "outputs": [
    {
     "data": {
      "text/html": [
       "<table>\n",
       "<thead><tr><th></th><th scope=col>id</th><th scope=col>weight</th><th scope=col>size</th></tr></thead>\n",
       "<tbody>\n",
       "\t<tr><th scope=row>1</th><td>1</td><td>20</td><td>small</td></tr>\n",
       "\t<tr><th scope=row>2</th><td>3</td><td>24</td><td>medium</td></tr>\n",
       "\t<tr><th scope=row>3</th><td>4</td><td>22</td><td>large</td></tr>\n",
       "\t<tr><th scope=row>4</th><td>2</td><td>27</td><td>large</td></tr>\n",
       "</tbody>\n",
       "</table>\n"
      ],
      "text/latex": [
       "\\begin{tabular}{r|lll}\n",
       "  & id & weight & size\\\\\n",
       "\\hline\n",
       "\t1 & 1 & 20 & small\\\\\n",
       "\t2 & 3 & 24 & medium\\\\\n",
       "\t3 & 4 & 22 & large\\\\\n",
       "\t4 & 2 & 27 & large\\\\\n",
       "\\end{tabular}\n"
      ],
      "text/plain": [
       "  id weight   size\n",
       "1  1     20  small\n",
       "2  3     24 medium\n",
       "3  4     22  large\n",
       "4  2     27  large"
      ]
     },
     "execution_count": 9,
     "metadata": {},
     "output_type": "execute_result"
    },
    {
     "data": {
      "text/html": [
       "<table>\n",
       "<thead><tr><th></th><th scope=col>id</th><th scope=col>weight</th><th scope=col>size</th></tr></thead>\n",
       "<tbody>\n",
       "\t<tr><th scope=row>1</th><td>1</td><td>20</td><td>small</td></tr>\n",
       "\t<tr><th scope=row>3</th><td>3</td><td>24</td><td>medium</td></tr>\n",
       "\t<tr><th scope=row>4</th><td>4</td><td>22</td><td>large</td></tr>\n",
       "\t<tr><th scope=row>2</th><td>2</td><td>27</td><td>large</td></tr>\n",
       "</tbody>\n",
       "</table>\n"
      ],
      "text/latex": [
       "\\begin{tabular}{r|lll}\n",
       "  & id & weight & size\\\\\n",
       "\\hline\n",
       "\t1 & 1 & 20 & small\\\\\n",
       "\t3 & 3 & 24 & medium\\\\\n",
       "\t4 & 4 & 22 & large\\\\\n",
       "\t2 & 2 & 27 & large\\\\\n",
       "\\end{tabular}\n"
      ],
      "text/plain": [
       "  id weight   size\n",
       "1  1     20  small\n",
       "3  3     24 medium\n",
       "4  4     22  large\n",
       "2  2     27  large"
      ]
     },
     "execution_count": 9,
     "metadata": {},
     "output_type": "execute_result"
    }
   ],
   "source": [
    "# Sort by size (decreasing), then by weight (increasing)\n",
    "# The call to xtfrm() is needed for factors\n",
    "arrange(df, -xtfrm(size), weight)         # Use arrange from plyr package\n",
    "df[ order(-xtfrm(df$size), df$weight), ]  # Use built-in R functions"
   ]
  }
 ],
 "metadata": {
  "kernelspec": {
   "display_name": "R",
   "language": "R",
   "name": "ir"
  },
  "language_info": {
   "codemirror_mode": "r",
   "file_extension": ".r",
   "mimetype": "text/x-r-source",
   "name": "R",
   "pygments_lexer": "r",
   "version": "3.2.2"
  }
 },
 "nbformat": 4,
 "nbformat_minor": 0
}
