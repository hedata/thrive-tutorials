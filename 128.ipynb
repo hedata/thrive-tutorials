{
 "cells": [
  {
   "cell_type": "markdown",
   "metadata": {},
   "source": [
    "# Inter-rater reliability\n",
    "Credits: http://www.cookbook-r.com/ (Creative Commons Attribution-Share Alike 3.0 Unported License)"
   ]
  },
  {
   "cell_type": "markdown",
   "metadata": {},
   "source": [
    "## Problem\n",
    "You want to calculate inter-rater reliability.\n",
    "\n",
    "## Solution\n",
    "The method for calculating inter-rater reliability will depend on the type of data (categorical, ordinal, or continuous) and the number of coders.\n",
    "\n",
    "### Categorical data\n",
    "\n",
    "Suppose this is your data set. It consists of 30 cases, rated by three coders. It is a subset of the `diagnoses` data set in the irr package."
   ]
  },
  {
   "cell_type": "code",
   "execution_count": 3,
   "metadata": {
    "collapsed": false
   },
   "outputs": [
    {
     "name": "stdout",
     "output_type": "stream",
     "text": [
      "\n",
      "The downloaded source packages are in\n",
      "\t‘/tmp/Rtmp8ip0lZ/downloaded_packages’\n"
     ]
    }
   ],
   "source": [
    "install.packages(\"irr\",repos = \"http://cran.wu.ac.at\")"
   ]
  },
  {
   "cell_type": "code",
   "execution_count": 4,
   "metadata": {
    "collapsed": false
   },
   "outputs": [
    {
     "name": "stderr",
     "output_type": "stream",
     "text": [
      "Loading required package: lpSolve\n"
     ]
    }
   ],
   "source": [
    "library(irr)"
   ]
  },
  {
   "cell_type": "code",
   "execution_count": 5,
   "metadata": {
    "collapsed": true
   },
   "outputs": [],
   "source": [
    "data(diagnoses)\n",
    "dat <- diagnoses[,1:3]"
   ]
  },
  {
   "cell_type": "markdown",
   "metadata": {},
   "source": [
    "### Two raters: Cohen’s Kappa\n",
    "\n",
    "This will calculate Cohen’s Kappa for two coders – In this case, raters 1 and 2."
   ]
  },
  {
   "cell_type": "code",
   "execution_count": 6,
   "metadata": {
    "collapsed": false
   },
   "outputs": [
    {
     "data": {
      "text/plain": [
       " Cohen's Kappa for 2 Raters (Weights: unweighted)\n",
       "\n",
       " Subjects = 30 \n",
       "   Raters = 2 \n",
       "    Kappa = 0.651 \n",
       "\n",
       "        z = 7 \n",
       "  p-value = 2.63e-12 "
      ]
     },
     "execution_count": 6,
     "metadata": {},
     "output_type": "execute_result"
    }
   ],
   "source": [
    "kappa2(dat[,c(1,2)], \"unweighted\")"
   ]
  },
  {
   "cell_type": "markdown",
   "metadata": {},
   "source": [
    "### N raters: Fleiss’s Kappa, Conger’s Kappa\n",
    "\n",
    "If there are more than two raters, use Fleiss’s Kappa."
   ]
  },
  {
   "cell_type": "code",
   "execution_count": 7,
   "metadata": {
    "collapsed": false
   },
   "outputs": [
    {
     "data": {
      "text/plain": [
       " Fleiss' Kappa for m Raters\n",
       "\n",
       " Subjects = 30 \n",
       "   Raters = 3 \n",
       "    Kappa = 0.534 \n",
       "\n",
       "        z = 9.89 \n",
       "  p-value = 0 "
      ]
     },
     "execution_count": 7,
     "metadata": {},
     "output_type": "execute_result"
    }
   ],
   "source": [
    "kappam.fleiss(dat)"
   ]
  },
  {
   "cell_type": "markdown",
   "metadata": {},
   "source": [
    "It is also possible to use Conger’s (1980) exact Kappa. (Note that it is not clear to me when it is better or worse to use the exact method.)"
   ]
  },
  {
   "cell_type": "code",
   "execution_count": 8,
   "metadata": {
    "collapsed": false
   },
   "outputs": [
    {
     "data": {
      "text/plain": [
       " Fleiss' Kappa for m Raters (exact value)\n",
       "\n",
       " Subjects = 30 \n",
       "   Raters = 3 \n",
       "    Kappa = 0.55 "
      ]
     },
     "execution_count": 8,
     "metadata": {},
     "output_type": "execute_result"
    }
   ],
   "source": [
    "kappam.fleiss(dat, exact=TRUE)"
   ]
  },
  {
   "cell_type": "markdown",
   "metadata": {},
   "source": [
    "## Ordinal data: weighted Kappa\n",
    "\n",
    "If the data is ordinal, then it may be appropriate to use a **weighted** Kappa. For example, if the possible values are low, medium, and high, then if a case were rated medium and high by the two coders, they would be in better agreement than if the ratings were low and high.\n",
    "\n",
    "We will use a subset of the `anxiety` data set from the irr package."
   ]
  },
  {
   "cell_type": "code",
   "execution_count": 9,
   "metadata": {
    "collapsed": false
   },
   "outputs": [
    {
     "data": {
      "text/html": [
       "<table>\n",
       "<thead><tr><th></th><th scope=col>rater1</th><th scope=col>rater2</th></tr></thead>\n",
       "<tbody>\n",
       "\t<tr><th scope=row>1</th><td>3</td><td>3</td></tr>\n",
       "\t<tr><th scope=row>2</th><td>3</td><td>6</td></tr>\n",
       "\t<tr><th scope=row>3</th><td>3</td><td>4</td></tr>\n",
       "\t<tr><th scope=row>4</th><td>4</td><td>6</td></tr>\n",
       "\t<tr><th scope=row>5</th><td>5</td><td>2</td></tr>\n",
       "\t<tr><th scope=row>6</th><td>5</td><td>4</td></tr>\n",
       "\t<tr><th scope=row>7</th><td>2</td><td>2</td></tr>\n",
       "\t<tr><th scope=row>8</th><td>3</td><td>4</td></tr>\n",
       "\t<tr><th scope=row>9</th><td>5</td><td>3</td></tr>\n",
       "\t<tr><th scope=row>10</th><td>2</td><td>3</td></tr>\n",
       "\t<tr><th scope=row>11</th><td>2</td><td>2</td></tr>\n",
       "\t<tr><th scope=row>12</th><td>6</td><td>3</td></tr>\n",
       "\t<tr><th scope=row>13</th><td>1</td><td>3</td></tr>\n",
       "\t<tr><th scope=row>14</th><td>5</td><td>3</td></tr>\n",
       "\t<tr><th scope=row>15</th><td>2</td><td>2</td></tr>\n",
       "\t<tr><th scope=row>16</th><td>2</td><td>2</td></tr>\n",
       "\t<tr><th scope=row>17</th><td>1</td><td>1</td></tr>\n",
       "\t<tr><th scope=row>18</th><td>2</td><td>3</td></tr>\n",
       "\t<tr><th scope=row>19</th><td>4</td><td>3</td></tr>\n",
       "\t<tr><th scope=row>20</th><td>3</td><td>4</td></tr>\n",
       "</tbody>\n",
       "</table>\n"
      ],
      "text/latex": [
       "\\begin{tabular}{r|ll}\n",
       "  & rater1 & rater2\\\\\n",
       "\\hline\n",
       "\t1 & 3 & 3\\\\\n",
       "\t2 & 3 & 6\\\\\n",
       "\t3 & 3 & 4\\\\\n",
       "\t4 & 4 & 6\\\\\n",
       "\t5 & 5 & 2\\\\\n",
       "\t6 & 5 & 4\\\\\n",
       "\t7 & 2 & 2\\\\\n",
       "\t8 & 3 & 4\\\\\n",
       "\t9 & 5 & 3\\\\\n",
       "\t10 & 2 & 3\\\\\n",
       "\t11 & 2 & 2\\\\\n",
       "\t12 & 6 & 3\\\\\n",
       "\t13 & 1 & 3\\\\\n",
       "\t14 & 5 & 3\\\\\n",
       "\t15 & 2 & 2\\\\\n",
       "\t16 & 2 & 2\\\\\n",
       "\t17 & 1 & 1\\\\\n",
       "\t18 & 2 & 3\\\\\n",
       "\t19 & 4 & 3\\\\\n",
       "\t20 & 3 & 4\\\\\n",
       "\\end{tabular}\n"
      ],
      "text/plain": [
       "   rater1 rater2\n",
       "1       3      3\n",
       "2       3      6\n",
       "3       3      4\n",
       "4       4      6\n",
       "5       5      2\n",
       "6       5      4\n",
       "7       2      2\n",
       "8       3      4\n",
       "9       5      3\n",
       "10      2      3\n",
       "11      2      2\n",
       "12      6      3\n",
       "13      1      3\n",
       "14      5      3\n",
       "15      2      2\n",
       "16      2      2\n",
       "17      1      1\n",
       "18      2      3\n",
       "19      4      3\n",
       "20      3      4"
      ]
     },
     "execution_count": 9,
     "metadata": {},
     "output_type": "execute_result"
    }
   ],
   "source": [
    "data(anxiety)\n",
    "\n",
    "dfa <- anxiety[,c(1,2)]\n",
    "dfa"
   ]
  },
  {
   "cell_type": "markdown",
   "metadata": {},
   "source": [
    "The weighted Kappa calculation must be made with 2 raters, and can use either **linear** or **squared** weights of the differences."
   ]
  },
  {
   "cell_type": "code",
   "execution_count": 10,
   "metadata": {
    "collapsed": false
   },
   "outputs": [
    {
     "data": {
      "text/plain": [
       " Cohen's Kappa for 2 Raters (Weights: squared)\n",
       "\n",
       " Subjects = 20 \n",
       "   Raters = 2 \n",
       "    Kappa = 0.297 \n",
       "\n",
       "        z = 1.34 \n",
       "  p-value = 0.18 "
      ]
     },
     "execution_count": 10,
     "metadata": {},
     "output_type": "execute_result"
    }
   ],
   "source": [
    "# Compare raters 1 and 2 with squared weights\n",
    "kappa2(dfa, \"squared\")"
   ]
  },
  {
   "cell_type": "code",
   "execution_count": 11,
   "metadata": {
    "collapsed": false
   },
   "outputs": [
    {
     "data": {
      "text/plain": [
       " Cohen's Kappa for 2 Raters (Weights: equal)\n",
       "\n",
       " Subjects = 20 \n",
       "   Raters = 2 \n",
       "    Kappa = 0.189 \n",
       "\n",
       "        z = 1.42 \n",
       "  p-value = 0.157 "
      ]
     },
     "execution_count": 11,
     "metadata": {},
     "output_type": "execute_result"
    }
   ],
   "source": [
    "# Use linear weights\n",
    "kappa2(dfa, \"equal\")"
   ]
  },
  {
   "cell_type": "markdown",
   "metadata": {},
   "source": [
    "Compare the results above to the **unweighted** calculation (used in the tests for non-ordinal data above), which treats all differences as the same:"
   ]
  },
  {
   "cell_type": "code",
   "execution_count": 12,
   "metadata": {
    "collapsed": false
   },
   "outputs": [
    {
     "data": {
      "text/plain": [
       " Cohen's Kappa for 2 Raters (Weights: unweighted)\n",
       "\n",
       " Subjects = 20 \n",
       "   Raters = 2 \n",
       "    Kappa = 0.119 \n",
       "\n",
       "        z = 1.16 \n",
       "  p-value = 0.245 "
      ]
     },
     "execution_count": 12,
     "metadata": {},
     "output_type": "execute_result"
    }
   ],
   "source": [
    "kappa2(dfa, \"unweighted\")"
   ]
  },
  {
   "cell_type": "markdown",
   "metadata": {},
   "source": [
    "### Weighted Kappa with factors\n",
    "\n",
    "The data above is numeric, but a weighted Kappa can also be calculated for factors. Note that the factor levels must be in the correct order, or results will be wrong."
   ]
  },
  {
   "cell_type": "code",
   "execution_count": 13,
   "metadata": {
    "collapsed": false
   },
   "outputs": [
    {
     "data": {
      "text/html": [
       "<table>\n",
       "<thead><tr><th></th><th scope=col>rater1</th><th scope=col>rater2</th></tr></thead>\n",
       "<tbody>\n",
       "\t<tr><th scope=row>1</th><td>C</td><td>C</td></tr>\n",
       "\t<tr><th scope=row>2</th><td>C</td><td>F</td></tr>\n",
       "\t<tr><th scope=row>3</th><td>C</td><td>D</td></tr>\n",
       "\t<tr><th scope=row>4</th><td>D</td><td>F</td></tr>\n",
       "\t<tr><th scope=row>5</th><td>E</td><td>B</td></tr>\n",
       "\t<tr><th scope=row>6</th><td>E</td><td>D</td></tr>\n",
       "\t<tr><th scope=row>7</th><td>B</td><td>B</td></tr>\n",
       "\t<tr><th scope=row>8</th><td>C</td><td>D</td></tr>\n",
       "\t<tr><th scope=row>9</th><td>E</td><td>C</td></tr>\n",
       "\t<tr><th scope=row>10</th><td>B</td><td>C</td></tr>\n",
       "\t<tr><th scope=row>11</th><td>B</td><td>B</td></tr>\n",
       "\t<tr><th scope=row>12</th><td>F</td><td>C</td></tr>\n",
       "\t<tr><th scope=row>13</th><td>A</td><td>C</td></tr>\n",
       "\t<tr><th scope=row>14</th><td>E</td><td>C</td></tr>\n",
       "\t<tr><th scope=row>15</th><td>B</td><td>B</td></tr>\n",
       "\t<tr><th scope=row>16</th><td>B</td><td>B</td></tr>\n",
       "\t<tr><th scope=row>17</th><td>A</td><td>A</td></tr>\n",
       "\t<tr><th scope=row>18</th><td>B</td><td>C</td></tr>\n",
       "\t<tr><th scope=row>19</th><td>D</td><td>C</td></tr>\n",
       "\t<tr><th scope=row>20</th><td>C</td><td>D</td></tr>\n",
       "</tbody>\n",
       "</table>\n"
      ],
      "text/latex": [
       "\\begin{tabular}{r|ll}\n",
       "  & rater1 & rater2\\\\\n",
       "\\hline\n",
       "\t1 & C & C\\\\\n",
       "\t2 & C & F\\\\\n",
       "\t3 & C & D\\\\\n",
       "\t4 & D & F\\\\\n",
       "\t5 & E & B\\\\\n",
       "\t6 & E & D\\\\\n",
       "\t7 & B & B\\\\\n",
       "\t8 & C & D\\\\\n",
       "\t9 & E & C\\\\\n",
       "\t10 & B & C\\\\\n",
       "\t11 & B & B\\\\\n",
       "\t12 & F & C\\\\\n",
       "\t13 & A & C\\\\\n",
       "\t14 & E & C\\\\\n",
       "\t15 & B & B\\\\\n",
       "\t16 & B & B\\\\\n",
       "\t17 & A & A\\\\\n",
       "\t18 & B & C\\\\\n",
       "\t19 & D & C\\\\\n",
       "\t20 & C & D\\\\\n",
       "\\end{tabular}\n"
      ],
      "text/plain": [
       "   rater1 rater2\n",
       "1       C      C\n",
       "2       C      F\n",
       "3       C      D\n",
       "4       D      F\n",
       "5       E      B\n",
       "6       E      D\n",
       "7       B      B\n",
       "8       C      D\n",
       "9       E      C\n",
       "10      B      C\n",
       "11      B      B\n",
       "12      F      C\n",
       "13      A      C\n",
       "14      E      C\n",
       "15      B      B\n",
       "16      B      B\n",
       "17      A      A\n",
       "18      B      C\n",
       "19      D      C\n",
       "20      C      D"
      ]
     },
     "execution_count": 13,
     "metadata": {},
     "output_type": "execute_result"
    }
   ],
   "source": [
    "# Make a factor-ized version of the data\n",
    "dfa2 <- dfa\n",
    "dfa2$rater1 <- factor(dfa2$rater1, levels=1:6, labels=LETTERS[1:6])\n",
    "dfa2$rater2 <- factor(dfa2$rater2, levels=1:6, labels=LETTERS[1:6])\n",
    "dfa2"
   ]
  },
  {
   "cell_type": "code",
   "execution_count": 14,
   "metadata": {
    "collapsed": false
   },
   "outputs": [
    {
     "data": {
      "text/html": [
       "<ol class=list-inline>\n",
       "\t<li>'A'</li>\n",
       "\t<li>'B'</li>\n",
       "\t<li>'C'</li>\n",
       "\t<li>'D'</li>\n",
       "\t<li>'E'</li>\n",
       "\t<li>'F'</li>\n",
       "</ol>\n"
      ],
      "text/latex": [
       "\\begin{enumerate*}\n",
       "\\item 'A'\n",
       "\\item 'B'\n",
       "\\item 'C'\n",
       "\\item 'D'\n",
       "\\item 'E'\n",
       "\\item 'F'\n",
       "\\end{enumerate*}\n"
      ],
      "text/markdown": [
       "1. 'A'\n",
       "2. 'B'\n",
       "3. 'C'\n",
       "4. 'D'\n",
       "5. 'E'\n",
       "6. 'F'\n",
       "\n",
       "\n"
      ],
      "text/plain": [
       "[1] \"A\" \"B\" \"C\" \"D\" \"E\" \"F\""
      ]
     },
     "execution_count": 14,
     "metadata": {},
     "output_type": "execute_result"
    }
   ],
   "source": [
    "# The factor levels must be in the correct order:\n",
    "levels(dfa2$rater1)"
   ]
  },
  {
   "cell_type": "code",
   "execution_count": 15,
   "metadata": {
    "collapsed": false
   },
   "outputs": [
    {
     "data": {
      "text/html": [
       "<ol class=list-inline>\n",
       "\t<li>'A'</li>\n",
       "\t<li>'B'</li>\n",
       "\t<li>'C'</li>\n",
       "\t<li>'D'</li>\n",
       "\t<li>'E'</li>\n",
       "\t<li>'F'</li>\n",
       "</ol>\n"
      ],
      "text/latex": [
       "\\begin{enumerate*}\n",
       "\\item 'A'\n",
       "\\item 'B'\n",
       "\\item 'C'\n",
       "\\item 'D'\n",
       "\\item 'E'\n",
       "\\item 'F'\n",
       "\\end{enumerate*}\n"
      ],
      "text/markdown": [
       "1. 'A'\n",
       "2. 'B'\n",
       "3. 'C'\n",
       "4. 'D'\n",
       "5. 'E'\n",
       "6. 'F'\n",
       "\n",
       "\n"
      ],
      "text/plain": [
       "[1] \"A\" \"B\" \"C\" \"D\" \"E\" \"F\""
      ]
     },
     "execution_count": 15,
     "metadata": {},
     "output_type": "execute_result"
    }
   ],
   "source": [
    "levels(dfa2$rater2)"
   ]
  },
  {
   "cell_type": "code",
   "execution_count": 16,
   "metadata": {
    "collapsed": false
   },
   "outputs": [
    {
     "data": {
      "text/plain": [
       " Cohen's Kappa for 2 Raters (Weights: squared)\n",
       "\n",
       " Subjects = 20 \n",
       "   Raters = 2 \n",
       "    Kappa = 0.297 \n",
       "\n",
       "        z = 1.34 \n",
       "  p-value = 0.18 "
      ]
     },
     "execution_count": 16,
     "metadata": {},
     "output_type": "execute_result"
    }
   ],
   "source": [
    "# The results are the same as with the numeric data, above\n",
    "kappa2(dfa2, \"squared\")"
   ]
  },
  {
   "cell_type": "code",
   "execution_count": 17,
   "metadata": {
    "collapsed": false
   },
   "outputs": [
    {
     "data": {
      "text/plain": [
       " Cohen's Kappa for 2 Raters (Weights: equal)\n",
       "\n",
       " Subjects = 20 \n",
       "   Raters = 2 \n",
       "    Kappa = 0.189 \n",
       "\n",
       "        z = 1.42 \n",
       "  p-value = 0.157 "
      ]
     },
     "execution_count": 17,
     "metadata": {},
     "output_type": "execute_result"
    }
   ],
   "source": [
    "# Use linear weights\n",
    "kappa2(dfa2, \"equal\")"
   ]
  },
  {
   "cell_type": "markdown",
   "metadata": {},
   "source": [
    "### Continuous data: Intraclass correlation coefficient\n",
    "\n",
    "When the variable is continuous, the intraclass correlation coefficient should be computed. From the documentation for icc:\n",
    "\n",
    "When considering which form of ICC is appropriate for an actual set of data, one has take several decisions (Shrout & Fleiss, 1979):\n",
    "1. Should only the subjects be considered as random effects (`\"oneway\"` model, default) or are subjects and raters randomly chosen from a bigger pool of persons (`\"twoway\"` model).\n",
    "2. If differences in judges’ mean ratings are of interest, interrater `\"agreement\"` instead of `\"consistency\"` (default) should be computed.\n",
    "3. If the unit of analysis is a mean of several ratings, unit should be changed to `\"average\"`. In most cases, however, single values (`unit=\"single\"`, default) are regarded.\n",
    "\n",
    "We will use the `anxiety` data set from the irr package."
   ]
  },
  {
   "cell_type": "code",
   "execution_count": 18,
   "metadata": {
    "collapsed": false
   },
   "outputs": [
    {
     "data": {
      "text/html": [
       "<table>\n",
       "<thead><tr><th></th><th scope=col>rater1</th><th scope=col>rater2</th><th scope=col>rater3</th></tr></thead>\n",
       "<tbody>\n",
       "\t<tr><th scope=row>1</th><td>3</td><td>3</td><td>2</td></tr>\n",
       "\t<tr><th scope=row>2</th><td>3</td><td>6</td><td>1</td></tr>\n",
       "\t<tr><th scope=row>3</th><td>3</td><td>4</td><td>4</td></tr>\n",
       "\t<tr><th scope=row>4</th><td>4</td><td>6</td><td>4</td></tr>\n",
       "\t<tr><th scope=row>5</th><td>5</td><td>2</td><td>3</td></tr>\n",
       "\t<tr><th scope=row>6</th><td>5</td><td>4</td><td>2</td></tr>\n",
       "\t<tr><th scope=row>7</th><td>2</td><td>2</td><td>1</td></tr>\n",
       "\t<tr><th scope=row>8</th><td>3</td><td>4</td><td>6</td></tr>\n",
       "\t<tr><th scope=row>9</th><td>5</td><td>3</td><td>1</td></tr>\n",
       "\t<tr><th scope=row>10</th><td>2</td><td>3</td><td>1</td></tr>\n",
       "\t<tr><th scope=row>11</th><td>2</td><td>2</td><td>1</td></tr>\n",
       "\t<tr><th scope=row>12</th><td>6</td><td>3</td><td>2</td></tr>\n",
       "\t<tr><th scope=row>13</th><td>1</td><td>3</td><td>3</td></tr>\n",
       "\t<tr><th scope=row>14</th><td>5</td><td>3</td><td>3</td></tr>\n",
       "\t<tr><th scope=row>15</th><td>2</td><td>2</td><td>1</td></tr>\n",
       "\t<tr><th scope=row>16</th><td>2</td><td>2</td><td>1</td></tr>\n",
       "\t<tr><th scope=row>17</th><td>1</td><td>1</td><td>3</td></tr>\n",
       "\t<tr><th scope=row>18</th><td>2</td><td>3</td><td>3</td></tr>\n",
       "\t<tr><th scope=row>19</th><td>4</td><td>3</td><td>2</td></tr>\n",
       "\t<tr><th scope=row>20</th><td>3</td><td>4</td><td>2</td></tr>\n",
       "</tbody>\n",
       "</table>\n"
      ],
      "text/latex": [
       "\\begin{tabular}{r|lll}\n",
       "  & rater1 & rater2 & rater3\\\\\n",
       "\\hline\n",
       "\t1 & 3 & 3 & 2\\\\\n",
       "\t2 & 3 & 6 & 1\\\\\n",
       "\t3 & 3 & 4 & 4\\\\\n",
       "\t4 & 4 & 6 & 4\\\\\n",
       "\t5 & 5 & 2 & 3\\\\\n",
       "\t6 & 5 & 4 & 2\\\\\n",
       "\t7 & 2 & 2 & 1\\\\\n",
       "\t8 & 3 & 4 & 6\\\\\n",
       "\t9 & 5 & 3 & 1\\\\\n",
       "\t10 & 2 & 3 & 1\\\\\n",
       "\t11 & 2 & 2 & 1\\\\\n",
       "\t12 & 6 & 3 & 2\\\\\n",
       "\t13 & 1 & 3 & 3\\\\\n",
       "\t14 & 5 & 3 & 3\\\\\n",
       "\t15 & 2 & 2 & 1\\\\\n",
       "\t16 & 2 & 2 & 1\\\\\n",
       "\t17 & 1 & 1 & 3\\\\\n",
       "\t18 & 2 & 3 & 3\\\\\n",
       "\t19 & 4 & 3 & 2\\\\\n",
       "\t20 & 3 & 4 & 2\\\\\n",
       "\\end{tabular}\n"
      ],
      "text/plain": [
       "   rater1 rater2 rater3\n",
       "1       3      3      2\n",
       "2       3      6      1\n",
       "3       3      4      4\n",
       "4       4      6      4\n",
       "5       5      2      3\n",
       "6       5      4      2\n",
       "7       2      2      1\n",
       "8       3      4      6\n",
       "9       5      3      1\n",
       "10      2      3      1\n",
       "11      2      2      1\n",
       "12      6      3      2\n",
       "13      1      3      3\n",
       "14      5      3      3\n",
       "15      2      2      1\n",
       "16      2      2      1\n",
       "17      1      1      3\n",
       "18      2      3      3\n",
       "19      4      3      2\n",
       "20      3      4      2"
      ]
     },
     "execution_count": 18,
     "metadata": {},
     "output_type": "execute_result"
    }
   ],
   "source": [
    "data(anxiety)\n",
    "anxiety"
   ]
  },
  {
   "cell_type": "code",
   "execution_count": 19,
   "metadata": {
    "collapsed": false
   },
   "outputs": [
    {
     "data": {
      "text/plain": [
       " Single Score Intraclass Correlation\n",
       "\n",
       "   Model: twoway \n",
       "   Type : agreement \n",
       "\n",
       "   Subjects = 20 \n",
       "     Raters = 3 \n",
       "   ICC(A,1) = 0.198\n",
       "\n",
       " F-Test, H0: r0 = 0 ; H1: r0 > 0 \n",
       " F(19,39.7) = 1.83 , p = 0.0543 \n",
       "\n",
       " 95%-Confidence Interval for ICC Population Values:\n",
       "  -0.039 < ICC < 0.494"
      ]
     },
     "execution_count": 19,
     "metadata": {},
     "output_type": "execute_result"
    }
   ],
   "source": [
    "# Just one of the many possible ICC coefficients\n",
    "icc(anxiety, model=\"twoway\", type=\"agreement\")"
   ]
  },
  {
   "cell_type": "code",
   "execution_count": null,
   "metadata": {
    "collapsed": true
   },
   "outputs": [],
   "source": []
  }
 ],
 "metadata": {
  "kernelspec": {
   "display_name": "R",
   "language": "R",
   "name": "ir"
  },
  "language_info": {
   "codemirror_mode": "r",
   "file_extension": ".r",
   "mimetype": "text/x-r-source",
   "name": "R",
   "pygments_lexer": "r",
   "version": "3.2.2"
  }
 },
 "nbformat": 4,
 "nbformat_minor": 0
}
